{
 "cells": [
  {
   "cell_type": "code",
   "execution_count": 1,
   "metadata": {},
   "outputs": [],
   "source": [
    "import pandas as pd"
   ]
  },
  {
   "cell_type": "code",
   "execution_count": 7,
   "metadata": {},
   "outputs": [],
   "source": [
    "labels_description = {}\n",
    "\n",
    "df = pd.read_csv(\"./(V1.7)all_products_data_set.csv\")\n",
    "for row in range(df.shape[0]):\n",
    "    label_2 = df.loc[row][\"label_2nd\"]\n",
    "    production_description = df.loc[row][\"raw_text\"]\n",
    "    if pd.isna(label_2) or pd.isna(production_description):\n",
    "        continue\n",
    "    if label_2 not in labels_description.keys():\n",
    "        labels_description.update({label_2:set()})\n",
    "    if not pd.isna(production_description) and production_description.__contains__(\"match\"):\n",
    "        \n",
    "        labels_description.get(label_2).add(production_description)\n"
   ]
  },
  {
   "cell_type": "code",
   "execution_count": 10,
   "metadata": {},
   "outputs": [
    {
     "name": "stdout",
     "output_type": "stream",
     "text": [
      "Swimwear 89\n",
      "Jewelry 9\n",
      "Others 8\n",
      "Homeware 13\n",
      "Headwear 10\n",
      "Pants/Trousers 18\n",
      "Bag 11\n",
      "Dresses 6\n",
      "Lingerie 6\n",
      "Short 14\n",
      "Coats/Jackets 5\n",
      "Skirts 3\n",
      "Belt 1\n",
      "Sandal 1\n",
      "Glasses 11\n",
      "Skin Care 5\n",
      "Sweaters 9\n",
      "Shirts 27\n",
      "Scarf 6\n",
      "Sock 7\n",
      "Tank Tops 7\n",
      "Leggings 2\n",
      "Activewear 5\n",
      "Glove 1\n",
      "Scrunchie 7\n",
      "Wallet 8\n",
      "Watch 2\n",
      "Skateboard 9\n",
      "28\n"
     ]
    }
   ],
   "source": [
    "count_known = 0\n",
    "count_known_keys = []\n",
    "for key in labels_description.keys():\n",
    "    if len(labels_description.get(key)) > 0:\n",
    "        count_known += 1\n",
    "        count_known_keys.append(key)\n"
   ]
  },
  {
   "cell_type": "code",
   "execution_count": 2,
   "metadata": {},
   "outputs": [
    {
     "data": {
      "text/plain": [
       "Index(['index', 'id', 'title', 'tags', 'images', 'gender', 'product_type',\n",
       "       'product_type(modified)', 'main_category', 'sub_category',\n",
       "       'match_most_similar_>80%_string', 'match_most_similar_>60%_string',\n",
       "       'label_1st', 'label_2nd', 'label_3rd', 'buckets_num', 'buckets',\n",
       "       'pattern_info', 'color_num', 'color_info', 'colors', 'url', 'raw_text'],\n",
       "      dtype='object')"
      ]
     },
     "execution_count": 2,
     "metadata": {},
     "output_type": "execute_result"
    }
   ],
   "source": [
    "df = pd.read_csv(\"./test_output.csv\")\n",
    "df.columns"
   ]
  },
  {
   "cell_type": "code",
   "execution_count": 20,
   "metadata": {},
   "outputs": [
    {
     "name": "stdout",
     "output_type": "stream",
     "text": [
      "INFO: Pandarallel will run on 8 workers.\n",
      "INFO: Pandarallel will use standard multiprocessing data transfer (pipe) to transfer data between the main process and workers.\n"
     ]
    }
   ],
   "source": [
    "from pandarallel import pandarallel\n",
    "pandarallel.initialize()\n",
    "\n",
    "def assign_label3(str):\n",
    "    if pd.isna(str):\n",
    "        return \"\"\n",
    "    else:\n",
    "        str = \" \".join([s.capitalize() for s in str.split(\" \")])\n",
    "        return str\n",
    "df['label_3rd'] = df['match_most_similar_>80%_string'].parallel_apply(assign_label3)"
   ]
  },
  {
   "cell_type": "code",
   "execution_count": 21,
   "metadata": {},
   "outputs": [],
   "source": [
    "df.to_csv(\"(V1.8)all_products_data_set.csv\", index=False)"
   ]
  },
  {
   "cell_type": "code",
   "execution_count": 3,
   "metadata": {},
   "outputs": [],
   "source": [
    "import json\n",
    "from os import write\n",
    "f = open(\"./json_files/colorsname_to_hex.json\")\n",
    "p = json.load(f)\n",
    "f2 = open(\"my_file\", \"w+\")\n",
    "for k in p.keys():\n",
    "    f2.write(k+\"\\n\")"
   ]
  }
 ],
 "metadata": {
  "kernelspec": {
   "display_name": "Python 3.9.12 ('tensorflow')",
   "language": "python",
   "name": "python3"
  },
  "language_info": {
   "codemirror_mode": {
    "name": "ipython",
    "version": 3
   },
   "file_extension": ".py",
   "mimetype": "text/x-python",
   "name": "python",
   "nbconvert_exporter": "python",
   "pygments_lexer": "ipython3",
   "version": "3.9.12"
  },
  "orig_nbformat": 4,
  "vscode": {
   "interpreter": {
    "hash": "08f33c96bfe48976e0772c3a4097c2fff4477ea59ec4556e2e8fa1251315c612"
   }
  }
 },
 "nbformat": 4,
 "nbformat_minor": 2
}
