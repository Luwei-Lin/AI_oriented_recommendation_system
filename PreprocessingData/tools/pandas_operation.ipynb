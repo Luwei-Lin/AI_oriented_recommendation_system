{
 "cells": [
  {
   "cell_type": "code",
   "execution_count": 2,
   "metadata": {},
   "outputs": [],
   "source": [
    "import pandas as pd"
   ]
  },
  {
   "cell_type": "code",
   "execution_count": 7,
   "metadata": {},
   "outputs": [],
   "source": [
    "labels_description = {}\n",
    "\n",
    "df = pd.read_csv(\"./(V1.7)all_products_data_set.csv\")\n",
    "for row in range(df.shape[0]):\n",
    "    label_2 = df.loc[row][\"label_2nd\"]\n",
    "    production_description = df.loc[row][\"raw_text\"]\n",
    "    if pd.isna(label_2) or pd.isna(production_description):\n",
    "        continue\n",
    "    if label_2 not in labels_description.keys():\n",
    "        labels_description.update({label_2:set()})\n",
    "    if not pd.isna(production_description) and production_description.__contains__(\"match\"):\n",
    "        \n",
    "        labels_description.get(label_2).add(production_description)\n"
   ]
  },
  {
   "cell_type": "code",
   "execution_count": 10,
   "metadata": {},
   "outputs": [
    {
     "name": "stdout",
     "output_type": "stream",
     "text": [
      "Swimwear 89\n",
      "Jewelry 9\n",
      "Others 8\n",
      "Homeware 13\n",
      "Headwear 10\n",
      "Pants/Trousers 18\n",
      "Bag 11\n",
      "Dresses 6\n",
      "Lingerie 6\n",
      "Short 14\n",
      "Coats/Jackets 5\n",
      "Skirts 3\n",
      "Belt 1\n",
      "Sandal 1\n",
      "Glasses 11\n",
      "Skin Care 5\n",
      "Sweaters 9\n",
      "Shirts 27\n",
      "Scarf 6\n",
      "Sock 7\n",
      "Tank Tops 7\n",
      "Leggings 2\n",
      "Activewear 5\n",
      "Glove 1\n",
      "Scrunchie 7\n",
      "Wallet 8\n",
      "Watch 2\n",
      "Skateboard 9\n",
      "28\n"
     ]
    }
   ],
   "source": [
    "count_known = 0\n",
    "count_known_keys = []\n",
    "for key in labels_description.keys():\n",
    "    if len(labels_description.get(key)) > 0:\n",
    "        count_known += 1\n",
    "        count_known_keys.append(key)\n"
   ]
  },
  {
   "cell_type": "code",
   "execution_count": 2,
   "metadata": {},
   "outputs": [
    {
     "data": {
      "text/plain": [
       "Index(['index', 'id', 'title', 'tags', 'images', 'gender', 'product_type',\n",
       "       'product_type(modified)', 'main_category', 'sub_category',\n",
       "       'match_most_similar_>80%_string', 'match_most_similar_>60%_string',\n",
       "       'label_1st', 'label_2nd', 'label_3rd', 'buckets_num', 'buckets',\n",
       "       'pattern_info', 'color_num', 'color_info', 'colors', 'url', 'raw_text'],\n",
       "      dtype='object')"
      ]
     },
     "execution_count": 2,
     "metadata": {},
     "output_type": "execute_result"
    }
   ],
   "source": [
    "df = pd.read_csv(\"./test_output.csv\")\n",
    "df.columns"
   ]
  },
  {
   "cell_type": "code",
   "execution_count": 20,
   "metadata": {},
   "outputs": [
    {
     "name": "stdout",
     "output_type": "stream",
     "text": [
      "INFO: Pandarallel will run on 8 workers.\n",
      "INFO: Pandarallel will use standard multiprocessing data transfer (pipe) to transfer data between the main process and workers.\n"
     ]
    }
   ],
   "source": [
    "from pandarallel import pandarallel\n",
    "pandarallel.initialize()\n",
    "\n",
    "def assign_label3(str):\n",
    "    if pd.isna(str):\n",
    "        return \"\"\n",
    "    else:\n",
    "        str = \" \".join([s.capitalize() for s in str.split(\" \")])\n",
    "        return str\n",
    "df['label_3rd'] = df['match_most_similar_>80%_string'].parallel_apply(assign_label3)"
   ]
  },
  {
   "cell_type": "code",
   "execution_count": 21,
   "metadata": {},
   "outputs": [],
   "source": []
  },
  {
   "cell_type": "code",
   "execution_count": 3,
   "metadata": {},
   "outputs": [],
   "source": [
    "import json\n",
    "from os import write\n",
    "f = open(\"./json_files/colorsname_to_hex.json\")\n",
    "p = json.load(f)\n",
    "f2 = open(\"my_file\", \"w+\")\n",
    "for k in p.keys():\n",
    "    f2.write(k+\"\\n\")"
   ]
  },
  {
   "cell_type": "code",
   "execution_count": 7,
   "metadata": {},
   "outputs": [
    {
     "data": {
      "text/plain": [
       "Index(['index', 'id', 'title', 'tags', 'images', 'gender', 'product_type',\n",
       "       'product_type(modified)', 'main_category', 'sub_category',\n",
       "       'match_most_similar_>80%_string', 'match_most_similar_>60%_string',\n",
       "       'label_1st', 'label_2nd', 'label_3rd', 'buckets_num', 'buckets',\n",
       "       'pattern_info', 'color_num', 'color_info', 'colors', 'url', 'raw_text'],\n",
       "      dtype='object')"
      ]
     },
     "execution_count": 7,
     "metadata": {},
     "output_type": "execute_result"
    }
   ],
   "source": [
    "new_df = pd.read_csv(\"./(V1.7)all_products_data_set.csv\")\n",
    "new_df.columns"
   ]
  },
  {
   "cell_type": "code",
   "execution_count": 8,
   "metadata": {},
   "outputs": [
    {
     "name": "stdout",
     "output_type": "stream",
     "text": [
      "(28426, 6)\n",
      "Index(['index', 'id', 'title', 'gender', 'product_type', 'buckets_num'], dtype='object')\n"
     ]
    }
   ],
   "source": [
    "df = pd.read_csv(\"./labelled_genders.csv\")\n",
    "print(df.shape)\n",
    "print(df.columns)\n"
   ]
  },
  {
   "cell_type": "code",
   "execution_count": 20,
   "metadata": {},
   "outputs": [
    {
     "data": {
      "text/plain": [
       "str"
      ]
     },
     "execution_count": 20,
     "metadata": {},
     "output_type": "execute_result"
    }
   ],
   "source": [
    "type(df.loc[0][\"title\"])"
   ]
  },
  {
   "cell_type": "code",
   "execution_count": 11,
   "metadata": {},
   "outputs": [
    {
     "name": "stdout",
     "output_type": "stream",
     "text": [
      "6874972323922.0 not normalized\n",
      "6859018666183.0 not normalized\n",
      "7836190540008.0 not normalized\n",
      "3732447461460.0 not normalized\n",
      "3732447723604.0 not normalized\n",
      "2391028760660.0 not normalized\n",
      "7247205367977.0 not normalized\n",
      "7247205269673.0 not normalized\n",
      "4099303407700.0 not normalized\n",
      "7247206449321.0 not normalized\n",
      "7247206416553.0 not normalized\n",
      "7247205662889.0 not normalized\n",
      "7247205630121.0 not normalized\n",
      "7247205531817.0 not normalized\n",
      "6544829972649.0 not normalized\n",
      "6544830038185.0 not normalized\n",
      "4543599706196.0 not normalized\n",
      "7182138474695.0 not normalized\n",
      "6856818950343.0 not normalized\n",
      "6856815640775.0 not normalized\n",
      "6856754823367.0 not normalized\n",
      "7182135099591.0 not normalized\n",
      "7182130053319.0 not normalized\n",
      "7182066221255.0 not normalized\n",
      "6914256109767.0 not normalized\n",
      "7380569456839.0 not normalized\n",
      "7328771113159.0 not normalized\n",
      "7318459252935.0 not normalized\n",
      "7318414622919.0 not normalized\n",
      "7312693395655.0 not normalized\n",
      "7312694444231.0 not normalized\n",
      "7308536742087.0 not normalized\n",
      "7296582615239.0 not normalized\n",
      "7296566984903.0 not normalized\n",
      "7296560300231.0 not normalized\n",
      "7296507871431.0 not normalized\n",
      "7296494665927.0 not normalized\n",
      "7296484540615.0 not normalized\n",
      "7296469008583.0 not normalized\n",
      "7295499141319.0 not normalized\n",
      "7277693763783.0 not normalized\n",
      "7276059033799.0 not normalized\n",
      "7274377380039.0 not normalized\n",
      "7191446814919.0 not normalized\n",
      "7191437246663.0 not normalized\n",
      "7191422304455.0 not normalized\n",
      "7182059339975.0 not normalized\n",
      "7181986726087.0 not normalized\n",
      "7181980074183.0 not normalized\n",
      "7181970014407.0 not normalized\n",
      "7181160775879.0 not normalized\n",
      "7181155565767.0 not normalized\n",
      "7181103005895.0 not normalized\n",
      "7156854325447.0 not normalized\n",
      "7156829454535.0 not normalized\n",
      "7156819296455.0 not normalized\n",
      "7156809957575.0 not normalized\n",
      "7152000499911.0 not normalized\n",
      "7149377126599.0 not normalized\n",
      "7149375684807.0 not normalized\n",
      "6849017020615.0 not normalized\n",
      "7071978651847.0 not normalized\n",
      "7071951552711.0 not normalized\n",
      "7071940378823.0 not normalized\n",
      "6994283102407.0 not normalized\n",
      "6975311511751.0 not normalized\n",
      "6975263965383.0 not normalized\n",
      "6962832801991.0 not normalized\n",
      "6970700202183.0 not normalized\n",
      "6966382952647.0 not normalized\n",
      "6966350020807.0 not normalized\n",
      "6962848923847.0 not normalized\n",
      "6962847908039.0 not normalized\n",
      "6962845253831.0 not normalized\n",
      "6962843943111.0 not normalized\n",
      "6962843287751.0 not normalized\n",
      "6962838077639.0 not normalized\n",
      "6962679742663.0 not normalized\n",
      "6962580390087.0 not normalized\n",
      "6962557780167.0 not normalized\n",
      "6957472907463.0 not normalized\n",
      "6957469597895.0 not normalized\n",
      "6957461668039.0 not normalized\n",
      "6957451804871.0 not normalized\n",
      "6957440368839.0 not normalized\n",
      "6957234127047.0 not normalized\n",
      "6957188612295.0 not normalized\n",
      "6955150704839.0 not normalized\n",
      "6955136057543.0 not normalized\n",
      "6955111022791.0 not normalized\n",
      "6955106894023.0 not normalized\n",
      "6955081433287.0 not normalized\n",
      "6955056595143.0 not normalized\n",
      "6781391536327.0 not normalized\n",
      "6720877756615.0 not normalized\n",
      "6720827752647.0 not normalized\n",
      "6924884836551.0 not normalized\n",
      "6924553945287.0 not normalized\n",
      "6915667296455.0 not normalized\n",
      "6914263646407.0 not normalized\n",
      "6912897712327.0 not normalized\n",
      "6912872743111.0 not normalized\n",
      "6912872513735.0 not normalized\n",
      "6912863862983.0 not normalized\n",
      "6912810516679.0 not normalized\n",
      "6912803569863.0 not normalized\n",
      "6882967879879.0 not normalized\n",
      "6865709859015.0 not normalized\n",
      "6865514758343.0 not normalized\n",
      "6859025809607.0 not normalized\n",
      "6859083808967.0 not normalized\n",
      "6859075453127.0 not normalized\n",
      "6859042193607.0 not normalized\n",
      "6859041145031.0 not normalized\n",
      "6859037016263.0 not normalized\n",
      "6856823898311.0 not normalized\n",
      "6856822423751.0 not normalized\n",
      "6856812757191.0 not normalized\n",
      "6856809939143.0 not normalized\n",
      "6856788574407.0 not normalized\n",
      "6856773927111.0 not normalized\n",
      "6856771043527.0 not normalized\n",
      "6856745550023.0 not normalized\n",
      "6856727724231.0 not normalized\n",
      "6856692269255.0 not normalized\n",
      "6849041170631.0 not normalized\n",
      "6849038418119.0 not normalized\n",
      "6849032683719.0 not normalized\n",
      "6846698684615.0 not normalized\n",
      "6844472361159.0 not normalized\n",
      "6844456861895.0 not normalized\n",
      "6844448473287.0 not normalized\n",
      "6679448617159.0 not normalized\n",
      "6781149413575.0 not normalized\n",
      "6781152067783.0 not normalized\n",
      "6781156556999.0 not normalized\n",
      "6781157408967.0 not normalized\n",
      "6781162062023.0 not normalized\n",
      "6781161308359.0 not normalized\n",
      "6781170483399.0 not normalized\n",
      "6781254533319.0 not normalized\n",
      "6781171400903.0 not normalized\n",
      "6781178216647.0 not normalized\n",
      "6781351166151.0 not normalized\n",
      "6781263872199.0 not normalized\n",
      "6781279240391.0 not normalized\n",
      "6781297557703.0 not normalized\n",
      "6781348970695.0 not normalized\n",
      "6781352247495.0 not normalized\n",
      "6781384065223.0 not normalized\n",
      "6781387931847.0 not normalized\n",
      "6781386588359.0 not normalized\n",
      "6781395239111.0 not normalized\n",
      "6781397958855.0 not normalized\n",
      "6782184358087.0 not normalized\n",
      "6782223483079.0 not normalized\n",
      "6782194090183.0 not normalized\n",
      "6782240161991.0 not normalized\n",
      "6798214496455.0 not normalized\n",
      "6782238556359.0 not normalized\n",
      "6782255988935.0 not normalized\n",
      "6819084632263.0 not normalized\n",
      "6819086631111.0 not normalized\n",
      "6819102523591.0 not normalized\n",
      "6781277143239.0 not normalized\n",
      "6781283467463.0 not normalized\n",
      "6781282484423.0 not normalized\n",
      "6781258662087.0 not normalized\n",
      "6781260824775.0 not normalized\n",
      "6782180262087.0 not normalized\n",
      "6781380624583.0 not normalized\n",
      "6781379707079.0 not normalized\n",
      "6772936900807.0 not normalized\n",
      "6720864256199.0 not normalized\n",
      "6720845971655.0 not normalized\n",
      "6798179860679.0 not normalized\n",
      "6798115799239.0 not normalized\n",
      "6798211743943.0 not normalized\n",
      "6638105690187.0 not normalized\n",
      "6638091501643.0 not normalized\n",
      "5581609009311.0 not normalized\n",
      "5581607862431.0 not normalized\n",
      "5581590986911.0 not normalized\n",
      "6781173170375.0 not normalized\n",
      "6781177397447.0 not normalized\n",
      "6781175398599.0 not normalized\n",
      "6701466452152.0 not normalized\n",
      "6701464715448.0 not normalized\n",
      "6649896337592.0 not normalized\n",
      "7503399157989.0 not normalized\n",
      "7503417639141.0 not normalized\n",
      "4177648418873.0 not normalized\n",
      "4676273700947.0 not normalized\n",
      "6673211162707.0 not normalized\n",
      "7737476677849.0 not normalized\n",
      "7737475367129.0 not normalized\n",
      "7737471828185.0 not normalized\n",
      "6625085685843.0 not normalized\n",
      "6625080606803.0 not normalized\n",
      "7737464914137.0 not normalized\n",
      "7737460588761.0 not normalized\n",
      "7737458065625.0 not normalized\n",
      "7737456623833.0 not normalized\n",
      "7737456132313.0 not normalized\n",
      "7737454952665.0 not normalized\n",
      "7737452986585.0 not normalized\n",
      "7737447743705.0 not normalized\n",
      "7737444303065.0 not normalized\n",
      "7737441648857.0 not normalized\n",
      "7737441157337.0 not normalized\n",
      "7737439322329.0 not normalized\n",
      "7737437651161.0 not normalized\n",
      "7737437290713.0 not normalized\n",
      "7737436209369.0 not normalized\n",
      "7737434374361.0 not normalized\n",
      "7737432375513.0 not normalized\n",
      "7737431752921.0 not normalized\n",
      "7734965338329.0 not normalized\n",
      "7341139394818.0 not normalized\n",
      "7739374174425.0 not normalized\n",
      "7740620144857.0 not normalized\n",
      "7740473180377.0 not normalized\n",
      "7636994949337.0 not normalized\n",
      "7630155415769.0 not normalized\n",
      "7557339152601.0 not normalized\n",
      "6626320646223.0 not normalized\n",
      "6849081278663.0 not normalized\n",
      "6849078657223.0 not normalized\n",
      "6916822532284.0 not normalized\n",
      "5286970163361.0 not normalized\n",
      "7346972229831.0 not normalized\n",
      "7322225868999.0 not normalized\n",
      "7308560007367.0 not normalized\n",
      "7378593120455.0 not normalized\n",
      "7380721828039.0 not normalized\n",
      "7380587413703.0 not normalized\n",
      "7380552351943.0 not normalized\n",
      "7380497137863.0 not normalized\n",
      "7379346129095.0 not normalized\n",
      "7378617303239.0 not normalized\n",
      "7378605277383.0 not normalized\n",
      "7361204388039.0 not normalized\n",
      "7355755528391.0 not normalized\n",
      "7351624302791.0 not normalized\n",
      "7350664462535.0 not normalized\n",
      "7350648635591.0 not normalized\n",
      "7341909475527.0 not normalized\n",
      "7341381353671.0 not normalized\n",
      "7340876529863.0 not normalized\n",
      "7340866240711.0 not normalized\n",
      "7336771682503.0 not normalized\n",
      "7319401136327.0 not normalized\n",
      "7318456762567.0 not normalized\n",
      "7318441066695.0 not normalized\n",
      "7308559319239.0 not normalized\n",
      "7308525764807.0 not normalized\n",
      "7307013882055.0 not normalized\n",
      "7296575766727.0 not normalized\n",
      "7296553746631.0 not normalized\n",
      "7295510872263.0 not normalized\n",
      "7296540704967.0 not normalized\n",
      "7295490228423.0 not normalized\n",
      "7295457755335.0 not normalized\n",
      "7276113264839.0 not normalized\n",
      "7276086722759.0 not normalized\n",
      "7276056150215.0 not normalized\n",
      "7181995016391.0 not normalized\n",
      "7111749075143.0 not normalized\n",
      "6893391642823.0 not normalized\n",
      "6957333643463.0 not normalized\n",
      "6859113595079.0 not normalized\n",
      "1875171835965.0 not normalized\n",
      "5226406903944.0 not normalized\n",
      "5226406281352.0 not normalized\n",
      "5226405527688.0 not normalized\n",
      "5226403823752.0 not normalized\n",
      "1995003789399.0 not normalized\n",
      "1994978787415.0 not normalized\n",
      "1994967679063.0 not normalized\n",
      "1463420649495.0 not normalized\n",
      "7453261103362.0 not normalized\n",
      "6587745894588.0 not normalized\n",
      "{25: ('title wrong', 7676059844826.0, 'Delacroix Bikini Top'), 2388: ('title wrong', 4318191059026.0, 'Anni Large Backpack / Bordeaux'), 435: ('title wrong', 6896919707730.0, 'Willa Dress / D√©coupage'), 527: ('title wrong', 6882903294034.0, 'B√°rbara Swimsuit / Black Gingham'), 592: ('title wrong', 6874972323922.0, 'S·∏μw√°lwen T√©ywilh Sweetgrass, Sage and Rose Geranium Cream'), 799: ('title wrong', 6856319795282.0, 'Flora 5 Clip / Elsy'), 907: ('title wrong', 6844493430866.0, 'Petit Tee / La Banane'), 1093: ('title wrong', 6828274876498.0, 'Knot Dress Silk Charmeuse / Peric√≥n & Iron'), 1287: ('title wrong', 6859018666183.0, 'O‚ÄôNeill ladies sandals black'), 1641: ('title wrong', 7592554823934.0, 'DRAGON MONARCH XL MT BLACK INFERNO SMOKE 45113.5820023'), 1662: ('title wrong', 6702248263762.0, 'Kalk√°y Wild Rose Toner'), 1839: ('title wrong', 6579888029778.0, 'Supima Slub Jersey Short Sleeve Crew / Khaki'), 2047: ('title wrong', 6566152536146.0, 'Mississippi Bra / Darya Blue Stripe'), 2231: ('title wrong', 10068039757.0, 'Fj√§llr√§ven K√•nken Orchid'), 2452: ('title wrong', 7077809717415.0, 'PEEK A BOO - TRUCKER HAT'), 2594: ('title wrong', 7077807325351.0, 'NIGHT VIPER - TRUCKER HAT'), 2632: ('title wrong', 7180771098822.0, 'Fall in Love Dolman Top'), 2675: ('title wrong', 7077804802215.0, 'SILVER TIGER - TRUCKER HAT'), 2777: ('title wrong', 7077799755943.0, 'GIVE ME LIGHT - TRUCKER HAT'), 3007: ('title wrong', 7077796905127.0, 'HOT CHEETAH - TRUCKER HAT'), 3084: ('title wrong', 7836190540008.0, 'Olivaceous - Ga√ ́l Top - Sage'), 3152: ('title wrong', 7817525690600.0, 'Lovestitch - Caf√© Top - Champagne'), 3173: ('title wrong', 7798773154024.0, 'Olivaceous - L√©a Dress - White/Grey'), 3701: ('title wrong', 6858741809319.0, 'T-SHIRT - APOLLO'), 3705: ('title wrong', 6858727981223.0, 'SHORT SLEEVE COLLARLESS - PINK'), 3914: ('title wrong', 5543038877863.0, 'RIBBED EDGY SHIRT - NAVY'), 4127: ('title wrong', 4161645412409.0, 'BLACK SKIRT - VDR'), 4453: ('title wrong', 4430858059834.0, 'Sun Bum Spf 30 Protective Lip Balm'), 4653: ('title wrong', 7705354010878.0, 'DRAGON EXCURSION XG 41093 -DAVIS /LL SUPER STRONG SILVER SUNGLASSES'), 5344: ('title wrong', 6723641213119.0, \"O'Neill Vivette Button-up Mini Dress\"), 5838: ('title wrong', 7654320046334.0, 'MVMT BOULEVARD BEVERLY WHITE MB01-RGLAMA'), 5962: ('title wrong', 3732447461460.0, \"OluKai Men's ‚ÄòOhana Koa Lava Rock\"), 5963: ('title wrong', 3732447723604.0, \"OluKai Women's ‚ÄòOhana White/Black\"), 5964: ('title wrong', 2391028760660.0, \"OluKai Women's ‚ÄòOhana Petal Pink/Black\"), 5989: ('title wrong', 7541985837298.0, \"Fj√§llr√§ven Men's Skogso Jacket Buckwheat\"), 5990: ('title wrong', 8111027521.0, \"Fj√§llr√§ven Men's Skogso Jacket Grey\"), 5992: ('title wrong', 4547742957652.0, 'Fj√§llr√§ven Pocket Green'), 5995: ('title wrong', 4543621103700.0, 'Fj√§llr√§ven K√•nken Totepack Ochre'), 6097: ('title wrong', 7502935458034.0, \"Nike Women's Swoosh Medium-Support 1-Piece Pad Sports Bra Rose Whisper/White\"), 6101: ('title wrong', 7502875001074.0, \"Nike Men's Dri-FIT Element Men's 1/4-Zip Running Top Ash Green\"), 6102: ('title wrong', 7502874968306.0, \"Nike Men's Dri-FIT Element Men's 1/4-Zip Running Top Black\"), 6228: ('title wrong', 7247205367977.0, \"The North Face Women's Women‚Äôs TKA Glacier 1/4 Zip Black\"), 6230: ('title wrong', 7247205269673.0, 'The North Face Women‚Äôs TKA Glacier Full Zip Jacket Black'), 6231: ('title wrong', 4099303407700.0, 'The North Face Women‚Äôs Thermoball Traction Mule V TNF Black'), 6233: ('title wrong', 7247206449321.0, 'The North Face Men‚Äôs Aconcagua 2 Jacket Black'), 6234: ('title wrong', 7247206416553.0, 'The North Face Men‚Äôs Aconcagua 2 Hoodie Black'), 6235: ('title wrong', 7247205662889.0, 'The North Face Men‚Äôs TKA Glacier Full Zip Jacket Monterey Blue'), 6236: ('title wrong', 7247205630121.0, 'The North Face Men‚Äôs TKA Glacier Pant Black'), 6237: ('title wrong', 7247205531817.0, \"The North Face Men's TKA Glacier ¬o Zip Pullover Monterey Blue\"), 6282: ('title wrong', 7140260184233.0, \"Outdoor Research Women's Aspire GORE-TEX¬Æ Jacket Banff/Naval Blue\"), 6289: ('title wrong', 7140259987625.0, \"Outdoor Research Men's Foray GORE-TEX¬Æ Jacket Nimbus\"), 6290: ('title wrong', 7140259791017.0, \"Outdoor Research Men's Foray GORE-TEX¬Æ Jacket Black\"), 6353: ('title wrong', 7110165364905.0, \"Nike Women's Swoosh Women's Medium-Support 1-Piece Pad Sports Bra Pink Glaze\"), 6418: ('title wrong', 7110164545705.0, \"Nike Men's Dri-FIT Short-Sleeve Training Top Black\"), 6585: ('title wrong', 6429485072553.0, \"Nike Men's Windrunner Trail Running Jacket Solar Flare\"), 6589: ('title wrong', 6544829972649.0, 'Garmin v√≠vofit 4 Black Small/Medium'), 6590: ('title wrong', 6544830038185.0, 'Garmin v√≠vofit 4 Black Large'), 6629: ('title wrong', 4543599706196.0, \"Fj√§llr√§ven Men's √ñvik Shirt SS Laurel Green\"), 6650: ('title wrong', 6462119379113.0, \"Fj√§llr√§ven Women's Abisko Lite Trouser Dark Grey\"), 6651: ('title wrong', 4547770679380.0, \"Fj√§llr√§ven Men's Abisko Shorts Dark Olive\"), 6652: ('title wrong', 6462119215273.0, 'Fj√§llr√§ven Totepack No. 2 Black'), 6653: ('title wrong', 10068039885.0, 'Fj√§llr√§ven K√•nken Sky Blue'), 6654: ('title wrong', 6462119182505.0, 'Fj√§llr√§ven K√•nken Pink'), 6682: ('title wrong', 6429484712105.0, \"Nike Men's Dri-FIT Miler Running Tank White\"), 6686: ('title wrong', 7182138474695.0, 'Hurley Men‚Äôs Outsider Icon Pant'), 6695: ('title wrong', 3581171499092.0, \"Nike Women's Nike Pro Mesh Tank Black\"), 6838: ('title wrong', 4543599968340.0, \"Fj√§llr√§ven Women's 1960 Logo T-shirt Chalk White\"), 6916: ('title wrong', 4543621169236.0, 'Fj√§llr√§ven K√•nken Totepack Navy'), 6917: ('title wrong', 4543621136468.0, 'Fj√§llr√§ven K√•nken Totepack Black'), 6918: ('title wrong', 4543621070932.0, 'Fj√§llr√§ven K√•nken Mint Green'), 6982: ('title wrong', 6856818950343.0, 'Oakley Men‚Äôs tshirt broken shards'), 6987: ('title wrong', 6856815640775.0, 'Oakley Men‚Äôs tank top.'), 7001: ('title wrong', 3558471139412.0, \"Fj√§llr√§ven Women's Nikka Trouser Curved Black\"), 7002: ('title wrong', 3558471237716.0, \"Fj√§llr√§ven Women's Nikka Short Curved Black\"), 7003: ('title wrong', 3558470942804.0, \"Fj√§llr√§ven Men's Abisko Shorts Black\"), 7039: ('title wrong', 1450090790996.0, \"Fj√§llr√§ven Men's Vidda Pro Trousers Blocked Olive\"), 7073: ('title wrong', 21317287949.0, 'Fj√§llr√§ven Greenland Wax'), 7090: ('title wrong', 6856754823367.0, 'Oakley Men‚Äôs socks'), 7095: ('title wrong', 10068039437.0, 'Fj√§llr√§ven K√•nken Red'), 7098: ('title wrong', 10068040589.0, 'Fj√§llr√§ven K√•nken Forest Green'), 7099: ('title wrong', 10068040013.0, 'Fj√§llr√§ven K√•nken Air Blue'), 7100: ('title wrong', 10068038925.0, 'Fj√§llr√§ven K√•nken Ochre'), 7101: ('title wrong', 10068038733.0, 'Fj√§llr√§ven K√•nken Fog'), 7102: ('title wrong', 10068040269.0, 'Fj√§llr√§ven K√•nken Navy'), 7118: ('title wrong', 8110608257.0, \"Fj√§llr√§ven Men's Canada Shirt Red\"), 7267: ('title wrong', 7182135099591.0, 'Hurley Men‚Äôs Exp outsider trek pant'), 7401: ('title wrong', 7182130053319.0, 'Hurley Men‚Äôs Dri Worker Pant'), 7593: ('title wrong', 7182066221255.0, 'Hurley Men‚Äôs Dri Breathe 21'), 8065: ('title wrong', 6552717295716.0, 'Lonsdale Jacket, Navy Plaid, Wool'), 8217: ('title wrong', 6578547523684.0, 'Necklace Magenta Crystal - 1819'), 8560: ('title wrong', 4508225241188.0, 'Necklace Black/Silver Butterfly - 27193188'), 8561: ('title wrong', 4508223438948.0, 'Necklace Black/Silver Elephant - 22769508'), 8562: ('title wrong', 4508223406180.0, 'Necklace Black/Silver Dragonfly'), 8563: ('title wrong', 4508222226532.0, 'Necklace Natural/Blue Wing - 20639588'), 8564: ('title wrong', 4508222160996.0, 'Necklace Natural/Turquoise Heart - 20508516'), 8565: ('title wrong', 4508222095460.0, 'Necklace Natural/Spiral Rose - 20442980'), 8566: ('title wrong', 4508221898852.0, 'Necklace Black/Crimson Tree - 20246372'), 8568: ('title wrong', 4508221800548.0, 'Necklace Black/Aqua Tree of Life - 20148068'), 8569: ('title wrong', 4508221735012.0, 'Necklace Black/Heart Plume - 19918692'), 8570: ('title wrong', 4508221538404.0, 'Necklace Black/Spiral Rose - 19722084'), 8571: ('title wrong', 4508221505636.0, 'Necklace Black/Silver Heart Flowers - 19689316'), 8863: ('title wrong', 4508222324836.0, 'Necklace Natural/Silver Circles - 20868964'), 8977: ('title wrong', 4508222259300.0, 'Necklace Natural/Silver Butterfly - 20803428'), 9011: ('title wrong', 4508222029924.0, 'Necklace Natural/Crimson Tree - 20377444'), 9026: ('title wrong', 4508221997156.0, 'Necklace Natural/Brass Vines - 20344676'), 9060: ('title wrong', 7650087076094.0, 'SPY CYRUS MATTE BLACK HAPPY BOOST BRONZE POLAR ICE BLUE SPECTRA MIRROR 6700000000181'), 9065: ('title wrong', 4508221964388.0, 'Necklace Natural/Silver Heart Flowers - 20311908'), 9264: ('title wrong', 4610801467492.0, 'Beautiful Large Pearl Necklace'), 9339: ('title wrong', 4508223504484.0, 'Necklace Black/Aqua Buddha - 22835044'), 9340: ('title wrong', 4508223340644.0, 'Necklace Black/Silver Circles'), 9341: ('title wrong', 4508221931620.0, \"Necklace Black/Fatima's Hand - 20279140\"), 9342: ('title wrong', 4508221833316.0, 'Necklace Black/Crimson Medallion - 20180836'), 9343: ('title wrong', 4508221702244.0, 'Necklace Natural/Aqua Roses - 19885924'), 9344: ('title wrong', 4508221636708.0, 'Necklace Brown/Silver Circles - 19820388'), 9345: ('title wrong', 4508221603940.0, 'Necklace Black/Yellow Tree of Life - 19787620'), 9556: ('title wrong', 4348428091492.0, 'Dee Tank, Black Saffron'), 9927: ('title wrong', 6670060781603.0, 'Reed Diffuser, Pi√±on'), 10203: ('title wrong', 7679041995006.0, 'CASIO VINTAGE GS-B640WC5A BRONZE WATCH'), 10346: ('title wrong', 6616890572835.0, 'Bandwagon Blue Light, Black / Tortoise'), 10784: ('title wrong', 4831445778467.0, 'Soy Candle, Pi√±on'), 11079: ('title wrong', 6914256109767.0, 'O‚ÄôNeill men‚Äôs Cruzer boardshort'), 11165: ('title wrong', 7380569456839.0, 'O‚ÄôNeill Kiki solid dress'), 11187: ('title wrong', 7678069440766.0, 'MAUI JIM KINI KINI BLACK HCL BRONZE SUNGLASSES MM849-004'), 11271: ('title wrong', 7328771113159.0, 'O‚ÄôNeill Sandy Jumpsuit'), 11278: ('title wrong', 7318459252935.0, 'O‚ÄôNeill Maya Cowboy Hat'), 11282: ('title wrong', 7318414622919.0, 'O‚ÄôNeill Tropical Nights Top'), 11296: ('title wrong', 7312693395655.0, 'Oakley men‚Äôs relax full zip hoodie'), 11297: ('title wrong', 7312694444231.0, 'Oakley men‚Äôs bark hoodie'), 11304: ('title wrong', 7308536742087.0, 'Hurley Men‚Äôs H2O Ace Aloha Polo'), 11308: ('title wrong', 7296582615239.0, 'Hurley Men‚Äôs Shirt'), 11310: ('title wrong', 7296566984903.0, 'Hurley Men‚Äôs Boardshort'), 11311: ('title wrong', 7296560300231.0, 'Hurley Men‚Äôs Boardshort'), 11315: ('title wrong', 7296507871431.0, 'Hurley Men‚Äôs Shirt'), 11316: ('title wrong', 7296494665927.0, 'Hurley Men‚Äôs T shirt'), 11317: ('title wrong', 7296484540615.0, 'Hurley Men‚Äôs T'), 11318: ('title wrong', 7296469008583.0, 'Hurley Men‚Äôs boardshort. Sessions Bohemia'), 11319: ('title wrong', 7295499141319.0, 'Hurley Men‚Äôs Outsider Jogger'), 11323: ('title wrong', 7287032840391.0, 'Koy Sumatra Smocked Midi dress'), 11345: ('title wrong', 7277693763783.0, 'O‚ÄôNeill Sterling Dress'), 11348: ('title wrong', 7276059033799.0, 'O‚ÄôNeill Grove Flow mens woven shirt'), 11350: ('title wrong', 7274377380039.0, 'O‚ÄôNeill ladies Profile graphic flip flop'), 11387: ('title wrong', 7191446814919.0, 'Hurley Men‚Äôs Short 2.0 Solid 18‚Äù'), 11388: ('title wrong', 7191437246663.0, 'Hurley Men‚Äôs Short Tailgate 18‚Äù'), 11389: ('title wrong', 7191422304455.0, 'Hurley Men‚Äôs Short Weekender 20‚Äù'), 11390: ('title wrong', 7182059339975.0, 'Hurley Men‚Äôs Dri Marwick 18‚Äù'), 11392: ('title wrong', 7181986726087.0, 'Hurley Men‚Äôs Swami Garden T-Shirt'), 11393: ('title wrong', 7181980074183.0, 'Hurley Men‚Äôs One and Only Fenwick Hoodie'), 11394: ('title wrong', 7181970014407.0, 'Hurley Men‚Äôs Swami Garden Hoodie'), 11395: ('title wrong', 7181160775879.0, 'Hurley Men‚Äôs mesa Ridgeline'), 11396: ('title wrong', 7181155565767.0, 'Hurley Men‚Äôs Everett summer crew'), 11398: ('title wrong', 7181103005895.0, 'Hurley Men‚Äôs Rincoin short sleeve'), 11400: ('title wrong', 7156854325447.0, 'Stance Men‚Äôs Boxer Max Support'), 11401: ('title wrong', 7156829454535.0, 'Stance Men‚Äôs Boxer Brief Mid support'), 11402: ('title wrong', 7156819296455.0, 'Stance Men‚Äôs Sock combed cotton'), 11404: ('title wrong', 7156809957575.0, 'Stance Men‚Äôs sock butter blend & wool blend'), 11407: ('title wrong', 7152000499911.0, 'O‚ÄôNeill ladies swimwear top black floral'), 11410: ('title wrong', 7151971860679.0, 'Selmark ladies ottom mid rise multi choral'), 11413: ('title wrong', 7149377126599.0, 'Fox men‚Äôs short'), 11414: ('title wrong', 7149375684807.0, 'Hurley Men‚Äôs short Dry Breathe 21'), 11421: ('title wrong', 7143288930503.0, 'Koy Ladies Miami Camisole'), 11423: ('title wrong', 6849017020615.0, 'Hurley Men‚Äôs birdock leaf button up'), 11425: ('title wrong', 7139353166023.0, 'Koy Ladies Miami Shirt Dress w/ tie'), 11429: ('title wrong', 7084109660359.0, 'Malai Ladies reversible triangle top'), 11456: ('title wrong', 7071978651847.0, 'Fox Men‚Äôs Pinnacle LS Tee'), 11457: ('title wrong', 7071951552711.0, 'Fox Men‚Äôs T-Shirt Pinnacle SS Tech Tee'), 11459: ('title wrong', 7071940378823.0, 'Fox Men‚Äôs T-Shirt Mirer SS premium T'), 11468: ('title wrong', 6994283102407.0, 'Oakley Men‚Äôs Take Pro Short'), 11476: ('title wrong', 6990989623495.0, 'Hurley Ladies side split maxi dress'), 11479: ('title wrong', 6975311511751.0, 'Hurley Men‚Äôs SnapBack Fairway Trucker'), 11480: ('title wrong', 6975263965383.0, 'Hurley Men‚Äôs flex fit tech natural 2.0 trucker'), 11481: ('title wrong', 6962832801991.0, 'Hurley Men‚Äôs H2O Dri point snap back'), 11482: ('title wrong', 6970700202183.0, 'O‚ÄôNeill men‚Äôs Redmond long sleeve stretch'), 11483: ('title wrong', 6966382952647.0, 'O‚ÄôNeill ladies top'), 11485: ('title wrong', 6966350020807.0, 'O‚ÄôNeill ladies top'), 11486: ('title wrong', 6962848923847.0, 'Hurley Men‚Äôs flexfit dry fit oak ballcap'), 11487: ('title wrong', 6962847908039.0, 'Hurley Men‚Äôs flex fit port icon ball cap hat'), 11488: ('title wrong', 6962845253831.0, 'Hurley Men‚Äôs flex fit black texture hat'), 11490: ('title wrong', 6962843943111.0, 'Hurley Men‚Äôs flex fit phantom natural ball cap'), 11491: ('title wrong', 6962843287751.0, 'Hurley Men‚Äôs flex fit phantom resist ball cap'), 11492: ('title wrong', 6962838077639.0, 'Hurley Men‚Äôs back country bucket hat'), 11493: ('title wrong', 6962679742663.0, 'Hurley Men‚Äôs cross dye boardshort'), 11494: ('title wrong', 6962580390087.0, 'Hurley Men‚Äôs volley'), 11495: ('title wrong', 6962557780167.0, 'Hurley Men‚Äôs board short'), 11500: ('title wrong', 6957472907463.0, 'Hurley Phantom 2.0 boardshort 18‚Äù'), 11501: ('title wrong', 6957469597895.0, 'Hurley Men‚Äôs short sleeve fast palms tshirt'), 11502: ('title wrong', 6957461668039.0, 'Hurley Men‚Äôs short sleeve t shirt'), 11503: ('title wrong', 6957451804871.0, 'Hurley Men‚Äôs cross dye volley 17‚Äù'), 11504: ('title wrong', 6957440368839.0, 'Hurley Men‚Äôs Dri trek 17.5‚Äù'), 11506: ('title wrong', 6957234127047.0, 'Hurley Men‚Äôs short Dri Breathe 21‚Äù'), 11507: ('title wrong', 6957188612295.0, 'Hurley Men‚Äôs short Dri Marwick 18‚Äù'), 11508: ('title wrong', 6955150704839.0, 'Hurley Men‚Äôs short sleeve tee unridden ones'), 11509: ('title wrong', 6955136057543.0, 'Hurley Men‚Äôs short sleeve tee layup'), 11510: ('title wrong', 6955111022791.0, 'Hurley Men‚Äôs pacific Bamboozled t shirt'), 11511: ('title wrong', 6955106894023.0, 'Hurley Men‚Äôs wash afar shirt sleeve tee'), 11512: ('title wrong', 6955081433287.0, 'Hurley Men‚Äôs Organic shirt sleeve woven'), 11513: ('title wrong', 6955056595143.0, 'Hurley Men‚Äôs Dri Easton LS rashguard'), 11514: ('title wrong', 6781391536327.0, 'O‚ÄôNeill Ladies tank top'), 11517: ('title wrong', 6720877756615.0, 'Hurley Phantom Walkshort 20‚Äù'), 11521: ('title wrong', 6720827752647.0, 'Hurley Phantom Boardshort 20‚Äù'), 11526: ('title wrong', 6924884836551.0, 'Oakley Men‚Äôs solid crest boardshort'), 11527: ('title wrong', 6924553945287.0, 'Oakley Men‚Äôs beach volley'), 11533: ('title wrong', 6915667296455.0, 'Fox men‚Äôs ball cap snap back'), 11539: ('title wrong', 6914263646407.0, 'O‚ÄôNeill men‚Äôs Koosh flip flop black'), 11540: ('title wrong', 6912897712327.0, 'O‚ÄôNeill Ladies dress'), 11541: ('title wrong', 6912872743111.0, 'O‚ÄôNeill men‚Äôs t-shirt'), 11542: ('title wrong', 6912872513735.0, 'O‚ÄôNeill men‚Äôs t-shirt'), 11543: ('title wrong', 6912863862983.0, 'O‚ÄôNeill men‚Äôs t-shirt long sleeve'), 11544: ('title wrong', 6912810516679.0, 'O‚ÄôNeill ladies skirt'), 11545: ('title wrong', 6912803569863.0, 'O‚ÄôNeill men‚Äôs woven shirt'), 11559: ('title wrong', 6893119471815.0, 'Malai Ladies short dress'), 11565: ('title wrong', 6882967879879.0, 'O‚ÄôNeill ladies swim tie top black pismo'), 24383: ('title wrong', 612696195130.0, 'Ashland Fisherman Cap'), 11593: ('title wrong', 6865709859015.0, 'O‚ÄôNeill Sonoma hat'), 11600: ('title wrong', 6873751322823.0, 'Body Glove Ladies tie side striped top'), 11605: ('title wrong', 6865514758343.0, 'O‚ÄôNeill ladies Laney stretch boardshort'), 11610: ('title wrong', 6859025809607.0, 'O‚ÄôNeill ladies sandals green and wood'), 11611: ('title wrong', 6859083808967.0, 'O‚ÄôNeill ladies sandals tan and tweed'), 11612: ('title wrong', 6859075453127.0, 'O‚ÄôNeill ladies sandals black and cork'), 11613: ('title wrong', 6859042193607.0, 'O‚ÄôNeill Ladies black sandals with flowers'), 11614: ('title wrong', 6859041145031.0, 'O‚ÄôNeill ladies sandals gold strap'), 11615: ('title wrong', 6859037016263.0, 'O‚ÄôNeill ladies sandals grey'), 11618: ('title wrong', 6856823898311.0, 'Oakley Men‚Äôs take pro short.'), 11619: ('title wrong', 6856822423751.0, 'Oakley Men‚Äôs cargo short'), 11620: ('title wrong', 6856812757191.0, 'Oakley Men‚Äôs Jaquard polo'), 11621: ('title wrong', 6856809939143.0, 'Oakley Men‚Äôs golf shirt Hexsplit'), 11622: ('title wrong', 6856788574407.0, 'Oakley Men‚Äôs golf shirt'), 11623: ('title wrong', 6856773927111.0, 'Oakley Men‚Äôs printed sock'), 11624: ('title wrong', 6856771043527.0, 'Oakley Men‚Äôs essential socks'), 11625: ('title wrong', 6856745550023.0, 'Oakley Men‚Äôs Chalten ball cap'), 11626: ('title wrong', 6856727724231.0, 'Oakley Men‚Äôs ball cap'), 11627: ('title wrong', 6856692269255.0, 'Oakley Men‚Äôs sliders'), 11631: ('title wrong', 6849041170631.0, 'Hurley Men‚Äôs flip flop'), 11632: ('title wrong', 6849038418119.0, 'Hurley Men‚Äôs short sleeve woven'), 11633: ('title wrong', 6849032683719.0, 'Hurley Men‚Äôs party pack volley'), 11635: ('title wrong', 6846698684615.0, 'O‚ÄôNeill Men‚Äôs woven shirt'), 11636: ('title wrong', 6844472361159.0, 'Hurley Men‚Äôs shirt'), 11637: ('title wrong', 6844456861895.0, 'Hurley Men‚Äôs ss shirt Allen plaid'), 11638: ('title wrong', 6844448473287.0, 'Hurley Men‚Äôs shirt'), 11672: ('title wrong', 6679448617159.0, 'Body glove Bras√≠lia tie side bottom'), 11680: ('title wrong', 6681001427143.0, 'Body Glove Ladies one piece yellow stripe'), 11697: ('title wrong', 6781149413575.0, 'O‚ÄôNeill Hyperfreak Heist Boardshort'), 11698: ('title wrong', 6781152067783.0, 'O‚ÄôNeill Hyperfreak Waka Boardshort'), 11699: ('title wrong', 6781156556999.0, 'O‚ÄôNeill Parallel Line T-Shirt'), 11700: ('title wrong', 6781157408967.0, 'O‚ÄôNeill short sleeve'), 11701: ('title wrong', 6782460788935.0, 'Body glove Palmer ribbed  top'), 11702: ('title wrong', 6781162062023.0, 'O‚ÄôNeill short sleeve'), 11703: ('title wrong', 6781161308359.0, 'O‚ÄôNeill Traverse Hybrid Shirt'), 11704: ('title wrong', 6781170483399.0, 'O‚ÄôNeill Hybrid Snapback Cap'), 11706: ('title wrong', 6781254533319.0, 'Jack O‚ÄôNeill Fish Tales Shirt'), 11707: ('title wrong', 6781171400903.0, 'O‚ÄôNeill Capetown Cap'), 11710: ('title wrong', 6781178216647.0, 'O‚ÄôNeill Wetlands Sun Hat'), 11711: ('title wrong', 6781351166151.0, 'O‚ÄôNeill Faraway T-shirt'), 11712: ('title wrong', 6781263872199.0, 'O‚ÄôNeill Ladies t shirt'), 11713: ('title wrong', 6781279240391.0, 'O‚ÄôNeill Ladies coverup dress'), 11714: ('title wrong', 6781297557703.0, 'O‚ÄôNeill Ladies sandals'), 11715: ('title wrong', 6781348970695.0, 'O‚ÄôNeill Hyperfreak Heist Boardshort'), 11716: ('title wrong', 6781352247495.0, 'O‚ÄôNeill Base Short Sleeve T-shirt'), 11717: ('title wrong', 6781384065223.0, 'O‚ÄôNeill Fern pant'), 11718: ('title wrong', 6781387931847.0, 'O‚ÄôNeill Ladies short sleeve essential tshirt'), 11719: ('title wrong', 6781386588359.0, 'O‚ÄôNeill Ladies tank top'), 11720: ('title wrong', 6781395239111.0, 'O‚ÄôNeill Ladies short sleeve tshirt'), 11721: ('title wrong', 6781397958855.0, 'O‚ÄôNeill Ladies hat'), 11722: ('title wrong', 6782184358087.0, \"O‚ÄôNeill Men's shorts hybrid\"), 11723: ('title wrong', 6782223483079.0, \"O‚ÄôNeill Men's short\"), 11724: ('title wrong', 6782194090183.0, \"O‚ÄôNeill Men's traveller short\"), 11725: ('title wrong', 6782240161991.0, \"O‚ÄôNeill Men's super freak boardshort\"), 11726: ('title wrong', 6798214496455.0, 'Oakley Men‚Äôs Short sleeve polo'), 11727: ('title wrong', 6782238556359.0, \"O‚ÄôNeill Men's cruzer boardshort\"), 11728: ('title wrong', 6782255988935.0, 'O‚ÄôNeill Ladies swimwear top'), 11734: ('title wrong', 6819084632263.0, 'O‚ÄôNeill tame woven shirt'), 11735: ('title wrong', 6819086631111.0, 'Jack O‚ÄôNeill Akeno Shirt'), 11736: ('title wrong', 6819102523591.0, 'O‚ÄôNeill Ladies dress'), 11738: ('title wrong', 6679440097479.0, 'Body Glove Ladies high waist solid bottom Marlee'), 11742: ('title wrong', 6781277143239.0, 'O‚ÄôNeill Ladies coverup dress'), 11743: ('title wrong', 6781283467463.0, 'O‚ÄôNeill Ladies coverup'), 11744: ('title wrong', 6781282484423.0, 'O‚ÄôNeill Ladies coverup'), 11745: ('title wrong', 6781258662087.0, 'O‚ÄôNeill Ladies cardigan'), 11747: ('title wrong', 6679456252103.0, 'Body Glove Ladies t-shirt coverup'), 11749: ('title wrong', 6781260824775.0, 'O‚ÄôNeill Ladies romper shorts'), 11756: ('title wrong', 6782180262087.0, \"O‚ÄôNeill Men's contact stretch shorts\"), 11767: ('title wrong', 6781380624583.0, 'O‚ÄôNeill Ladies boardshort'), 11768: ('title wrong', 6781379707079.0, 'O‚ÄôNeill Ladies board short printed stretch'), 11769: ('title wrong', 6772936900807.0, 'O‚ÄôNeill Beach Bag'), 11772: ('title wrong', 6720864256199.0, 'Hurley Phantom Zero Boardshort 20‚Äù'), 11773: ('title wrong', 6720845971655.0, 'Hurley Phantom Boardshort 18‚Äù'), 11774: ('title wrong', 6798179860679.0, 'Oakley Men‚Äôs Short sleeve polo shirt'), 11775: ('title wrong', 6798115799239.0, 'Oakley Men‚Äôs short sleeve golf shirt'), 11776: ('title wrong', 6798211743943.0, 'Oakley Men‚Äôs Short sleeve t shirt'), 11826: ('title wrong', 7676636004606.0, 'ELECTRIC EE19301642 ELSINORE GLOSS BLACK POLAR SUNGLASSES'), 11886: ('title wrong', 7676627878142.0, 'ELECTRIC EE19163542 OAK MATTE TORT GREY POLAR SUNGLASSES'), 11935: ('title wrong', 7676616802558.0, 'ELECTRIC EE17201042 TECH ONE XL SPORT MATTE BLACK GREY POLAR SUNGLASSES'), 12207: ('title wrong', 6638105690187.0, 'Set of 2 Blush 12‚Äù Taper Candles'), 12208: ('title wrong', 6638091501643.0, 'Set of 2 Sage 12‚Äù Taper Candles'), 12553: ('title wrong', 7311330705567.0, '34 Heritage Courage Straight Leg Pant in Navy Twill'), 12632: ('title wrong', 5581609009311.0, 'Serica Elite Twill Dress Shirt ‚Äì White'), 12633: ('title wrong', 5581607862431.0, 'Serica Elite Twill Dress Shirt ‚Äì Light Blue'), 12634: ('title wrong', 5581590986911.0, 'Serica Elite Micro Pattern Dress Shirt ‚Äì Black & Grey'), 12665: ('title wrong', 7711364579582.0, 'YETI Hopper¬Æ M30 Soft Cooler 2.0'), 12688: ('title wrong', 7692697108734.0, 'MARC JACOBS 270S-21K HAVANA GOLD SUNGLASSES'), 12697: ('title wrong', 7705365151998.0, 'DRAGON MERIDIEN 42004- MATTE GREY PERMAFROST LL GUN BLUE ION SUNGLASSES'), 3918: ('title wrong', 5539570974887.0, 'WESTERN DENIM SHIRT - LIGHT WASH'), 12783: ('title wrong', 7622633947390.0, 'MICHAEL KORS KONA 0MK1089 SILVER W/ SILVER MIRROR SUNGLASSES'), 12785: ('title wrong', 7622566215934.0, 'RAY-BAN THE MARSHAL 0RB3648-001-54 ARISTA W/ G-15 GREEN SUNGLASSES'), 12788: ('title wrong', 7622308692222.0, 'RAY-BAN CATS 5000 0RB4125-710/5159 LIGHT HAVANA W/ CLEAR GRADIENT BROWN SUNGLASSES'), 12793: ('title wrong', 7617462993150.0, 'MAUI JIM CHEETAH 5 DARK TORT CRYSTAL SUNGLASSES MM842-002'), 12811: ('title wrong', 7600775921918.0, 'FJALL RAVEN KANKEN RAINBOW F23620'), 13097: ('title wrong', 6873198592184.0, 'YETI Panga Backpack 28'), 2116: ('title wrong', 4687767863378.0, 'Glove / Cloud'), 11705: ('title wrong', 6781173170375.0, 'O‚ÄôNeill Slides Logo Sandal'), 11708: ('title wrong', 6781177397447.0, 'O‚ÄôNeill Arch Sandal'), 11709: ('title wrong', 6781175398599.0, 'O‚ÄôNeill Chad Fabric Sandal'), 13260: ('title wrong', 6701466452152.0, 'Hydro Flask 26 L Day Escape‚Ñ¢ Soft Cooler Tote'), 13262: ('title wrong', 6701464715448.0, 'Hydro Flask 18 L Day Escape‚Ñ¢ Soft Cooler Tote'), 13289: ('title wrong', 6649896337592.0, 'Oakley EVZero‚Ñ¢ Blades'), 1818: ('title wrong', 6575561048146.0, 'Classic High Heel Oiled Nubuck Clogs / Brown'), 6688: ('title wrong', 6429554999465.0, 'Nike Dri-FIT Aerobill Featherlight Perforated Running Cap Black'), 7068: ('title wrong', 401264508968.0, 'Nike Sportswear AeroBill Featherlight Adjustable Cap Black'), 13585: ('title wrong', 4651123048586.0, 'Dakine Terminal Spinner 40L Bag R2ROLIVE O/S'), 13588: ('title wrong', 4651124686986.0, 'Dakine EQ Carry On Roller 40L'), 2612: ('title wrong', 7834487161064.0, 'Jen & Co. - Sybil Straw Hat'), 3091: ('title wrong', 7834486735080.0, 'Jen & Co. - Dede Straw Hat'), 3338: ('title wrong', 7503399157989.0, 'FISHERMAN‚ÄôS CAP - BLACK'), 3527: ('title wrong', 7503417639141.0, 'FISHERMAN‚ÄôS CAP - CHARCOAL'), 4119: ('title wrong', 4177648418873.0, 'FISHERMAN‚ÄôS CAP - OLIVE'), 3659: ('title wrong', 6858897686695.0, 'SLIM FIT JEANS - DISTRESSED BLUE'), 2283: ('title wrong', 4744673525842.0, 'Petite Coffee Bead Necklace / Silver'), 2339: ('title wrong', 4582120423506.0, 'Adelaide Earrings / White Howlite'), 25095: ('title wrong', 7418128531605.0, 'Fancy Heart - Attachable Charm Pendant'), 25098: ('title wrong', 7418126139541.0, 'Rose Quartz Cluster - Attachable Charm Pendant'), 25099: ('title wrong', 7418122961045.0, 'Rose Quartz Love Stone - Attachable Charm Pendant'), 25100: ('title wrong', 7418120896661.0, 'Fancy Tree of life - Attachable Charm Pendant'), 25101: ('title wrong', 7418118865045.0, 'Dragonfly and Crystal Cluster - Attachable Charm Pendant'), 25102: ('title wrong', 7418117062805.0, 'Bracelet Pyrite Protection - Attachable Charm'), 25103: ('title wrong', 7418114670741.0, 'Detox Hematite Ring Healing & Protection - Attachable Charm Pendant'), 25104: ('title wrong', 7418113851541.0, 'Heart Lovers - Attachable Charm Pendant'), 25105: ('title wrong', 7418112442517.0, 'Essential Oil Lava Stone - Attachable Charm Pendant'), 25106: ('title wrong', 7382140190869.0, 'Pyrite Stone Protection - Attachable Charm Pendant - Large'), 25107: ('title wrong', 7382138224789.0, 'Gold with Quartz Crystal Protection - Attachable Charm Pendant'), 25108: ('title wrong', 7382130983061.0, 'Sterling Necklace Set INCLUDING Amazonite Healing & Protection - Attachable Charm Pendant'), 25109: ('title wrong', 7382130688149.0, 'Amazonite Healing & Protection - Attachable Charm Pendant'), 25110: ('title wrong', 7382129967253.0, 'Dragonfly Charm Bracelet - Pretty Twist Stainless Steel'), 25111: ('title wrong', 7382126657685.0, 'The Ocean Wave - Attachable Charm Pendant'), 25112: ('title wrong', 7382116663445.0, 'Dog Paw Charm - Attachable Charm Pendant'), 25113: ('title wrong', 7382115451029.0, 'Triangle Reduce Stress - Attachable Charm Pendant Protection'), 25114: ('title wrong', 7382114271381.0, 'XL Dragonfly - Attachable Charm Pendant'), 25115: ('title wrong', 7382108209301.0, 'Mountain Crystal - Attachable Charm Pendant - Gold or Silver'), 25116: ('title wrong', 7382107259029.0, 'Amethyst Stone Wand Protection - Attachable Charm Pendant'), 25117: ('title wrong', 7382104998037.0, 'Long Drop - Attachable Charm Pendant'), 25118: ('title wrong', 7382103883925.0, 'Drop - Attachable Charm Pendant'), 25119: ('title wrong', 7382078849173.0, 'Strong Anklet - Pretty Twist Stainless Steel'), 25120: ('title wrong', 7382073114773.0, 'Everyday Bracelet - Pretty Twist Stainless Steel'), 25122: ('title wrong', 7381677342869.0, 'Quartz Crystal Protection with Gold and Black - Attachable Charm Pendant'), 25123: ('title wrong', 7381673934997.0, 'Long Gold with Quartz Crystal Protection - Attachable Charm Pendant'), 25124: ('title wrong', 7381672165525.0, 'Gold Fancy - Attachable Charm Pendant'), 25125: ('title wrong', 7381671608469.0, 'Teardrop EMF Protection Stone - Attachable Charm Pendant'), 25126: ('title wrong', 7381670330517.0, 'Pyrite Protection - Attachable Charm Pendant'), 25129: ('title wrong', 7381662564501.0, 'Pet Charm Bracelet - Pretty Twist Stainless Steel'), 25130: ('title wrong', 7381658566805.0, 'Reduce Stress V and Ring Charm - Attachable Charm Pendant'), 25133: ('title wrong', 7381651292309.0, 'Turquoise Oval - Attachable Charm Pendant'), 25134: ('title wrong', 7381649326229.0, 'Healing & Protection Stone Circle - Attachable Charm Pendant'), 25135: ('title wrong', 7381611380885.0, 'Wrap Bracelet & Necklace (All-In-One) - Including Attachable Charm'), 25136: ('title wrong', 7381606989973.0, 'Leaf Cluster - Attachable Charm Pendant'), 25137: ('title wrong', 7381605908629.0, 'Amethyst Protection - Attachable Charm Pendant'), 25138: ('title wrong', 7381598797973.0, 'Hematite Stone Protection - Attachable Charm Pendant'), 25139: ('title wrong', 7381567897749.0, 'Positive Energy Quartz Crystal Protection - Attachable Charm Pendant'), 25140: ('title wrong', 7381566161045.0, 'Free like a Butterfly - Attachable Charm Pendant'), 25141: ('title wrong', 7381563736213.0, 'Lucky Dragonfly - Attachable Charm Pendant'), 25143: ('title wrong', 7381533556885.0, 'Mountains Are Calling - Attachable Charm Pendant - Gold or Silver'), 25144: ('title wrong', 7381485027477.0, 'Leaf Bracelet - Pretty Twist Stainless Steel'), 25145: ('title wrong', 6869983330453.0, 'Sterling Silver Anklet - Including Attachable Charm'), 25146: ('title wrong', 6605113622677.0, 'Ring and Bling - Attachable Charm Pendant'), 25147: ('title wrong', 6599414743189.0, 'Reduce Stress V Charm - Attachable Charm Pendant Protection'), 25148: ('title wrong', 6599407632533.0, 'Natural Tree of life - Attachable Charm Pendant'), 25149: ('title wrong', 6599395934357.0, 'Large Heart Jewelry - Attachable Charm Pendant'), 25150: ('title wrong', 6599391838357.0, 'Stress Reducing Triangle - Attachable Charm Pendant'), 25152: ('title wrong', 6599355924629.0, 'Healing Stone Protection - Attachable Charm Pendant'), 25153: ('title wrong', 6599095025813.0, 'Mask Necklace - 4 Ways To Wear - Stainless Steel'), 3581: ('title wrong', 7436979896549.0, 'COVE LEATHER JACKET - ELEPHANT'), 3591: ('title wrong', 7436977078501.0, 'CAIRO LEATHER JACKET - CHESTNUT'), 14814: ('title wrong', 7684290838741.0, 'Kenya One Piece Swimsuit - Leopard'), 14815: ('title wrong', 7684292313301.0, 'Kenya One Piece Swimsuit - Periwinkle'), 14816: ('title wrong', 7684296147157.0, 'Kenya One Piece Swimsuit - Taupe'), 14817: ('title wrong', 7688295088341.0, 'Kenya One Piece Swimsuit - Black'), 15103: ('title wrong', 6787046473811.0, 'VOLCOM Full Stone Xfit Hat Dark Forest'), 14238: ('title wrong', 4650790584458.0, 'Oakley Fives Squared¬Æ'), 17065: ('title wrong', 6737802461267.0, 'VOLCOM Vorta Denim Light Blue Vibes'), 18377: ('title wrong', 4676273700947.0, 'BURTON GORE‚ÄëTEX Ballast Short Snowboard Pants True Black 2022'), 18646: ('title wrong', 6673211162707.0, \"BURTON Hearth Fleece Pullover Women's Folkstone Grey/Cr√®me Br√al√©e\"), 18647: ('title wrong', 6673208967251.0, 'BURTON Frostner Snowboard Jacket Lunar Gray/PJ Print/True Black 2022'), 19131: ('title wrong', 7737476677849.0, 'VW VTG 90‚Äôs Floral Layered Midi'), 19141: ('title wrong', 7737475367129.0, 'VW VTG 90‚Äôs Abstract Slinky Dress'), 19264: ('title wrong', 7737471828185.0, 'VW VTG Blue Plaid Skort ‚Äò30'), 19268: ('title wrong', 6625085685843.0, 'BURTON GORE‚ÄëTEX Ballast Short Snowboard Pants Bog Heather 2022'), 19270: ('title wrong', 6625080606803.0, 'BURTON [ak] GORE‚ÄëTEX Cyclic Snowboard Pants Forest Night 2022'), 19286: ('title wrong', 6624222216275.0, \"VOLCOM Vault 4-In-1 Snowboard Jacket Women's Covert Green 2022\"), 19295: ('title wrong', 7737464914137.0, 'VW VTG Cream Skort ‚Äò34'), 19363: ('title wrong', 7737460588761.0, 'VW VTG Taupe Mini ‚Äò32'), 19408: ('title wrong', 7737458065625.0, 'VW VTG Levi‚Äôs ‚Äò29'), 19423: ('title wrong', 7737456623833.0, 'VW VTG CK Faded Blk Denim ‚Äò30'), 19628: ('title wrong', 7737456132313.0, 'VW VTG Arizona Denim ‚Äò28'), 19638: ('title wrong', 7737454952665.0, 'VW VTG B+W Check Short ‚Äò26'), 19648: ('title wrong', 7737452986585.0, 'VW VTG Blue Bay Denim Short ‚Äò30'), 19717: ('title wrong', 7737447743705.0, 'VW Levi‚Äôs Wht Cutoffs ‚Äò31'), 19814: ('title wrong', 7737444303065.0, 'VW VTG 90‚Äôs Mocha Satin Mini ‚Äò25'), 19896: ('title wrong', 7737441648857.0, 'VW VTG Tan Check Shorts ‚Äò25'), 19911: ('title wrong', 7737441157337.0, 'VW VTG Weipper Denim ‚Äò29'), 19977: ('title wrong', 7737439322329.0, 'VW VTG Levi‚Äôs Denim ‚Äò30'), 20019: ('title wrong', 7737437651161.0, 'VW VTG Levi‚Äôs Olive Denim ‚Äò30'), 20071: ('title wrong', 7737437290713.0, 'VW VTG Levi‚Äôs White Tab ‚Äò30'), 20119: ('title wrong', 7737436209369.0, 'VW VTG Acid Wash Paperbag Short ‚Äò34'), 20138: ('title wrong', 7737434374361.0, 'VW Zara Crop Denim ‚Äò30'), 20337: ('title wrong', 7737432375513.0, 'VW VTG GAP Checkered Short ‚Äò26'), 20342: ('title wrong', 7737431752921.0, 'VW 90‚Äôs Black Fleur Skort ‚Äò32'), 20411: ('title wrong', 7734965338329.0, 'VW VTG Ikeda Denim ‚Äò30'), 22074: ('title wrong', 768911278186.0, 'michelle me30 cb11 black leather strap'), 22113: ('title wrong', 3876762746974.0, '3 in 1 Iris White Chevron Purse'), 22114: ('title wrong', 3876725915742.0, '3 in 1 Iris Black Purse'), 22711: ('title wrong', 6573054492808.0, 'Naked & Famous Circular Knit T-Shirt - Navy Blue'), 22712: ('title wrong', 6573054591112.0, 'Naked & Famous Circular Knit T-Shirt - Black'), 22713: ('title wrong', 6572677791880.0, 'Naked & Famous Circular Knit T-Shirt - White'), 22716: ('title wrong', 6563333341320.0, 'Naked & Famous Circular Knit T-Shirt - Heather Blue'), 28281: ('title wrong', 7341139394818.0, \"Quiksilver Boy's 2-7 Heats On Short Sleeve UPF 50 Rashguard ‚Äì Snug Fit\"), 22973: ('title wrong', 7739374174425.0, 'VW VTG 90‚Äôs 2-Layer Mesh Tank'), 22987: ('title wrong', 7740620144857.0, 'Vintage Olive Levi‚Äôs 30‚Äù'), 22988: ('title wrong', 7740473180377.0, 'JJ- TNA Biker Shorts 7‚Äù'), 23147: ('title wrong', 7636994949337.0, 'Colourful Silk Shorts 25‚Äù'), 23154: ('title wrong', 7630155415769.0, '‚ÄúGucci‚Äù Striped Bikini Top'), 23227: ('title wrong', 7557339152601.0, 'Vintage Wilson‚Äôs Black Leather Biker Jacket'), 23288: ('title wrong', 6626320646223.0, 'Don‚Äôt Panic Graphic Tee'), 22538: ('title wrong', 6940790161544.0, 'Nike SB Heritage Vulc - Summit White/Dark Blue - CD5010 105'), 22629: ('title wrong', 6837031207048.0, 'Nike Dunk High Retro SE - White Black Camo - DD3359-100'), 7105: ('title wrong', 6849081278663.0, 'O‚ÄôNeill Sun hat'), 11630: ('title wrong', 6849078657223.0, 'O‚ÄôNeill sun hat'), 2317: ('title wrong', 4657229267026.0, 'Super Hi Bottom / Periwinkle'), 2319: ('title wrong', 4650322591826.0, 'Mid Rise Bottom / Bone'), 28258: ('title wrong', 6916822532284.0, \"Roxy Girl's 8-16 Barbie‚Ñ¢ x ROXY Long Sleeve UPF 50 One Piece Rashguard\"), 3722: ('title wrong', 6824712470695.0, 'TEE SHIRT - SLATE ROSE'), 3724: ('title wrong', 6824707227815.0, 'TEE SHIRT - SAHARA SUN'), 4026: ('title wrong', 4598843244601.0, 'SHORT-SLEEVE SHIRT - STITCH ACCENT'), 3795: ('title wrong', 6655747162279.0, 'PESHTEMAL - ANTRACITE'), 3933: ('title wrong', 5938127929511.0, 'PESHTEMAL - NAVY/RED'), 3934: ('title wrong', 5938119049383.0, 'PESHTEMAL - ANTRACITE'), 3936: ('title wrong', 5938107023527.0, 'PESHTEMAL - NAVY'), 3937: ('title wrong', 5938098503847.0, 'PESHTEMAL - ANTRACITE'), 3938: ('title wrong', 5938093129895.0, 'PESHTEMAL - FUSCHIA'), 3991: ('title wrong', 4632789483577.0, 'PESHTEMAL - NAVY'), 3992: ('title wrong', 4632777490489.0, 'PESHTEMAL - CORAL'), 3993: ('title wrong', 4632773558329.0, 'PESHTEMAL - MINT/CORAL/WHITE'), 3994: ('title wrong', 4632714838073.0, 'PESHTEMAL - GRAY/WHITE'), 3995: ('title wrong', 4632724701241.0, 'PESHTEMAL - CORAL/WHITE'), 3996: ('title wrong', 4632723816505.0, 'PESHTEMAL - ANTRACITE'), 22654: ('title wrong', 5205402026120.0, 'Neuw Studio Baggy - Zero Voyager Blue'), 2381: ('title wrong', 7077813813415.0, 'CLEAN CAT - TRUCKER HAT'), 2466: ('title wrong', 6997397962919.0, 'SHOW PONY - YELLOW'), 3186: ('title wrong', 6997128151207.0, 'MANE MAN - WHISKEY'), 3217: ('title wrong', 6997121630375.0, 'MANE MAN - BLACK'), 3222: ('title wrong', 6997112553639.0, 'JAGUAR - BLUE'), 3227: ('title wrong', 7077790711975.0, 'CULTURE CHAMELEON - TRUCKER HAT'), 3428: ('title wrong', 7720645329125.0, 'PIT BULL - BUCKET HAT'), 3430: ('title wrong', 7720633893093.0, 'G.O.A.T. - BUCKET HAT'), 3431: ('title wrong', 7720607416549.0, 'PANTERA - BUCKET HAT'), 3570: ('title wrong', 7077831868583.0, 'TRUTH WILL PREVAIL - TRUCKER HAT'), 3583: ('title wrong', 7077827641511.0, 'BLACK PANTHER - TRUCKER HAT'), 3592: ('title wrong', 7077824266407.0, 'FRISKY WHISKEY - TRUCKER HAT'), 3597: ('title wrong', 7077818532007.0, 'MARGARITAVILLE - TRUCKER HAT'), 3614: ('title wrong', 7077816008871.0, 'BUFFALO - TRUCKER HAT'), 3620: ('title wrong', 7077787041959.0, 'DEADLY ENCOUNTER - TRUCKER HAT'), 3623: ('title wrong', 7077495832743.0, 'LEAPING LIZARD - TRUCKER HAT'), 3638: ('title wrong', 6997407400103.0, 'BAD LUCK CAT - BLACK'), 3643: ('title wrong', 6997403500711.0, 'BONE TO PICK - RED'), 3644: ('title wrong', 6997234286759.0, 'BACON BACON - BLACK'), 3645: ('title wrong', 6997220622503.0, 'FRENCHIE - BLACK'), 3646: ('title wrong', 6997207384231.0, 'BRUTUS DRAKE - BLACK'), 3647: ('title wrong', 6997185953959.0, 'BLACK PANTHER - ORANGE'), 3648: ('title wrong', 6997173043367.0, 'FREE HUG - GREY'), 3649: ('title wrong', 6997139390631.0, '6 TONS - BLACK'), 3650: ('title wrong', 6997106524327.0, 'TOOTHACHE - YELLOW'), 3651: ('title wrong', 6997099151527.0, 'FEROCIOUS - OLIVE'), 3779: ('title wrong', 6662432063655.0, 'REVOLTER- EBONY'), 3780: ('title wrong', 6662427803815.0, 'MOON LOVER- BLACK'), 3783: ('title wrong', 6662422397095.0, 'ELEPHANT - OLIVE'), 3784: ('title wrong', 6662419546279.0, 'KING OF THE JUNGLE - NAVY'), 3785: ('title wrong', 6662417973415.0, 'KING OF THE JUNGLE - BLACK'), 3786: ('title wrong', 6662415712423.0, 'YOU STUD - GREY/TAN'), 3787: ('title wrong', 6662413648039.0, 'QUEEN BEE - WHITE'), 3788: ('title wrong', 5638590070951.0, 'QUEEN BEE - BLACK'), 12767: ('title wrong', 7635427688702.0, 'ARCADE RIDGE BELT A10446'), 13836: ('title wrong', 5286970163361.0, 'Hydro Flask 16 oz Coffee with Flex Sip‚Ñ¢ Lid'), 9316: ('title wrong', 7346972229831.0, 'O‚ÄôNeill Anglet Swimshort'), 10236: ('title wrong', 7322225868999.0, 'Hurley dri breathe 19‚Äô‚Äô'), 10274: ('title wrong', 7308560007367.0, 'O‚ÄôNeill Mini Print Short'), 11145: ('title wrong', 7378593120455.0, 'Jack O‚ÄôNeill Bambusa shirt'), 11163: ('title wrong', 7380721828039.0, 'O‚ÄôNeill Seashore midi'), 11164: ('title wrong', 7380587413703.0, 'O‚ÄôNeill fern pant'), 11166: ('title wrong', 7380552351943.0, 'O‚ÄôNeill Belizin coverup'), 11167: ('title wrong', 7380497137863.0, 'O‚ÄôNeill mini print shorts'), 11168: ('title wrong', 7379346129095.0, 'O‚ÄôNeill Rico coverup'), 11169: ('title wrong', 7378617303239.0, 'O‚ÄôNeill trvlr traverse'), 11170: ('title wrong', 7378605277383.0, 'O‚ÄôNeill jiggy pant'), 11204: ('title wrong', 7361204388039.0, 'Oakley Seersucker 16‚Äù Beach Short'), 11230: ('title wrong', 7355755528391.0, 'Oakley Tropics B1B RC 18‚Äù Beach Short'), 11233: ('title wrong', 7351624302791.0, 'O‚ÄôNeill beach towel'), 11235: ('title wrong', 7350664462535.0, 'O‚ÄôNeill Headquarters T-shirt'), 11236: ('title wrong', 7350648635591.0, 'O‚ÄôNeill Lateral Tank'), 11252: ('title wrong', 7341909475527.0, 'Hurley Phantom Naturals Tailgate 18‚Äù'), 11253: ('title wrong', 7341381353671.0, 'Hurley Block Party 18‚Äù'), 11257: ('title wrong', 7340876529863.0, 'Hurley Phantom Sandbar 20‚Äù'), 11258: ('title wrong', 7340866240711.0, 'Hurley Phantom Naturals ll 20‚Äù'), 11260: ('title wrong', 7336771682503.0, 'O‚ÄôNeill Freeport Tank'), 11266: ('title wrong', 7334908231879.0, 'Body Glove Blacks Beach Vapor Short'), 11277: ('title wrong', 7319401136327.0, 'O‚ÄôNeill Smocked Short'), 11279: ('title wrong', 7318456762567.0, 'O‚ÄôNeill Palmlea Sun Hat'), 11280: ('title wrong', 7318441066695.0, 'Jack O‚ÄôNeill Shapers Shirt'), 11303: ('title wrong', 7308559319239.0, 'Jack O‚ÄôNeill Mahalo Shirt'), 11305: ('title wrong', 7308525764807.0, 'O‚ÄôNeill Fern Short'), 11306: ('title wrong', 7307013882055.0, 'O‚ÄôNeill Hyperfreak Solid'), 11309: ('title wrong', 7296575766727.0, 'Hurley Cannonball Volley 17‚Äù'), 11312: ('title wrong', 7296553746631.0, 'Hurley Phantom Cannonball Volley 17‚Äù'), 11313: ('title wrong', 7295510872263.0, 'Hurley Phantom Walkshort 20‚Äù'), 11314: ('title wrong', 7296540704967.0, 'Hurley Phamtom Exp Trek Apex 17.5‚Äù'), 11320: ('title wrong', 7295490228423.0, 'Hurley Phantom Zuma ll Volley 18‚Äù'), 11321: ('title wrong', 7295457755335.0, 'Hurley Phantom Weekender 20‚Äù'), 11346: ('title wrong', 7276113264839.0, 'O‚ÄôNeill Headquarters Tank'), 11347: ('title wrong', 7276086722759.0, 'O‚ÄôNeill traveler cossa staple'), 11349: ('title wrong', 7276056150215.0, 'O‚ÄôNeill Locked slub hybrid short'), 11391: ('title wrong', 7181995016391.0, 'Hurley Phantom Walk short 20‚Äù'), 11435: ('title wrong', 7106367652039.0, 'Body Glove Buck up Short'), 11441: ('title wrong', 7111749075143.0, 'O‚ÄôNeill Linnet Coverup'), 11464: ('title wrong', 6893391642823.0, 'O‚ÄôNeill Belizin coverup'), 11505: ('title wrong', 6957333643463.0, 'Hurley Phantom Walkshort 20‚Äù'), 11608: ('title wrong', 6859171528903.0, 'Cruzwear insulated mug'), 11609: ('title wrong', 6859113595079.0, 'O‚ÄôNeill beach bag with blue handle'), 24700: ('title wrong', 6153442001088.0, 'M√§dy Sun Hoops (Bronze)'), 24702: ('title wrong', 6079957565632.0, 'The M√§dy Sun Hoop Earrings'), 24705: ('title wrong', 6079938461888.0, 'The M√§dy Sun Necklace (White Copper)'), 24715: ('title wrong', 5847727276193.0, 'The M√§dy Sun Necklace (Bronze)'), 24720: ('title wrong', 5847053336737.0, 'The Lakshmi Necklace (Bronze)'), 24995: ('title wrong', 1373947789367.0, 'Black Onyx + Lava Mens Bracelet'), 25082: ('title wrong', 1875171835965.0, 'Kid‚Äôs Classic Tee - Heather Grey'), 22918: ('title wrong', 5226406903944.0, 'The Chaplin ‚Äì Single Malt'), 22919: ('title wrong', 5226406281352.0, 'The Gambler ‚Äì Single Malt'), 22920: ('title wrong', 5226405527688.0, 'The Dandy ‚Äì Single Malt'), 22921: ('title wrong', 5226403823752.0, 'The Sheriff ‚Äì Single Malt'), 25279: ('title wrong', 4351499436119.0, 'Accessory - Okanagan Lifestyle OKGN Snapback Hat'), 25510: ('title wrong', 6640184655959.0, 'Pants - Z Supply Go Getter Tie Dye Jogger'), 25521: ('title wrong', 4687666380887.0, 'Accessory - Okanagan Lifestyle 4 Icon Snapback Hat'), 25573: ('title wrong', 6600701280343.0, 'Top - Z Supply Washed V-Neck Modern Weekender'), 25640: ('title wrong', 6581759770711.0, 'Top - Crochet Lace Bralette With Removable Bra Pads'), 25779: ('title wrong', 4677359403095.0, 'Top - Premium Racer Back Tank Bodysuit'), 25788: ('title wrong', 4394664525911.0, 'Accessory - Brok Boys Scrunchies'), 25907: ('title wrong', 4358661177431.0, \"Footwear - Hunter Women's Original Short Insulated Snow Boots\"), 25969: ('title wrong', 1995003789399.0, 'Shorts - Silver Jeans Allan Men‚Äôs Distressed Denim Shorts'), 25971: ('title wrong', 1994978787415.0, 'Pants - Silver Jeans Men‚Äôs Taavi Distressed Denim Jeans'), 25972: ('title wrong', 1994967679063.0, 'Pants - Silver Jeans Taavi Men‚Äôs Indigo Denim Jeans'), 25999: ('title wrong', 1363309002839.0, 'Pants - Noppies Organic Kids Unisex Kannapolis Stripe Pants'), 26031: ('title wrong', 61263609883.0, 'Top - Solid Rolled Up Sleeve Long Cardigan With Pocket'), 26039: ('title wrong', 9727352722.0, 'Top - Solid V-Neck T-Shirt'), 26658: ('title wrong', 3962226901015.0, 'Missing Link Petite'), 26859: ('title wrong', 3494814449687.0, 'Fruit Punch Petite'), 26942: ('title wrong', 1463420649495.0, 'Season‚Äôs Greetings Scrunchie'), 27190: ('title wrong', 6851018522684.0, 'TOFINO TOWEL MAMAS FOR MAMAS CHARITY TOWEL ROSEWOOD'), 27812: ('title wrong', 4668353380412.0, 'PILGRIM CAPRICORN NECKLACE SILVER PLATED'), 28215: ('title wrong', 7453261103362.0, 'Men‚Äôs Erodym Short Sleeve Golf Polo UPF 50+'), 28323: ('title wrong', 7341418152194.0, \"Coolibar Women's Caf√© Ruche Pants UPF 50+\"), 28393: ('title wrong', 6587745894588.0, 'Coolibar Men‚Äôs Erodym Short Sleeve Golf/Tennis Polo UPF 50+')}\n"
     ]
    }
   ],
   "source": [
    "import re\n",
    "import unicodedata\n",
    "not_correct = {}\n",
    "id_not_correct = {}\n",
    "for row in range(df.shape[0]):\n",
    "    index = df.loc[row][\"index\"]\n",
    "    id = df.loc[row][\"id\"]\n",
    "    title = str(df.loc[row][\"title\"])\n",
    "    \n",
    "    title = re.sub(\"\\xa0\", \"\", title)\n",
    "    if not unicodedata.is_normalized(\"NFKD\", title):\n",
    "        print(id, \"not normalized\")\n",
    "        title = unicodedata.normalize(\"NFKD\", title)\n",
    "    \n",
    "    labelled_gender = df.loc[row][\"gender\"]\n",
    "    labelled_buckets_num = df.loc[row][\"buckets_num\"]\n",
    "    if (new_df.loc[new_df.index == index].id).item() == id:\n",
    "        if (new_df.loc[new_df.id == id].title).item() != title:\n",
    "            not_correct.update({index:(\"title wrong\", id, title)})\n",
    "        new_df.loc[index, \"buckets_num\"] = labelled_buckets_num\n",
    "    else:\n",
    "        id_not_correct.update({index:(\"id wrong\", row,id)})\n",
    "print(not_correct)"
   ]
  },
  {
   "cell_type": "code",
   "execution_count": 12,
   "metadata": {},
   "outputs": [
    {
     "name": "stdout",
     "output_type": "stream",
     "text": [
      "0\n"
     ]
    }
   ],
   "source": [
    "for k, v in not_correct.items():\n",
    "    if \"id wrong\" in v:\n",
    "        print(v)\n",
    "print(len(id_not_correct))"
   ]
  },
  {
   "cell_type": "code",
   "execution_count": 30,
   "metadata": {},
   "outputs": [
    {
     "data": {
      "text/plain": [
       "'women'"
      ]
     },
     "execution_count": 30,
     "metadata": {},
     "output_type": "execute_result"
    }
   ],
   "source": [
    "str(df.loc[31][\"gender\"]).replace"
   ]
  },
  {
   "cell_type": "code",
   "execution_count": 32,
   "metadata": {},
   "outputs": [
    {
     "data": {
      "text/plain": [
       "461    4960593772626\n",
       "Name: id, dtype: int64"
      ]
     },
     "execution_count": 32,
     "metadata": {},
     "output_type": "execute_result"
    }
   ],
   "source": [
    "(new_df[new_df.index == 461].id)"
   ]
  },
  {
   "cell_type": "code",
   "execution_count": 72,
   "metadata": {},
   "outputs": [
    {
     "data": {
      "text/plain": [
       "{'women': 15371,\n",
       " 'na': 2043,\n",
       " 'unisex': 2403,\n",
       " 'broken': 477,\n",
       " 'men': 6156,\n",
       " 'unknown': 43,\n",
       " 'girls': 224,\n",
       " 'unset': 591,\n",
       " 'boys': 288,\n",
       " 'unisex/unknown': 830}"
      ]
     },
     "execution_count": 72,
     "metadata": {},
     "output_type": "execute_result"
    }
   ],
   "source": [
    "stat = {}\n",
    "for row in range(new_df.shape[0]):\n",
    "    gender = new_df.loc[row][\"gender\"]\n",
    "    gender = gender.replace(\"\\xa0\", \"\")\n",
    "    if gender not in stat.keys():\n",
    "        stat.update({gender: 1})\n",
    "    else:\n",
    "        temp = stat.get(gender)\n",
    "        temp += 1\n",
    "        stat.update({gender: (temp)})\n",
    "stat"
   ]
  },
  {
   "cell_type": "code",
   "execution_count": 73,
   "metadata": {},
   "outputs": [
    {
     "data": {
      "text/plain": [
       "{'women': '54.07%',\n",
       " 'na': '7.19%',\n",
       " 'unisex': '8.45%',\n",
       " 'broken': '1.68%',\n",
       " 'men': '21.66%',\n",
       " 'unknown': '0.15%',\n",
       " 'girls': '0.79%',\n",
       " 'unset': '2.08%',\n",
       " 'boys': '1.01%',\n",
       " 'unisex/unknown': '2.92%'}"
      ]
     },
     "execution_count": 73,
     "metadata": {},
     "output_type": "execute_result"
    }
   ],
   "source": [
    "total = new_df.shape[0]\n",
    "for item in stat.keys():\n",
    "    temp = stat.get(item)\n",
    "    new_data = round ((temp * 100 / total), 2)\n",
    "    stat.update({item: (str(new_data) + \"%\")})\n",
    "stat\n"
   ]
  },
  {
   "cell_type": "code",
   "execution_count": 54,
   "metadata": {},
   "outputs": [],
   "source": [
    "new_df.to_csv(\"(V1.8)all_products_data_set.csv\", index=False)"
   ]
  }
 ],
 "metadata": {
  "kernelspec": {
   "display_name": "Python 3.9.12 ('tensorflow')",
   "language": "python",
   "name": "python3"
  },
  "language_info": {
   "codemirror_mode": {
    "name": "ipython",
    "version": 3
   },
   "file_extension": ".py",
   "mimetype": "text/x-python",
   "name": "python",
   "nbconvert_exporter": "python",
   "pygments_lexer": "ipython3",
   "version": "3.9.12"
  },
  "orig_nbformat": 4,
  "vscode": {
   "interpreter": {
    "hash": "08f33c96bfe48976e0772c3a4097c2fff4477ea59ec4556e2e8fa1251315c612"
   }
  }
 },
 "nbformat": 4,
 "nbformat_minor": 2
}
