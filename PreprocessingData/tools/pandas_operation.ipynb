{
 "cells": [
  {
   "cell_type": "code",
   "execution_count": 2,
   "metadata": {},
   "outputs": [],
   "source": [
    "import pandas as pd"
   ]
  },
  {
   "cell_type": "code",
   "execution_count": 7,
   "metadata": {},
   "outputs": [],
   "source": [
    "labels_description = {}\n",
    "\n",
    "df = pd.read_csv(\"./(V1.7)all_products_data_set.csv\")\n",
    "for row in range(df.shape[0]):\n",
    "    label_2 = df.loc[row][\"label_2nd\"]\n",
    "    production_description = df.loc[row][\"raw_text\"]\n",
    "    if pd.isna(label_2) or pd.isna(production_description):\n",
    "        continue\n",
    "    if label_2 not in labels_description.keys():\n",
    "        labels_description.update({label_2:set()})\n",
    "    if not pd.isna(production_description) and production_description.__contains__(\"match\"):\n",
    "        \n",
    "        labels_description.get(label_2).add(production_description)\n"
   ]
  },
  {
   "cell_type": "code",
   "execution_count": 10,
   "metadata": {},
   "outputs": [
    {
     "name": "stdout",
     "output_type": "stream",
     "text": [
      "Swimwear 89\n",
      "Jewelry 9\n",
      "Others 8\n",
      "Homeware 13\n",
      "Headwear 10\n",
      "Pants/Trousers 18\n",
      "Bag 11\n",
      "Dresses 6\n",
      "Lingerie 6\n",
      "Short 14\n",
      "Coats/Jackets 5\n",
      "Skirts 3\n",
      "Belt 1\n",
      "Sandal 1\n",
      "Glasses 11\n",
      "Skin Care 5\n",
      "Sweaters 9\n",
      "Shirts 27\n",
      "Scarf 6\n",
      "Sock 7\n",
      "Tank Tops 7\n",
      "Leggings 2\n",
      "Activewear 5\n",
      "Glove 1\n",
      "Scrunchie 7\n",
      "Wallet 8\n",
      "Watch 2\n",
      "Skateboard 9\n",
      "28\n"
     ]
    }
   ],
   "source": [
    "count_known = 0\n",
    "count_known_keys = []\n",
    "for key in labels_description.keys():\n",
    "    if len(labels_description.get(key)) > 0:\n",
    "        print(key, len(labels_description.get(key)))\n",
    "        count_known += 1\n",
    "        count_known_keys.append(key)\n",
    "print(count_known)  "
   ]
  },
  {
   "cell_type": "code",
   "execution_count": 3,
   "metadata": {},
   "outputs": [],
   "source": [
    "df_samples = pd.read_csv(\"/Users/luis/Downloads/products-June-28th.csv\", nrows=100)"
   ]
  },
  {
   "cell_type": "code",
   "execution_count": 3,
   "metadata": {},
   "outputs": [
    {
     "ename": "NameError",
     "evalue": "name 'df_samples' is not defined",
     "output_type": "error",
     "traceback": [
      "\u001b[0;31m---------------------------------------------------------------------------\u001b[0m",
      "\u001b[0;31mNameError\u001b[0m                                 Traceback (most recent call last)",
      "\u001b[1;32m/Users/luis/Documents/GitHub/AI-Oriented-Recommendation-System/PreprocessingData/tools/pandas_operation.ipynb Cell 5\u001b[0m in \u001b[0;36m<cell line: 1>\u001b[0;34m()\u001b[0m\n\u001b[0;32m----> <a href='vscode-notebook-cell:/Users/luis/Documents/GitHub/AI-Oriented-Recommendation-System/PreprocessingData/tools/pandas_operation.ipynb#W4sZmlsZQ%3D%3D?line=0'>1</a>\u001b[0m df_samples\u001b[39m.\u001b[39mto_csv(\u001b[39m\"\u001b[39m\u001b[39mtest_input.csv\u001b[39m\u001b[39m\"\u001b[39m, index\u001b[39m=\u001b[39m\u001b[39mFalse\u001b[39;00m)\n",
      "\u001b[0;31mNameError\u001b[0m: name 'df_samples' is not defined"
     ]
    }
   ],
   "source": [
    "df_samples.to_csv(\"test_input.csv\", index=False)"
   ]
  },
  {
   "cell_type": "code",
   "execution_count": 22,
   "metadata": {},
   "outputs": [],
   "source": [
    "df = pd.read_csv(\"../tools/(V1.7)all_products_data_set.csv\")"
   ]
  },
  {
   "cell_type": "code",
   "execution_count": 23,
   "metadata": {},
   "outputs": [
    {
     "data": {
      "text/plain": [
       "Index(['index', 'id', 'title', 'tags', 'images', 'gender', 'product_type',\n",
       "       'product_type(modified)', 'main_category', 'sub_category',\n",
       "       'match_most_similar_>80%_string', 'match_most_similar_>60%_string',\n",
       "       'label_1st', 'label_2nd', 'label_3rd', 'buckets_num', 'pattern_info',\n",
       "       'buckets', 'color_info', 'color_num', 'colors', 'url', 'raw_text'],\n",
       "      dtype='object')"
      ]
     },
     "execution_count": 23,
     "metadata": {},
     "output_type": "execute_result"
    }
   ],
   "source": [
    "df.columns"
   ]
  },
  {
   "cell_type": "code",
   "execution_count": 33,
   "metadata": {},
   "outputs": [],
   "source": [
    "colorname_to_hex = {}\n",
    "for row in range(df.shape[0]):\n",
    "    color_info = df.loc[row][\"color_info\"]\n",
    "    if color_info == \"\" or pd.isna(color_info):\n",
    "        continue\n",
    "    color_info_list = color_info.split(\",\")\n",
    "    for item in color_info_list:\n",
    "        c2h = item.split(\"(\")\n",
    "        color_name = c2h[0].lower().strip()\n",
    "        hex = c2h[1].removesuffix(\")\")\n",
    "        if color_name not in colorname_to_hex.keys():\n",
    "            colorname_to_hex.update({color_name:hex})\n",
    "\n",
    "    "
   ]
  },
  {
   "cell_type": "code",
   "execution_count": 37,
   "metadata": {},
   "outputs": [],
   "source": [
    "import json\n",
    "with open(\"json_files/colorsname_to_hex.json\", \"w\") as f1:\n",
    "    json.dump(colorname_to_hex, f1,indent=6)"
   ]
  },
  {
   "cell_type": "code",
   "execution_count": 21,
   "metadata": {},
   "outputs": [],
   "source": [
    "import requests\n",
    "from bs4 import BeautifulSoup\n",
    "def requery_func(colors_str):\n",
    "    res = set()\n",
    "    pattern = set()\n",
    "    if colors_str == \"\" or isinstance(colors_str, float):\n",
    "        return \"\", \"\"\n",
    "    colors_list = colors_str.split(\",\")\n",
    "    #print(row, colors_list)\n",
    "    for item in colors_list:\n",
    "        URL = \"https://colornames.org/search/results/?type=exact&query=\"\n",
    "        URL += item\n",
    "        try:\n",
    "            page = requests.get(URL)\n",
    "            soup = BeautifulSoup(page.content, \"html.parser\")\n",
    "            results = soup.find_all(\"a\", class_=\"button is-fullwidth freshButton\")\n",
    "            #the first result which has the highest vote\n",
    "            content = results[0].find(\"span\").text.strip()\n",
    "            res.add(content)\n",
    "        except:\n",
    "            pattern.add(item)\n",
    "    return \",\".join(res), \",\".join(pattern)\n"
   ]
  },
  {
   "cell_type": "code",
   "execution_count": 40,
   "metadata": {},
   "outputs": [
    {
     "data": {
      "text/plain": [
       "'Black Pink'"
      ]
     },
     "execution_count": 40,
     "metadata": {},
     "output_type": "execute_result"
    }
   ],
   "source": [
    "item = \"black pink\"\n",
    "colorname= \" \".join([e.capitalize() for e in item.split(\" \")])\n",
    "colorname"
   ]
  },
  {
   "cell_type": "code",
   "execution_count": null,
   "metadata": {},
   "outputs": [],
   "source": []
  }
 ],
 "metadata": {
  "kernelspec": {
   "display_name": "Python 3.9.12 ('tensorflow')",
   "language": "python",
   "name": "python3"
  },
  "language_info": {
   "codemirror_mode": {
    "name": "ipython",
    "version": 3
   },
   "file_extension": ".py",
   "mimetype": "text/x-python",
   "name": "python",
   "nbconvert_exporter": "python",
   "pygments_lexer": "ipython3",
   "version": "3.9.12"
  },
  "orig_nbformat": 4,
  "vscode": {
   "interpreter": {
    "hash": "08f33c96bfe48976e0772c3a4097c2fff4477ea59ec4556e2e8fa1251315c612"
   }
  }
 },
 "nbformat": 4,
 "nbformat_minor": 2
}
