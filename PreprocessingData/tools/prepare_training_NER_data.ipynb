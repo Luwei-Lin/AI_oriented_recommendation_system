{
 "cells": [
  {
   "cell_type": "markdown",
   "metadata": {},
   "source": [
    "## This note is for creating training sample for NER test."
   ]
  },
  {
   "cell_type": "code",
   "execution_count": 345,
   "metadata": {},
   "outputs": [],
   "source": [
    "import json\n",
    "f1 = open(\"product_to_all.json\")\n",
    "f2 = open(\"main_categories_to_num.json\")\n",
    "f3 = open(\"labels_v2.json\")\n",
    "#get dictionary {\"shoes\": list[all categories]}\n",
    "product_to_all = json.load(f1)\n",
    "main_cat_to_num = json.load(f2)\n",
    "original_labels_v2 = json.load(f3)"
   ]
  },
  {
   "cell_type": "markdown",
   "metadata": {},
   "source": [
    "#### 1. Creat entity rules for all entities."
   ]
  },
  {
   "cell_type": "code",
   "execution_count": 346,
   "metadata": {},
   "outputs": [],
   "source": [
    "patterns_words= set()\n",
    "with open(\"patterns_files/patterns_for_clothes.txt\") as pa:\n",
    "   patterns_words =  {l.lower().removesuffix('\\n') for l in pa.readlines()}"
   ]
  },
  {
   "cell_type": "code",
   "execution_count": 289,
   "metadata": {},
   "outputs": [],
   "source": [
    "colors_words = set()\n",
    "with open(\"patterns_files/colors.txt\") as colors_file:\n",
    "    colors_words = {c.lower().removesuffix('\\n') for c in colors_file.readlines()}\n",
    "for o in original_labels_v2.get('color'):\n",
    "    colors_words.add(o.lower().strip()) "
   ]
  },
  {
   "cell_type": "code",
   "execution_count": 341,
   "metadata": {},
   "outputs": [],
   "source": [
    "sizes_words = set()\n",
    "with open(\"patterns_files/sizes.txt\") as sizes_file:\n",
    "    sizes_words = {s.replace('\"', '').removesuffix(\",\\n\") for s in sizes_file.readlines()}"
   ]
  },
  {
   "cell_type": "code",
   "execution_count": null,
   "metadata": {},
   "outputs": [],
   "source": []
  },
  {
   "cell_type": "code",
   "execution_count": 348,
   "metadata": {},
   "outputs": [],
   "source": [
    "#list all known patterns we need to detect.\n",
    "shoes_words = product_to_all.get(\"shoes\")\n",
    "tops_words = product_to_all.get(\"tops\")\n",
    "bottoms_words = product_to_all.get(\"bottoms\")\n",
    "other_clothing_words = product_to_all.get(\"other_clothing\")\n",
    "beauty_words = product_to_all.get(\"beauty\")\n",
    "accessories_words = product_to_all.get(\"accessories\")\n",
    "homeware_words = product_to_all.get(\"homeware\")\n",
    "other_words = product_to_all.get(\"other\")\n",
    "\n",
    "genders_words = [o.lower().strip() for o in original_labels_v2.get(\"gender\")]\n",
    "main_cats_words = list(main_cat_to_num.keys())\n",
    "colors_words = list(colors_words)\n",
    "patterns_words = list(patterns_words)\n",
    "sizes_words = list(sizes_words)"
   ]
  },
  {
   "cell_type": "code",
   "execution_count": 349,
   "metadata": {},
   "outputs": [],
   "source": [
    "tops_pattern = [{'LOWER': {'in':tops_words}}]\n",
    "shoes_pattern = [{'LOWER': {'in':shoes_words}}]\n",
    "bottoms_pattern = [{'LOWER': {'in':bottoms_words}}]\n",
    "other_clothing_pattern = [{'LOWER':{'in': other_clothing_words}}]\n",
    "beauty_pattern =[{'LOWER': {'in': beauty_words}}]\n",
    "accessories_pattern = [{'LOWER': {'in': accessories_words}}]\n",
    "homeware_pattern = [{'LOWER' : {'in': homeware_words}}]\n",
    "other_pattern = [{'LOWER': {'in': other_words}}]\n",
    "\n",
    "genders_pattern = [{'LOWER': {'in': genders_words}}]\n",
    "main_cats_pattern = [{'LOWER': {'in': main_cats_words}}]\n",
    "colors_pattern = [{'LOWER': {'in': colors_words}}]\n",
    "patterns_pattern = [{'LOWER': {'in': patterns_words}}]\n",
    "sizes_pattern = [{'LOWER': {'in': sizes_words}}]\n"
   ]
  },
  {
   "cell_type": "code",
   "execution_count": 232,
   "metadata": {},
   "outputs": [],
   "source": [
    "#intergate all patterns in one patterns list\n",
    "all_patterns = []\n",
    "all_patterns.append(tops_pattern)\n",
    "all_patterns.append(shoes_pattern)\n",
    "all_patterns.append(bottoms_pattern)\n",
    "all_patterns.append(other_clothing_pattern)\n",
    "all_patterns.append(beauty_pattern)\n",
    "all_patterns.append(accessories_pattern)\n",
    "all_patterns.append(homeware_pattern)\n",
    "all_patterns.append(other_pattern)\n",
    "\n",
    "all_patterns.append(genders_pattern)\n",
    "all_patterns.append(main_cats_pattern)\n",
    "all_patterns.append(colors_pattern)\n",
    "all_patterns.append(patterns_pattern)\n",
    "all_patterns.append(sizes_pattern)"
   ]
  },
  {
   "cell_type": "code",
   "execution_count": 327,
   "metadata": {},
   "outputs": [],
   "source": [
    "import spacy\n",
    "from spacy.lang.en import English\n",
    "from spacy.pipeline import EntityRuler\n",
    "nlp = spacy.load(\"en_core_web_lg\")\n",
    "entity_rulers = nlp.add_pipe(\"entity_ruler\")\n"
   ]
  },
  {
   "cell_type": "code",
   "execution_count": 351,
   "metadata": {},
   "outputs": [
    {
     "data": {
      "text/plain": [
       "[{'LOWER': {'in': ['toile',\n",
       "    'coin dot pattern',\n",
       "    'half drop pattern',\n",
       "    'striped',\n",
       "    'celtic knot',\n",
       "    'hairline pattern',\n",
       "    'cheetah pattern',\n",
       "    'liberty style',\n",
       "    'foulard',\n",
       "    'four-way layout',\n",
       "    'crocodile pattern',\n",
       "    'fleur-de-lis',\n",
       "    \"bull's eye\",\n",
       "    'pin check',\n",
       "    'pinstriped ',\n",
       "    'pin stripe',\n",
       "    'allover pattern',\n",
       "    'shepherd check',\n",
       "    'retro',\n",
       "    'glen checks',\n",
       "    'lattice',\n",
       "    'stripes ',\n",
       "    'arabesque pattern',\n",
       "    'straight repeat',\n",
       "    'plaid ',\n",
       "    'madras plaid',\n",
       "    'geometric pattern',\n",
       "    'basket weave pattern',\n",
       "    'dress pattern',\n",
       "    'unbalanced stripes',\n",
       "    'argyle',\n",
       "    'plain',\n",
       "    'flame stitch',\n",
       "    'zig zag',\n",
       "    'ogee pattern',\n",
       "    'adaptation pattern',\n",
       "    \"shepherd's check\",\n",
       "    'snake pattern',\n",
       "    'herati',\n",
       "    'leopard',\n",
       "    'scroll pattern',\n",
       "    'hexagonal',\n",
       "    'two-way layout',\n",
       "    'benmore',\n",
       "    'gradation',\n",
       "    'undirectional pattern',\n",
       "    'christmas pattern',\n",
       "    'tessellations',\n",
       "    'designer',\n",
       "    'disty pattern',\n",
       "    'vintage',\n",
       "    'directional pattern',\n",
       "    'diagonal',\n",
       "    'wreath',\n",
       "    'madras pattern',\n",
       "    'metallese',\n",
       "    'jacobean',\n",
       "    'checkered',\n",
       "    'overall',\n",
       "    'swirl',\n",
       "    'floral ',\n",
       "    'camouflage',\n",
       "    'figurative',\n",
       "    'houndstooth',\n",
       "    'navajo',\n",
       "    'african pattern',\n",
       "    'abstract pattern',\n",
       "    'asymmetrical pattern',\n",
       "    \"dog's tooth\",\n",
       "    'mini-check',\n",
       "    'patrioric',\n",
       "    \"pheasant's eye\",\n",
       "    'bohemian',\n",
       "    'positive-negative',\n",
       "    'plaid',\n",
       "    'ikat',\n",
       "    'anthemion pattern',\n",
       "    'moire',\n",
       "    'hawaiian',\n",
       "    'paisley pattern',\n",
       "    'engineered',\n",
       "    'patterned ground',\n",
       "    'landscape',\n",
       "    'bayadere',\n",
       "    'palmette',\n",
       "    'animal pattern',\n",
       "    'medallion',\n",
       "    'pencil stripes',\n",
       "    'frieze',\n",
       "    'nursery',\n",
       "    'paisley',\n",
       "    'collage pattern',\n",
       "    'airbrush pattern',\n",
       "    'botanical',\n",
       "    'serpentine stripes',\n",
       "    'gingham',\n",
       "    'jacquard',\n",
       "    'aztec',\n",
       "    'mosaic',\n",
       "    'pincheck pattern',\n",
       "    'batik pattern',\n",
       "    'chinoiserie',\n",
       "    'drybrush',\n",
       "    'sateen repeat',\n",
       "    'straight across',\n",
       "    'irregular repeat',\n",
       "    'contour',\n",
       "    'chintz',\n",
       "    'herringbone pattern',\n",
       "    'striae',\n",
       "    'suzaani',\n",
       "    'egg and dart',\n",
       "    'brick',\n",
       "    'two color sysmmetries',\n",
       "    'oriental',\n",
       "    'polka dot',\n",
       "    'greek key',\n",
       "    'composite overlay',\n",
       "    'diaper pattern',\n",
       "    'ogee',\n",
       "    'tattersail',\n",
       "    \"lane's net\",\n",
       "    'illusion',\n",
       "    \"bird's eye\",\n",
       "    'neats',\n",
       "    'toil de juoy',\n",
       "    'harlequin',\n",
       "    'chinoserie',\n",
       "    'boteh',\n",
       "    'fleur de lis',\n",
       "    'network pattern',\n",
       "    'brocade',\n",
       "    'tribal',\n",
       "    'animal print',\n",
       "    'chequered checks',\n",
       "    'dotted swiss',\n",
       "    'logo',\n",
       "    'pinstrip ',\n",
       "    'geometric',\n",
       "    'two-directional pattern',\n",
       "    'fret',\n",
       "    'hounds tooth',\n",
       "    'seamless',\n",
       "    'roman',\n",
       "    'hairline stripe',\n",
       "    'eccentrics',\n",
       "    'kilm',\n",
       "    'vermicular',\n",
       "    'barcode pattern',\n",
       "    'roman stripes',\n",
       "    'interlocking',\n",
       "    'pet pattern',\n",
       "    'coral',\n",
       "    'conversational',\n",
       "    'serpentine pattern',\n",
       "    'tie-dyed',\n",
       "    'breton stripe',\n",
       "    'square repeat',\n",
       "    'regimental stripe',\n",
       "    'sketch ',\n",
       "    'basketweave',\n",
       "    'stipple pattern',\n",
       "    'herringbone',\n",
       "    'jaguar pattern',\n",
       "    'zebra',\n",
       "    'texture',\n",
       "    'sprig',\n",
       "    'pin dot',\n",
       "    'trellis',\n",
       "    'calico',\n",
       "    'district pattern',\n",
       "    'checked',\n",
       "    'chevron',\n",
       "    'art deco pattern',\n",
       "    'bead and reel',\n",
       "    'madras check',\n",
       "    'tracery',\n",
       "    'tossed',\n",
       "    'ombre pattern',\n",
       "    'cartouche',\n",
       "    'buffalo',\n",
       "    'polka dot pattern',\n",
       "    'everlasting knot',\n",
       "    'graphic pattern',\n",
       "    'water color',\n",
       "    'windowpane check',\n",
       "    'tartan',\n",
       "    'ditzy',\n",
       "    'regimental',\n",
       "    'art nouveau pattern',\n",
       "    'shadow stripe',\n",
       "    'dupplins check',\n",
       "    'naturalistic',\n",
       "    'trefoil',\n",
       "    'candy pattern',\n",
       "    'moroccan lattice',\n",
       "    'mini check',\n",
       "    'counterchange',\n",
       "    'natural pattern',\n",
       "    'diamond pattern',\n",
       "    'guilloche pattern',\n",
       "    'damask',\n",
       "    'regency stripes',\n",
       "    'composite repeat',\n",
       "    'graph check',\n",
       "    'plaid pattern',\n",
       "    'giraffe pattern',\n",
       "    'random pattern',\n",
       "    'awning',\n",
       "    'pop art pattern',\n",
       "    'scale',\n",
       "    'quatrefoil',\n",
       "    'spot repeat',\n",
       "    'bengal',\n",
       "    'digital pattern',\n",
       "    'chequered']}}]"
      ]
     },
     "execution_count": 351,
     "metadata": {},
     "output_type": "execute_result"
    }
   ],
   "source": [
    "patterns_pattern"
   ]
  },
  {
   "cell_type": "code",
   "execution_count": 350,
   "metadata": {},
   "outputs": [],
   "source": [
    "#product names\n",
    "'''\n",
    "entity_rulers.add_patterns([{'label':'TOPS', 'pattern': tops_pattern}])\n",
    "entity_rulers.add_patterns([{'label':'BOTTOMS', 'pattern': bottoms_pattern}])\n",
    "entity_rulers.add_patterns([{'label':'Other_CLOTHING', 'pattern': other_clothing_pattern}])\n",
    "entity_rulers.add_patterns([{'label':\"SHOES\", 'pattern': shoes_pattern}])\n",
    "entity_rulers.add_patterns([{'label':'HOMEWARE', 'pattern': homeware_pattern}])\n",
    "entity_rulers.add_patterns([{'label':'ACCESSORIES', 'pattern': accessories_pattern}])\n",
    "entity_rulers.add_patterns([{'label':'BEAUTY', 'pattern': beauty_pattern}])\n",
    "entity_rulers.add_patterns([{'label':'OTHER', 'pattern': other_pattern}])\n",
    "'''\n",
    "#product attributes\n",
    "entity_rulers.add_patterns([{'label':\"GENDER\", 'pattern': genders_pattern}])\n",
    "entity_rulers.add_patterns([{'label':\"MAIN_CATEGORIES\", 'pattern':main_cats_pattern}])\n",
    "entity_rulers.add_patterns([{'label':\"COLOR\", 'pattern':colors_pattern}])\n",
    "entity_rulers.add_patterns([{'label':\"PATTERN\", 'pattern':patterns_pattern}])\n",
    "entity_rulers.add_patterns([{'label':\"SIZE\", 'pattern':sizes_pattern}])"
   ]
  },
  {
   "cell_type": "code",
   "execution_count": 354,
   "metadata": {},
   "outputs": [],
   "source": [
    "entity_rulers.add_patterns([{\"label\": \"Gen\", \"pattern\": \"Black White\"}])"
   ]
  },
  {
   "cell_type": "code",
   "execution_count": 355,
   "metadata": {},
   "outputs": [
    {
     "data": {
      "text/plain": [
       "[('Men', 'GENDER'),\n",
       " ('black', 'COLOR'),\n",
       " ('white', 'COLOR'),\n",
       " ('plaid', 'PATTERN'),\n",
       " ('tops', 'MAIN_CATEGORIES')]"
      ]
     },
     "execution_count": 355,
     "metadata": {},
     "output_type": "execute_result"
    }
   ],
   "source": [
    "doc = nlp(\"I have a Men black white watch. Also I have a plaid tops. \")\n",
    "ents = [(ent.text, ent.label_) for ent in doc.ents]\n",
    "ents"
   ]
  },
  {
   "cell_type": "code",
   "execution_count": 236,
   "metadata": {},
   "outputs": [],
   "source": [
    "import pandas as pd\n",
    "df = pd.read_csv(\"(Current)cleaned_dataset_v1.csv\")"
   ]
  },
  {
   "cell_type": "code",
   "execution_count": 237,
   "metadata": {},
   "outputs": [],
   "source": [
    "import sys\n",
    "sys.path.append(\"/Users/luis/Documents/GitHub/2022Summer/AI-Oriented-Recommendation-System/PreprocessingData/\")\n",
    "from spaCy import entity_options as e"
   ]
  },
  {
   "cell_type": "code",
   "execution_count": 269,
   "metadata": {},
   "outputs": [
    {
     "data": {
      "text/html": [
       "<span class=\"tex2jax_ignore\"><div class=\"entities\" style=\"line-height: 2.5; direction: ltr\">After Midnight Mock Neck Top; 71722 Dolcezza F21 TOP. Style # 71722 - 03/08E5Very few pieces of clothing in your wardrobe will work as hard and look as effortlessly stylish as this Dolcezza top. The classic fit, long sleeves and mock neck are figure flattering and we adore the colourful art print. Style with your favourite joggers on a chilly day or pair with classic black pants and you’ll be sophisticated and comfortable at the office.Style: TopFit: StandardLength: HipMock neckLong sleevesStud details on sideMachine wash inside out in cold waterComposition: 96% Viscose, 4% Elastane</div></span>"
      ],
      "text/plain": [
       "<IPython.core.display.HTML object>"
      ]
     },
     "metadata": {},
     "output_type": "display_data"
    }
   ],
   "source": [
    "\n",
    "import random\n",
    "from spacy import displacy\n",
    "sample = df.loc[random.randint(0, df.shape[0]), \"raw_text\"]\n",
    "doc = nlp(sample)\n",
    "displacy.render(doc, style=\"ent\", options=e.get_entity_options())"
   ]
  },
  {
   "cell_type": "code",
   "execution_count": 272,
   "metadata": {},
   "outputs": [
    {
     "data": {
      "text/html": [
       "<span class=\"tex2jax_ignore\"><div class=\"entities\" style=\"line-height: 2.5; direction: ltr\">Men black</div></span>"
      ],
      "text/plain": [
       "<IPython.core.display.HTML object>"
      ]
     },
     "metadata": {},
     "output_type": "display_data"
    }
   ],
   "source": [
    "doc = nlp(\"Men black\")\n",
    "displacy.render(doc, style=\"ent\",options=e.get_entity_options())"
   ]
  }
 ],
 "metadata": {
  "kernelspec": {
   "display_name": "Python 3.9.12 ('tensorflow')",
   "language": "python",
   "name": "python3"
  },
  "language_info": {
   "codemirror_mode": {
    "name": "ipython",
    "version": 3
   },
   "file_extension": ".py",
   "mimetype": "text/x-python",
   "name": "python",
   "nbconvert_exporter": "python",
   "pygments_lexer": "ipython3",
   "version": "3.9.12"
  },
  "orig_nbformat": 4,
  "vscode": {
   "interpreter": {
    "hash": "08f33c96bfe48976e0772c3a4097c2fff4477ea59ec4556e2e8fa1251315c612"
   }
  }
 },
 "nbformat": 4,
 "nbformat_minor": 2
}
