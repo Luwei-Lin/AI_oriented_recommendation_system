{
 "cells": [
  {
   "cell_type": "markdown",
   "metadata": {
    "pycharm": {
     "name": "#%% md\n"
    }
   },
   "source": [
    "## This note is for creating training sample for NER test."
   ]
  },
  {
   "cell_type": "code",
   "execution_count": 76,
   "metadata": {
    "pycharm": {
     "name": "#%%\n"
    }
   },
   "outputs": [],
   "source": [
    "import random\n",
    "from spacy import displacy\n",
    "import spacy\n",
    "from spacy.lang.en import English\n",
    "from spacy.pipeline import EntityRuler\n",
    "from spacy.matcher import Matcher\n",
    "from text_cleaner import cleanHtml as html_cleaner\n",
    "from text_cleaner import raw_content\n",
    "import re\n",
    "import pandas as pd\n",
    "import sys\n",
    "import json\n",
    "import unicodedata\n",
    "from spacy.tokens import DocBin"
   ]
  },
  {
   "cell_type": "code",
   "execution_count": 77,
   "metadata": {
    "pycharm": {
     "name": "#%%\n"
    }
   },
   "outputs": [],
   "source": [
    "#Open Original files.\n",
    "f1 = open(\"json_files/product_to_all.json\")\n",
    "f2 = open(\"json_files/main_categories_to_num.json\")\n",
    "f3 = open(\"json_files/labels_v2.json\")\n",
    "#get dictionary {\"shoes\": list[all categories]}\n",
    "product_to_all = json.load(f1)\n",
    "main_cat_to_num = json.load(f2)\n",
    "original_labels_v2 = json.load(f3)"
   ]
  },
  {
   "cell_type": "markdown",
   "metadata": {
    "pycharm": {
     "name": "#%% md\n"
    }
   },
   "source": [
    "#### 1. Creat entity rules for all entities."
   ]
  },
  {
   "cell_type": "code",
   "execution_count": 78,
   "metadata": {
    "pycharm": {
     "name": "#%%\n"
    }
   },
   "outputs": [],
   "source": [
    "patterns_words = set()\n",
    "with open(\"patterns_files/patterns_for_clothes.txt\") as pa:\n",
    "   patterns_words =  {l.lower().removesuffix('\\n') for l in pa.readlines()}\n",
    "colors_words = set()\n",
    "with open(\"patterns_files/colors.txt\") as colors_file:\n",
    "   colors_words = {c.lower().removesuffix('\\n') for c in colors_file.readlines()}\n",
    "for o in original_labels_v2.get('color'):\n",
    "   colors_words.add(o.lower().strip()) \n",
    "sizes_words = set()\n",
    "with open(\"patterns_files/sizes.txt\") as sizes_file:\n",
    "   sizes_words = {s.replace('\"', '').removesuffix(\",\\n\").replace(\"\\n\",\"\") for s in sizes_file.readlines()}"
   ]
  },
  {
   "cell_type": "code",
   "execution_count": 79,
   "metadata": {
    "pycharm": {
     "name": "#%%\n"
    }
   },
   "outputs": [],
   "source": [
    "#list all known patterns we need to detect.\n",
    "\n",
    "shoes_words = product_to_all.get(\"shoes\")\n",
    "tops_words = product_to_all.get(\"tops\")\n",
    "bottoms_words = product_to_all.get(\"bottoms\")\n",
    "other_clothing_words = product_to_all.get(\"other_clothing\")\n",
    "beauty_words = product_to_all.get(\"beauty\")\n",
    "accessories_words = product_to_all.get(\"accessories\")\n",
    "homeware_words = product_to_all.get(\"homeware\")\n",
    "others_words = product_to_all.get(\"others\")\n",
    "\n",
    "shoes_words.append(\"shoes\")\n",
    "tops_words.append(\"tops\")\n",
    "bottoms_words.append(\"bottoms\")\n",
    "others_words.append(\"others\")\n",
    "beauty_words.append(\"beauty\")\n",
    "accessories_words.append(\"accessory\")\n",
    "homeware_words.append(\"home\")"
   ]
  },
  {
   "cell_type": "code",
   "execution_count": 80,
   "metadata": {
    "pycharm": {
     "name": "#%%\n"
    }
   },
   "outputs": [],
   "source": [
    "genders_words = [o.lower().strip() for o in original_labels_v2.get(\"gender\")]\n",
    "main_cats_words = list(main_cat_to_num.keys())\n",
    "colors_words = list(colors_words)\n",
    "patterns_words = list(patterns_words)\n",
    "sizes_words = list(sizes_words)"
   ]
  },
  {
   "cell_type": "code",
   "execution_count": 81,
   "metadata": {
    "pycharm": {
     "name": "#%%\n"
    }
   },
   "outputs": [
    {
     "data": {
      "text/plain": [
       "('ner', <spacy.pipeline.ner.EntityRecognizer at 0x2915e8dd0>)"
      ]
     },
     "execution_count": 81,
     "metadata": {},
     "output_type": "execute_result"
    }
   ],
   "source": [
    "nlp = spacy.load(\"en_core_web_lg\")\n",
    "entity_rulers = nlp.add_pipe(\"entity_ruler\", validate=True)\n",
    "nlp.remove_pipe(\"ner\")"
   ]
  },
  {
   "cell_type": "code",
   "execution_count": 82,
   "metadata": {
    "pycharm": {
     "name": "#%%\n"
    }
   },
   "outputs": [],
   "source": [
    "from typing import List\n",
    "'''\n",
    "input : the string of product_type like \"t-shirt\", \"tee shirt\"\n",
    "function: build pattern syntax correctly\n",
    "output: List[{\"LEMMA\": \"t\"}, {\"IS_PUNCT\": True}, {\"LEMMA\":\"shirt\"}] \n",
    "'''\n",
    "def check_puct(word: str)-> List:\n",
    "    res = []\n",
    "    if '-' in word:\n",
    "        temp_list = word.split(\"-\")\n",
    "        num = 1\n",
    "        for word in temp_list:\n",
    "            res.append({\"LEMMA\":word})\n",
    "            if num < len(temp_list):\n",
    "                res.append({\"IS_PUNCT\": True, \"OP\": \"?\"})\n",
    "            num += 1\n",
    "    else:\n",
    "        res.append({\"LEMMA\":word})\n",
    "    \n",
    "    return res "
   ]
  },
  {
   "cell_type": "code",
   "execution_count": 83,
   "metadata": {
    "pycharm": {
     "name": "#%%\n"
    }
   },
   "outputs": [],
   "source": [
    "'''\n",
    "input : the string of product_type like \"t-shirt\", \"tee shirt\"\n",
    "function: build pattern syntax correctly\n",
    "output: List[{\"LOWER\": \"t\"}, {\"IS_PUNCT\": True}, {\"LOWER\":\"shirt\"}] \n",
    "'''\n",
    "def check_puct_and_lower_pattern(word: str) ->List:\n",
    "    res = []\n",
    "    if '-' in word:\n",
    "        temp_list = word.split(\"-\")\n",
    "        num = 1\n",
    "        for word in temp_list:\n",
    "            res.append({\"LOWER\":word})\n",
    "            if num < len(temp_list):\n",
    "                res.append({\"IS_PUNCT\": True, \"OP\": \"?\"})\n",
    "            num += 1\n",
    "    else:\n",
    "        res.append({\"LOWER\":word})\n",
    "    \n",
    "    return res \n"
   ]
  },
  {
   "cell_type": "markdown",
   "metadata": {
    "pycharm": {
     "name": "#%% md\n"
    }
   },
   "source": [
    "#### Add Patterns to EntityRuler pipe."
   ]
  },
  {
   "cell_type": "code",
   "execution_count": 84,
   "metadata": {
    "pycharm": {
     "name": "#%%\n"
    }
   },
   "outputs": [],
   "source": [
    "tops_patterns = []\n",
    "tops_phrases_words = []\n",
    "tops_single_words = []\n",
    "for item in tops_words:\n",
    "    if len(item.split()) > 1:\n",
    "        tops_phrases_words.append(item)\n",
    "    else:\n",
    "        tops_single_words.append(item)\n",
    "for item in tops_phrases_words:\n",
    "    t = {\"label\": \"TOPS\", \"pattern\": [p for word in item.split() for p in check_puct(word)], \"id\": item}\n",
    "    tops_patterns.append(t)\n",
    "    \n",
    "for word in tops_single_words:\n",
    "    t = {\"label\": \"TOPS\", \"pattern\": [p for p in check_puct(word)], \"id\":word}\n",
    "    tops_patterns.append(t)\n",
    "\n",
    "for item in tops_phrases_words:\n",
    "    t = {\"label\": \"TOPS\", \"pattern\": [p for word in item.split() for p in check_puct_and_lower_pattern(word)], \"id\": item}\n",
    "    tops_patterns.append(t)\n",
    "    \n",
    "for word in tops_single_words:\n",
    "    t = {\"label\": \"TOPS\", \"pattern\": [p for p in check_puct_and_lower_pattern(word)], \"id\":word}\n",
    "    tops_patterns.append(t)\n",
    "    \n",
    "for item in tops_patterns:\n",
    "    try:\n",
    "        entity_rulers.add_patterns([item])\n",
    "    except ValueError:\n",
    "        print(item)"
   ]
  },
  {
   "cell_type": "code",
   "execution_count": 85,
   "metadata": {
    "pycharm": {
     "name": "#%%\n"
    }
   },
   "outputs": [],
   "source": [
    "shoes_patterns = []\n",
    "shoes_phrases_words = []\n",
    "shoes_single_words = []\n",
    "for item in shoes_words:\n",
    "    if len(item.split()) > 1:\n",
    "        shoes_phrases_words.append(item)\n",
    "    else:\n",
    "        shoes_single_words.append(item)\n",
    "for item in shoes_phrases_words:\n",
    "    t = {\"label\": \"SHOES\", \"pattern\": [p for word in item.split() for p in check_puct(word)], \"id\": item}\n",
    "    shoes_patterns.append(t)\n",
    "    \n",
    "for word in shoes_single_words:\n",
    "    t = {\"label\": \"SHOES\", \"pattern\": [p for p in check_puct(word)], \"id\": word}\n",
    "    shoes_patterns.append(t)\n",
    "\n",
    "for item in shoes_phrases_words:\n",
    "    t = {\"label\": \"SHOES\", \"pattern\": [p for word in item.split() for p in check_puct_and_lower_pattern(word)], \"id\": item}\n",
    "    shoes_patterns.append(t)\n",
    "    \n",
    "for word in shoes_single_words:\n",
    "    t = {\"label\": \"SHOES\", \"pattern\": [p for p in check_puct_and_lower_pattern(word)], \"id\": word}\n",
    "    shoes_patterns.append(t)\n",
    "    \n",
    "for item in shoes_patterns:\n",
    "    try:\n",
    "        entity_rulers.add_patterns([item])\n",
    "    except ValueError:\n",
    "        print(item)"
   ]
  },
  {
   "cell_type": "code",
   "execution_count": 86,
   "metadata": {
    "pycharm": {
     "name": "#%%\n"
    }
   },
   "outputs": [],
   "source": [
    "bottoms_patterns = []\n",
    "bottoms_phrases_words = []\n",
    "bottoms_single_words = []\n",
    "for item in bottoms_words:\n",
    "    if len(item.split()) > 1:\n",
    "        bottoms_phrases_words.append(item)\n",
    "    else:\n",
    "        bottoms_single_words.append(item)\n",
    "for item in bottoms_phrases_words:\n",
    "    t = {\"label\": \"BOTTOMS\", \"pattern\": [p for word in item.split() for p in check_puct(word)], \"id\": item}\n",
    "    bottoms_patterns.append(t)\n",
    "    \n",
    "for word in bottoms_single_words:\n",
    "    t = {\"label\": \"BOTTOMS\", \"pattern\": [p for p in check_puct(word)], \"id\": word}\n",
    "    bottoms_patterns.append(t)\n",
    "\n",
    "for item in bottoms_phrases_words:\n",
    "    t = {\"label\": \"BOTTOMS\", \"pattern\": [p for word in item.split() for p in check_puct_and_lower_pattern(word)], \"id\": item}\n",
    "    bottoms_patterns.append(t)\n",
    "    \n",
    "for word in bottoms_single_words:\n",
    "    t = {\"label\": \"BOTTOMS\", \"pattern\": [p for p in check_puct_and_lower_pattern(word)], \"id\": word}\n",
    "    bottoms_patterns.append(t)\n",
    "for item in bottoms_patterns:\n",
    "    try:\n",
    "        entity_rulers.add_patterns([item])\n",
    "    except ValueError:\n",
    "        print(item)"
   ]
  },
  {
   "cell_type": "code",
   "execution_count": 87,
   "metadata": {
    "pycharm": {
     "name": "#%%\n"
    }
   },
   "outputs": [],
   "source": [
    "other_clothing_patterns = []\n",
    "other_clothing_phrases_words = []\n",
    "other_clothing_single_words = []\n",
    "for item in other_clothing_words:\n",
    "    if len(item.split()) > 1:\n",
    "        other_clothing_phrases_words.append(item)\n",
    "    else:\n",
    "        other_clothing_single_words.append(item)\n",
    "for item in other_clothing_phrases_words:\n",
    "    t = {\"label\": \"OTHER_CLOTHING\", \"pattern\": [p for word in item.split() for p in check_puct(word)], \"id\": item}\n",
    "    other_clothing_patterns.append(t)\n",
    "    \n",
    "for word in other_clothing_single_words:\n",
    "    t = {\"label\": \"OTHER_CLOTHING\", \"pattern\": [p for p in check_puct(word)], \"id\": word}\n",
    "    other_clothing_patterns.append(t)\n",
    "    \n",
    "for item in other_clothing_phrases_words:\n",
    "    t = {\"label\": \"OTHER_CLOTHING\", \"pattern\": [p for word in item.split() for p in check_puct_and_lower_pattern(word)], \"id\": item}\n",
    "    other_clothing_patterns.append(t)\n",
    "    \n",
    "for word in other_clothing_single_words:\n",
    "    t = {\"label\": \"OTHER_CLOTHING\", \"pattern\": [p for p in check_puct_and_lower_pattern(word)], \"id\": word}\n",
    "    other_clothing_patterns.append(t)\n",
    "    \n",
    "for item in other_clothing_patterns:\n",
    "    try:\n",
    "        entity_rulers.add_patterns([item])\n",
    "    except ValueError:\n",
    "        print(item)"
   ]
  },
  {
   "cell_type": "code",
   "execution_count": 88,
   "metadata": {
    "pycharm": {
     "name": "#%%\n"
    }
   },
   "outputs": [],
   "source": [
    "beauty_patterns = []\n",
    "beauty_phrases_words = []\n",
    "beauty_single_words = []\n",
    "for item in beauty_words:\n",
    "    if len(item.split()) > 1:\n",
    "        beauty_phrases_words.append(item)\n",
    "    else:\n",
    "        beauty_single_words.append(item)\n",
    "for item in beauty_phrases_words:\n",
    "    t = {\"label\": \"BEAUTY\", \"pattern\": [p for word in item.split() for p in check_puct(word)], \"id\": item}\n",
    "    beauty_patterns.append(t)\n",
    "    \n",
    "for word in beauty_single_words:\n",
    "    t = {\"label\": \"BEAUTY\", \"pattern\": [p for p in check_puct(word)], \"id\": word}\n",
    "    beauty_patterns.append(t)\n",
    "for item in beauty_phrases_words:\n",
    "    t = {\"label\": \"BEAUTY\", \"pattern\": [p for word in item.split() for p in check_puct_and_lower_pattern(word)], \"id\": item}\n",
    "    beauty_patterns.append(t)\n",
    "    \n",
    "for word in beauty_single_words:\n",
    "    t = {\"label\": \"BEAUTY\", \"pattern\": [p for p in check_puct_and_lower_pattern(word)], \"id\": word}\n",
    "    beauty_patterns.append(t)\n",
    "    \n",
    "for item in beauty_patterns:\n",
    "    try:\n",
    "        entity_rulers.add_patterns([item])\n",
    "    except ValueError:\n",
    "        print(item)"
   ]
  },
  {
   "cell_type": "code",
   "execution_count": 89,
   "metadata": {
    "pycharm": {
     "name": "#%%\n"
    }
   },
   "outputs": [],
   "source": [
    "home_patterns = []\n",
    "home_phrases_words = []\n",
    "home_single_words = []\n",
    "for item in homeware_words:\n",
    "    if len(item.split()) > 1:\n",
    "        home_phrases_words.append(item)\n",
    "    else:\n",
    "        home_single_words.append(item)\n",
    "for item in home_phrases_words:\n",
    "    t = {\"label\": \"HOME\", \"pattern\": [p for word in item.split() for p in check_puct(word)], \"id\": item}\n",
    "    home_patterns.append(t)\n",
    "    \n",
    "for word in home_single_words:\n",
    "    t = {\"label\": \"HOME\", \"pattern\": [p for p in check_puct(word)], \"id\": word}\n",
    "    home_patterns.append(t)\n",
    "for item in home_phrases_words:\n",
    "    t = {\"label\": \"HOME\", \"pattern\": [p for word in item.split() for p in check_puct_and_lower_pattern(word)], \"id\": item}\n",
    "    home_patterns.append(t)\n",
    "    \n",
    "for word in home_single_words:\n",
    "    t = {\"label\": \"HOME\", \"pattern\": [p for p in check_puct_and_lower_pattern(word)], \"id\": word}\n",
    "    home_patterns.append(t)\n",
    "    \n",
    "for item in home_patterns:\n",
    "    try:\n",
    "        entity_rulers.add_patterns([item])\n",
    "    except ValueError:\n",
    "        print(item)"
   ]
  },
  {
   "cell_type": "code",
   "execution_count": 90,
   "metadata": {
    "pycharm": {
     "name": "#%%\n"
    }
   },
   "outputs": [],
   "source": [
    "accessories_patterns = []\n",
    "accessories_phrases_words = []\n",
    "accessories_single_words = []\n",
    "for item in accessories_words:\n",
    "    if len(item.split()) > 1:\n",
    "        accessories_phrases_words.append(item)\n",
    "    else:\n",
    "        accessories_single_words.append(item)\n",
    "for item in accessories_phrases_words:\n",
    "    t = {\"label\": \"ACCESSORIES\", \"pattern\": [p for word in item.split() for p in check_puct(word)], \"id\": item}\n",
    "    accessories_patterns.append(t)\n",
    "    \n",
    "for word in accessories_single_words:\n",
    "    t = {\"label\": \"ACCESSORIES\", \"pattern\": [p for p in check_puct(word)], \"id\": word}\n",
    "    accessories_patterns.append(t)\n",
    "for item in accessories_phrases_words:\n",
    "    t = {\"label\": \"ACCESSORIES\", \"pattern\": [p for word in item.split() for p in check_puct_and_lower_pattern(word)], \"id\": item+\"v2\"}\n",
    "    accessories_patterns.append(t)\n",
    "    \n",
    "for word in accessories_single_words:\n",
    "    t = {\"label\": \"ACCESSORIES\", \"pattern\": [p for p in check_puct_and_lower_pattern(word)], \"id\": word+\"v2\"}\n",
    "    accessories_patterns.append(t)\n",
    "    \n",
    "for item in accessories_patterns:\n",
    "    try:\n",
    "        entity_rulers.add_patterns([item])\n",
    "    except ValueError:\n",
    "        print(item)"
   ]
  },
  {
   "cell_type": "code",
   "execution_count": 91,
   "metadata": {
    "pycharm": {
     "name": "#%%\n"
    }
   },
   "outputs": [],
   "source": [
    "others_patterns = []\n",
    "others_phrases_words = []\n",
    "others_single_words = []\n",
    "for item in others_words:\n",
    "    if len(item.split()) > 1:\n",
    "        others_phrases_words.append(item)\n",
    "    else:\n",
    "        others_single_words.append(item)\n",
    "for item in others_phrases_words:\n",
    "    t = {\"label\": \"OTHERS\", \"pattern\": [p for word in item.split() for p in check_puct(word)], \"id\": item}\n",
    "    others_patterns.append(t)\n",
    "    \n",
    "for word in others_single_words:\n",
    "    t = {\"label\": \"OTHERS\", \"pattern\": [p for p in check_puct(word)], \"id\": word}\n",
    "    others_patterns.append(t)\n",
    "\n",
    "for item in others_phrases_words:\n",
    "    t = {\"label\": \"OTHERS\", \"pattern\": [p for word in item.split() for p in check_puct_and_lower_pattern(word)], \"id\": item+\"v2\"}\n",
    "    others_patterns.append(t)\n",
    "    \n",
    "for word in others_single_words:\n",
    "    t = {\"label\": \"OTHERS\", \"pattern\": [p for p in check_puct_and_lower_pattern(word)], \"id\": word+\"v2\"}\n",
    "    others_patterns.append(t)\n",
    "for item in others_patterns:\n",
    "    try:\n",
    "        entity_rulers.add_patterns([item])\n",
    "    except ValueError:\n",
    "        print(item)"
   ]
  },
  {
   "cell_type": "code",
   "execution_count": 92,
   "metadata": {
    "pycharm": {
     "name": "#%%\n"
    }
   },
   "outputs": [],
   "source": [
    "genders_patterns = []\n",
    "genders_phrases_words = []\n",
    "genders_single_words = []\n",
    "for item in genders_words:\n",
    "    if len(item.split()) > 1:\n",
    "        genders_phrases_words.append(item)\n",
    "    else:\n",
    "        genders_single_words.append(item)\n",
    "for item in genders_phrases_words:\n",
    "    t = {\"label\": \"GENDER\", \"pattern\": [p for word in item.split() for p in check_puct(word)], \"id\": item}\n",
    "    genders_patterns.append(t)\n",
    "    \n",
    "for word in genders_single_words:\n",
    "    t = {\"label\": \"GENDER\", \"pattern\": [p for p in check_puct(word)], \"id\": word}\n",
    "    genders_patterns.append(t)\n",
    "\n",
    "for item in genders_phrases_words:\n",
    "    t = {\"label\": \"GENDER\", \"pattern\": [p for word in item.split() for p in check_puct_and_lower_pattern(word)], \"id\": item}\n",
    "    genders_patterns.append(t)\n",
    "    \n",
    "for word in genders_single_words:\n",
    "    t = {\"label\": \"GENDER\", \"pattern\": [p for p in check_puct_and_lower_pattern(word)], \"id\": word}\n",
    "    genders_patterns.append(t)\n",
    "for item in genders_patterns:\n",
    "    try:\n",
    "        entity_rulers.add_patterns([item])\n",
    "    except ValueError:\n",
    "        print(item)"
   ]
  },
  {
   "cell_type": "code",
   "execution_count": 93,
   "metadata": {
    "pycharm": {
     "name": "#%%\n"
    }
   },
   "outputs": [],
   "source": [
    "patterns_patterns = []\n",
    "patterns_phrases_words = []\n",
    "patterns_single_words = []\n",
    "for item in patterns_words:\n",
    "    if len(item.split()) > 1:\n",
    "        patterns_phrases_words.append(item)\n",
    "    else:\n",
    "        patterns_single_words.append(item)\n",
    "for item in patterns_phrases_words:\n",
    "    t = {\"label\": \"PATTERN\", \"pattern\": [p for word in item.split() for p in check_puct(word)], \"id\": item}\n",
    "    patterns_patterns.append(t)\n",
    "    \n",
    "for word in patterns_single_words:\n",
    "    t = {\"label\": \"PATTERN\", \"pattern\": [p for p in check_puct(word)], \"id\": word}\n",
    "    patterns_patterns.append(t)\n",
    "    \n",
    "for item in patterns_phrases_words:\n",
    "    t = {\"label\": \"PATTERN\", \"pattern\": [p for word in item.split() for p in check_puct_and_lower_pattern(word)], \"id\": item+\"v2\"}\n",
    "    patterns_patterns.append(t)\n",
    "    \n",
    "for word in patterns_single_words:\n",
    "    t = {\"label\": \"PATTERN\", \"pattern\": [p for p in check_puct_and_lower_pattern(word)], \"id\": word+\"v2\"}\n",
    "    patterns_patterns.append(t)\n",
    "    \n",
    "for item in patterns_patterns:\n",
    "    try:\n",
    "        entity_rulers.add_patterns([item])\n",
    "    except ValueError:\n",
    "        print(item)"
   ]
  },
  {
   "cell_type": "code",
   "execution_count": 94,
   "metadata": {
    "pycharm": {
     "name": "#%%\n"
    }
   },
   "outputs": [],
   "source": [
    "colors_patterns = []\n",
    "colors_phrases_words = []\n",
    "colors_single_words = []\n",
    "for item in colors_words:\n",
    "    if len(item.split()) > 1:\n",
    "        colors_phrases_words.append(item)\n",
    "    else:\n",
    "        colors_single_words.append(item)\n",
    "for item in colors_phrases_words:\n",
    "    t = {\"label\": \"COLOR\", \"pattern\": [p for word in item.split() for p in check_puct(word)], \"id\": item}\n",
    "    colors_patterns.append(t)\n",
    "    \n",
    "for word in colors_single_words:\n",
    "    t = {\"label\": \"COLOR\", \"pattern\": [p for p in check_puct(word)], \"id\": word}\n",
    "    \n",
    "    colors_patterns.append(t)\n",
    "\n",
    "for item in colors_phrases_words:\n",
    "    t = {\"label\": \"COLOR\", \"pattern\": [p for word in item.split() for p in check_puct_and_lower_pattern(word)], \"id\": item}\n",
    "    colors_patterns.append(t)\n",
    "    \n",
    "for word in colors_single_words:\n",
    "    t = {\"label\": \"COLOR\", \"pattern\": [p for p in check_puct_and_lower_pattern(word)], \"id\": word}\n",
    "    colors_patterns.append(t)\n",
    "for item in colors_patterns:\n",
    "    try:\n",
    "        entity_rulers.add_patterns([item])\n",
    "    except ValueError:\n",
    "        print(item)"
   ]
  },
  {
   "cell_type": "code",
   "execution_count": 95,
   "metadata": {
    "pycharm": {
     "name": "#%%\n"
    }
   },
   "outputs": [],
   "source": [
    "sizes_patterns = []\n",
    "#only s, m, l, large, small, medium describe size word can be added to sizes_word\n",
    "for word in sizes_words:\n",
    "    if word in ['S', 'M', 'L']: \n",
    "        t = {\"label\":\"SIZE\",\"pattern\":word, \"id\":word}\n",
    "    else:\n",
    "        t = {\"label\":\"SIZE\",\"pattern\":[{\"LOWER\": word}], \"id\":word}\n",
    "    sizes_patterns.append(t)\n",
    "#regex_expression = r\"(\\d+(?:\\.|\\/|)\\d+|\\d+) ?(?:\\-|x) ?(\\d+(?:\\.|\\/|)\\d+|\\d+) ?(?:mm|MM|cm|CM|[Ii]nches|in|\\\"|)|(\\d+(?:\\.|\\'|/|)\\d+ ?(?:cm|CM|mm|MM|[Ii]nches|inch|in|\\\"))|(\\d*(?:X{1,3}[SL])(?:$|\\s+))|(?:[Ss]ize) ?\\d+(?:\\.|\\/|\\d+)\"\n",
    "#regex_expression_1 = r\"(\\d*(?:X{1,3}[SL])(?:$|\\s+))\"\n",
    "#regex_expression_2 = r\"(\\d+(?:\\.|\\'|/|)\\d+ ?(?:cm|CM|mm|MM|[Ii]nches|inch|in|)\"\n",
    "#regex_expression_3 = r\"(?:cm|CM|mm|MM|[Ii]nches|inch|in)\"\n",
    "#p1 = [{\"TEXT\": {\"REGEX\": regex_expression_1}}]\n",
    "#p2 = [{\"TEXT\": {\"REGEX\": regex_expression_2}}]\n",
    "#p3 = [{\"TEXT\": {'REGEX': regex_expression_3}}]\n",
    "\n",
    "#sizes_patterns.append({\"label\":\"SIZE\", \"pattern\":p1, \"id\": \"number size\"})\n",
    "#sizes_patterns.append({\"label\":\"SIZE\", \"pattern\":p3})\n",
    "#sizes_patterns.append({\"label\":\"SIZE\", \"pattern\":[ [{\"ORTH\":\"size\"}, {\"ORTH\": \":\", \"OP\": \"?\"}, {{\"TEXT\":  {\"REGEX\": r\"\\d+(?:\\.|\\/|)\\d+|\\d+) ?(?:\\-|x) ?(\\d+(?:\\.|\\/|)\\d+|\\d+) ?(?:mm|MM|cm|CM|[Ii]nches|in|\\\"|\"}}} ]]})\n",
    "\n",
    "for item in sizes_patterns:\n",
    "    try:\n",
    "        entity_rulers.add_patterns([item])\n",
    "    except:\n",
    "        print(item)\n",
    "\n",
    "    "
   ]
  },
  {
   "cell_type": "code",
   "execution_count": 96,
   "metadata": {
    "pycharm": {
     "name": "#%%\n"
    }
   },
   "outputs": [],
   "source": [
    "df = pd.read_csv(\"/Users/luis/Documents/GitHub/2022Summer/AI-Oriented-Recommendation-System/PreprocessingData/data/(V1.5)all_products_data_set.csv\")\n",
    "#THIS entity_options is the file to create the color for label. We can ignore this if we don't want entity colorful just igonre this .py file.\n",
    "sys.path.append(\"/Users/luis/Documents/GitHub/2022Summer/AI-Oriented-Recommendation-System/PreprocessingData/\")\n",
    "from spaCy import entity_options as e"
   ]
  },
  {
   "cell_type": "code",
   "execution_count": 98,
   "metadata": {
    "pycharm": {
     "name": "#%%\n"
    }
   },
   "outputs": [
    {
     "data": {
      "text/html": [
       "<span class=\"tex2jax_ignore\"><div class=\"entities\" style=\"line-height: 2.5; direction: ltr\">An effortlessly elegant look with subtle \n",
       "<mark class=\"entity\" style=\"background: #AED6F1; padding: 0.45em 0.6em; margin: 0 0.25em; line-height: 1; border-radius: 0.35em;\">\n",
       "    tan\n",
       "    <span style=\"font-size: 0.8em; font-weight: bold; line-height: 1; border-radius: 0.35em; vertical-align: middle; margin-left: 0.5rem\">COLOR</span>\n",
       "</mark>\n",
       " lines is some of the things Flash will give you. With its \n",
       "<mark class=\"entity\" style=\"background: #82E0AA; padding: 0.45em 0.6em; margin: 0 0.25em; line-height: 1; border-radius: 0.35em;\">\n",
       "    sliding\n",
       "    <span style=\"font-size: 0.8em; font-weight: bold; line-height: 1; border-radius: 0.35em; vertical-align: middle; margin-left: 0.5rem\">SHOES</span>\n",
       "</mark>\n",
       " sides and the low rise of this \n",
       "<mark class=\"entity\" style=\"background: #DAF7A6; padding: 0.45em 0.6em; margin: 0 0.25em; line-height: 1; border-radius: 0.35em;\">\n",
       "    bikini bottom\n",
       "    <span style=\"font-size: 0.8em; font-weight: bold; line-height: 1; border-radius: 0.35em; vertical-align: middle; margin-left: 0.5rem\">OTHER_CLOTHING</span>\n",
       "</mark>\n",
       ", you will feel comfortable while feeling glamorous and chic. Garment Features: This is a REVERSIBLE piece, turn it inside out for another look Low rise Sliding sides Guaranteed reverse print Cheeky coverage Thin side Polyester - Spandex Textured fabric Made in Colombia 93% Polyester 7% Spandex All \n",
       "<mark class=\"entity\" style=\"background: #DAF7A6; padding: 0.45em 0.6em; margin: 0 0.25em; line-height: 1; border-radius: 0.35em;\">\n",
       "    swimwear\n",
       "    <span style=\"font-size: 0.8em; font-weight: bold; line-height: 1; border-radius: 0.35em; vertical-align: middle; margin-left: 0.5rem\">OTHER_CLOTHING</span>\n",
       "</mark>\n",
       " sales are final due to health regulations.</div></span>"
      ],
      "text/plain": [
       "<IPython.core.display.HTML object>"
      ]
     },
     "metadata": {},
     "output_type": "display_data"
    }
   ],
   "source": [
    "#Randomly choose from original texts and test our patterns rules.\n",
    "sample = df.loc[random.randint(0, df.shape[0]), \"raw_text\"]\n",
    "if isinstance(sample, str):\n",
    "    doc = nlp(sample)\n",
    "    displacy.render(doc, style=\"ent\", options=e.get_entity_options())\n",
    "\n"
   ]
  },
  {
   "cell_type": "code",
   "execution_count": 99,
   "metadata": {
    "pycharm": {
     "name": "#%%\n"
    }
   },
   "outputs": [
    {
     "data": {
      "text/html": [
       "<span class=\"tex2jax_ignore\"><div class=\"entities\" style=\"line-height: 2.5; direction: ltr\">I have a \n",
       "<mark class=\"entity\" style=\"background: #76D7C4; padding: 0.45em 0.6em; margin: 0 0.25em; line-height: 1; border-radius: 0.35em;\">\n",
       "    Men\n",
       "    <span style=\"font-size: 0.8em; font-weight: bold; line-height: 1; border-radius: 0.35em; vertical-align: middle; margin-left: 0.5rem\">GENDER</span>\n",
       "</mark>\n",
       " \n",
       "<mark class=\"entity\" style=\"background: #AED6F1; padding: 0.45em 0.6em; margin: 0 0.25em; line-height: 1; border-radius: 0.35em;\">\n",
       "    Black\n",
       "    <span style=\"font-size: 0.8em; font-weight: bold; line-height: 1; border-radius: 0.35em; vertical-align: middle; margin-left: 0.5rem\">COLOR</span>\n",
       "</mark>\n",
       "/\n",
       "<mark class=\"entity\" style=\"background: #AED6F1; padding: 0.45em 0.6em; margin: 0 0.25em; line-height: 1; border-radius: 0.35em;\">\n",
       "    black\n",
       "    <span style=\"font-size: 0.8em; font-weight: bold; line-height: 1; border-radius: 0.35em; vertical-align: middle; margin-left: 0.5rem\">COLOR</span>\n",
       "</mark>\n",
       " \n",
       "<mark class=\"entity\" style=\"background: #AED6F1; padding: 0.45em 0.6em; margin: 0 0.25em; line-height: 1; border-radius: 0.35em;\">\n",
       "    WHITE\n",
       "    <span style=\"font-size: 0.8em; font-weight: bold; line-height: 1; border-radius: 0.35em; vertical-align: middle; margin-left: 0.5rem\">COLOR</span>\n",
       "</mark>\n",
       " \n",
       "<mark class=\"entity\" style=\"background: #AED6F1; padding: 0.45em 0.6em; margin: 0 0.25em; line-height: 1; border-radius: 0.35em;\">\n",
       "    white\n",
       "    <span style=\"font-size: 0.8em; font-weight: bold; line-height: 1; border-radius: 0.35em; vertical-align: middle; margin-left: 0.5rem\">COLOR</span>\n",
       "</mark>\n",
       " \n",
       "<mark class=\"entity\" style=\"background: #D2B4DE; padding: 0.45em 0.6em; margin: 0 0.25em; line-height: 1; border-radius: 0.35em;\">\n",
       "    watch\n",
       "    <span style=\"font-size: 0.8em; font-weight: bold; line-height: 1; border-radius: 0.35em; vertical-align: middle; margin-left: 0.5rem\">ACCESSORIES</span>\n",
       "</mark>\n",
       " and a lot of \n",
       "<mark class=\"entity\" style=\"background: #AED6F1; padding: 0.45em 0.6em; margin: 0 0.25em; line-height: 1; border-radius: 0.35em;\">\n",
       "    pink\n",
       "    <span style=\"font-size: 0.8em; font-weight: bold; line-height: 1; border-radius: 0.35em; vertical-align: middle; margin-left: 0.5rem\">COLOR</span>\n",
       "</mark>\n",
       " \n",
       "<mark class=\"entity\" style=\"background: #D2B4DE; padding: 0.45em 0.6em; margin: 0 0.25em; line-height: 1; border-radius: 0.35em;\">\n",
       "    watches\n",
       "    <span style=\"font-size: 0.8em; font-weight: bold; line-height: 1; border-radius: 0.35em; vertical-align: middle; margin-left: 0.5rem\">ACCESSORIES</span>\n",
       "</mark>\n",
       ". Also I have a \n",
       "<mark class=\"entity\" style=\"background: #581845; padding: 0.45em 0.6em; margin: 0 0.25em; line-height: 1; border-radius: 0.35em;\">\n",
       "    S\n",
       "    <span style=\"font-size: 0.8em; font-weight: bold; line-height: 1; border-radius: 0.35em; vertical-align: middle; margin-left: 0.5rem\">SIZE</span>\n",
       "</mark>\n",
       " \n",
       "<mark class=\"entity\" style=\"background: #C70039; padding: 0.45em 0.6em; margin: 0 0.25em; line-height: 1; border-radius: 0.35em;\">\n",
       "    zebra\n",
       "    <span style=\"font-size: 0.8em; font-weight: bold; line-height: 1; border-radius: 0.35em; vertical-align: middle; margin-left: 0.5rem\">PATTERN</span>\n",
       "</mark>\n",
       " \n",
       "<mark class=\"entity\" style=\"background: #C70039; padding: 0.45em 0.6em; margin: 0 0.25em; line-height: 1; border-radius: 0.35em;\">\n",
       "    plaid\n",
       "    <span style=\"font-size: 0.8em; font-weight: bold; line-height: 1; border-radius: 0.35em; vertical-align: middle; margin-left: 0.5rem\">PATTERN</span>\n",
       "</mark>\n",
       " top \n",
       "<mark class=\"entity\" style=\"background: #F9E79F; padding: 0.45em 0.6em; margin: 0 0.25em; line-height: 1; border-radius: 0.35em;\">\n",
       "    tops\n",
       "    <span style=\"font-size: 0.8em; font-weight: bold; line-height: 1; border-radius: 0.35em; vertical-align: middle; margin-left: 0.5rem\">TOPS</span>\n",
       "</mark>\n",
       ". This size XXL \n",
       "<mark class=\"entity\" style=\"background: #F9E79F; padding: 0.45em 0.6em; margin: 0 0.25em; line-height: 1; border-radius: 0.35em;\">\n",
       "    T-shirt\n",
       "    <span style=\"font-size: 0.8em; font-weight: bold; line-height: 1; border-radius: 0.35em; vertical-align: middle; margin-left: 0.5rem\">TOPS</span>\n",
       "</mark>\n",
       " is amazing. \n",
       "<mark class=\"entity\" style=\"background: #82E0AA; padding: 0.45em 0.6em; margin: 0 0.25em; line-height: 1; border-radius: 0.35em;\">\n",
       "    Clogs\n",
       "    <span style=\"font-size: 0.8em; font-weight: bold; line-height: 1; border-radius: 0.35em; vertical-align: middle; margin-left: 0.5rem\">SHOES</span>\n",
       "</mark>\n",
       " are good.    \n",
       "<mark class=\"entity\" style=\"background: #D2B4DE; padding: 0.45em 0.6em; margin: 0 0.25em; line-height: 1; border-radius: 0.35em;\">\n",
       "    Earrings\n",
       "    <span style=\"font-size: 0.8em; font-weight: bold; line-height: 1; border-radius: 0.35em; vertical-align: middle; margin-left: 0.5rem\">ACCESSORIES</span>\n",
       "</mark>\n",
       ", earing and earring are different. \n",
       "<mark class=\"entity\" style=\"background: #DAF7A6; padding: 0.45em 0.6em; margin: 0 0.25em; line-height: 1; border-radius: 0.35em;\">\n",
       "    Bikini top\n",
       "    <span style=\"font-size: 0.8em; font-weight: bold; line-height: 1; border-radius: 0.35em; vertical-align: middle; margin-left: 0.5rem\">OTHER_CLOTHING</span>\n",
       "</mark>\n",
       ". This \n",
       "<mark class=\"entity\" style=\"background: #DAF7A6; padding: 0.45em 0.6em; margin: 0 0.25em; line-height: 1; border-radius: 0.35em;\">\n",
       "    jumpsuits\n",
       "    <span style=\"font-size: 0.8em; font-weight: bold; line-height: 1; border-radius: 0.35em; vertical-align: middle; margin-left: 0.5rem\">OTHER_CLOTHING</span>\n",
       "</mark>\n",
       " size is 3XL which is size 24 - 25mm. cotton is 100%  the Size is 23 x 23 cm. What is 21 CM 5.54  </div></span>"
      ],
      "text/plain": [
       "<IPython.core.display.HTML object>"
      ]
     },
     "metadata": {},
     "output_type": "display_data"
    },
    {
     "name": "stdout",
     "output_type": "stream",
     "text": [
      "9 12 Men GENDER\n",
      "13 18 Black COLOR\n",
      "19 24 black COLOR\n",
      "25 30 WHITE COLOR\n",
      "31 36 white COLOR\n",
      "37 42 watch ACCESSORIES\n",
      "56 60 pink COLOR\n",
      "61 68 watches ACCESSORIES\n",
      "84 85 S SIZE\n",
      "86 91 zebra PATTERN\n",
      "92 97 plaid PATTERN\n",
      "102 106 tops TOPS\n",
      "122 129 T-shirt TOPS\n",
      "142 147 Clogs SHOES\n",
      "161 169 Earrings ACCESSORIES\n",
      "205 215 Bikini top OTHER_CLOTHING\n",
      "222 231 jumpsuits OTHER_CLOTHING\n"
     ]
    }
   ],
   "source": [
    "#This scope is FOR DEBUGGING the pattern functionality.\n",
    "example2 = \"I have a Men Black/black WHITE white watch and a lot of pink watches. Also I have a S zebra plaid top tops. This size XXL T-shirt is amazing. Clogs are good.\\\n",
    "    Earrings, earing and earring are different. Bikini top. This jumpsuits size is 3XL which is size 24 - 25mm. cotton is 100%  the Size is 23 x 23 cm. What is 21 CM 5.54  \"\n",
    "\n",
    "doc = nlp(example2)\n",
    "#displacy.render(doc, style=\"ent\",options=e.get_entity_options())\n",
    "ents = [(ent.text, ent.label_) for ent in doc.ents]\n",
    "displacy.render(doc, style=\"ent\", options=e.get_entity_options())\n",
    "\n",
    "for ent in doc.ents:\n",
    "    print(ent.start_char, ent.end_char, ent.text, ent.label_)\n",
    "    "
   ]
  },
  {
   "cell_type": "code",
   "execution_count": 100,
   "metadata": {
    "pycharm": {
     "name": "#%%\n"
    }
   },
   "outputs": [],
   "source": [
    "#matcher = Matcher(nlp.vocab, validate=True)\n",
    "#sizes_pattern = [{\"LABEL\": \"SIZE\", \"PATTERN\": [ {\"TEXT\": {\"REGEX\": \"(\\d*(?:M|X{0,2}[SL]))\"}} ]}]\n",
    "#entity_rulers.add_patterns(sizes_pattern)\n",
    "\n",
    "#regex_string = r\"(\\d+(?:\\.|\\/|)\\d+|\\d+) ?(?:\\-|x) ?(\\d+(?:\\.|\\/|)\\d+|\\d+) ?(?:mm|MM|cm|CM|[Ii]nches|in|\\\"|)|(\\d+(?:\\.|\\'|\\/|)\\d* ?(?:\\%|cm|CM|mm|MM|[Ii]nches|inch|in|\\\"))|(\\d*(?:X{1,3}[SL])(?:$|\\s+))|\\d+(?:\\.|\\/|\\d+)\"\n",
    "#matches = regex.findall(regex_string, size_text, overlapped=True)\n",
    "#m = set([m for m in matches])\n",
    "#matches2 = re.findall(regex_string, size_text)\n",
    "#m2 = set([m for m in matches2])   \n",
    "#print(len(m), len(m2), m.difference(m2))\n",
    "#p = re.compile(r\"(\\d+(?:\\.|\\/|)\\d+|\\d+) ?(?:\\-|x) ?(\\d+(?:\\.|\\/|)\\d+|\\d+) ?(?:mm|MM|cm|CM|[Ii]nches|in|\\\"|)|(\\d+(?:\\.|\\'|\\/|)\\d+ ?(?:\\%|cm|CM|mm|MM|[Ii]nches|inch|in|\\\"))|(\\d*(?:X{1,3}[SL])(?:$|\\s+))|\\d+(?:\\.|\\/|\\d+) ?\\d+\")\n",
    "\n",
    "\n",
    "#regex_string = r\"(\\d+(?:\\.|\\/|)\\d+|\\d+) ?(?:\\-|x) ?(\\d+(?:\\.|\\/|)\\d+|\\d+) ?(?:mm|MM|cm|CM|[Ii]nches|in|\\\"|)|(\\d+(?:\\.|\\'|\\/|)\\d+ ?(?:\\%|cm|CM|mm|MM|[Ii]nches|inch|in|\\\"))|(\\d*(?:X{1,3}[SL])(?:$|\\s+))|\\d+(?:\\.|\\/|\\d+) ?\\d+\"\n",
    "#size_text = \"I have a Men Black/black WHITE white watch and a lot of pink watches. Also I have a zebra plaid top tops. This size XXL T-shirt is amazing. Clogs are good.\\\n",
    "#    Earrings, earing and earring are different. Bikini top. This jumpsuits size is 3XL which is size 24 - 25mm. cotton is 100%  the Size is 23 x 23 cm. What is 21 CM 5.54 \"\n",
    "\n",
    "#matches3 = re.finditer(regex_string, example2)\n",
    "#for match in matches3:\n",
    "#    print(\"[({start_char}, {end_char}, '{ENT}')]\".format(start_char = match.span()[0], end_char = match.span()[1], ENT = \"SIZE\"))\n",
    "#'''"
   ]
  },
  {
   "cell_type": "code",
   "execution_count": 56,
   "metadata": {
    "pycharm": {
     "name": "#%%\n"
    }
   },
   "outputs": [],
   "source": [
    "\n",
    "# coding=utf8\n",
    "# the above tag defines encoding for this document and is for Python 2.x compatibility\n",
    "\n",
    "\n",
    "#regex_string = r\"(\\d+(?:\\.|\\/|)\\d+|\\d+) ?(?:\\-|x) ?(\\d+(?:\\.|\\/|)\\d+|\\d+) ?(?:mm|MM|cm|CM|[Ii]nches|in|\\\"|)|(\\d+(?:\\.|\\'|\\/|)\\d+ ?(?:\\%|cm|CM|mm|MM|[Ii]nches|inch|in|\\\"))|(\\d*(?:X{1,3}[SL])(?:$|\\s+))|\\d+(?:\\.|\\/|\\d+) ?\\d+\"\n",
    "\n",
    "#test_str = \"3XL I have a Men GENDER Black 3.33 cm COLOR / black COLOR WHITE COLOR white COLOR watch and a lot of pink COLOR watches. Also I have a zebra plaid top. This size XXL SIZE T-shirt is amazing. Clogs are good. Earrings, earing and earring are different. Bikini top. This jumpsuits size is 3XL which is size 24 - 25 mm. cotton is 100 % the size is 23.3 x 23 cm. What is 21 CM 7/45 x 13/45 cm  5.45 inches 7234/177\"\n",
    "\n",
    "#matches = re.finditer(regex_string, test_str)\n",
    "\n",
    "#for matchNum, match in enumerate(matches, start=0):\n",
    "    \n",
    "#    print (\"Match {matchNum} was found at {start}-{end}: {match}\".format(matchNum = matchNum, start = match.start(), end = match.end(), match = match.group()))\n",
    "    \n",
    "# Note: for Python 2.7 compatibility, use ur\"\" to prefix the regex and u\"\" to prefix the test string and substitution.\n",
    "\n"
   ]
  },
  {
   "cell_type": "code",
   "execution_count": 57,
   "metadata": {
    "pycharm": {
     "name": "#%%\n"
    }
   },
   "outputs": [],
   "source": [
    "#Check the 5000 trainning data with size, color, and gender.\n"
   ]
  },
  {
   "cell_type": "code",
   "execution_count": 58,
   "metadata": {
    "pycharm": {
     "name": "#%%\n"
    }
   },
   "outputs": [],
   "source": [
    "def parse_train_data(text):\n",
    "    \n",
    "    doc = nlp(text)\n",
    "    #ignore for now \n",
    "    #detections = [(doc[start:end].start_char, doc[start:end].end_char, 'TOPS') for idx, start, end in type_matcher(doc) ]\n",
    "    \n",
    "    detections = [(ent.start_char, ent.end_char, ent.label_) for ent in doc.ents]\n",
    "    #detections =  [(span.start_char, span.end_char, 'TOPS') for span in spacy.util.filter_spans(spans)] #remove duplicates or overlaps using spacy.util.filter_spans\n",
    "    \n",
    "    regex_string = r\"(\\d+(?:\\.|\\/|)\\d+|\\d+) ?(?:\\-|x) ?(\\d+(?:\\.|\\/|)\\d+|\\d+) ?(?:mm|MM|cm|CM|[Ii]nches|in|\\\"|)|(\\d+(?:\\.|\\'|\\/|)\\d+ ?(?:\\%|cm|CM|mm|MM|[Ii]nches|inch|in|\\\"))|(\\d*(?:X{1,3}[SL])(?:$|\\s+))|\\d+(?:$|\\.|\\/|\\d+) ?\\d+\"\n",
    "    size_matches = re.finditer(regex_string, text)\n",
    "    size_detections = [(match.start(), match.end(),'SIZE') for match in size_matches]\n",
    "    detections = detections + size_detections\n",
    "    detections.sort(key = lambda x: x[0])\n",
    "    return (doc.text, detections)"
   ]
  },
  {
   "cell_type": "code",
   "execution_count": 1,
   "metadata": {
    "collapsed": false,
    "pycharm": {
     "name": "#%%\n"
    }
   },
   "outputs": [
    {
     "ename": "NameError",
     "evalue": "name 'parse_train_data' is not defined",
     "output_type": "error",
     "traceback": [
      "\u001b[0;31m---------------------------------------------------------------------------\u001b[0m",
      "\u001b[0;31mNameError\u001b[0m                                 Traceback (most recent call last)",
      "Input \u001b[0;32mIn [1]\u001b[0m, in \u001b[0;36m<cell line: 2>\u001b[0;34m()\u001b[0m\n\u001b[1;32m      1\u001b[0m e \u001b[38;5;241m=\u001b[39m \u001b[38;5;124m\"\u001b[39m\u001b[38;5;124mXXL is the biggest size of my jacket\u001b[39m\u001b[38;5;124m\"\u001b[39m\n\u001b[0;32m----> 2\u001b[0m \u001b[43mparse_train_data\u001b[49m(e)\n",
      "\u001b[0;31mNameError\u001b[0m: name 'parse_train_data' is not defined"
     ]
    }
   ],
   "source": [
    "e = \"XXL is the biggest size of my jacket\"\n",
    "parse_train_data(e)"
   ]
  },
  {
   "cell_type": "code",
   "execution_count": 59,
   "metadata": {
    "pycharm": {
     "name": "#%%\n"
    }
   },
   "outputs": [],
   "source": [
    "class Training_sample:\n",
    "    annotations_count = {}\n",
    "    text = \"\"\n",
    "    annotations = []\n",
    "    def __init__(self, text, annotations):\n",
    "        self.text = text\n",
    "        self.annotations = annotations\n",
    "        self.annotations_count = {}\n",
    "        if len(annotations) != 0:\n",
    "            for start, end, label in annotations:\n",
    "                if label not in self.annotations_count.keys():\n",
    "                    self.annotations_count.update({label:1})\n",
    "                else:#existed\n",
    "                    temp = self.annotations_count.get(label) + 1\n",
    "                    self.annotations_count.update({label:temp})\n",
    "                    \n",
    "    def get_text(self)->str:\n",
    "        return self.text\n",
    "    def get_annotations(self)->List:\n",
    "        return self.annotations\n",
    "    def get_annotations_count(self)->dict:\n",
    "        return self.annotations_count\n",
    "    def get_labels(self) -> set:\n",
    "        return set(self.annotations_count.keys())\n",
    "    def get_format(self) -> tuple:\n",
    "        return (text, annotations)"
   ]
  },
  {
   "cell_type": "code",
   "execution_count": 60,
   "metadata": {
    "pycharm": {
     "name": "#%%\n"
    }
   },
   "outputs": [],
   "source": [
    "\n",
    "should_have_labels = {'COLOR', 'SIZE', 'GENDER', 'PATTERN'}\n",
    "empty = 0\n",
    "empty_rows = []\n",
    "empty_annotation = 0\n",
    "training_data_1 = []\n",
    "training_data_2 = []\n",
    "training_data_3 = []\n",
    "training_data_4 = []\n",
    "training_data_5 = []\n",
    "\n",
    "annotations_count = {} \n",
    "for row in range(df.shape[0]):\n",
    "    text = df.iloc[row]['raw_text']\n",
    "    #if the raw_text is empty then just ignore\n",
    "    if not isinstance(text, str):\n",
    "        #empty_rows.append(row)\n",
    "        continue\n",
    "    text, annotations = parse_train_data(text)\n",
    "    ts = Training_sample(text, annotations)\n",
    "    intersection_set = ts.get_labels().intersection(should_have_labels)\n",
    "    if len(intersection_set) == 1:\n",
    "        training_data_1.append(ts.get_format())\n",
    "    elif len(intersection_set) == 2:\n",
    "        training_data_2.append(ts.get_format())\n",
    "    elif len(intersection_set) == 3:\n",
    "        training_data_3.append(ts.get_format())\n",
    "    elif len(intersection_set) == 4:\n",
    "        training_data_4.append(ts.get_format())\n",
    "    else:\n",
    "        training_data_5.append(ts.get_format())\n",
    "    \n",
    "\n"
   ]
  },
  {
   "cell_type": "code",
   "execution_count": 61,
   "metadata": {
    "pycharm": {
     "name": "#%%\n"
    }
   },
   "outputs": [
    {
     "name": "stdout",
     "output_type": "stream",
     "text": [
      "10868\n",
      "9645\n",
      "2586\n",
      "182\n",
      "2704\n"
     ]
    }
   ],
   "source": [
    "print(len(training_data_1))\n",
    "print(len(training_data_2))\n",
    "print(len(training_data_3))\n",
    "print(len(training_data_4))\n",
    "print(len(training_data_5))"
   ]
  },
  {
   "cell_type": "code",
   "execution_count": 62,
   "metadata": {
    "pycharm": {
     "name": "#%%\n"
    }
   },
   "outputs": [],
   "source": [
    "example3 = \"Boxy fit top with small square sleeves, a classic curved collar, and open front placket. Easy to dress up or down. Details: 55% Linen, 45% Viscose Made In New York City, USA Lola is 57, bust: 34 waist: 26 hips: 35 wearing a size XS About the brand: Caron Callahan is a collection created for women who love beautiful clothes but don’t need to make a fuss about them. The company ethos is rooted in well-made, feminine clothes, while keeping in mind that they should be playful, purposeful and wearable. The label is owner and designer, Caron Callahan, constantly inspired by her friends and neighbours, sets out to make clothes for a creative, spirited woman who loves fashion, but doesn’t necessarily follow it.\""
   ]
  },
  {
   "cell_type": "code",
   "execution_count": 63,
   "metadata": {
    "pycharm": {
     "name": "#%%\n"
    }
   },
   "outputs": [],
   "source": [
    "def create_training(dataset: List[tuple])->DocBin:\n",
    "    db = DocBin()\n",
    "    unpassed_text = []\n",
    "    for text, annotations in dataset:\n",
    "        doc = nlp(text)\n",
    "        ents = []\n",
    "        for start, end, label in annotations:\n",
    "            span = doc.char_span(start, end, label=label, alignment_mode=\"expand\")#,alignment_mode=\"strict\")\n",
    "            if span is None:\n",
    "                continue\n",
    "            else:\n",
    "                ents.append(span)\n",
    "        try:\n",
    "            doc.ents = ents\n",
    "        except:\n",
    "            unpassed_text.append(text)\n",
    "        db.add(doc)\n",
    "#db.to_disk(\"./train.spacy\")\n",
    "    print(\"unpassed: \", len(unpassed_text))\n",
    "    return db"
   ]
  },
  {
   "cell_type": "code",
   "execution_count": 129,
   "metadata": {
    "pycharm": {
     "name": "#%%\n"
    }
   },
   "outputs": [
    {
     "name": "stdout",
     "output_type": "stream",
     "text": [
      "train_len:  5787.0 valid:  7716.0 unseen:  9645\n",
      "test_len:  1551.6 valid:  2068.8 unseen:  2586\n",
      "evaluate_len:  109.2 valid:  145.6 unseen:  182\n"
     ]
    }
   ],
   "source": [
    "print(\"train_len: \", len(training_data_2) * 0.6, \"valid: \", len(training_data_2) * 0.8, \"unseen: \",  len(training_data_2))\n",
    "print(\"test_len: \", len(training_data_3) * 0.6, \"valid: \", len(training_data_3) * 0.8, \"unseen: \", len(training_data_3))\n",
    "print(\"evaluate_len: \", len(training_data_4) * 0.6, \"valid: \", len(training_data_4) * 0.8, \"unseen: \", len(training_data_4))\n"
   ]
  },
  {
   "cell_type": "code",
   "execution_count": 65,
   "metadata": {
    "pycharm": {
     "name": "#%%\n"
    }
   },
   "outputs": [],
   "source": [
    "#the data the machine never seen, not (train/valid)\n",
    "unseen = training_data_2[7716:] + training_data_3[2070:] + training_data_4[146:]"
   ]
  },
  {
   "cell_type": "code",
   "execution_count": 114,
   "metadata": {
    "pycharm": {
     "name": "#%%\n"
    }
   },
   "outputs": [
    {
     "name": "stdout",
     "output_type": "stream",
     "text": [
      "unpassed:  293\n",
      "unpassed:  47\n",
      "unpassed:  10\n"
     ]
    }
   ],
   "source": [
    "\n",
    "train_data = create_training((training_data_2[0:5787] + training_data_3[0: 1552] + training_data_4[0: 109]))\n",
    "#train_data.to_disk(\"./train.spacy\")\n",
    "valid_data = create_training((training_data_2[5787:7716] + training_data_3[1552:2070] + training_data_4[109: 146]))\n",
    "#valid_data.to_disk(\"./valid.spacy\")\n",
    "evaluate_data = create_training(unseen)\n",
    "#evaluate_data.to_disk(\"./evaluate.spacy\")"
   ]
  },
  {
   "cell_type": "code",
   "execution_count": 133,
   "metadata": {
    "pycharm": {
     "name": "#%%\n"
    }
   },
   "outputs": [
    {
     "data": {
      "text/plain": [
       "2481"
      ]
     },
     "execution_count": 133,
     "metadata": {},
     "output_type": "execute_result"
    }
   ],
   "source": [
    "len(evaluate_data)"
   ]
  },
  {
   "cell_type": "code",
   "execution_count": 138,
   "metadata": {
    "pycharm": {
     "name": "#%%\n"
    }
   },
   "outputs": [
    {
     "data": {
      "text/html": [
       "<span class=\"tex2jax_ignore\"><div class=\"entities\" style=\"line-height: 2.5; direction: ltr\">Lack Of Color Jethro \n",
       "<mark class=\"entity\" style=\"background: #D2B4DE; padding: 0.45em 0.6em; margin: 0 0.25em; line-height: 1; border-radius: 0.35em;\">\n",
       "    hat\n",
       "    <span style=\"font-size: 0.8em; font-weight: bold; line-height: 1; border-radius: 0.35em; vertical-align: middle; margin-left: 0.5rem\">ACCESSORIES</span>\n",
       "</mark>\n",
       " This \n",
       "<mark class=\"entity\" style=\"background: #C70039; padding: 0.45em 0.6em; margin: 0 0.25em; line-height: 1; border-radius: 0.35em;\">\n",
       "    Vintage\n",
       "    <span style=\"font-size: 0.8em; font-weight: bold; line-height: 1; border-radius: 0.35em; vertical-align: middle; margin-left: 0.5rem\">PATTERN</span>\n",
       "</mark>\n",
       " Classic \n",
       "<mark class=\"entity\" style=\"background: #D2B4DE; padding: 0.45em 0.6em; margin: 0 0.25em; line-height: 1; border-radius: 0.35em;\">\n",
       "    fedora\n",
       "    <span style=\"font-size: 0.8em; font-weight: bold; line-height: 1; border-radius: 0.35em; vertical-align: middle; margin-left: 0.5rem\">ACCESSORIES</span>\n",
       "</mark>\n",
       " silhouette is a refreshed take on a wardrobe staple. A must-have piece for everyday style with a chic edge. \n",
       "<mark class=\"entity\" style=\"background: #C70039; padding: 0.45em 0.6em; margin: 0 0.25em; line-height: 1; border-radius: 0.35em;\">\n",
       "    Vintage\n",
       "    <span style=\"font-size: 0.8em; font-weight: bold; line-height: 1; border-radius: 0.35em; vertical-align: middle; margin-left: 0.5rem\">PATTERN</span>\n",
       "</mark>\n",
       " Classic \n",
       "<mark class=\"entity\" style=\"background: #D2B4DE; padding: 0.45em 0.6em; margin: 0 0.25em; line-height: 1; border-radius: 0.35em;\">\n",
       "    Fedora\n",
       "    <span style=\"font-size: 0.8em; font-weight: bold; line-height: 1; border-radius: 0.35em; vertical-align: middle; margin-left: 0.5rem\">ACCESSORIES</span>\n",
       "</mark>\n",
       " in \n",
       "<mark class=\"entity\" style=\"background: #AED6F1; padding: 0.45em 0.6em; margin: 0 0.25em; line-height: 1; border-radius: 0.35em;\">\n",
       "    Black\n",
       "    <span style=\"font-size: 0.8em; font-weight: bold; line-height: 1; border-radius: 0.35em; vertical-align: middle; margin-left: 0.5rem\">COLOR</span>\n",
       "</mark>\n",
       " Trimmed with double stitched \n",
       "<mark class=\"entity\" style=\"background: #AED6F1; padding: 0.45em 0.6em; margin: 0 0.25em; line-height: 1; border-radius: 0.35em;\">\n",
       "    Black\n",
       "    <span style=\"font-size: 0.8em; font-weight: bold; line-height: 1; border-radius: 0.35em; vertical-align: middle; margin-left: 0.5rem\">COLOR</span>\n",
       "</mark>\n",
       " grosgrain Ribbon \n",
       "<mark class=\"entity\" style=\"background: #581845; padding: 0.45em 0.6em; margin: 0 0.25em; line-height: 1; border-radius: 0.35em;\">\n",
       "    100%\n",
       "    <span style=\"font-size: 0.8em; font-weight: bold; line-height: 1; border-radius: 0.35em; vertical-align: middle; margin-left: 0.5rem\">SIZE</span>\n",
       "</mark>\n",
       " soft Australian Wool Brim measures 8 cm / \n",
       "<mark class=\"entity\" style=\"background: #581845; padding: 0.45em 0.6em; margin: 0 0.25em; line-height: 1; border-radius: 0.35em;\">\n",
       "    3.15\n",
       "    <span style=\"font-size: 0.8em; font-weight: bold; line-height: 1; border-radius: 0.35em; vertical-align: middle; margin-left: 0.5rem\">SIZE</span>\n",
       "</mark>\n",
       "” Classic crown height Spot / specialist clean Unisex style This \n",
       "<mark class=\"entity\" style=\"background: #D2B4DE; padding: 0.45em 0.6em; margin: 0 0.25em; line-height: 1; border-radius: 0.35em;\">\n",
       "    hat\n",
       "    <span style=\"font-size: 0.8em; font-weight: bold; line-height: 1; border-radius: 0.35em; vertical-align: middle; margin-left: 0.5rem\">ACCESSORIES</span>\n",
       "</mark>\n",
       " is accredited with a UPF Rating 50+ (Australian Tested) Size + Fit: Styles \n",
       "<mark class=\"entity\" style=\"background: #DAF7A6; padding: 0.45em 0.6em; margin: 0 0.25em; line-height: 1; border-radius: 0.35em;\">\n",
       "    runs\n",
       "    <span style=\"font-size: 0.8em; font-weight: bold; line-height: 1; border-radius: 0.35em; vertical-align: middle; margin-left: 0.5rem\">OTHER_CLOTHING</span>\n",
       "</mark>\n",
       " approx. \n",
       "<mark class=\"entity\" style=\"background: #581845; padding: 0.45em 0.6em; margin: 0 0.25em; line-height: 1; border-radius: 0.35em;\">\n",
       "    0.5 cm\n",
       "    <span style=\"font-size: 0.8em; font-weight: bold; line-height: 1; border-radius: 0.35em; vertical-align: middle; margin-left: 0.5rem\">SIZE</span>\n",
       "</mark>\n",
       " \n",
       "<mark class=\"entity\" style=\"background: #581845; padding: 0.45em 0.6em; margin: 0 0.25em; line-height: 1; border-radius: 0.35em;\">\n",
       "    large\n",
       "    <span style=\"font-size: 0.8em; font-weight: bold; line-height: 1; border-radius: 0.35em; vertical-align: middle; margin-left: 0.5rem\">SIZE</span>\n",
       "</mark>\n",
       " We suggest adding a \n",
       "<mark class=\"entity\" style=\"background: #D2B4DE; padding: 0.45em 0.6em; margin: 0 0.25em; line-height: 1; border-radius: 0.35em;\">\n",
       "    hat\n",
       "    <span style=\"font-size: 0.8em; font-weight: bold; line-height: 1; border-radius: 0.35em; vertical-align: middle; margin-left: 0.5rem\">ACCESSORIES</span>\n",
       "</mark>\n",
       " filler if in between sizes</div></span>"
      ],
      "text/plain": [
       "<IPython.core.display.HTML object>"
      ]
     },
     "metadata": {},
     "output_type": "display_data"
    }
   ],
   "source": [
    "statistical = spacy.load(\"output/model-best\")\n",
    "r = random.randint(0, len(unseen))\n",
    "print(\"The randon row is : \", r)\n",
    "doc1 = statistical(unseen[r][0])\n",
    "displacy.render(doc1, style=\"ent\", options=e.get_entity_options())"
   ]
  },
  {
   "cell_type": "code",
   "execution_count": 118,
   "metadata": {
    "pycharm": {
     "name": "#%%\n"
    }
   },
   "outputs": [
    {
     "data": {
      "text/plain": [
       "('Upper: 100% Bovine leather Lining: Leather Inner Sole: Leather Sole: Rubber Fit Comments: Regular: True to Size. Half sizes should size up if regular-wide width or size down if narrow width.',\n",
       " [(7, 11, 'SIZE'),\n",
       "  (19, 26, 'ACCESSORIES'),\n",
       "  (35, 42, 'ACCESSORIES'),\n",
       "  (55, 62, 'ACCESSORIES')])"
      ]
     },
     "execution_count": 118,
     "metadata": {},
     "output_type": "execute_result"
    }
   ],
   "source": [
    "training_data_1[random.randint(0, len(training_data_1))]"
   ]
  },
  {
   "cell_type": "code",
   "execution_count": 125,
   "metadata": {
    "pycharm": {
     "name": "#%%\n"
    }
   },
   "outputs": [
    {
     "data": {
      "text/plain": [
       "('Description Soft, breathable Linen fabric in a tailored shirt style. A soft line on the collar opens the neckline, and buttons down the front allow for easy dressing and versatile styling. The Samantha is great paired with capri pants or layered under a cardigan on cooler days. You can even wear it unbuttoned, for a cool shirt-jacket look. Features - Collared neckline - Buttons down the front - Princess seams from shoulder to hem Blue Sky fit guide - true to size. Fabric - 100% Woven Bamboo',\n",
       " [(29, 34, 'COLOR'),\n",
       "  (56, 61, 'TOPS'),\n",
       "  (88, 94, 'ACCESSORIES'),\n",
       "  (223, 228, 'BOTTOMS'),\n",
       "  (229, 234, 'BOTTOMS'),\n",
       "  (254, 262, 'TOPS'),\n",
       "  (323, 328, 'TOPS'),\n",
       "  (329, 335, 'TOPS'),\n",
       "  (434, 438, 'COLOR'),\n",
       "  (478, 482, 'SIZE')])"
      ]
     },
     "execution_count": 125,
     "metadata": {},
     "output_type": "execute_result"
    }
   ],
   "source": [
    "training_data_2[random.randint(0, len(training_data_2))]"
   ]
  },
  {
   "cell_type": "code",
   "execution_count": 127,
   "metadata": {
    "pycharm": {
     "name": "#%%\n"
    }
   },
   "outputs": [
    {
     "data": {
      "text/plain": [
       "('We are thrilled to introduce Seeking Splendor as part of the 2022 SweetLegs patterned cropped leggings collection. SweetLegs Crops feature the same signature legging fit and style that you love, but with a shorter inseam that’s cropped above the ankle and perfect for warmer weather! Seeking Splendor is a stunning, large-scale floral print in shades of pink, lavender, grey and emerald, all set on a dark grey background. Seeking Splendor looks incredible when paired with a Swing Tank in Lavender and your go-to summer sandals. This print is perfect for easy Saturday’s at the Farmer’s Market or evenings spent in the garden.',\n",
       " [(61, 65, 'SIZE'),\n",
       "  (94, 102, 'BOTTOMS'),\n",
       "  (158, 165, 'BOTTOMS'),\n",
       "  (206, 213, 'BOTTOMS'),\n",
       "  (316, 321, 'SIZE'),\n",
       "  (322, 327, 'PATTERN'),\n",
       "  (354, 358, 'COLOR'),\n",
       "  (360, 368, 'COLOR'),\n",
       "  (370, 374, 'COLOR'),\n",
       "  (406, 410, 'COLOR'),\n",
       "  (482, 486, 'TOPS'),\n",
       "  (490, 498, 'COLOR'),\n",
       "  (521, 528, 'SHOES')])"
      ]
     },
     "execution_count": 127,
     "metadata": {},
     "output_type": "execute_result"
    }
   ],
   "source": [
    "training_data_3[random.randint(0, len(training_data_3))]"
   ]
  },
  {
   "cell_type": "code",
   "execution_count": 121,
   "metadata": {
    "pycharm": {
     "name": "#%%\n"
    }
   },
   "outputs": [
    {
     "data": {
      "text/plain": [
       "('CLUB JERSEY (GENDER NEUTRAL) A SOFT JERSEY WITH 3-STRIPES. A jersey-style t-shirt from adidas Skateboarding with 3-Stripes on the sleeves. It manages moisture to keep you dry, and it is made of recycled polyester doubleknit fabric with a ribbed collar and cuffs for added comfort. A small Trefoil pops on the chest. SPECIFICATIONS Regular fit Crewneck 100% recycled polyester doubleknit Soft feel adidas Skateboarding jersey Cuffed sleeves Moisture-absorbing AEROREADY Doubleknit Imported Product colour: White / Black',\n",
       " [(5, 11, 'TOPS'),\n",
       "  (20, 27, 'GENDER'),\n",
       "  (36, 42, 'TOPS'),\n",
       "  (61, 67, 'TOPS'),\n",
       "  (74, 81, 'TOPS'),\n",
       "  (130, 137, 'ACCESSORIES'),\n",
       "  (245, 251, 'ACCESSORIES'),\n",
       "  (283, 288, 'SIZE'),\n",
       "  (289, 296, 'PATTERN'),\n",
       "  (352, 356, 'SIZE'),\n",
       "  (418, 424, 'TOPS'),\n",
       "  (432, 439, 'ACCESSORIES'),\n",
       "  (505, 510, 'COLOR'),\n",
       "  (513, 518, 'COLOR')])"
      ]
     },
     "execution_count": 121,
     "metadata": {},
     "output_type": "execute_result"
    }
   ],
   "source": [
    "training_data_4[random.randint(0, len(training_data_4))]"
   ]
  },
  {
   "cell_type": "code",
   "execution_count": 123,
   "metadata": {
    "pycharm": {
     "name": "#%%\n"
    }
   },
   "outputs": [
    {
     "data": {
      "text/plain": [
       "('Hunter rubber buffer. The best way to clean your Hunter Boots.', [])"
      ]
     },
     "execution_count": 123,
     "metadata": {},
     "output_type": "execute_result"
    }
   ],
   "source": [
    "training_data_5[random.randint(0, len(training_data_5))]"
   ]
  }
 ],
 "metadata": {
  "kernelspec": {
   "display_name": "Python 3.9.12 ('tensorflow')",
   "language": "python",
   "name": "python3"
  },
  "language_info": {
   "codemirror_mode": {
    "name": "ipython",
    "version": 3
   },
   "file_extension": ".py",
   "mimetype": "text/x-python",
   "name": "python",
   "nbconvert_exporter": "python",
   "pygments_lexer": "ipython3",
   "version": "3.9.12"
  },
  "orig_nbformat": 4,
  "vscode": {
   "interpreter": {
    "hash": "08f33c96bfe48976e0772c3a4097c2fff4477ea59ec4556e2e8fa1251315c612"
   }
  }
 },
 "nbformat": 4,
 "nbformat_minor": 2
}
