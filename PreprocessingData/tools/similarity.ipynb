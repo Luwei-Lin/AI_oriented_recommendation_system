{
 "cells": [
  {
   "cell_type": "code",
   "execution_count": 87,
   "metadata": {},
   "outputs": [],
   "source": [
    "import requests\n",
    "from bs4 import BeautifulSoup\n",
    "import pandas as pd\n",
    "\n",
    "df_original = pd.read_csv(\"./(V1.6)all_products_data_set.csv\")\n",
    "#df.insert(2, \"color_info\", \"\")\n",
    "#df.insert(2, \"pattern_info\",\"\")\n",
    "#df.head()"
   ]
  },
  {
   "cell_type": "code",
   "execution_count": 2,
   "metadata": {},
   "outputs": [],
   "source": [
    "import re\n",
    "def tc(colors: str)->str:\n",
    "    temp = (colors.lower().removeprefix(\"{\").removesuffix(\"}\"))\n",
    "    res = re.sub('\"', \"\", re.sub(\"/\",\",\",temp))\n",
    "    return res"
   ]
  },
  {
   "cell_type": "code",
   "execution_count": 3,
   "metadata": {},
   "outputs": [],
   "source": [
    "import json\n",
    "#f = open(\"./json_files/color_name_map.json\")\n",
    "#colors = json.load(f)\n",
    "#len(colors.keys())"
   ]
  },
  {
   "cell_type": "code",
   "execution_count": 4,
   "metadata": {},
   "outputs": [],
   "source": [
    "df = pd.read_csv(\"./look.csv\")\n",
    "for row in range(df.shape[0]):\n",
    "    if not isinstance(df.loc[row][\"colors\"], str):\n",
    "        df.loc[row,'colors'] = \"\"\n",
    "        continue\n",
    "    e = df.loc[row][\"colors\"]\n",
    "    c = tc(e)\n",
    "    df.loc[row,'colors'] = c"
   ]
  },
  {
   "cell_type": "code",
   "execution_count": 26,
   "metadata": {},
   "outputs": [
    {
     "data": {
      "text/plain": [
       "28426"
      ]
     },
     "execution_count": 26,
     "metadata": {},
     "output_type": "execute_result"
    }
   ],
   "source": [
    "\n",
    "df.sample(10)\n",
    "df.shape[0]"
   ]
  },
  {
   "cell_type": "code",
   "execution_count": 6,
   "metadata": {},
   "outputs": [],
   "source": [
    "for row in range(0,1):\n",
    "    res = set()\n",
    "    pattern = set()\n",
    "    colors_str = df.loc[row][\"colors\"]\n",
    "    if colors_str == \"\":\n",
    "        continue\n",
    "    colors_list = df.loc[row][\"colors\"].split(\",\")\n",
    "    #print(row, colors_list)\n",
    "    for item in colors_list:\n",
    "        URL = \"https://colornames.org/search/results/?type=exact&query=\"\n",
    "        URL += item\n",
    "        try:\n",
    "            page = requests.get(URL)\n",
    "            soup = BeautifulSoup(page.content, \"html.parser\")\n",
    "            results = soup.find_all(\"a\", class_=\"button is-fullwidth freshButton\")\n",
    "            \n",
    "            #the first result which has the highest vote\n",
    "            content = results[0].find(\"span\").text.strip()\n",
    "            res.add(content)\n",
    "        except:\n",
    "            pattern.add(item)\n",
    "    df.loc[row, \"color_info\"] = \",\".join(res)\n",
    "    df.loc[row, \"pattern_info\"] = \",\".join(pattern)\n"
   ]
  },
  {
   "cell_type": "code",
   "execution_count": 34,
   "metadata": {},
   "outputs": [
    {
     "data": {
      "text/plain": [
       "Index(['index', 'id', 'title', 'tags', 'images', 'gender', 'product_type',\n",
       "       'product_type(modified)', 'main_category', 'sub_category',\n",
       "       'match_most_similar_>80%_string', 'match_most_similar_>60%_string',\n",
       "       'label_1st', 'label_2nd', 'label_3rd', 'buckets_num', 'buckets',\n",
       "       'color_num', 'colors', 'url', 'raw_text'],\n",
       "      dtype='object')"
      ]
     },
     "execution_count": 34,
     "metadata": {},
     "output_type": "execute_result"
    }
   ],
   "source": [
    "df_original.columns"
   ]
  },
  {
   "cell_type": "code",
   "execution_count": 37,
   "metadata": {},
   "outputs": [
    {
     "data": {
      "text/plain": [
       "17"
      ]
     },
     "execution_count": 37,
     "metadata": {},
     "output_type": "execute_result"
    }
   ],
   "source": [
    "#df_original.columns.get_loc(\"color_num\")"
   ]
  },
  {
   "cell_type": "code",
   "execution_count": 43,
   "metadata": {},
   "outputs": [],
   "source": []
  },
  {
   "cell_type": "code",
   "execution_count": 44,
   "metadata": {},
   "outputs": [],
   "source": [
    "main_colors = [\"Black\", \"Blue\", \"Brown\", \"Green\", \\\n",
    "    \"Grey\", \"Orange\", \"Pink\", \"Purple\", \\\n",
    "    \"Red\", \"Tan\", \"White\", \"Yellow\",]\n",
    "main_color = {}\n",
    "count = 1\n",
    "for c in main_colors:\n",
    "    URL = \"https://colornames.org/search/results/?type=exact&query=\"\n",
    "    URL += c\n",
    "    try:\n",
    "        page = requests.get(URL)\n",
    "        soup = BeautifulSoup(page.content, \"html.parser\")\n",
    "        results = soup.find_all(\"a\", class_=\"button is-fullwidth freshButton\")\n",
    "        \n",
    "        #the first result which has the highest vote\n",
    "        content = results[0].find(\"span\").text.strip()\n",
    "        main_color.update({count:content})\n",
    "        count += 1\n",
    "        \n",
    "    except:\n",
    "        print(c)\n",
    "        "
   ]
  },
  {
   "cell_type": "code",
   "execution_count": 45,
   "metadata": {},
   "outputs": [
    {
     "data": {
      "text/plain": [
       "{1: 'Black (#000000)',\n",
       " 2: 'Blue (#0000ff)',\n",
       " 3: 'Brown (#964b00)',\n",
       " 4: 'Green (#00ff00)',\n",
       " 5: 'Grey (#808080)',\n",
       " 6: 'Orange (#ff8000)',\n",
       " 7: 'Pink (#ffc0cb)',\n",
       " 8: 'Purple (#800080)',\n",
       " 9: 'Red (#ff0000)',\n",
       " 10: 'Tan (#d2b48c)',\n",
       " 11: 'White (#ffffff)',\n",
       " 12: 'Yellow (#ffff00)'}"
      ]
     },
     "execution_count": 45,
     "metadata": {},
     "output_type": "execute_result"
    }
   ],
   "source": [
    "main_color"
   ]
  },
  {
   "cell_type": "code",
   "execution_count": 49,
   "metadata": {},
   "outputs": [],
   "source": [
    "df_original = df_original.rename(columns={\"color_infor\":\"color_info\"})"
   ]
  },
  {
   "cell_type": "code",
   "execution_count": 51,
   "metadata": {},
   "outputs": [],
   "source": [
    "df_original.to_csv(\"(V1.6)all_products_data_set.csv\", index=False)"
   ]
  },
  {
   "cell_type": "code",
   "execution_count": 60,
   "metadata": {},
   "outputs": [
    {
     "name": "stdout",
     "output_type": "stream",
     "text": [
      "Femme Fatale (#a60019) ; 10, 11\n",
      "['10', ' 11']\n",
      "10\n",
      "11\n"
     ]
    }
   ],
   "source": [
    "s  = df_original.loc[87][\"color_num\"]\n",
    "known = df_original.loc[87][\"color_info\"]\n",
    "print(known, \";\",s)\n",
    "l = s.split(\",\")\n",
    "print(l)\n",
    "for n in l:\n",
    "    print(int(n))"
   ]
  },
  {
   "cell_type": "code",
   "execution_count": 63,
   "metadata": {},
   "outputs": [
    {
     "data": {
      "text/plain": [
       "False"
      ]
     },
     "execution_count": 63,
     "metadata": {},
     "output_type": "execute_result"
    }
   ],
   "source": [
    "\"Black\".__contains__(\"Blackl\")"
   ]
  },
  {
   "cell_type": "code",
   "execution_count": 72,
   "metadata": {},
   "outputs": [
    {
     "data": {
      "text/plain": [
       "str"
      ]
     },
     "execution_count": 72,
     "metadata": {},
     "output_type": "execute_result"
    }
   ],
   "source": [
    "type(df_original.loc[13558][\"color_num\"])"
   ]
  },
  {
   "cell_type": "code",
   "execution_count": 74,
   "metadata": {},
   "outputs": [
    {
     "name": "stdout",
     "output_type": "stream",
     "text": [
      "6797 0.23911208048969254\n"
     ]
    }
   ],
   "source": [
    "unknown = 0\n",
    "for row in range(df_original.shape[0]):\n",
    "    my = df_original.loc[row][\"color_info\"]\n",
    "    ar = df_original.loc[row][\"color_num\"]\n",
    "    if not isinstance(my, str) and ar == '0':\n",
    "        unknown += 1\n",
    "print(unknown, unknown/df_original.shape[0])"
   ]
  },
  {
   "cell_type": "code",
   "execution_count": 77,
   "metadata": {},
   "outputs": [
    {
     "data": {
      "text/plain": [
       "{1: 'Black (#000000)',\n",
       " 2: 'Blue (#0000ff)',\n",
       " 3: 'Brown (#964b00)',\n",
       " 4: 'Green (#00ff00)',\n",
       " 5: 'Grey (#808080)',\n",
       " 6: 'Orange (#ff8000)',\n",
       " 7: 'Pink (#ffc0cb)',\n",
       " 8: 'Purple (#800080)',\n",
       " 9: 'Red (#ff0000)',\n",
       " 10: 'Tan (#d2b48c)',\n",
       " 11: 'White (#ffffff)',\n",
       " 12: 'Yellow (#ffff00)'}"
      ]
     },
     "execution_count": 77,
     "metadata": {},
     "output_type": "execute_result"
    }
   ],
   "source": [
    "main_color"
   ]
  },
  {
   "cell_type": "code",
   "execution_count": 95,
   "metadata": {},
   "outputs": [],
   "source": [
    "#finish color_info from previous manual label\n",
    "for row in range(df_original.shape[0]):\n",
    "    color_num = df_original.loc[row][\"color_num\"]\n",
    "    color_info = df_original.loc[row][\"color_info\"]\n",
    "    #if we don't have the both information just jump to next one\n",
    "    if not isinstance(color_info, str) and color_num == \"0\":\n",
    "        continue\n",
    "    if color_num == \"0\":\n",
    "        continue\n",
    "    \n",
    "    l = color_num.split(\",\")\n",
    "    \n",
    "    if isinstance(color_info, str):\n",
    "        res = (color_info).split(\",\")\n",
    "        \n",
    "    for n in l:\n",
    "        n = int(n)\n",
    "        try:\n",
    "            color = main_color.get(n)\n",
    "            if color == None:\n",
    "                continue\n",
    "            if not res.__contains__(color):\n",
    "                res.append(color)\n",
    "        except:\n",
    "            print(n)\n",
    "    \n",
    "    df_original.loc[row, \"color_info\"] = \",\".join(res)\n",
    "        \n",
    "    "
   ]
  },
  {
   "cell_type": "code",
   "execution_count": 98,
   "metadata": {},
   "outputs": [],
   "source": [
    "#df_original.to_csv(\"(V1.6)all_products_data_set.csv\", index=False)"
   ]
  },
  {
   "cell_type": "code",
   "execution_count": 104,
   "metadata": {},
   "outputs": [
    {
     "name": "stdout",
     "output_type": "stream",
     "text": [
      "Purple (#800080),Black (#000000),Navy (#000080),Pink (#ffc0cb),Tan (#d2b48c),Dark Purple (#401b6a),Dusty Rose (#cfa4ae),Green (#00ff00),Rust (#b7410e)\n"
     ]
    }
   ],
   "source": [
    "import random\n",
    "example = df_original.loc[random.randint(0, df_original.shape[0])][\"color_info\"]\n",
    "print(example)"
   ]
  },
  {
   "cell_type": "code",
   "execution_count": 105,
   "metadata": {},
   "outputs": [
    {
     "data": {
      "text/plain": [
       "{1: 'Black (#000000)',\n",
       " 2: 'Blue (#0000ff)',\n",
       " 3: 'Brown (#964b00)',\n",
       " 4: 'Green (#00ff00)',\n",
       " 5: 'Grey (#808080)',\n",
       " 6: 'Orange (#ff8000)',\n",
       " 7: 'Pink (#ffc0cb)',\n",
       " 8: 'Purple (#800080)',\n",
       " 9: 'Red (#ff0000)',\n",
       " 10: 'Tan (#d2b48c)',\n",
       " 11: 'White (#ffffff)',\n",
       " 12: 'Yellow (#ffff00)'}"
      ]
     },
     "execution_count": 105,
     "metadata": {},
     "output_type": "execute_result"
    }
   ],
   "source": [
    "main_color"
   ]
  },
  {
   "cell_type": "code",
   "execution_count": 173,
   "metadata": {},
   "outputs": [
    {
     "name": "stdout",
     "output_type": "stream",
     "text": [
      "Example - difference: the distance between Navy #000080 and Blue #0000f0 is 34.5860915726406\n",
      "Example - get_closet_color: Navy #000080 found closest one in 2, which is Blue (#0000ff)\n",
      "Example - from_color_info_to_color_num: Purple (#800080),Black (#000000),Navy (#000080),Pink (#ffc0cb),Tan (#d2b48c),Dark Purple (#401b6a),Dusty Rose (#cfa4ae),Green (#00ff00),Rust (#b7410e)\n",
      "Return: [8, 1, 2, 7, 10, 8, 7, 4, 9], which means['Purple (#800080)', 'Black (#000000)', 'Blue (#0000ff)', 'Pink (#ffc0cb)', 'Tan (#d2b48c)', 'Purple (#800080)', 'Pink (#ffc0cb)', 'Green (#00ff00)', 'Red (#ff0000)']\n"
     ]
    }
   ],
   "source": [
    "from colormath.color_objects import sRGBColor, LabColor\n",
    "from colormath.color_conversions import convert_color\n",
    "from colormath.color_diff import delta_e_cie2000\n",
    "from PIL import ImageColor\n",
    "\n",
    "class Color:\n",
    "    def __init__(self, color_string:str):\n",
    "        assert color_string != None\n",
    "        color_info = color_string.split(\" (\")\n",
    "        assert len(color_info) == 2\n",
    "        self.name = color_info[0]\n",
    "        self.hex_code = color_info[1].removesuffix(\")\")\n",
    "        \n",
    "    def get_rgb(self)->tuple:\n",
    "        assert self.hex_code != None\n",
    "        return ImageColor.getcolor(self.hex_code, \"RGB\")\n",
    "        \n",
    "    def get_info(self) ->str:\n",
    "        return self.name + \" \"+ self.hex_code\n",
    "    \n",
    "\"\"\"\n",
    "Input: format(\"color_name\": \"color_hex_code\"), for example, color_1 = (Color class)Navy (#000080), color_2 = (Color class)Blue (#0000ff)\n",
    "Function: calculate delta_e_cie2000 color distance\n",
    "Output: Float, the distance \n",
    "\"\"\"\n",
    "color_1 = Color(\"Navy (#000080)\")\n",
    "color_2 = Color(\"Blue (#0000f0)\")\n",
    "def difference(color_1:Color, color_2:Color)->float:\n",
    "    \n",
    "    assert color_1 != None and color_2 != None, \"color_1 or color_2 is Nonetype\"\n",
    "    color1_set = color_1.get_rgb()\n",
    "    color1_rgb = sRGBColor(color1_set[0], color1_set[1], color1_set[2])\n",
    "    color2_set = color_2.get_rgb()\n",
    "    color2_rgb = sRGBColor(color2_set[0], color2_set[1], color2_set[2])\n",
    "    #convert from RGB to lab color space\n",
    "    color1_lab = convert_color(color1_rgb, LabColor)\n",
    "    color2_lab = convert_color(color2_rgb, LabColor)\n",
    "    \n",
    "    return delta_e_cie2000(color1=color1_lab, color2=color2_lab)\n",
    "\n",
    "print(\"Example - difference: the distance between {color1} and {color2} is {distance}\".format(color1=color_1.get_info(), color2=color_2.get_info(), distance=difference(color_1=color_1, color_2=color_2)))\n",
    "\n",
    "\"\"\"\n",
    "Input: (Color class) to_be_determined_color\n",
    "Function: By Comparing with colors_distance in the predetermined color list, we extract the closest main_color.\n",
    "Output: The cloest color in the list\n",
    "\"\"\"\n",
    "def get_closest_color(unknown_color:Color)->int:\n",
    "    assert unknown_color != None\n",
    "    #sort dict {color_num: int : color_distacne: float}\n",
    "    temp_distance_map = {}\n",
    "    for k, v in main_color.items():\n",
    "        dist = difference (unknown_color, Color(v))\n",
    "        temp_distance_map.update({k:dist})\n",
    "        \n",
    "    sorted_dict = dict(sorted(temp_distance_map.items(), key=lambda item: item[1]))\n",
    "    \n",
    "    return min(sorted_dict, key=sorted_dict.get)\n",
    "\n",
    "print(\"Example - get_closet_color: {color_to_be_determined} found closest one in {num}, which is {color}\".format(color_to_be_determined= color_1.get_info(), num=get_closest_color(color_1), color=main_color.get(get_closest_color(color_1))))\n",
    "\n",
    "\"\"\"\n",
    "Input: (str) color_info\n",
    "Function: standarized from the color_info column to color_num\n",
    "Output: (str)all relative nums (in the relative order)\n",
    "\"\"\"\n",
    "\n",
    "def from_color_info_to_color_num(color_info:str)->list:\n",
    "    assert isinstance(color_info, str) and color_info != \"\"\n",
    "    res = list()\n",
    "    color_info_list = color_info.split(\",\")\n",
    "    \n",
    "    for item in color_info_list:\n",
    "        curr = Color(item)\n",
    "        res.append(get_closest_color(curr))\n",
    "    return res\n",
    "    #\",\".join(str(e) for e in res)\n",
    "print(\"Example - from_color_info_to_color_num: {Example}\\nReturn: {Result}, which means{Decode}\".format(Example = example, Result = from_color_info_to_color_num(example), Decode= [main_color.get(c) for c in from_color_info_to_color_num(example)]))"
   ]
  },
  {
   "cell_type": "code",
   "execution_count": 167,
   "metadata": {},
   "outputs": [
    {
     "data": {
      "text/plain": [
       "Index(['index', 'id', 'title', 'tags', 'images', 'gender', 'product_type',\n",
       "       'product_type(modified)', 'main_category', 'sub_category',\n",
       "       'match_most_similar_>80%_string', 'match_most_similar_>60%_string',\n",
       "       'label_1st', 'label_2nd', 'label_3rd', 'buckets_num', 'pattern_info',\n",
       "       'buckets', 'color_info', 'color_num', 'colors', 'url', 'raw_text'],\n",
       "      dtype='object')"
      ]
     },
     "execution_count": 167,
     "metadata": {},
     "output_type": "execute_result"
    }
   ],
   "source": [
    "df_original.columns"
   ]
  },
  {
   "cell_type": "code",
   "execution_count": 178,
   "metadata": {},
   "outputs": [],
   "source": [
    "count = 0\n",
    "for row in range(df_original.shape[0]):\n",
    "    color_info = df_original.loc[row][\"color_info\"]\n",
    "    #if color_info is empty\n",
    "    if not isinstance(color_info, str):\n",
    "        continue\n",
    "    try:\n",
    "        color_num_str = \",\".join(str(n) for n in from_color_info_to_color_num(color_info))\n",
    "        df_original.loc[row, \"color_num\"] = color_num_str\n",
    "    except:\n",
    "        print(\"Error: \", row, \" color_info \", color_info )\n"
   ]
  },
  {
   "cell_type": "code",
   "execution_count": 183,
   "metadata": {},
   "outputs": [],
   "source": [
    "df_original.to_csv(\"(V1.6)all_products_data_set.csv\", index=False)"
   ]
  },
  {
   "cell_type": "code",
   "execution_count": null,
   "metadata": {},
   "outputs": [],
   "source": []
  },
  {
   "cell_type": "code",
   "execution_count": null,
   "metadata": {},
   "outputs": [],
   "source": []
  }
 ],
 "metadata": {
  "kernelspec": {
   "display_name": "Python 3.9.12 ('tensorflow')",
   "language": "python",
   "name": "python3"
  },
  "language_info": {
   "codemirror_mode": {
    "name": "ipython",
    "version": 3
   },
   "file_extension": ".py",
   "mimetype": "text/x-python",
   "name": "python",
   "nbconvert_exporter": "python",
   "pygments_lexer": "ipython3",
   "version": "3.9.12"
  },
  "orig_nbformat": 4,
  "vscode": {
   "interpreter": {
    "hash": "08f33c96bfe48976e0772c3a4097c2fff4477ea59ec4556e2e8fa1251315c612"
   }
  }
 },
 "nbformat": 4,
 "nbformat_minor": 2
}
