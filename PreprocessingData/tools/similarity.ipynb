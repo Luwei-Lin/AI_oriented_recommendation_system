{
 "cells": [
  {
   "cell_type": "code",
   "execution_count": 8,
   "metadata": {},
   "outputs": [
    {
     "data": {
      "text/html": [
       "<div>\n",
       "<style scoped>\n",
       "    .dataframe tbody tr th:only-of-type {\n",
       "        vertical-align: middle;\n",
       "    }\n",
       "\n",
       "    .dataframe tbody tr th {\n",
       "        vertical-align: top;\n",
       "    }\n",
       "\n",
       "    .dataframe thead th {\n",
       "        text-align: right;\n",
       "    }\n",
       "</style>\n",
       "<table border=\"1\" class=\"dataframe\">\n",
       "  <thead>\n",
       "    <tr style=\"text-align: right;\">\n",
       "      <th></th>\n",
       "      <th>index</th>\n",
       "      <th>colors</th>\n",
       "      <th>color_info</th>\n",
       "      <th>raw_text</th>\n",
       "    </tr>\n",
       "  </thead>\n",
       "  <tbody>\n",
       "    <tr>\n",
       "      <th>0</th>\n",
       "      <td>0</td>\n",
       "      <td>{Rosebud}</td>\n",
       "      <td></td>\n",
       "      <td>The Sol. These bottoms are made from 100% recy...</td>\n",
       "    </tr>\n",
       "    <tr>\n",
       "      <th>1</th>\n",
       "      <td>1</td>\n",
       "      <td>NaN</td>\n",
       "      <td></td>\n",
       "      <td>These Bitsy Roger bottoms are crafted from shi...</td>\n",
       "    </tr>\n",
       "    <tr>\n",
       "      <th>2</th>\n",
       "      <td>2</td>\n",
       "      <td>{}</td>\n",
       "      <td></td>\n",
       "      <td>Nothing says high and mighty like the Frenchi ...</td>\n",
       "    </tr>\n",
       "    <tr>\n",
       "      <th>3</th>\n",
       "      <td>3</td>\n",
       "      <td>{Rosebud}</td>\n",
       "      <td></td>\n",
       "      <td>The Desi Bottoms is made from 100% recycled ma...</td>\n",
       "    </tr>\n",
       "    <tr>\n",
       "      <th>4</th>\n",
       "      <td>4</td>\n",
       "      <td>{}</td>\n",
       "      <td></td>\n",
       "      <td>Meet Court. Your new summer BFF. These high wa...</td>\n",
       "    </tr>\n",
       "  </tbody>\n",
       "</table>\n",
       "</div>"
      ],
      "text/plain": [
       "   index     colors color_info  \\\n",
       "0      0  {Rosebud}              \n",
       "1      1        NaN              \n",
       "2      2         {}              \n",
       "3      3  {Rosebud}              \n",
       "4      4         {}              \n",
       "\n",
       "                                            raw_text  \n",
       "0  The Sol. These bottoms are made from 100% recy...  \n",
       "1  These Bitsy Roger bottoms are crafted from shi...  \n",
       "2  Nothing says high and mighty like the Frenchi ...  \n",
       "3  The Desi Bottoms is made from 100% recycled ma...  \n",
       "4  Meet Court. Your new summer BFF. These high wa...  "
      ]
     },
     "execution_count": 8,
     "metadata": {},
     "output_type": "execute_result"
    }
   ],
   "source": [
    "import pandas as pd\n",
    "df = pd.read_csv(\"./(V1.6)all_products_data_set.csv\", usecols=['index','colors', 'raw_text'])\n",
    "df.insert(2, \"color_info\", \"\")\n",
    "df.head()"
   ]
  },
  {
   "cell_type": "code",
   "execution_count": 3,
   "metadata": {},
   "outputs": [
    {
     "name": "stdout",
     "output_type": "stream",
     "text": [
      "Init Plugin\n",
      "Init Graph Optimizer\n",
      "Init Kernel\n"
     ]
    }
   ],
   "source": [
    "import spacy\n",
    "nlp_stat = spacy.load(\"./output/model-best\")"
   ]
  },
  {
   "cell_type": "code",
   "execution_count": null,
   "metadata": {},
   "outputs": [],
   "source": []
  },
  {
   "cell_type": "code",
   "execution_count": 28,
   "metadata": {},
   "outputs": [
    {
     "name": "stdout",
     "output_type": "stream",
     "text": [
      "8 dandelion cream golden yellow yellow\n",
      "18 tan\n",
      "21 gold\n",
      "35 white\n",
      "41 blackout\n",
      "42 blackout\n",
      "47 tan\n",
      "48 red\n",
      "61 black\n",
      "86 tan\n"
     ]
    }
   ],
   "source": [
    "for row in range(100):\n",
    "    res = set()\n",
    "    if not isinstance(df.loc[row][\"raw_text\"], str):\n",
    "        continue\n",
    "    doc = nlp_stat(df.loc[row][\"raw_text\"])\n",
    "    for ent in doc.ents:\n",
    "        if ent.label_ == 'COLOR':\n",
    "            res.add(ent.text.lower())\n",
    "    res = \" \".join(res)\n",
    "    if len(res) != 0:\n",
    "        print(row, res)"
   ]
  },
  {
   "cell_type": "code",
   "execution_count": 19,
   "metadata": {},
   "outputs": [],
   "source": [
    "#df.to_csv(\"look.csv\", index=False)"
   ]
  },
  {
   "cell_type": "code",
   "execution_count": null,
   "metadata": {},
   "outputs": [],
   "source": []
  }
 ],
 "metadata": {
  "kernelspec": {
   "display_name": "Python 3.9.12 ('tensorflow')",
   "language": "python",
   "name": "python3"
  },
  "language_info": {
   "codemirror_mode": {
    "name": "ipython",
    "version": 3
   },
   "file_extension": ".py",
   "mimetype": "text/x-python",
   "name": "python",
   "nbconvert_exporter": "python",
   "pygments_lexer": "ipython3",
   "version": "3.9.12"
  },
  "orig_nbformat": 4,
  "vscode": {
   "interpreter": {
    "hash": "08f33c96bfe48976e0772c3a4097c2fff4477ea59ec4556e2e8fa1251315c612"
   }
  }
 },
 "nbformat": 4,
 "nbformat_minor": 2
}
