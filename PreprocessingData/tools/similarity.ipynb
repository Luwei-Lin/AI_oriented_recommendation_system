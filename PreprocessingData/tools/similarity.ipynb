{
 "cells": [
  {
   "cell_type": "code",
   "execution_count": 1,
   "metadata": {},
   "outputs": [],
   "source": [
    "import requests\n",
    "from bs4 import BeautifulSoup\n",
    "import pandas as pd\n",
    "\n",
    "#df = pd.read_csv(\"./(V1.6)all_products_data_set.csv\", usecols=['index','colors'])\n",
    "#df.insert(2, \"color_info\", \"\")\n",
    "#df.insert(2, \"pattern_info\",\"\")\n",
    "#df.head()"
   ]
  },
  {
   "cell_type": "code",
   "execution_count": 2,
   "metadata": {},
   "outputs": [],
   "source": [
    "import re\n",
    "def tc(colors: str)->str:\n",
    "    temp = (colors.lower().removeprefix(\"{\").removesuffix(\"}\"))\n",
    "    res = re.sub('\"', \"\", re.sub(\"/\",\",\",temp))\n",
    "    return res"
   ]
  },
  {
   "cell_type": "code",
   "execution_count": 3,
   "metadata": {},
   "outputs": [],
   "source": [
    "import json\n",
    "#f = open(\"./json_files/color_name_map.json\")\n",
    "#colors = json.load(f)\n",
    "#len(colors.keys())"
   ]
  },
  {
   "cell_type": "code",
   "execution_count": 4,
   "metadata": {},
   "outputs": [],
   "source": [
    "df = pd.read_csv(\"./look.csv\")\n",
    "for row in range(df.shape[0]):\n",
    "    if not isinstance(df.loc[row][\"colors\"], str):\n",
    "        df.loc[row,'colors'] = \"\"\n",
    "        continue\n",
    "    e = df.loc[row][\"colors\"]\n",
    "    c = tc(e)\n",
    "    df.loc[row,'colors'] = c"
   ]
  },
  {
   "cell_type": "code",
   "execution_count": 5,
   "metadata": {},
   "outputs": [
    {
     "data": {
      "text/html": [
       "<div>\n",
       "<style scoped>\n",
       "    .dataframe tbody tr th:only-of-type {\n",
       "        vertical-align: middle;\n",
       "    }\n",
       "\n",
       "    .dataframe tbody tr th {\n",
       "        vertical-align: top;\n",
       "    }\n",
       "\n",
       "    .dataframe thead th {\n",
       "        text-align: right;\n",
       "    }\n",
       "</style>\n",
       "<table border=\"1\" class=\"dataframe\">\n",
       "  <thead>\n",
       "    <tr style=\"text-align: right;\">\n",
       "      <th></th>\n",
       "      <th>index</th>\n",
       "      <th>colors</th>\n",
       "      <th>pattern_info</th>\n",
       "      <th>color_info</th>\n",
       "    </tr>\n",
       "  </thead>\n",
       "  <tbody>\n",
       "    <tr>\n",
       "      <th>23024</th>\n",
       "      <td>23024</td>\n",
       "      <td>white</td>\n",
       "      <td>NaN</td>\n",
       "      <td>White (#ffffff)</td>\n",
       "    </tr>\n",
       "    <tr>\n",
       "      <th>19311</th>\n",
       "      <td>19311</td>\n",
       "      <td>peach</td>\n",
       "      <td>NaN</td>\n",
       "      <td>Peach (#fdbb8d)</td>\n",
       "    </tr>\n",
       "    <tr>\n",
       "      <th>25223</th>\n",
       "      <td>25223</td>\n",
       "      <td>floral</td>\n",
       "      <td>NaN</td>\n",
       "      <td>Floral (#cd839d)</td>\n",
       "    </tr>\n",
       "    <tr>\n",
       "      <th>13433</th>\n",
       "      <td>13433</td>\n",
       "      <td></td>\n",
       "      <td>NaN</td>\n",
       "      <td>NaN</td>\n",
       "    </tr>\n",
       "    <tr>\n",
       "      <th>19646</th>\n",
       "      <td>19646</td>\n",
       "      <td>black</td>\n",
       "      <td>NaN</td>\n",
       "      <td>Black (#000000)</td>\n",
       "    </tr>\n",
       "    <tr>\n",
       "      <th>15591</th>\n",
       "      <td>15591</td>\n",
       "      <td>honey</td>\n",
       "      <td>NaN</td>\n",
       "      <td>Honey (#f5be05)</td>\n",
       "    </tr>\n",
       "    <tr>\n",
       "      <th>19134</th>\n",
       "      <td>19134</td>\n",
       "      <td>black</td>\n",
       "      <td>NaN</td>\n",
       "      <td>Black (#000000)</td>\n",
       "    </tr>\n",
       "    <tr>\n",
       "      <th>3978</th>\n",
       "      <td>3978</td>\n",
       "      <td>black</td>\n",
       "      <td>NaN</td>\n",
       "      <td>Black (#000000)</td>\n",
       "    </tr>\n",
       "    <tr>\n",
       "      <th>17624</th>\n",
       "      <td>17624</td>\n",
       "      <td></td>\n",
       "      <td>NaN</td>\n",
       "      <td>NaN</td>\n",
       "    </tr>\n",
       "    <tr>\n",
       "      <th>8315</th>\n",
       "      <td>8315</td>\n",
       "      <td>bamboo</td>\n",
       "      <td>NaN</td>\n",
       "      <td>Bamboo (#75ae61)</td>\n",
       "    </tr>\n",
       "  </tbody>\n",
       "</table>\n",
       "</div>"
      ],
      "text/plain": [
       "       index  colors pattern_info        color_info\n",
       "23024  23024   white          NaN   White (#ffffff)\n",
       "19311  19311   peach          NaN   Peach (#fdbb8d)\n",
       "25223  25223  floral          NaN  Floral (#cd839d)\n",
       "13433  13433                  NaN               NaN\n",
       "19646  19646   black          NaN   Black (#000000)\n",
       "15591  15591   honey          NaN   Honey (#f5be05)\n",
       "19134  19134   black          NaN   Black (#000000)\n",
       "3978    3978   black          NaN   Black (#000000)\n",
       "17624  17624                  NaN               NaN\n",
       "8315    8315  bamboo          NaN  Bamboo (#75ae61)"
      ]
     },
     "execution_count": 5,
     "metadata": {},
     "output_type": "execute_result"
    }
   ],
   "source": [
    "\n",
    "df.sample(10)\n",
    "#df.shape[0]"
   ]
  },
  {
   "cell_type": "code",
   "execution_count": 6,
   "metadata": {},
   "outputs": [],
   "source": [
    "for row in range(0,1):\n",
    "    res = set()\n",
    "    pattern = set()\n",
    "    colors_str = df.loc[row][\"colors\"]\n",
    "    if colors_str == \"\":\n",
    "        continue\n",
    "    colors_list = df.loc[row][\"colors\"].split(\",\")\n",
    "    #print(row, colors_list)\n",
    "    for item in colors_list:\n",
    "        URL = \"https://colornames.org/search/results/?type=exact&query=\"\n",
    "        URL += item\n",
    "        try:\n",
    "            page = requests.get(URL)\n",
    "            soup = BeautifulSoup(page.content, \"html.parser\")\n",
    "            results = soup.find_all(\"a\", class_=\"button is-fullwidth freshButton\")\n",
    "            \n",
    "            #the first result which has the highest vote\n",
    "            content = results[0].find(\"span\").text.strip()\n",
    "            res.add(content)\n",
    "        except:\n",
    "            pattern.add(item)\n",
    "    df.loc[row, \"color_info\"] = \",\".join(res)\n",
    "    df.loc[row, \"pattern_info\"] = \",\".join(pattern)\n"
   ]
  },
  {
   "cell_type": "code",
   "execution_count": 15,
   "metadata": {},
   "outputs": [
    {
     "data": {
      "text/html": [
       "<div>\n",
       "<style scoped>\n",
       "    .dataframe tbody tr th:only-of-type {\n",
       "        vertical-align: middle;\n",
       "    }\n",
       "\n",
       "    .dataframe tbody tr th {\n",
       "        vertical-align: top;\n",
       "    }\n",
       "\n",
       "    .dataframe thead th {\n",
       "        text-align: right;\n",
       "    }\n",
       "</style>\n",
       "<table border=\"1\" class=\"dataframe\">\n",
       "  <thead>\n",
       "    <tr style=\"text-align: right;\">\n",
       "      <th></th>\n",
       "      <th>index</th>\n",
       "      <th>colors</th>\n",
       "      <th>pattern_info</th>\n",
       "      <th>color_info</th>\n",
       "    </tr>\n",
       "  </thead>\n",
       "  <tbody>\n",
       "    <tr>\n",
       "      <th>8782</th>\n",
       "      <td>8782</td>\n",
       "      <td>bamboo</td>\n",
       "      <td>NaN</td>\n",
       "      <td>Bamboo (#75ae61)</td>\n",
       "    </tr>\n",
       "  </tbody>\n",
       "</table>\n",
       "</div>"
      ],
      "text/plain": [
       "      index  colors pattern_info        color_info\n",
       "8782   8782  bamboo          NaN  Bamboo (#75ae61)"
      ]
     },
     "execution_count": 15,
     "metadata": {},
     "output_type": "execute_result"
    }
   ],
   "source": [
    "df.sample()"
   ]
  },
  {
   "cell_type": "code",
   "execution_count": 16,
   "metadata": {},
   "outputs": [],
   "source": [
    "df.squeeze()\n",
    "df.to_csv(\"look.csv\", index=False)\n",
    "\n"
   ]
  },
  {
   "cell_type": "code",
   "execution_count": null,
   "metadata": {},
   "outputs": [],
   "source": []
  },
  {
   "cell_type": "code",
   "execution_count": null,
   "metadata": {},
   "outputs": [],
   "source": []
  }
 ],
 "metadata": {
  "kernelspec": {
   "display_name": "Python 3.9.12 ('tensorflow')",
   "language": "python",
   "name": "python3"
  },
  "language_info": {
   "codemirror_mode": {
    "name": "ipython",
    "version": 3
   },
   "file_extension": ".py",
   "mimetype": "text/x-python",
   "name": "python",
   "nbconvert_exporter": "python",
   "pygments_lexer": "ipython3",
   "version": "3.9.12"
  },
  "orig_nbformat": 4,
  "vscode": {
   "interpreter": {
    "hash": "08f33c96bfe48976e0772c3a4097c2fff4477ea59ec4556e2e8fa1251315c612"
   }
  }
 },
 "nbformat": 4,
 "nbformat_minor": 2
}
