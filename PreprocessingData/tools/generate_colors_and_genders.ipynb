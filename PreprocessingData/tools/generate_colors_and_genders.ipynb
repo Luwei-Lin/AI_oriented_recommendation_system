{
 "cells": [
  {
   "cell_type": "code",
   "execution_count": 1,
   "metadata": {
    "pycharm": {
     "name": "#%%\n"
    }
   },
   "outputs": [],
   "source": [
    "import pandas as pd\n"
   ]
  },
  {
   "cell_type": "code",
   "execution_count": 2,
   "metadata": {
    "pycharm": {
     "name": "#%%\n"
    }
   },
   "outputs": [],
   "source": [
    "dataset_df = pd.read_csv(\"./(V1.5)all_products_data_set.csv\")\n",
    "concat_df = pd.read_csv(\"/Users/luis/Downloads/Partially Labelled Dataset.csv\")\n",
    "original_df = pd.read_csv(\"/Users/luis/Downloads/products.csv\")"
   ]
  },
  {
   "cell_type": "code",
   "execution_count": 3,
   "metadata": {
    "pycharm": {
     "name": "#%%\n"
    }
   },
   "outputs": [
    {
     "data": {
      "text/plain": "Index(['Unnamed: 0', 'current_index', 'original_index', 'id', 'title', 'tags',\n       'product_type', 'product_type(modified)',\n       'match_most_similar_>80%_string', 'match_string_>60%_similarity',\n       'label_1st', 'label_2nd', 'label_3rd', 'gender', 'bucket_number',\n       'buckets', 'color', 'Hyperlink', 'url', 'patterns', 'raw_text'],\n      dtype='object')"
     },
     "execution_count": 3,
     "metadata": {},
     "output_type": "execute_result"
    }
   ],
   "source": [
    "concat_df.columns"
   ]
  },
  {
   "cell_type": "code",
   "execution_count": 4,
   "metadata": {
    "pycharm": {
     "name": "#%%\n"
    }
   },
   "outputs": [
    {
     "data": {
      "text/plain": "Index(['id', 'title', 'handle', 'vendor', 'tags', 'variants', 'images',\n       'options', 'rating', 'colors', 'sizes', 'buckets', 'body_html',\n       'business_name', 'compare_at_price', 'created_at', 'original_price',\n       'product_type', 'published_at', 'updated_at', 'is_on_sale',\n       'sale_ratio', 'place_id', 'url', 'gender', 'is_available', 'sh_id'],\n      dtype='object')"
     },
     "execution_count": 4,
     "metadata": {},
     "output_type": "execute_result"
    }
   ],
   "source": [
    "original_df.columns"
   ]
  },
  {
   "cell_type": "code",
   "execution_count": 5,
   "metadata": {
    "pycharm": {
     "name": "#%%\n"
    }
   },
   "outputs": [],
   "source": [
    "concat_df[\"id\"] = concat_df[\"id\"].astype(\"Int64\")\n"
   ]
  },
  {
   "cell_type": "code",
   "execution_count": 6,
   "metadata": {
    "pycharm": {
     "name": "#%%\n"
    }
   },
   "outputs": [],
   "source": [
    "for row in range(concat_df.shape[0]):\n",
    "    original_index = concat_df.loc[row][\"original_index\"]\n",
    "    original_name = original_df.loc[original_index][\"title\"]\n",
    "    original_id = (original_df.loc[original_index][\"id\"])\n",
    "    concat_df.loc[row, \"id\"] =  original_id\n",
    "    "
   ]
  },
  {
   "cell_type": "code",
   "execution_count": 7,
   "metadata": {
    "pycharm": {
     "name": "#%%\n"
    }
   },
   "outputs": [
    {
     "data": {
      "text/plain": "7660986695898"
     },
     "execution_count": 7,
     "metadata": {},
     "output_type": "execute_result"
    }
   ],
   "source": [
    "dataset_df.loc[5][\"id\"]\n"
   ]
  },
  {
   "cell_type": "code",
   "execution_count": 8,
   "metadata": {
    "pycharm": {
     "name": "#%%\n"
    }
   },
   "outputs": [
    {
     "data": {
      "text/plain": "Series([], Name: color, dtype: object)"
     },
     "execution_count": 8,
     "metadata": {},
     "output_type": "execute_result"
    }
   ],
   "source": [
    "concat_df.loc[concat_df.id == 7660986695898, \"color\"]"
   ]
  },
  {
   "cell_type": "code",
   "execution_count": 9,
   "metadata": {
    "pycharm": {
     "name": "#%%\n"
    }
   },
   "outputs": [],
   "source": [
    "gender_map = {\n",
    "    \"0\":\"unknown\",\n",
    "    \"1\":\"men\",\n",
    "    \"2\":\"women\",\n",
    "    \"3\":\"boys\",\n",
    "    \"4\":\"girls\",\n",
    "    \"5\":\"neutral\"\n",
    "}"
   ]
  },
  {
   "cell_type": "code",
   "execution_count": 10,
   "metadata": {
    "pycharm": {
     "name": "#%%\n"
    }
   },
   "outputs": [],
   "source": [
    "dataset_df.loc[dataset_df.id == 7660981813466, [\"gender\"]] = \"women\""
   ]
  },
  {
   "cell_type": "code",
   "execution_count": 11,
   "metadata": {
    "pycharm": {
     "name": "#%%\n"
    }
   },
   "outputs": [
    {
     "data": {
      "text/plain": "float"
     },
     "execution_count": 11,
     "metadata": {},
     "output_type": "execute_result"
    }
   ],
   "source": [
    "type(concat_df.loc[75][\"gender\"]) #empty cell "
   ]
  },
  {
   "cell_type": "code",
   "execution_count": 12,
   "metadata": {
    "pycharm": {
     "name": "#%%\n"
    }
   },
   "outputs": [
    {
     "name": "stdout",
     "output_type": "stream",
     "text": [
      "the color unknown:  12662 0.9682648925594556\n",
      "the gender unknown:  10249 0.7837424485738319\n"
     ]
    },
    {
     "data": {
      "text/plain": "(13077, 21)"
     },
     "execution_count": 12,
     "metadata": {},
     "output_type": "execute_result"
    }
   ],
   "source": [
    "c_g = 0\n",
    "c_c = 0\n",
    "for row in range(concat_df.shape[0]):\n",
    "    g = concat_df.loc[row][\"gender\"]\n",
    "    c = concat_df.loc[row][\"color\"]\n",
    "    if not isinstance(g, str):\n",
    "        c_g += 1\n",
    "    if not isinstance(c, str):\n",
    "        c_c += 1\n",
    "    if c == \"0\":\n",
    "        c_c += 1\n",
    "print(\"the color unknown: \",c_c,  c_c/concat_df.shape[0])\n",
    "print(\"the gender unknown: \",c_g,  c_g/concat_df.shape[0])\n",
    "concat_df.shape"
   ]
  },
  {
   "cell_type": "code",
   "execution_count": 13,
   "metadata": {
    "pycharm": {
     "name": "#%%\n"
    }
   },
   "outputs": [],
   "source": [
    "count_color = 0\n",
    "count_gender = 0\n",
    "\n",
    "for row in range(concat_df.shape[0]):\n",
    "    gender = concat_df.loc[row][\"gender\"]\n",
    "    colors_num = concat_df.loc[row][\"color\"]\n",
    "    concat_id = concat_df.loc[row][\"id\"]\n",
    "    \n",
    "    if isinstance(gender, str) and gender in gender_map.keys():\n",
    "        count_gender += 1\n",
    "        dataset_df.loc[dataset_df.id == concat_id, \"gender\"] = gender_map.get(gender)\n",
    "    \n",
    "    if isinstance(colors_num, str):\n",
    "        count_color += 1\n",
    "        dataset_df.loc[dataset_df.id == concat_id, \"color_num\"] = colors_num\n"
   ]
  },
  {
   "cell_type": "code",
   "execution_count": 15,
   "outputs": [
    {
     "data": {
      "text/plain": "13076"
     },
     "execution_count": 15,
     "metadata": {},
     "output_type": "execute_result"
    }
   ],
   "source": [
    "count_color"
   ],
   "metadata": {
    "collapsed": false,
    "pycharm": {
     "name": "#%%\n"
    }
   }
  },
  {
   "cell_type": "code",
   "execution_count": 23,
   "outputs": [],
   "source": [
    "#dataset_df.to_csv(\"(V1.6)all_products_data_set.csv\", index=False)"
   ],
   "metadata": {
    "collapsed": false,
    "pycharm": {
     "name": "#%%\n"
    }
   }
  },
  {
   "cell_type": "code",
   "execution_count": 24,
   "outputs": [
    {
     "name": "stdout",
     "output_type": "stream",
     "text": [
      "Empty cell in Gender : 0, unset: 11511, known_gender: 16915/28426 (0.5950538239639767)\n",
      "Empty cell in Colors : 19955, unset: 8068, known_gender: 403/28426 (0.01417716175332442)\n"
     ]
    }
   ],
   "source": [
    "empty_count_gender = 0\n",
    "unset_gender = 0\n",
    "known_gender = 0\n",
    "empty_count_color = 0\n",
    "unset_color = 0\n",
    "known_color = 0\n",
    "\n",
    "for row in range(dataset_df.shape[0]):\n",
    "    gender = dataset_df.loc[row]['gender']\n",
    "    color = dataset_df.loc[row]['color_num']\n",
    "    if not isinstance(gender, str):\n",
    "        #empty gender\n",
    "        empty_count_gender += 1\n",
    "    elif gender == 'unset':\n",
    "        unset_gender += 1\n",
    "    else:\n",
    "        known_gender += 1\n",
    "\n",
    "    if not isinstance(color, str):\n",
    "        #empty color_num\n",
    "        empty_count_color += 1\n",
    "    elif color == '0':\n",
    "        unset_color += 1\n",
    "    else:\n",
    "        known_color += 1\n",
    "print(\"Empty cell in Gender : {gender}, unset: {unset}, known_gender: {known}/{total} ({ratio})\".format(gender = empty_count_gender, unset = unset_gender, known = known_gender, total = dataset_df.shape[0], ratio = known_gender/dataset_df.shape[0]))\n",
    "print(\"Empty cell in Colors : {color}, unset: {unset}, known_gender: {known}/{total} ({ratio})\".format(color = empty_count_color, unset = unset_color, known = known_color, total = dataset_df.shape[0], ratio = known_color / dataset_df.shape[0]))\n"
   ],
   "metadata": {
    "collapsed": false,
    "pycharm": {
     "name": "#%%\n"
    }
   }
  },
  {
   "cell_type": "code",
   "execution_count": 34,
   "outputs": [
    {
     "name": "stdout",
     "output_type": "stream",
     "text": [
      "4681 28426 0.16467318651938367\n"
     ]
    }
   ],
   "source": [
    "color_S_missing = 0\n",
    "for row in range(dataset_df.shape[0]):\n",
    "    if not isinstance( dataset_df.loc[row][\"colors\"], str) or len(dataset_df.loc[row][\"colors\"]) < 3:\n",
    "        color_S_missing += 1\n",
    "print(color_S_missing, dataset_df.shape[0], color_S_missing/dataset_df.shape[0])"
   ],
   "metadata": {
    "collapsed": false,
    "pycharm": {
     "name": "#%%\n"
    }
   }
  },
  {
   "cell_type": "code",
   "execution_count": 31,
   "outputs": [
    {
     "data": {
      "text/plain": "2"
     },
     "execution_count": 31,
     "metadata": {},
     "output_type": "execute_result"
    }
   ],
   "source": [
    "len(dataset_df.loc[2][\"colors\"])"
   ],
   "metadata": {
    "collapsed": false,
    "pycharm": {
     "name": "#%%\n"
    }
   }
  },
  {
   "cell_type": "code",
   "execution_count": null,
   "outputs": [],
   "source": [],
   "metadata": {
    "collapsed": false,
    "pycharm": {
     "name": "#%%\n"
    }
   }
  }
 ],
 "metadata": {
  "kernelspec": {
   "display_name": "Python 3.9.12 ('tensorflow')",
   "language": "python",
   "name": "python3"
  },
  "language_info": {
   "codemirror_mode": {
    "name": "ipython",
    "version": 3
   },
   "file_extension": ".py",
   "mimetype": "text/x-python",
   "name": "python",
   "nbconvert_exporter": "python",
   "pygments_lexer": "ipython3",
   "version": "3.9.12"
  },
  "orig_nbformat": 4,
  "vscode": {
   "interpreter": {
    "hash": "08f33c96bfe48976e0772c3a4097c2fff4477ea59ec4556e2e8fa1251315c612"
   }
  }
 },
 "nbformat": 4,
 "nbformat_minor": 2
}