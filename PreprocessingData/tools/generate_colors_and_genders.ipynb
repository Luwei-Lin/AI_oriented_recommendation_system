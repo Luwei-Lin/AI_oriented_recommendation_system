{
 "cells": [
  {
   "cell_type": "code",
   "execution_count": 1,
   "metadata": {},
   "outputs": [],
   "source": [
    "import pandas as pd\n"
   ]
  },
  {
   "cell_type": "code",
   "execution_count": 21,
   "metadata": {},
   "outputs": [],
   "source": [
    "dataset_df = pd.read_csv(\"./(V1.5)all_products_data_set.csv\")\n",
    "concat_df = pd.read_csv(\"/Users/luis/Downloads/Partially Labelled Dataset.csv\")\n",
    "original_df = pd.read_csv(\"/Users/luis/Downloads/products.csv\")"
   ]
  },
  {
   "cell_type": "code",
   "execution_count": 24,
   "metadata": {},
   "outputs": [
    {
     "data": {
      "text/plain": [
       "Index(['Unnamed: 0', 'current_index', 'original_index', 'id', 'title', 'tags',\n",
       "       'product_type', 'product_type(modified)',\n",
       "       'match_most_similar_>80%_string', 'match_string_>60%_similarity',\n",
       "       'label_1st', 'label_2nd', 'label_3rd', 'gender', 'bucket_number',\n",
       "       'buckets', 'color', 'Hyperlink', 'url', 'patterns', 'raw_text'],\n",
       "      dtype='object')"
      ]
     },
     "execution_count": 24,
     "metadata": {},
     "output_type": "execute_result"
    }
   ],
   "source": [
    "concat_df.columns"
   ]
  },
  {
   "cell_type": "code",
   "execution_count": 4,
   "metadata": {},
   "outputs": [
    {
     "data": {
      "text/plain": [
       "Index(['index', 'id', 'title', 'tags', 'images', 'gender', 'product_type',\n",
       "       'product_type(modified)', 'main_category', 'sub_category',\n",
       "       'match_most_similar_>80%_string', 'match_most_similar_>60%_string',\n",
       "       'label_1st', 'label_2nd', 'label_3rd', 'buckets_num', 'buckets',\n",
       "       'color_num', 'colors', 'url', 'raw_text'],\n",
       "      dtype='object')"
      ]
     },
     "execution_count": 4,
     "metadata": {},
     "output_type": "execute_result"
    }
   ],
   "source": [
    "original_df.columns"
   ]
  },
  {
   "cell_type": "code",
   "execution_count": 55,
   "metadata": {},
   "outputs": [],
   "source": [
    "concat_df[\"id\"] = concat_df[\"id\"].astype(\"Int64\")\n"
   ]
  },
  {
   "cell_type": "code",
   "execution_count": 67,
   "metadata": {},
   "outputs": [],
   "source": [
    "for row in range(concat_df.shape[0]):\n",
    "    original_index = concat_df.loc[row][\"original_index\"]\n",
    "    original_name = original_df.loc[original_index][\"title\"]\n",
    "    original_id = (original_df.loc[original_index][\"id\"])\n",
    "    concat_df.loc[row, \"id\"] =  original_id\n",
    "    "
   ]
  },
  {
   "cell_type": "code",
   "execution_count": 126,
   "metadata": {},
   "outputs": [
    {
     "data": {
      "text/plain": [
       "7660986695898"
      ]
     },
     "execution_count": 126,
     "metadata": {},
     "output_type": "execute_result"
    }
   ],
   "source": [
    "dataset_df.loc[5][\"id\"]\n"
   ]
  },
  {
   "cell_type": "code",
   "execution_count": 127,
   "metadata": {},
   "outputs": [
    {
     "data": {
      "text/plain": [
       "Series([], Name: color, dtype: object)"
      ]
     },
     "execution_count": 127,
     "metadata": {},
     "output_type": "execute_result"
    }
   ],
   "source": [
    "concat_df.loc[concat_df.id == 7660986695898, \"color\"]"
   ]
  },
  {
   "cell_type": "code",
   "execution_count": 85,
   "metadata": {},
   "outputs": [],
   "source": [
    "gender_map = {\n",
    "    \"0\":\"unknown\",\n",
    "    \"1\":\"men\",\n",
    "    \"2\":\"women\",\n",
    "    \"3\":\"boys\",\n",
    "    \"4\":\"girls\",\n",
    "    \"5\":\"neutral\"\n",
    "}"
   ]
  },
  {
   "cell_type": "code",
   "execution_count": 99,
   "metadata": {},
   "outputs": [],
   "source": [
    "dataset_df.loc[dataset_df.id == 7660981813466, [\"gender\"]] = \"women\""
   ]
  },
  {
   "cell_type": "code",
   "execution_count": 86,
   "metadata": {},
   "outputs": [
    {
     "data": {
      "text/plain": [
       "float"
      ]
     },
     "execution_count": 86,
     "metadata": {},
     "output_type": "execute_result"
    }
   ],
   "source": [
    "type(concat_df.loc[75][\"gender\"]) #empty cell "
   ]
  },
  {
   "cell_type": "code",
   "execution_count": 135,
   "metadata": {},
   "outputs": [
    {
     "name": "stdout",
     "output_type": "stream",
     "text": [
      "the color unknown:  12662 0.9682648925594556\n",
      "the gender unknown:  10249 0.7837424485738319\n"
     ]
    },
    {
     "data": {
      "text/plain": [
       "(13077, 21)"
      ]
     },
     "execution_count": 135,
     "metadata": {},
     "output_type": "execute_result"
    }
   ],
   "source": [
    "c_g = 0\n",
    "c_c = 0\n",
    "for row in range(concat_df.shape[0]):\n",
    "    g = concat_df.loc[row][\"gender\"]\n",
    "    c = concat_df.loc[row][\"color\"]\n",
    "    if not isinstance(g, str):\n",
    "        c_g += 1\n",
    "    if not isinstance(c, str):\n",
    "        c_c += 1\n",
    "    if c == \"0\":\n",
    "        c_c += 1\n",
    "print(\"the color unknown: \",c_c,  c_c/concat_df.shape[0])\n",
    "print(\"the gender unknown: \",c_g,  c_g/concat_df.shape[0])\n",
    "concat_df.shape"
   ]
  },
  {
   "cell_type": "code",
   "execution_count": 136,
   "metadata": {},
   "outputs": [],
   "source": [
    "count_color = 0\n",
    "count_gender = 0\n",
    "\n",
    "for row in range(concat_df.shape[0]):\n",
    "    gender = concat_df.loc[row][\"gender\"]\n",
    "    colors_num = concat_df.loc[row][\"color\"]\n",
    "    concat_id = concat_df.loc[row][\"id\"]\n",
    "    \n",
    "    if isinstance(gender, str) and gender in gender_map.keys():\n",
    "        count_gender += 1\n",
    "        dataset_df.loc[dataset_df.id == concat_id, \"gender\"] = gender_map.get(gender)\n",
    "    \n",
    "    if isinstance(colors_num, str):\n",
    "        count_color += 1\n",
    "        dataset_df.loc[dataset_df.id == concat_id, \"color_num\"] = colors_num\n",
    "        "
   ]
  },
  {
   "cell_type": "code",
   "execution_count": 120,
   "metadata": {},
   "outputs": [],
   "source": [
    "dataset_df.to_csv(\"look.csv\", index=False)"
   ]
  }
 ],
 "metadata": {
  "kernelspec": {
   "display_name": "Python 3.9.12 ('tensorflow')",
   "language": "python",
   "name": "python3"
  },
  "language_info": {
   "codemirror_mode": {
    "name": "ipython",
    "version": 3
   },
   "file_extension": ".py",
   "mimetype": "text/x-python",
   "name": "python",
   "nbconvert_exporter": "python",
   "pygments_lexer": "ipython3",
   "version": "3.9.12"
  },
  "orig_nbformat": 4,
  "vscode": {
   "interpreter": {
    "hash": "08f33c96bfe48976e0772c3a4097c2fff4477ea59ec4556e2e8fa1251315c612"
   }
  }
 },
 "nbformat": 4,
 "nbformat_minor": 2
}
