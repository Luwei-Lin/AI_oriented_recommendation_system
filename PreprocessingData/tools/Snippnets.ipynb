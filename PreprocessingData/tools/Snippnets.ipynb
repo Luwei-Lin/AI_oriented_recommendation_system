{
 "cells": [
  {
   "cell_type": "code",
   "execution_count": 1,
   "metadata": {},
   "outputs": [],
   "source": [
    "import requests\n",
    "from bs4 import BeautifulSoup\n",
    "def DownLoadFromWeb(URL:str):\n",
    "    \"\"\"\n",
    "    Script to download content\n",
    "    Args:\n",
    "        URL (str): web site string\n",
    "    \"\"\"\n",
    "\n",
    "\n",
    "    # Specify the URL of the web page\n",
    "    url = URL\n",
    "\n",
    "    # Send a GET request to the web page\n",
    "    response = requests.get(url)\n",
    "\n",
    "    # Parse the HTML content of the response using BeautifulSoup\n",
    "    soup = BeautifulSoup(response.content, 'html.parser')\n",
    "\n",
    "    # Find the input field and button elements\n",
    "    input_field = soup.find('input', {'class': 'form-control link-input'})\n",
    "    button = soup.find('button', {'class': 'btn btn-default'})\n",
    "\n",
    "    # Enter content into the input field\n",
    "    input_field['value'] = 'https://www.youtube.com/watch?v=lhmeekdBObU&list=RDlhmeekdBObU&start_radio=1&ab_channel=MBCkpop'\n",
    "\n",
    "    # Get the form action URL and method\n",
    "    form_action = soup.find('form')['action']\n",
    "    form_method = soup.find('form')['method']\n",
    "\n",
    "    # Prepare the data for the form submission\n",
    "    data = {\n",
    "        'input_field_name': 'Your content goes here',\n",
    "        # Add any other form fields and their values here\n",
    "    }\n",
    "\n",
    "    # Submit the form by sending a POST request\n",
    "    submit_response = requests.post(form_action, data=data)\n",
    "\n",
    "    # Check the response status code\n",
    "    if submit_response.status_code == 200:\n",
    "        # Handle the response after submitting the form\n",
    "        # ...\n",
    "        print('Form submitted successfully')\n",
    "    else:\n",
    "        print('Form submission failed with status code:', submit_response.status_code)\n",
    "\n",
    "    \n"
   ]
  },
  {
   "cell_type": "code",
   "execution_count": 2,
   "metadata": {},
   "outputs": [
    {
     "ename": "TypeError",
     "evalue": "'NoneType' object is not subscriptable",
     "output_type": "error",
     "traceback": [
      "\u001b[0;31m---------------------------------------------------------------------------\u001b[0m",
      "\u001b[0;31mTypeError\u001b[0m                                 Traceback (most recent call last)",
      "\u001b[1;32m/Users/luis/Documents/GitHub/AI-Oriented-Recommendation-System/PreprocessingData/tools/Snippnets.ipynb Cell 2\u001b[0m in \u001b[0;36m<cell line: 1>\u001b[0;34m()\u001b[0m\n\u001b[0;32m----> <a href='vscode-notebook-cell:/Users/luis/Documents/GitHub/AI-Oriented-Recommendation-System/PreprocessingData/tools/Snippnets.ipynb#W1sZmlsZQ%3D%3D?line=0'>1</a>\u001b[0m DownLoadFromWeb(\u001b[39m'\u001b[39;49m\u001b[39mhttps://youtube.iiilab.com/\u001b[39;49m\u001b[39m'\u001b[39;49m)\n",
      "\u001b[1;32m/Users/luis/Documents/GitHub/AI-Oriented-Recommendation-System/PreprocessingData/tools/Snippnets.ipynb Cell 2\u001b[0m in \u001b[0;36mDownLoadFromWeb\u001b[0;34m(URL)\u001b[0m\n\u001b[1;32m     <a href='vscode-notebook-cell:/Users/luis/Documents/GitHub/AI-Oriented-Recommendation-System/PreprocessingData/tools/Snippnets.ipynb#W1sZmlsZQ%3D%3D?line=24'>25</a>\u001b[0m input_field[\u001b[39m'\u001b[39m\u001b[39mvalue\u001b[39m\u001b[39m'\u001b[39m] \u001b[39m=\u001b[39m \u001b[39m'\u001b[39m\u001b[39mhttps://www.youtube.com/watch?v=lhmeekdBObU&list=RDlhmeekdBObU&start_radio=1&ab_channel=MBCkpop\u001b[39m\u001b[39m'\u001b[39m\n\u001b[1;32m     <a href='vscode-notebook-cell:/Users/luis/Documents/GitHub/AI-Oriented-Recommendation-System/PreprocessingData/tools/Snippnets.ipynb#W1sZmlsZQ%3D%3D?line=26'>27</a>\u001b[0m \u001b[39m# Get the form action URL and method\u001b[39;00m\n\u001b[0;32m---> <a href='vscode-notebook-cell:/Users/luis/Documents/GitHub/AI-Oriented-Recommendation-System/PreprocessingData/tools/Snippnets.ipynb#W1sZmlsZQ%3D%3D?line=27'>28</a>\u001b[0m form_action \u001b[39m=\u001b[39m soup\u001b[39m.\u001b[39;49mfind(\u001b[39m'\u001b[39;49m\u001b[39mform\u001b[39;49m\u001b[39m'\u001b[39;49m)[\u001b[39m'\u001b[39;49m\u001b[39maction\u001b[39;49m\u001b[39m'\u001b[39;49m]\n\u001b[1;32m     <a href='vscode-notebook-cell:/Users/luis/Documents/GitHub/AI-Oriented-Recommendation-System/PreprocessingData/tools/Snippnets.ipynb#W1sZmlsZQ%3D%3D?line=28'>29</a>\u001b[0m form_method \u001b[39m=\u001b[39m soup\u001b[39m.\u001b[39mfind(\u001b[39m'\u001b[39m\u001b[39mform\u001b[39m\u001b[39m'\u001b[39m)[\u001b[39m'\u001b[39m\u001b[39mmethod\u001b[39m\u001b[39m'\u001b[39m]\n\u001b[1;32m     <a href='vscode-notebook-cell:/Users/luis/Documents/GitHub/AI-Oriented-Recommendation-System/PreprocessingData/tools/Snippnets.ipynb#W1sZmlsZQ%3D%3D?line=30'>31</a>\u001b[0m \u001b[39m# Prepare the data for the form submission\u001b[39;00m\n",
      "\u001b[0;31mTypeError\u001b[0m: 'NoneType' object is not subscriptable"
     ]
    }
   ],
   "source": [
    "DownLoadFromWeb('https://youtube.iiilab.com/')"
   ]
  }
 ],
 "metadata": {
  "kernelspec": {
   "display_name": "tensorflow",
   "language": "python",
   "name": "python3"
  },
  "language_info": {
   "codemirror_mode": {
    "name": "ipython",
    "version": 3
   },
   "file_extension": ".py",
   "mimetype": "text/x-python",
   "name": "python",
   "nbconvert_exporter": "python",
   "pygments_lexer": "ipython3",
   "version": "3.9.12"
  },
  "orig_nbformat": 4
 },
 "nbformat": 4,
 "nbformat_minor": 2
}
