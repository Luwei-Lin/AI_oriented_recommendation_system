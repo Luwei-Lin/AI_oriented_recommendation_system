{
 "cells": [
  {
   "cell_type": "code",
   "execution_count": 16,
   "metadata": {},
   "outputs": [],
   "source": [
    "import torch\n",
    "from transformers import AutoTokenizer, AutoModel\n",
    "from sklearn.svm import LinearSVC\n",
    "from sklearn.multioutput import MultiOutputClassifier\n",
    "from sklearn.metrics import precision_score, recall_score, f1_score, accuracy_score\n",
    "from sklearn.model_selection import train_test_split\n",
    "from sklearn.preprocessing import MultiLabelBinarizer\n",
    "import pandas as pd\n",
    "import numpy as np\n",
    "import text_cleaner as tc\n",
    "# Load your data into a pandas dataframe\n",
    "df = pd.read_csv(\"./buckets_dataset_5k.csv\")  # replace with the path to your data file\n",
    "for row in range(df.shape[0]):\n",
    "    df.loc[row, 'raw_text'] = tc.raw_content(df.loc[row, 'title'], None, df.loc[row, 'description'], None)\n",
    "# Extract input and target data\n",
    "X = df[\"raw_text\"].values  # input data\n",
    "# y_labels = df.drop(\"text\", axis=1).values.tolist()  # target labels as list of lists\n",
    "y_labels = []\n",
    "for i in range(len(df)):\n",
    "    labels = []\n",
    "    if not pd.isna(df['b1'][i]) and df['b1'][i] != 'undefined':\n",
    "        labels.append(df['b1'][i])\n",
    "    if not pd.isna(df['b2'][i]) and df['b2'][i] != 'undefined':\n",
    "        labels.append(df['b2'][i])\n",
    "    if not pd.isna(df['b3'][i]) and df['b3'][i] != 'undefined':\n",
    "        labels.append(df['b3'][i])\n",
    "    y_labels.append(labels)\n",
    "mlb = MultiLabelBinarizer()\n",
    "y = mlb.fit_transform(y_labels)  # target data as binary matrix"
   ]
  },
  {
   "cell_type": "code",
   "execution_count": 33,
   "metadata": {},
   "outputs": [],
   "source": [
    "df.to_csv(\"1_temp.csv\")"
   ]
  },
  {
   "cell_type": "code",
   "execution_count": 17,
   "metadata": {},
   "outputs": [
    {
     "data": {
      "text/plain": [
       "[['Casual', 'StreetWear'],\n",
       " ['Casual', 'ActiveWear'],\n",
       " ['Casual', 'Trendy', 'Bohemian'],\n",
       " ['Casual', 'ActiveWear'],\n",
       " ['Casual', 'ActiveWear', 'StreetWear']]"
      ]
     },
     "execution_count": 17,
     "metadata": {},
     "output_type": "execute_result"
    }
   ],
   "source": [
    "y_labels[0:5]"
   ]
  },
  {
   "cell_type": "code",
   "execution_count": 18,
   "metadata": {},
   "outputs": [
    {
     "data": {
      "text/plain": [
       "array(['Daniella Blouse Coral Whisp Linen Bamboo. Description An unstructured top in cool, breathableBamboo/Linen fabric. The Daniella has a ladylike shape, with a relaxed fit that makes it equally as boho. A box pleat in the centre-front of the top gives extra room where needed, and a slight sharkbite hemline is fluid across high-thigh. Wear the Daniella with slim or loose pants, depending on your preferences. Features -Box pleat in centre-front -Sharkbite hemline -Loose, relaxed fit -Full, 3/4 length sleeves Blue Sky fit guide - true to size. Fabric - 50% Bamboo, 50% Linen',\n",
       "       'Harvest Moon Plus2. SweetLegs is excited to introduce Harvest Moon SweetLegs to our 2019 leggings collection! Twirl into fall in this limited edition solid colour, perfect for boots and sweater weather! Harvest Moon SweetLegs shine when paired with brown over-the-knee boots, a white ruffle blouse, a royal blue knit cardigan, a wheat coloured panama hat, and a matching Harvest Moon SweetLegs Scrunchie .',\n",
       "       'Dress Faithfull The Brand Harmonita Midi Dress. Faithfull the Brand Harmonita midi dress A romantic style perfect for your next event or everyday wear, the Harmonita Midi Dress features a sweetheart neckline with gathered bust detailing, puff sleeves and a gathered midi length skirt. With an elasticated waist and hand-dyed in a timeless Plain White, this garment offers the perfect balance between easy-wearing and effortless femininity. Crafted from a crisp and slightly structured CottonPoplin- OEKO-TEX100®Certified fabrication . Garment is fully lined. Style with a lace up sandal or mule. MEASUREMENT DETAIL SIZE (CM) XS S M L XL 2XL Center Front 105 106 108 109 111 112 1/2 Waist Circ. Measurement (Waist Is Elasticated) 30 32 34 36 38 40 1/2 Bust Circ. Measurement 33 35 37 39 41 43',\n",
       "       'Into The Deep Plus2. Do you believe in lake monsters? SweetLegs is absolutely delighted to present Into The Deep, an exciting addition to our 2019 leggings collection! This adorable print pays homage to the local legend of the elusive Ogopogo with a sly green lake monster dipping and diving amongst deep blue lake waves. Conspiracy theorists and Okanagan locals alike will love wearing Into The Deep SweetLegs with a crisp white tunic tee, green flip flop sandals, a wide-brimmed sun hat, and binoculars for monster spotting! Don’t forget your Into The Deep Scrunchie! * Final Sale Item',\n",
       "       'DAKINE Poacher 30L Backcountry Backpack Women s Sparrow. A FULL-FEATURED WOMENS SPECIFIC SKI AND SNOWBOARD PACK FOR BACKCOUNTRY AND LIFT-ASSIST LAPS. New to our popular series of packs, the Women is Poacher 30L features all the technical features of its Poacher siblings in a women is specific profile. With an evolved backpanel construction to increase flex and optimize fit, this pack provides enough volume for full-day tours while ensuring top-notch comfort from dawn to dusk. Multiple carry options for your skis and helmet provide efficiency and ease on the journey up, and splitboard pole attachment loops keep things secure when it is time to make your descent. \\ufeffFeatures Limited Lifetime Warranty Non-padded laptop sleeve|Padded bottom panel 100% recycled high density nylon materials Diagonal and A-frame ski/splitboard carry Vertical snowboard carry Women’s specific fit DK Impact Spine Protector compatible (sold separately) Backpanel zippered main access Deployable helmet carry (Dual position) Oversized fleece lined goggle pocket Two-way radio handset and insulated hydration compatible Snow tool/shovel pocket Splitboard poles and ice axe carry loops Side and hipbelt pockets Snow shedding molded backpanel and padded hipbelt Reverse pull waist belt'],\n",
       "      dtype=object)"
      ]
     },
     "execution_count": 18,
     "metadata": {},
     "output_type": "execute_result"
    }
   ],
   "source": [
    "X[0:5]"
   ]
  },
  {
   "cell_type": "code",
   "execution_count": 19,
   "metadata": {},
   "outputs": [
    {
     "name": "stdout",
     "output_type": "stream",
     "text": [
      "[0 1 0 0 0 1 0 0 0 0 0] Harvest Moon Plus2. SweetLegs is excited to introduce Harvest Moon SweetLegs to our 2019 leggings collection! Twirl into fall in this limited edition solid colour, perfect for boots and sweater weather! Harvest Moon SweetLegs shine when paired with brown over-the-knee boots, a white ruffle blouse, a royal blue knit cardigan, a wheat coloured panama hat, and a matching Harvest Moon SweetLegs Scrunchie .\n"
     ]
    }
   ],
   "source": [
    "print(y[1], X[1])"
   ]
  },
  {
   "cell_type": "code",
   "execution_count": 31,
   "metadata": {},
   "outputs": [],
   "source": [
    "\n",
    "def embed(texts, model_name='gpt2'):\n",
    "    # Load the tokenizer and model\n",
    "    tokenizer = AutoTokenizer.from_pretrained(model_name)\n",
    "    model = AutoModel.from_pretrained(model_name)\n",
    "\n",
    "    tokenizer.add_special_tokens({'pad_token': '[PAD]'})\n",
    "    # Tokenize text data and generate document embeddings using GPT-2\n",
    "    embeddings = []\n",
    "    for text in texts:\n",
    "        encoded_input = tokenizer(text, padding=True, truncation=True, return_tensors='pt')\n",
    "        with torch.no_grad():\n",
    "            model_output = model(**encoded_input)[0]\n",
    "            doc_embedding = model_output.mean(dim=1).squeeze().tolist()\n",
    "            embeddings.append(doc_embedding)\n",
    "    \n",
    "    return embeddings\n"
   ]
  },
  {
   "cell_type": "code",
   "execution_count": 32,
   "metadata": {},
   "outputs": [
    {
     "name": "stderr",
     "output_type": "stream",
     "text": [
      "/Users/luis/miniforge3/envs/tensorflow/lib/python3.9/site-packages/sklearn/svm/_base.py:1225: ConvergenceWarning: Liblinear failed to converge, increase the number of iterations.\n",
      "  warnings.warn(\n",
      "/Users/luis/miniforge3/envs/tensorflow/lib/python3.9/site-packages/sklearn/svm/_base.py:1225: ConvergenceWarning: Liblinear failed to converge, increase the number of iterations.\n",
      "  warnings.warn(\n",
      "/Users/luis/miniforge3/envs/tensorflow/lib/python3.9/site-packages/sklearn/svm/_base.py:1225: ConvergenceWarning: Liblinear failed to converge, increase the number of iterations.\n",
      "  warnings.warn(\n",
      "/Users/luis/miniforge3/envs/tensorflow/lib/python3.9/site-packages/sklearn/svm/_base.py:1225: ConvergenceWarning: Liblinear failed to converge, increase the number of iterations.\n",
      "  warnings.warn(\n",
      "/Users/luis/miniforge3/envs/tensorflow/lib/python3.9/site-packages/sklearn/svm/_base.py:1225: ConvergenceWarning: Liblinear failed to converge, increase the number of iterations.\n",
      "  warnings.warn(\n",
      "/Users/luis/miniforge3/envs/tensorflow/lib/python3.9/site-packages/sklearn/svm/_base.py:1225: ConvergenceWarning: Liblinear failed to converge, increase the number of iterations.\n",
      "  warnings.warn(\n",
      "/Users/luis/miniforge3/envs/tensorflow/lib/python3.9/site-packages/sklearn/svm/_base.py:1225: ConvergenceWarning: Liblinear failed to converge, increase the number of iterations.\n",
      "  warnings.warn(\n",
      "/Users/luis/miniforge3/envs/tensorflow/lib/python3.9/site-packages/sklearn/svm/_base.py:1225: ConvergenceWarning: Liblinear failed to converge, increase the number of iterations.\n",
      "  warnings.warn(\n",
      "/Users/luis/miniforge3/envs/tensorflow/lib/python3.9/site-packages/sklearn/svm/_base.py:1225: ConvergenceWarning: Liblinear failed to converge, increase the number of iterations.\n",
      "  warnings.warn(\n",
      "/Users/luis/miniforge3/envs/tensorflow/lib/python3.9/site-packages/sklearn/svm/_base.py:1225: ConvergenceWarning: Liblinear failed to converge, increase the number of iterations.\n",
      "  warnings.warn(\n",
      "/Users/luis/miniforge3/envs/tensorflow/lib/python3.9/site-packages/sklearn/svm/_base.py:1225: ConvergenceWarning: Liblinear failed to converge, increase the number of iterations.\n",
      "  warnings.warn(\n"
     ]
    },
    {
     "data": {
      "text/html": [
       "<style>#sk-container-id-2 {color: black;background-color: white;}#sk-container-id-2 pre{padding: 0;}#sk-container-id-2 div.sk-toggleable {background-color: white;}#sk-container-id-2 label.sk-toggleable__label {cursor: pointer;display: block;width: 100%;margin-bottom: 0;padding: 0.3em;box-sizing: border-box;text-align: center;}#sk-container-id-2 label.sk-toggleable__label-arrow:before {content: \"▸\";float: left;margin-right: 0.25em;color: #696969;}#sk-container-id-2 label.sk-toggleable__label-arrow:hover:before {color: black;}#sk-container-id-2 div.sk-estimator:hover label.sk-toggleable__label-arrow:before {color: black;}#sk-container-id-2 div.sk-toggleable__content {max-height: 0;max-width: 0;overflow: hidden;text-align: left;background-color: #f0f8ff;}#sk-container-id-2 div.sk-toggleable__content pre {margin: 0.2em;color: black;border-radius: 0.25em;background-color: #f0f8ff;}#sk-container-id-2 input.sk-toggleable__control:checked~div.sk-toggleable__content {max-height: 200px;max-width: 100%;overflow: auto;}#sk-container-id-2 input.sk-toggleable__control:checked~label.sk-toggleable__label-arrow:before {content: \"▾\";}#sk-container-id-2 div.sk-estimator input.sk-toggleable__control:checked~label.sk-toggleable__label {background-color: #d4ebff;}#sk-container-id-2 div.sk-label input.sk-toggleable__control:checked~label.sk-toggleable__label {background-color: #d4ebff;}#sk-container-id-2 input.sk-hidden--visually {border: 0;clip: rect(1px 1px 1px 1px);clip: rect(1px, 1px, 1px, 1px);height: 1px;margin: -1px;overflow: hidden;padding: 0;position: absolute;width: 1px;}#sk-container-id-2 div.sk-estimator {font-family: monospace;background-color: #f0f8ff;border: 1px dotted black;border-radius: 0.25em;box-sizing: border-box;margin-bottom: 0.5em;}#sk-container-id-2 div.sk-estimator:hover {background-color: #d4ebff;}#sk-container-id-2 div.sk-parallel-item::after {content: \"\";width: 100%;border-bottom: 1px solid gray;flex-grow: 1;}#sk-container-id-2 div.sk-label:hover label.sk-toggleable__label {background-color: #d4ebff;}#sk-container-id-2 div.sk-serial::before {content: \"\";position: absolute;border-left: 1px solid gray;box-sizing: border-box;top: 0;bottom: 0;left: 50%;z-index: 0;}#sk-container-id-2 div.sk-serial {display: flex;flex-direction: column;align-items: center;background-color: white;padding-right: 0.2em;padding-left: 0.2em;position: relative;}#sk-container-id-2 div.sk-item {position: relative;z-index: 1;}#sk-container-id-2 div.sk-parallel {display: flex;align-items: stretch;justify-content: center;background-color: white;position: relative;}#sk-container-id-2 div.sk-item::before, #sk-container-id-2 div.sk-parallel-item::before {content: \"\";position: absolute;border-left: 1px solid gray;box-sizing: border-box;top: 0;bottom: 0;left: 50%;z-index: -1;}#sk-container-id-2 div.sk-parallel-item {display: flex;flex-direction: column;z-index: 1;position: relative;background-color: white;}#sk-container-id-2 div.sk-parallel-item:first-child::after {align-self: flex-end;width: 50%;}#sk-container-id-2 div.sk-parallel-item:last-child::after {align-self: flex-start;width: 50%;}#sk-container-id-2 div.sk-parallel-item:only-child::after {width: 0;}#sk-container-id-2 div.sk-dashed-wrapped {border: 1px dashed gray;margin: 0 0.4em 0.5em 0.4em;box-sizing: border-box;padding-bottom: 0.4em;background-color: white;}#sk-container-id-2 div.sk-label label {font-family: monospace;font-weight: bold;display: inline-block;line-height: 1.2em;}#sk-container-id-2 div.sk-label-container {text-align: center;}#sk-container-id-2 div.sk-container {/* jupyter's `normalize.less` sets `[hidden] { display: none; }` but bootstrap.min.css set `[hidden] { display: none !important; }` so we also need the `!important` here to be able to override the default hidden behavior on the sphinx rendered scikit-learn.org. See: https://github.com/scikit-learn/scikit-learn/issues/21755 */display: inline-block !important;position: relative;}#sk-container-id-2 div.sk-text-repr-fallback {display: none;}</style><div id=\"sk-container-id-2\" class=\"sk-top-container\"><div class=\"sk-text-repr-fallback\"><pre>MultiOutputClassifier(estimator=LinearSVC())</pre><b>In a Jupyter environment, please rerun this cell to show the HTML representation or trust the notebook. <br />On GitHub, the HTML representation is unable to render, please try loading this page with nbviewer.org.</b></div><div class=\"sk-container\" hidden><div class=\"sk-item sk-dashed-wrapped\"><div class=\"sk-label-container\"><div class=\"sk-label sk-toggleable\"><input class=\"sk-toggleable__control sk-hidden--visually\" id=\"sk-estimator-id-4\" type=\"checkbox\" ><label for=\"sk-estimator-id-4\" class=\"sk-toggleable__label sk-toggleable__label-arrow\">MultiOutputClassifier</label><div class=\"sk-toggleable__content\"><pre>MultiOutputClassifier(estimator=LinearSVC())</pre></div></div></div><div class=\"sk-parallel\"><div class=\"sk-parallel-item\"><div class=\"sk-item\"><div class=\"sk-label-container\"><div class=\"sk-label sk-toggleable\"><input class=\"sk-toggleable__control sk-hidden--visually\" id=\"sk-estimator-id-5\" type=\"checkbox\" ><label for=\"sk-estimator-id-5\" class=\"sk-toggleable__label sk-toggleable__label-arrow\">estimator: LinearSVC</label><div class=\"sk-toggleable__content\"><pre>LinearSVC()</pre></div></div></div><div class=\"sk-serial\"><div class=\"sk-item\"><div class=\"sk-estimator sk-toggleable\"><input class=\"sk-toggleable__control sk-hidden--visually\" id=\"sk-estimator-id-6\" type=\"checkbox\" ><label for=\"sk-estimator-id-6\" class=\"sk-toggleable__label sk-toggleable__label-arrow\">LinearSVC</label><div class=\"sk-toggleable__content\"><pre>LinearSVC()</pre></div></div></div></div></div></div></div></div></div></div>"
      ],
      "text/plain": [
       "MultiOutputClassifier(estimator=LinearSVC())"
      ]
     },
     "execution_count": 32,
     "metadata": {},
     "output_type": "execute_result"
    }
   ],
   "source": [
    "# # Load the GPT-2 tokenizer and model\n",
    "# tokenizer = AutoTokenizer.from_pretrained('gpt2')\n",
    "# model = AutoModel.from_pretrained('gpt2')\n",
    "# # Set the pad_token for the tokenizer\n",
    "# tokenizer.pad_token = tokenizer.eos_token\n",
    "# # Tokenize your text data and generate document embeddings using GPT-2\n",
    "# X_embeddings = []\n",
    "# for text in X:\n",
    "#     encoded_input = tokenizer(text, padding=True, truncation=True, return_tensors='pt')\n",
    "#     with torch.no_grad():\n",
    "#         model_output = model(**encoded_input)[0]\n",
    "#         embeddings = model_output.mean(dim=1).squeeze().tolist()\n",
    "#         X_embeddings.append(embeddings)\n",
    "\n",
    "X_embeddings = embed(X)\n",
    "# Split your data into training, validation, and testing sets\n",
    "X_train, X_test, y_train, y_test = train_test_split(X_embeddings, y, test_size=0.2, random_state=42)\n",
    "X_train, X_val, y_train, y_val = train_test_split(X_train, y_train, test_size=0.2, random_state=42)\n",
    "\n",
    "# Fit a MultiOutputClassifier with a LinearSVC estimator on your training data\n",
    "model = MultiOutputClassifier(LinearSVC())\n",
    "model.fit(X_train, y_train)\n"
   ]
  },
  {
   "cell_type": "code",
   "execution_count": 34,
   "metadata": {},
   "outputs": [
    {
     "data": {
      "text/html": [
       "<div>\n",
       "<style scoped>\n",
       "    .dataframe tbody tr th:only-of-type {\n",
       "        vertical-align: middle;\n",
       "    }\n",
       "\n",
       "    .dataframe tbody tr th {\n",
       "        vertical-align: top;\n",
       "    }\n",
       "\n",
       "    .dataframe thead th {\n",
       "        text-align: right;\n",
       "    }\n",
       "</style>\n",
       "<table border=\"1\" class=\"dataframe\">\n",
       "  <thead>\n",
       "    <tr style=\"text-align: right;\">\n",
       "      <th></th>\n",
       "      <th>precision</th>\n",
       "      <th>recall</th>\n",
       "      <th>f1-score</th>\n",
       "      <th>accuracy</th>\n",
       "    </tr>\n",
       "  </thead>\n",
       "  <tbody>\n",
       "    <tr>\n",
       "      <th>0</th>\n",
       "      <td>0.882302</td>\n",
       "      <td>0.882302</td>\n",
       "      <td>0.882302</td>\n",
       "      <td>0.882302</td>\n",
       "    </tr>\n",
       "    <tr>\n",
       "      <th>1</th>\n",
       "      <td>0.852659</td>\n",
       "      <td>0.852659</td>\n",
       "      <td>0.852659</td>\n",
       "      <td>0.852659</td>\n",
       "    </tr>\n",
       "    <tr>\n",
       "      <th>2</th>\n",
       "      <td>0.921534</td>\n",
       "      <td>0.921534</td>\n",
       "      <td>0.921534</td>\n",
       "      <td>0.921534</td>\n",
       "    </tr>\n",
       "    <tr>\n",
       "      <th>3</th>\n",
       "      <td>0.897995</td>\n",
       "      <td>0.897995</td>\n",
       "      <td>0.897995</td>\n",
       "      <td>0.897995</td>\n",
       "    </tr>\n",
       "    <tr>\n",
       "      <th>4</th>\n",
       "      <td>0.976460</td>\n",
       "      <td>0.976460</td>\n",
       "      <td>0.976460</td>\n",
       "      <td>0.976460</td>\n",
       "    </tr>\n",
       "    <tr>\n",
       "      <th>5</th>\n",
       "      <td>0.889276</td>\n",
       "      <td>0.889276</td>\n",
       "      <td>0.889276</td>\n",
       "      <td>0.889276</td>\n",
       "    </tr>\n",
       "    <tr>\n",
       "      <th>6</th>\n",
       "      <td>1.000000</td>\n",
       "      <td>1.000000</td>\n",
       "      <td>1.000000</td>\n",
       "      <td>1.000000</td>\n",
       "    </tr>\n",
       "    <tr>\n",
       "      <th>7</th>\n",
       "      <td>0.506539</td>\n",
       "      <td>0.506539</td>\n",
       "      <td>0.506539</td>\n",
       "      <td>0.506539</td>\n",
       "    </tr>\n",
       "    <tr>\n",
       "      <th>8</th>\n",
       "      <td>0.904969</td>\n",
       "      <td>0.904969</td>\n",
       "      <td>0.904969</td>\n",
       "      <td>0.904969</td>\n",
       "    </tr>\n",
       "    <tr>\n",
       "      <th>9</th>\n",
       "      <td>0.653008</td>\n",
       "      <td>0.653008</td>\n",
       "      <td>0.653008</td>\n",
       "      <td>0.653008</td>\n",
       "    </tr>\n",
       "    <tr>\n",
       "      <th>10</th>\n",
       "      <td>0.974717</td>\n",
       "      <td>0.974717</td>\n",
       "      <td>0.974717</td>\n",
       "      <td>0.974717</td>\n",
       "    </tr>\n",
       "  </tbody>\n",
       "</table>\n",
       "</div>"
      ],
      "text/plain": [
       "    precision    recall  f1-score  accuracy\n",
       "0    0.882302  0.882302  0.882302  0.882302\n",
       "1    0.852659  0.852659  0.852659  0.852659\n",
       "2    0.921534  0.921534  0.921534  0.921534\n",
       "3    0.897995  0.897995  0.897995  0.897995\n",
       "4    0.976460  0.976460  0.976460  0.976460\n",
       "5    0.889276  0.889276  0.889276  0.889276\n",
       "6    1.000000  1.000000  1.000000  1.000000\n",
       "7    0.506539  0.506539  0.506539  0.506539\n",
       "8    0.904969  0.904969  0.904969  0.904969\n",
       "9    0.653008  0.653008  0.653008  0.653008\n",
       "10   0.974717  0.974717  0.974717  0.974717"
      ]
     },
     "execution_count": 34,
     "metadata": {},
     "output_type": "execute_result"
    }
   ],
   "source": [
    "# Make predictions on your validation data and calculate evaluation metrics\n",
    "y_val_pred = model.predict(X_val)\n",
    "val_scores = []\n",
    "for i in range(y_val.shape[1]):\n",
    "    precision = precision_score(y_val[:, i], y_val_pred[:, i], average='micro')\n",
    "    recall = recall_score(y_val[:, i], y_val_pred[:, i], average='micro')\n",
    "    f1 = f1_score(y_val[:, i], y_val_pred[:, i], average='micro')\n",
    "    accuracy = accuracy_score(y_val[:, i], y_val_pred[:, i])\n",
    "    val_scores.append([precision, recall, f1, accuracy])\n",
    "val_scores = pd.DataFrame(val_scores, columns=[\"precision\", \"recall\", \"f1-score\", \"accuracy\"])\n",
    "\n",
    "# Make predictions on your testing data and calculate evaluation metrics\n",
    "y_test_pred = model.predict(X_test)\n",
    "test_scores = []\n",
    "for i in range(y_test.shape[1]):\n",
    "    precision = precision_score(y_test[:, i], y_test_pred[:, i], average='micro')\n",
    "    recall = recall_score(y_test[:, i], y_test_pred[:, i], average='micro')\n",
    "    f1 = f1_score(y_test[:, i], y_test_pred[:, i], average='micro')\n",
    "    accuracy = accuracy_score(y_test[:, i], y_test_pred[:, i])\n",
    "    test_scores.append([precision, recall, f1, accuracy])\n",
    "    \n",
    "test_scores = pd.DataFrame(test_scores, columns=[\"precision\", \"recall\", \"f1-score\", \"accuracy\"])\n",
    "\n",
    "test_scores"
   ]
  },
  {
   "cell_type": "code",
   "execution_count": 21,
   "metadata": {},
   "outputs": [
    {
     "name": "stdout",
     "output_type": "stream",
     "text": [
      "0 Accessories\n",
      "1 ActiveWear\n",
      "2 Beachwear\n",
      "3 Bohemian\n",
      "4 BusinessCasual\n",
      "5 Casual\n",
      "6 Coaster\n",
      "7 StreetWear\n",
      "8 Swimwear\n",
      "9 Trendy\n",
      "10 Vintage\n"
     ]
    }
   ],
   "source": [
    "#Check each class represents\n",
    "label=mlb.classes_\n",
    "i=0\n",
    "for l in label:\n",
    "    print(i, l)\n",
    "    i = i+1"
   ]
  },
  {
   "cell_type": "code",
   "execution_count": 35,
   "metadata": {},
   "outputs": [],
   "source": [
    "\n",
    "def predict_labels(text):\n",
    "    # Generate embedding for input text\n",
    "    embedding = embed(text)\n",
    "\n",
    "    # Predict labels using the trained model\n",
    "    y_pred = model.predict(embedding)\n",
    "    \n",
    "    # Convert predicted binary matrix to label strings\n",
    "    predicted_labels = mlb.inverse_transform(y_pred)\n",
    "    \n",
    "    # Sort predicted labels in descending order based on predicted values\n",
    "    sorted_labels = sorted(zip(predicted_labels[0], y_pred[0]), key=lambda x: x[1], reverse=True)\n",
    "    \n",
    "    # Return top 3 label strings\n",
    "    top_labels = [label for label, value in sorted_labels[:3]]\n",
    "    \n",
    "    return top_labels\n"
   ]
  },
  {
   "cell_type": "code",
   "execution_count": 24,
   "metadata": {},
   "outputs": [
    {
     "name": "stdout",
     "output_type": "stream",
     "text": [
      "['Casual', 'Swimwear']\n"
     ]
    }
   ],
   "source": [
    "text = 'Harvest Moon Plus2. SweetLegs is excited to introduce Harvest Moon SweetLegs to our 2019 leggings collection! Twirl into fall in this limited edition solid colour, perfect for boots and sweater weather! Harvest Moon SweetLegs shine when paired with brown over-the-knee boots, a white ruffle blouse, a royal blue knit cardigan, a wheat coloured panama hat, and a matching Harvest Moon SweetLegs Scrunchie .'\n",
    "top_labels = predict_labels(text)\n",
    "print(top_labels)"
   ]
  },
  {
   "cell_type": "code",
   "execution_count": 36,
   "metadata": {},
   "outputs": [
    {
     "name": "stdout",
     "output_type": "stream",
     "text": [
      "Labels for 'Cozy knit sweater in a rich shade of burgundy.': ['Casual', 'Swimwear']\n",
      "Labels for 'ASleek black leather jacket with silver hardware.': ['Casual', 'Swimwear']\n",
      "Labels for 'A flowy midi dress in a colorful floral print.': ['Casual', 'Swimwear']\n",
      "Labels for 'A classic white button-up shirt with a tailored fit.': ['Casual', 'Swimwear']\n",
      "Labels for 'A trendy pair of high-waisted wide leg pants.': ['Casual', 'Swimwear']\n",
      "Labels for 'A comfortable cotton t-shirt with a vintage graphic print.': ['Casual', 'Swimwear']\n",
      "Labels for 'A chic camel-colored trench coat for a timeless look.': ['Casual', 'Swimwear']\n",
      "Labels for 'A bold statement coat in a vibrant shade of cobalt blue.': ['Casual', 'Swimwear']\n",
      "Labels for 'A versatile denim jacket with distressed details.': ['Casual', 'Swimwear']\n",
      "Labels for 'A sophisticated silk blouse with a subtle print.': ['Casual', 'Swimwear']\n"
     ]
    }
   ],
   "source": [
    "clothing_descriptions = [    \n",
    "    \"Cozy knit sweater in a rich shade of burgundy.\",   \n",
    "    \"ASleek black leather jacket with silver hardware.\",    \n",
    "    \"A flowy midi dress in a colorful floral print.\",    \n",
    "    \"A classic white button-up shirt with a tailored fit.\",    \n",
    "    \"A trendy pair of high-waisted wide leg pants.\",    \n",
    "    \"A comfortable cotton t-shirt with a vintage graphic print.\",    \n",
    "    \"A chic camel-colored trench coat for a timeless look.\",    \n",
    "    \"A bold statement coat in a vibrant shade of cobalt blue.\",    \n",
    "    \"A versatile denim jacket with distressed details.\",    \n",
    "    \"A sophisticated silk blouse with a subtle print.\"\n",
    "]\n",
    "for description in clothing_descriptions:\n",
    "    labels = predict_labels(description)\n",
    "    print(f\"Labels for '{description}': {labels}\")\n"
   ]
  },
  {
   "cell_type": "code",
   "execution_count": null,
   "metadata": {},
   "outputs": [],
   "source": []
  }
 ],
 "metadata": {
  "kernelspec": {
   "display_name": "tensorflow",
   "language": "python",
   "name": "python3"
  },
  "language_info": {
   "codemirror_mode": {
    "name": "ipython",
    "version": 3
   },
   "file_extension": ".py",
   "mimetype": "text/x-python",
   "name": "python",
   "nbconvert_exporter": "python",
   "pygments_lexer": "ipython3",
   "version": "3.9.12"
  },
  "orig_nbformat": 4
 },
 "nbformat": 4,
 "nbformat_minor": 2
}
