{
 "cells": [
  {
   "cell_type": "code",
   "execution_count": 1,
   "metadata": {},
   "outputs": [],
   "source": [
    "import pandas as pd\n",
    "import matplotlib.pyplot as plt"
   ]
  },
  {
   "cell_type": "code",
   "execution_count": 94,
   "metadata": {},
   "outputs": [
    {
     "name": "stdout",
     "output_type": "stream",
     "text": [
      "b2_categories:  ['Accessories', 'ActiveWear', 'Beachwear', 'Bohemian', 'BusinessCasual', 'Casual', 'StreetWear', 'Swimwear', 'Trendy', 'Vintage']\n",
      "buckets_map:  {'Accessories': 0, 'ActiveWear': 0, 'Beachwear': 0, 'Bohemian': 0, 'BusinessCasual': 0, 'Casual': 0, 'StreetWear': 0, 'Swimwear': 0, 'Trendy': 0, 'Vintage': 0}\n"
     ]
    }
   ],
   "source": [
    "df = pd.read_csv(\"../data/labelled_buckets_dataset.csv\")\n",
    "all_categories = list(df.groupby('b2').groups.keys())\n",
    "tags = [0 for i in range(len(all_categories))]\n",
    "buckets_map = dict(zip(all_categories, tags))\n",
    "\n",
    "print(\"b2_categories: \",all_categories)\n",
    "print(\"buckets_map: \", buckets_map)"
   ]
  },
  {
   "attachments": {},
   "cell_type": "markdown",
   "metadata": {},
   "source": [
    "# 1. reshape dataset from 5735 dataset\n",
    "# id product_title product_description, [10 categories]\n",
    "\n"
   ]
  },
  {
   "cell_type": "code",
   "execution_count": 95,
   "metadata": {},
   "outputs": [],
   "source": [
    "for category in all_categories:\n",
    "    df.insert(len(df.columns), category, 0)"
   ]
  },
  {
   "cell_type": "code",
   "execution_count": 96,
   "metadata": {},
   "outputs": [],
   "source": [
    "\n",
    "for row in range(df.shape[0]):\n",
    "    b1 = df.loc[row, 'b1']\n",
    "    b2 = df.loc[row, 'b2']\n",
    "    b3 = df.loc[row, 'b3']\n",
    "    \n",
    "    if isinstance(b1, str):\n",
    "        if b1 != 'undefined' :\n",
    "            if b1 != 'Casual':\n",
    "                df.loc[row, b1] = 1\n",
    "    if isinstance(b2, str):\n",
    "        if b2 != 'undefined':\n",
    "            df.loc[row, b2] = 1\n",
    "    if isinstance(b3, str):\n",
    "        if b3 != 'undefined':\n",
    "            df.loc[row, b3] = 1"
   ]
  },
  {
   "cell_type": "code",
   "execution_count": 97,
   "metadata": {},
   "outputs": [],
   "source": [
    "df.to_csv(\"./buckets_dataset_5k.csv\", index=False)"
   ]
  },
  {
   "cell_type": "code",
   "execution_count": 98,
   "metadata": {},
   "outputs": [
    {
     "data": {
      "image/png": "[encoded data removed]",
      "text/plain": [
       "<Figure size 576x432 with 1 Axes>"
      ]
     },
     "metadata": {
      "needs_background": "light"
     },
     "output_type": "display_data"
    }
   ],
   "source": [
    "fig = plt.figure(figsize=(8,6))\n",
    "df[all_categories].sum().plot.bar()\n",
    "plt.show()"
   ]
  },
  {
   "cell_type": "code",
   "execution_count": null,
   "metadata": {},
   "outputs": [],
   "source": [
    " "
   ]
  }
 ],
 "metadata": {
  "kernelspec": {
   "display_name": "tensorflow",
   "language": "python",
   "name": "python3"
  },
  "language_info": {
   "codemirror_mode": {
    "name": "ipython",
    "version": 3
   },
   "file_extension": ".py",
   "mimetype": "text/x-python",
   "name": "python",
   "nbconvert_exporter": "python",
   "pygments_lexer": "ipython3",
   "version": "3.9.12"
  },
  "orig_nbformat": 4,
  "vscode": {
   "interpreter": {
    "hash": "08f33c96bfe48976e0772c3a4097c2fff4477ea59ec4556e2e8fa1251315c612"
   }
  }
 },
 "nbformat": 4,
 "nbformat_minor": 2
}
