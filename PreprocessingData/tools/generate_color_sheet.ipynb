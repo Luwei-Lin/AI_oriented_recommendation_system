{
 "cells": [
  {
   "cell_type": "markdown",
   "metadata": {},
   "source": [
    "### Through Color-name.com, we generate color name with hex number.\n",
    "###### July 19 2022 Luis Lin"
   ]
  },
  {
   "cell_type": "code",
   "execution_count": 83,
   "metadata": {},
   "outputs": [],
   "source": [
    "#scrap\n",
    "import requests\n",
    "from bs4 import BeautifulSoup\n",
    "import json"
   ]
  },
  {
   "cell_type": "code",
   "execution_count": 55,
   "metadata": {},
   "outputs": [],
   "source": [
    "main_colors = [\"Black\", \"Blue\", \"Brown\", \"Green\", \\\n",
    "    \"Grey\", \"Orange\", \"Pink\", \"Purple\", \\\n",
    "    \"Red\", \"Tan\", \"White\", \"Yellow\"]\n",
    "#Search results\n",
    "#{main_color : {sub_color: sub_color_hex, }}\n",
    "#{\"Black\" : {\"Black\": \"hex\", \"Blackberry Cream\": \"#D9D3DA\"...},\n",
    "# \"Blue\" : {\"Special Blue: \"color_hex\", ...}\n",
    "# \"Brown\": {...}\n",
    "# ...\n",
    "# }\n",
    "\n",
    "search_results = {}\n",
    "\n",
    "#{\"color_name\": \"color_hex\"}\n",
    "global color_name_map \n",
    "color_name_map = {}\n"
   ]
  },
  {
   "cell_type": "code",
   "execution_count": 87,
   "metadata": {},
   "outputs": [],
   "source": [
    "class main_color:\n",
    "    sub_color = {}\n",
    "    def __init__(self, name):\n",
    "        self.sub_color = {}\n",
    "        self.name = name\n",
    "    def set_new_sub_color(self, sub_color_name, sub_color_hex):\n",
    "        self.sub_color.update({sub_color_name : sub_color_hex})\n",
    "    def get_sub_color(self, sub_color_)->str:\n",
    "        res = \"\"\n",
    "        if sub_color_ not in self.sub_color.keys():\n",
    "            print(\"{sub_color_name} doesn't exist in the {main_color}\".format(sub_color_name = sub_color_, main_color= self.name))\n",
    "            return res\n",
    "        res =  self.sub_color.get(sub_color_)\n",
    "        assert res != None\n",
    "        return res\n",
    "    \n",
    "    def get_dict(self):\n",
    "        return self.sub_color\n",
    "    def get_name(self):\n",
    "        return self.name"
   ]
  },
  {
   "cell_type": "code",
   "execution_count": 86,
   "metadata": {},
   "outputs": [],
   "source": [
    "def process_results(results, main_color_name: main_color):\n",
    "    \n",
    "    for result in results:\n",
    "        sub_color_name = result.find(\"h2\").text.strip()\n",
    "        sub_color_hex = result.find(\"span\").text.strip()\n",
    "        #update color_name_map\n",
    "        \n",
    "        if sub_color_name not in color_name_map.keys():\n",
    "            color_name_map.update({sub_color_name: sub_color_hex})\n",
    "        #update the sub_colors dict of main_color \n",
    "        name = main_color_name.get_name() \n",
    "        if name in list(sub_color_name):\n",
    "            main_color_name.set_new_sub_color(sub_color_name, sub_color_hex)\n",
    "        \n",
    "        \n",
    "        "
   ]
  },
  {
   "cell_type": "code",
   "execution_count": 88,
   "metadata": {},
   "outputs": [],
   "source": [
    "colors = []\n",
    "for c in main_colors:\n",
    "    URL = \"https://www.color-name.com/search/\"\n",
    "    URL += c + \"/page/\"\n",
    "    resutls = set()\n",
    "    #create new class main_color\n",
    "    new_color = main_color(c)\n",
    "    #sub-colors pages\n",
    "    for i in range(0, 100):\n",
    "        try:\n",
    "            URL += str(i)\n",
    "            \n",
    "            page = requests.get(URL)\n",
    "            soup = BeautifulSoup(page.content, \"html.parser\")\n",
    "            results = soup.find_all(\"div\", class_ = \"title-info\")\n",
    "            #store this page useful information to the color_name_map\n",
    "            process_results(results, new_color)\n",
    "        except:\n",
    "            break\n",
    "    \n",
    "    colors.append(new_color)"
   ]
  },
  {
   "cell_type": "code",
   "execution_count": 95,
   "metadata": {},
   "outputs": [],
   "source": [
    "#color_name_map \n"
   ]
  },
  {
   "cell_type": "code",
   "execution_count": 96,
   "metadata": {},
   "outputs": [],
   "source": [
    "import pandas as pd\n",
    "df_1 = pd.read_csv(\"/Users/luis/Downloads/colourNames.csv\")\n",
    "df_2 = pd.read_csv(\"/Users/luis/Downloads/color_names.csv\")"
   ]
  },
  {
   "cell_type": "code",
   "execution_count": 126,
   "metadata": {},
   "outputs": [],
   "source": [
    "def RGB2Hex(red:int , green:int, blue:int)-> str:\n",
    "    #get three different color number and transfer to hex number str\n",
    "    hex_table = ['0', '1', '2', '3', '4', '5', '6', '7', '8', '9', 'A', 'B', 'C', 'D', 'E', 'F']\n",
    "    R = hex_table[int(red/16)] + hex_table[red % 16]\n",
    "    G = hex_table[int(green/16)] + hex_table[green % 16]\n",
    "    B = hex_table[int(blue/16)] + hex_table[blue % 16]\n",
    "    res = \"#\" + R + G + B\n",
    "    \n",
    "    return res\n",
    "    "
   ]
  },
  {
   "cell_type": "code",
   "execution_count": 111,
   "metadata": {},
   "outputs": [],
   "source": [
    "for row in range(df_2.shape[0]):\n",
    "    color_name = df_2.loc[row]['Name']\n",
    "    color_hex = df_2.loc[row]['Hex (24 bit)']\n",
    "    if color_name not in color_name_map.keys():\n",
    "        color_name_map.update({color_name: color_hex})\n",
    "    "
   ]
  },
  {
   "cell_type": "code",
   "execution_count": 127,
   "metadata": {},
   "outputs": [],
   "source": [
    "for row in range(df_1.shape[0]):\n",
    "    color_name = df_1.loc[row]['Color_name']\n",
    "    color_list = df_1.loc[row][' RGB_value'].removeprefix(\"[\").removesuffix(\"]\").split(\", \")\n",
    "    color_hex = \"\"\n",
    "    try:    \n",
    "        color_hex = RGB2Hex(int(color_list[0]), int(color_list[1]), int(color_list[2]))\n",
    "    except:\n",
    "        print(row, color_list)\n",
    "        break\n",
    "    if color_name not in color_name_map.keys():\n",
    "        color_name_map.update({color_name: color_hex})\n",
    "\n",
    "    \n",
    "    "
   ]
  },
  {
   "cell_type": "code",
   "execution_count": 130,
   "metadata": {},
   "outputs": [],
   "source": [
    "#out_file = open(\"./json_files/color_name_map.json\", \"w\")\n",
    "#json.dump(color_name_map, out_file, indent=6)"
   ]
  },
  {
   "cell_type": "code",
   "execution_count": 136,
   "metadata": {},
   "outputs": [
    {
     "name": "stdout",
     "output_type": "stream",
     "text": [
      "{}\n",
      "{}\n",
      "{}\n",
      "{}\n",
      "{}\n",
      "{}\n",
      "{}\n",
      "{}\n",
      "{}\n",
      "{}\n",
      "{}\n",
      "{}\n"
     ]
    }
   ],
   "source": [
    "for c in colors:\n",
    "    print(c.get_dict())"
   ]
  },
  {
   "cell_type": "code",
   "execution_count": null,
   "metadata": {},
   "outputs": [],
   "source": []
  }
 ],
 "metadata": {
  "kernelspec": {
   "display_name": "Python 3.9.12 ('tensorflow')",
   "language": "python",
   "name": "python3"
  },
  "language_info": {
   "codemirror_mode": {
    "name": "ipython",
    "version": 3
   },
   "file_extension": ".py",
   "mimetype": "text/x-python",
   "name": "python",
   "nbconvert_exporter": "python",
   "pygments_lexer": "ipython3",
   "version": "3.9.12"
  },
  "orig_nbformat": 4,
  "vscode": {
   "interpreter": {
    "hash": "08f33c96bfe48976e0772c3a4097c2fff4477ea59ec4556e2e8fa1251315c612"
   }
  }
 },
 "nbformat": 4,
 "nbformat_minor": 2
}
