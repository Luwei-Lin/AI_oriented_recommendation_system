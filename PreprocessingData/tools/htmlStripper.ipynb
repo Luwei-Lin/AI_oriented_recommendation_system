{
 "cells": [
  {
   "cell_type": "code",
   "execution_count": 3,
   "metadata": {},
   "outputs": [
    {
     "name": "stdout",
     "output_type": "stream",
     "text": [
      "For a fashionable look, this long collarless cotton shirt offers easy versatility; wear on its own or layered under a jacket. Single breast pocket.Cotton 95% - Elastane 5%Model is 6\", 155lbs  wearing size Med\n"
     ]
    }
   ],
   "source": [
    "import re\n",
    "import json\n",
    "import lxml.html.clean\n",
    "def cleanhtml(raw_html):\n",
    "    raw_html = lxml.html.clean.clean_html(raw_html)\n",
    "    cleanr = re.compile('<.*?>')\n",
    "    cleantext = re.sub(cleanr, '', raw_html)\n",
    "    cleantext = re.sub(\"\\n\", \"\", cleantext)\n",
    "    cleantext = re.sub(\"¬†\", \" \", cleantext)\n",
    "    cleantext = re.sub(\"&amp;\", \" \", cleantext)\n",
    "    return cleantext\n",
    "#if you get a json file and then load to raw_json and then clean the <html tags>\n",
    "#raw_json = json.load(the raw_json format strings)\n",
    "raw_json =  {\n",
    "    \"body_html\": \"<meta charset=\\\"utf-8\\\"><meta charset=\\\"utf-8\\\">\\n<div class=\\\"pdp-main__benefits-description col-100\\\">\\n<p>For a fashionable look, this long collarless cotton shirt offers easy versatility; wear on its own or layered under a jacket. Single breast pocket.</p></div>\\n<div class=\\\"_183fe6\\\">\\n<div class=\\\"_f6a381\\\"><br></div>\\n</div>\\n<div class=\\\"_183fe6\\\"><div class=\\\"_97a1aa _7d70f3 _f6a381\\\" data-tstid=\\\"theDetails-part2\\\">\\n<div class=\\\"_27067c _f6a381\\\">\\n<p class=\\\"_373b06\\\">Cotton 95% - Elastane 5%</p>\\n</div>\\n<div class=\\\"_27067c _f6a381\\\">\\n<div data-tstid=\\\"details-wearing\\\">\\n<p class=\\\"_d4797a\\\" data-tstid=\\\"modelFittingInformation\\\">Model is 6\\\", 155lbs  wearing size Med</p>\\n</div>\\n</div>\\n</div>\\n</div>\",\n",
    "    \"created_at\": \"2020-04-24T07:58:23.000Z\",\n",
    "    \"product_type\": \"mens shirts\",\n",
    "    \"published_at\": \"2020-04-24T07:58:23.000Z\",\n",
    "    \"updated_at\": \"2022-02-04T18:41:29.000Z\",\n",
    "    \"colors\": [],\n",
    "    \"gender\": \"men\",\n",
    "    \"compare_at_price\": 10000,\n",
    "    \"original_price\": 5900,\n",
    "    \"sizes\": []\n",
    "}\n",
    "\n",
    "raw_html = raw_json[\"body_html\"]\n",
    "print(cleanhtml(raw_html))\n"
   ]
  },
  {
   "cell_type": "markdown",
   "metadata": {},
   "source": [
    "Vibrant all over front &amp; back design100% premium soft-spun polyesterPrint will never fade, crack or wrinkleHandmade with love in North America, just for you!Ships out in 7 - 10 business days.\n"
   ]
  },
  {
   "cell_type": "code",
   "execution_count": 21,
   "metadata": {},
   "outputs": [
    {
     "name": "stdout",
     "output_type": "stream",
     "text": [
      "A Bond-Eye original and bestseller, The Malibu Set is the perfect combination of sexy and supportive. Featuring the classic scoop neckline, low back of the Malibu crop, and the moderate cheeky cut brief of the Scene, this set is a go-to swim wardrobe staple. FEATURES:Scoop Neckline Moderate CoverageSold as Set Body Hugging, One Size FitCrinkle Extra-stretch FabricUnlined Made from 95% Nylon/ 5% ElastaneDesigned and made in Australia.Care NotesWe recommend hand washing in cold water. Dry flat in a shady spot out of direct sunlight. Do not wring out or hang dry. Chlorinated water is not great and can cause colours to fade. Please make sure you always wash your swimsuit well after swimming in chlorinated water. We recommend swimsuit cleaner to keep your swimsuit looking amazing.\n"
     ]
    }
   ],
   "source": [
    "html2 = \"<p data-mce-fragment=\"\"1\"\"><span>A Bond-Eye original and bestseller, The Malibu Set is the perfect combination of sexy and supportive.¬†</span><span>Featuring the classic scoop neckline, low back of the Malibu crop, and the moderate cheeky cut brief of the Scene, this set is a go-to swim wardrobe staple.</span><br></p>\\\n",
    "<p data-mce-fragment=\"\"1\"\"><span data-mce-fragment=\"\"1\"\" style=\"\"font-weight: 400;\"\" data-mce-style=\"\"font-weight: 400;\"\">¬†</span><b data-mce-fragment=\"\"1\"\">FEATURES:</b></p>\\\n",
    "<ul data-mce-fragment=\"\"1\"\">\\\n",
    "<li data-mce-fragment=\"\"1\"\" style=\"\"font-weight: 400;\"\" data-mce-style=\"\"font-weight: 400;\"\"><span data-mce-fragment=\"\"1\"\" style=\"\"font-weight: 400;\"\" data-mce-style=\"\"font-weight: 400;\"\">Scoop Neckline¬†</span></li>\\\n",
    "<li data-mce-fragment=\"\"1\"\" style=\"\"font-weight: 400;\"\" data-mce-style=\"\"font-weight: 400;\"\"><span data-mce-fragment=\"\"1\"\" style=\"\"font-weight: 400;\"\" data-mce-style=\"\"font-weight: 400;\"\">Moderate Coverage</span></li>\\\n",
    "<li data-mce-fragment=\"\"1\"\" style=\"\"font-weight: 400;\"\" data-mce-style=\"\"font-weight: 400;\"\"><span data-mce-fragment=\"\"1\"\" style=\"\"font-weight: 400;\"\" data-mce-style=\"\"font-weight: 400;\"\">Sold as Set¬†</span></li>\\\n",
    "<li data-mce-fragment=\"\"1\"\" style=\"\"font-weight: 400;\"\" data-mce-style=\"\"font-weight: 400;\"\"><span data-mce-fragment=\"\"1\"\" style=\"\"font-weight: 400;\"\" data-mce-style=\"\"font-weight: 400;\"\">Body Hugging, One Size Fit</span></li>\\\n",
    "<li data-mce-fragment=\"\"1\"\" style=\"\"font-weight: 400;\"\" data-mce-style=\"\"font-weight: 400;\"\"><span data-mce-fragment=\"\"1\"\" style=\"\"font-weight: 400;\"\" data-mce-style=\"\"font-weight: 400;\"\">Crinkle Extra-stretch Fabric</span></li>\\\n",
    "<li data-mce-fragment=\"\"1\"\" style=\"\"font-weight: 400;\"\" data-mce-style=\"\"font-weight: 400;\"\">\\\n",
    "<span data-mce-fragment=\"\"1\"\" style=\"\"font-weight: 400;\"\" data-mce-style=\"\"font-weight: 400;\"\">Unlined</span><b data-mce-fragment=\"\"1\"\">¬†</b>\\\n",
    "</li>\\\n",
    "<li data-mce-fragment=\"\"1\"\" style=\"\"font-weight: 400;\"\" data-mce-style=\"\"font-weight: 400;\"\"><span data-mce-fragment=\"\"1\"\" style=\"\"font-weight: 400;\"\" data-mce-style=\"\"font-weight: 400;\"\">Made from 95% Nylon/ 5% Elastane</span></li>\\\n",
    "</ul>\\\n",
    "<p style=\"\"text-align: center;\"\"><span data-mce-fragment=\"\"1\"\" style=\"\"font-weight: 400;\"\" data-mce-style=\"\"font-weight: 400;\"\"><b>Designed and made in Australia.</b></span></p>\\\n",
    "<h5 data-mce-fragment=\"\"1\"\" style=\"\"text-align: left;\"\"><strong>Care Notes</strong></h5>\\\n",
    "<p><strong></strong>We recommend hand washing in cold water. Dry flat in a shady spot out of direct sunlight. Do not wring out or hang dry.¬†</p>\\\n",
    "<p>Chlorinated water is not great and can cause colours to fade. Please make sure you always wash your swimsuit well after swimming in chlorinated water. We recommend swimsuit cleaner to keep your swimsuit looking amazing.</p>\"\n",
    "print(cleanhtml(html2))"
   ]
  },
  {
   "cell_type": "code",
   "execution_count": 29,
   "metadata": {},
   "outputs": [
    {
     "name": "stdout",
     "output_type": "stream",
     "text": [
      "The Betty is a high waisted bottom with a silhouette that elongates the leg. This flattering bottom features a contour ruched back, a ruffle waist detail, high leg with clean finish, AND a cheeky coverage. What a total Betty! FEATURES: High Waist Adjustable Tie Front DrawstringRuffle Wait Detail Contour-ruched Back Made from 84% Polyester / 16% SpandexMade by Women for Women.Model Stats: Modeled in a size 1Care NotesWe recommend hand washing in cold water. Dry flat in a shady spot out of direct sunlight. Do not wring out or hang dry. Chlorinated water is not great and can cause colours to fade. Please make sure you always wash your swimsuit well after swimming in chlorinated water. We recommend swimsuit cleaner to keep your swimsuit looking amazing.\n"
     ]
    }
   ],
   "source": [
    "html3 = \"<meta charset=\"\"utf-8\"\">\\\n",
    "<p class=\"\"p1\"\" data-mce-fragment=\"\"1\"\">The Betty is a high waisted bottom with a silhouette that elongates the leg. This flattering bottom features a contour ruched back, a ruffle waist detail, high leg with clean finish, AND a cheeky coverage. What a total Betty!¬†<br data-mce-fragment=\"\"1\"\"></p>\\\n",
    "<p class=\"\"p1\"\" data-mce-fragment=\"\"1\"\"><b data-mce-fragment=\"\"1\"\">FEATURES:</b>¬†</p>\\\n",
    "<ul class=\"\"ul1\"\" data-mce-fragment=\"\"1\"\">\\\n",
    "<li class=\"\"li1\"\" data-mce-fragment=\"\"1\"\">\\\n",
    "<span class=\"\"s1\"\" data-mce-fragment=\"\"1\"\"></span>High Waist¬†</li>\\\n",
    "<li class=\"\"li1\"\" data-mce-fragment=\"\"1\"\">\\\n",
    "<span class=\"\"s1\"\" data-mce-fragment=\"\"1\"\"></span>Adjustable Tie Front Drawstring</li>\\\n",
    "<li class=\"\"li1\"\" data-mce-fragment=\"\"1\"\">\\\n",
    "<span class=\"\"s1\"\" data-mce-fragment=\"\"1\"\"></span>Ruffle Wait Detail¬†<br data-mce-fragment=\"\"1\"\">\\\n",
    "</li>\\\n",
    "<li class=\"\"li1\"\" data-mce-fragment=\"\"1\"\">\\\n",
    "<span class=\"\"s1\"\" data-mce-fragment=\"\"1\"\"></span>Contour-ruched Back¬†<br data-mce-fragment=\"\"1\"\">\\\n",
    "</li>\\\n",
    "<li class=\"\"li1\"\" data-mce-fragment=\"\"1\"\">\\\n",
    "<span class=\"\"s1\"\" data-mce-fragment=\"\"1\"\"></span>Made from¬†84% Polyester / 16% Spandex</li>\\\n",
    "</ul>\\\n",
    "<div class=\"\"p2\"\" style=\"\"text-align: center;\"\" data-mce-fragment=\"\"1\"\"><b data-mce-fragment=\"\"1\"\">Made by Women for Women.</b></div>\\\n",
    "<div class=\"\"p2\"\" style=\"\"text-align: center;\"\" data-mce-fragment=\"\"1\"\">\\\n",
    "<p class=\"\"p1\"\" style=\"\"text-align: left;\"\"><i>Model Stats:¬†</i></p>\\\n",
    "<ul class=\"\"ul1\"\">\\\n",
    "<li class=\"\"li1\"\" style=\"\"text-align: left;\"\">\\\n",
    "<span class=\"\"s1\"\"></span><em>Modeled in a size 1</em><br>\\\n",
    "</li>\\\n",
    "</ul>\\\n",
    "</div>\\\n",
    "<h5 data-mce-fragment=\"\"1\"\" style=\"\"text-align: left;\"\"><strong>Care Notes</strong></h5>\\\n",
    "<p><strong></strong>We recommend hand washing in cold water. Dry flat in a shady spot out of direct sunlight. Do not wring out or hang dry.¬†</p>\\\n",
    "<p>Chlorinated water is not great and can cause colours to fade. Please make sure you always wash your swimsuit well after swimming in chlorinated water. We recommend swimsuit cleaner to keep your swimsuit looking amazing.</p>\"\n",
    "def get_special_tag_product_description(raw_html):\n",
    "    tag = 'p' #if we just want to extract the content inside the <p> ..{content}. </p>\n",
    "    reg_str = '<' + tag + \">(.*?)</\" + tag + '>'\n",
    "    cleanText = re.findall(reg_str, raw_html)\n",
    "    return cleanText\n",
    "\n",
    "print(cleanhtml(html3))"
   ]
  },
  {
   "cell_type": "code",
   "execution_count": 33,
   "metadata": {},
   "outputs": [
    {
     "data": {
      "text/html": [
       "<span class=\"tex2jax_ignore\"><div class=\"entities\" style=\"line-height: 2.5; direction: ltr\">The \n",
       "<mark class=\"entity\" style=\"background: #7aecec; padding: 0.45em 0.6em; margin: 0 0.25em; line-height: 1; border-radius: 0.35em;\">\n",
       "    Betty\n",
       "    <span style=\"font-size: 0.8em; font-weight: bold; line-height: 1; border-radius: 0.35em; vertical-align: middle; margin-left: 0.5rem\">ORG</span>\n",
       "</mark>\n",
       " is a high waisted bottom with a silhouette that elongates the leg. This flattering bottom features a contour ruched back, a ruffle waist detail, high leg with clean finish, AND a cheeky coverage. What a total \n",
       "<mark class=\"entity\" style=\"background: #7aecec; padding: 0.45em 0.6em; margin: 0 0.25em; line-height: 1; border-radius: 0.35em;\">\n",
       "    Betty\n",
       "    <span style=\"font-size: 0.8em; font-weight: bold; line-height: 1; border-radius: 0.35em; vertical-align: middle; margin-left: 0.5rem\">ORG</span>\n",
       "</mark>\n",
       "! FEATURES: High Waist Adjustable Tie Front DrawstringRuffle Wait Detail Contour-ruched Back Made from 84% Polyester / 16% SpandexMade by \n",
       "<mark class=\"entity\" style=\"background: #7aecec; padding: 0.45em 0.6em; margin: 0 0.25em; line-height: 1; border-radius: 0.35em;\">\n",
       "    Women for Women\n",
       "    <span style=\"font-size: 0.8em; font-weight: bold; line-height: 1; border-radius: 0.35em; vertical-align: middle; margin-left: 0.5rem\">ORG</span>\n",
       "</mark>\n",
       ".Model Stats: Modeled in a size 1Care NotesWe recommend hand washing in cold water. Dry flat in a shady spot out of direct sunlight. Do not wring out or hang dry. Chlorinated water is not great and can cause colours to fade. Please make sure you always wash your swimsuit well after swimming in chlorinated water. We recommend swimsuit cleaner to keep your swimsuit looking amazing.</div></span>"
      ],
      "text/plain": [
       "<IPython.core.display.HTML object>"
      ]
     },
     "metadata": {},
     "output_type": "display_data"
    },
    {
     "data": {
      "text/html": [
       "<span class=\"tex2jax_ignore\"><div class=\"entities\" style=\"line-height: 2.5; direction: ltr\">The \n",
       "<mark class=\"entity\" style=\"background: #7aecec; padding: 0.45em 0.6em; margin: 0 0.25em; line-height: 1; border-radius: 0.35em;\">\n",
       "    Betty\n",
       "    <span style=\"font-size: 0.8em; font-weight: bold; line-height: 1; border-radius: 0.35em; vertical-align: middle; margin-left: 0.5rem\">ORG</span>\n",
       "</mark>\n",
       " is a high waisted bottom with \n",
       "<mark class=\"entity\" style=\"background: #ddd; padding: 0.45em 0.6em; margin: 0 0.25em; line-height: 1; border-radius: 0.35em;\">\n",
       "    a silhouette that\n",
       "    <span style=\"font-size: 0.8em; font-weight: bold; line-height: 1; border-radius: 0.35em; vertical-align: middle; margin-left: 0.5rem\">OC</span>\n",
       "</mark>\n",
       " elongates the leg. This flattering bottom features a contour ruched back, a ruffle waist detail, high leg with clean finish, AND a cheeky coverage. What a total \n",
       "<mark class=\"entity\" style=\"background: #7aecec; padding: 0.45em 0.6em; margin: 0 0.25em; line-height: 1; border-radius: 0.35em;\">\n",
       "    Betty\n",
       "    <span style=\"font-size: 0.8em; font-weight: bold; line-height: 1; border-radius: 0.35em; vertical-align: middle; margin-left: 0.5rem\">ORG</span>\n",
       "</mark>\n",
       "! FEATURES: High Waist Adjustable Tie Front DrawstringRuffle Wait Detail Contour-ruched Back Made from \n",
       "<mark class=\"entity\" style=\"background: #e4e7d2; padding: 0.45em 0.6em; margin: 0 0.25em; line-height: 1; border-radius: 0.35em;\">\n",
       "    84%\n",
       "    <span style=\"font-size: 0.8em; font-weight: bold; line-height: 1; border-radius: 0.35em; vertical-align: middle; margin-left: 0.5rem\">PERCENT</span>\n",
       "</mark>\n",
       " Polyester / \n",
       "<mark class=\"entity\" style=\"background: #e4e7d2; padding: 0.45em 0.6em; margin: 0 0.25em; line-height: 1; border-radius: 0.35em;\">\n",
       "    16%\n",
       "    <span style=\"font-size: 0.8em; font-weight: bold; line-height: 1; border-radius: 0.35em; vertical-align: middle; margin-left: 0.5rem\">PERCENT</span>\n",
       "</mark>\n",
       " SpandexMade by \n",
       "<mark class=\"entity\" style=\"background: #7aecec; padding: 0.45em 0.6em; margin: 0 0.25em; line-height: 1; border-radius: 0.35em;\">\n",
       "    Women for Women\n",
       "    <span style=\"font-size: 0.8em; font-weight: bold; line-height: 1; border-radius: 0.35em; vertical-align: middle; margin-left: 0.5rem\">ORG</span>\n",
       "</mark>\n",
       ".Model Stats: Modeled in a size 1Care NotesWe recommend hand washing in cold water. Dry flat in a shady spot out of direct sunlight. Do not wring out or hang dry. Chlorinated water is not great and can cause colours to fade. Please make sure you always wash your swimsuit well after swimming in chlorinated water. We recommend swimsuit cleaner to keep your swimsuit looking amazing.</div></span>"
      ],
      "text/plain": [
       "<IPython.core.display.HTML object>"
      ]
     },
     "metadata": {},
     "output_type": "display_data"
    }
   ],
   "source": [
    "import spacy\n",
    "from spacy import displacy\n",
    "from spacy.tokens import Span\n",
    "\n",
    "nlp = spacy.load(\"en_core_web_lg\")\n",
    "doc = nlp(cleanhtml(html3))\n",
    "OC = doc.vocab.strings['OC']\n",
    "new_ent = Span(doc, 8, 11, label=OC)\n",
    "#displacy.render(doc, style='ent')\n",
    "doc.ents = list(doc.ents) + [new_ent]\n",
    "doc.ents\n",
    "displacy.render(docs=doc, style='ent', options={'ents': ['ORG']},jupyter=True)\n",
    "displacy.render(doc, style= 'ent')"
   ]
  },
  {
   "cell_type": "code",
   "execution_count": 37,
   "metadata": {},
   "outputs": [
    {
     "data": {
      "text/plain": [
       "327"
      ]
     },
     "execution_count": 37,
     "metadata": {},
     "output_type": "execute_result"
    }
   ],
   "source": []
  },
  {
   "cell_type": "code",
   "execution_count": null,
   "metadata": {},
   "outputs": [],
   "source": []
  }
 ],
 "metadata": {
  "interpreter": {
   "hash": "08f33c96bfe48976e0772c3a4097c2fff4477ea59ec4556e2e8fa1251315c612"
  },
  "kernelspec": {
   "display_name": "Python 3.9.12",
   "language": "python",
   "name": "python3"
  },
  "language_info": {
   "codemirror_mode": {
    "name": "ipython",
    "version": 3
   },
   "file_extension": ".py",
   "mimetype": "text/x-python",
   "name": "python",
   "nbconvert_exporter": "python",
   "pygments_lexer": "ipython3",
   "version": "3.9.12"
  },
  "orig_nbformat": 4
 },
 "nbformat": 4,
 "nbformat_minor": 2
}
