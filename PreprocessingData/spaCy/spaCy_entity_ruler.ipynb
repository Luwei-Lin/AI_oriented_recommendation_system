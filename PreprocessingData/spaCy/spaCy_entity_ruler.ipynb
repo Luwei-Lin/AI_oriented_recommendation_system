{
 "cells": [
  {
   "cell_type": "code",
   "execution_count": 1,
   "metadata": {},
   "outputs": [
    {
     "name": "stdout",
     "output_type": "stream",
     "text": [
      "Init Plugin\n",
      "Init Graph Optimizer\n",
      "Init Kernel\n"
     ]
    }
   ],
   "source": [
    "from spacy.lang.en import English\n",
    "from common import create_tops_patterns\n",
    "import spacy"
   ]
  },
  {
   "cell_type": "code",
   "execution_count": 25,
   "metadata": {},
   "outputs": [
    {
     "data": {
      "text/plain": [
       "[[{'LOWER': 't'}, {'IS_PUNCT': True, 'OP': '?'}, {'LOWER': 'shirt'}],\n",
       " [{'LEMMA': {'IN': ['jacket',\n",
       "     'camisole',\n",
       "     'shirt',\n",
       "     'coat',\n",
       "     'sweater',\n",
       "     'blouse',\n",
       "     'kimono',\n",
       "     'cardigan',\n",
       "     'hoodie',\n",
       "     'vest',\n",
       "     'poncho',\n",
       "     'blazer',\n",
       "     'sweatshirt',\n",
       "     '2aistcoat',\n",
       "     'bralette',\n",
       "     'bra',\n",
       "     'jersey',\n",
       "     't',\n",
       "     'tee',\n",
       "     'tank',\n",
       "     'crop',\n",
       "     'croptee',\n",
       "     'croptop',\n",
       "     'tanktop',\n",
       "     'top',\n",
       "     'coverup']},\n",
       "   'POS': {'NOT_IN': ['ADJ']}}],\n",
       " [{'LEMMA': 'tank'}, {'IS_PUNCT': True, 'OP': '?'}, {'LEMMA': 'top'}]]"
      ]
     },
     "execution_count": 25,
     "metadata": {},
     "output_type": "execute_result"
    }
   ],
   "source": [
    "create_tops_patterns()"
   ]
  },
  {
   "cell_type": "code",
   "execution_count": 3,
   "metadata": {},
   "outputs": [
    {
     "data": {
      "text/plain": [
       "\"\\n#old_version spaCy 2.0 and not usable anymore\\nnlp = English()\\nruler = EntityRuler(nlp)\\nruler.add_patterns([{'label':'TOPS', 'pattern': p} for p in create_tops_patterns()])\\nnlp.add_pipe(ruler)\\n\""
      ]
     },
     "execution_count": 3,
     "metadata": {},
     "output_type": "execute_result"
    }
   ],
   "source": [
    "'''\n",
    "#old_version spaCy 2.0 and not usable anymore\n",
    "nlp = English()\n",
    "ruler = EntityRuler(nlp)\n",
    "ruler.add_patterns([{'label':'TOPS', 'pattern': p} for p in create_tops_patterns()])\n",
    "nlp.add_pipe(ruler)\n",
    "'''\n"
   ]
  },
  {
   "cell_type": "code",
   "execution_count": 50,
   "metadata": {},
   "outputs": [],
   "source": [
    "#initilize empty pipeline model\n",
    "# nlp = English()\n",
    "nlp = spacy.load(\"en_core_web_sm\")\n",
    "#nlp = spacy.blank(\"en\")\n",
    "#intilize EntityRuler\n",
    "entity_ruler_TOPS = nlp.add_pipe(\"entity_ruler\")\n"
   ]
  },
  {
   "cell_type": "code",
   "execution_count": 51,
   "metadata": {},
   "outputs": [
    {
     "data": {
      "text/plain": [
       "[('tok2vec', <spacy.pipeline.tok2vec.Tok2Vec at 0x17b637040>),\n",
       " ('tagger', <spacy.pipeline.tagger.Tagger at 0x17c7f9340>),\n",
       " ('parser', <spacy.pipeline.dep_parser.DependencyParser at 0x17bb0aeb0>),\n",
       " ('attribute_ruler',\n",
       "  <spacy.pipeline.attributeruler.AttributeRuler at 0x17c7fb6c0>),\n",
       " ('lemmatizer', <spacy.lang.en.lemmatizer.EnglishLemmatizer at 0x17c95a4c0>),\n",
       " ('ner', <spacy.pipeline.ner.EntityRecognizer at 0x17c9db040>),\n",
       " ('entity_ruler', <spacy.pipeline.entityruler.EntityRuler at 0x17b7b55c0>)]"
      ]
     },
     "execution_count": 51,
     "metadata": {},
     "output_type": "execute_result"
    }
   ],
   "source": [
    "nlp.pipeline"
   ]
  },
  {
   "cell_type": "code",
   "execution_count": 52,
   "metadata": {},
   "outputs": [
    {
     "data": {
      "text/plain": [
       "('ner', <spacy.pipeline.ner.EntityRecognizer at 0x17c9db040>)"
      ]
     },
     "execution_count": 52,
     "metadata": {},
     "output_type": "execute_result"
    }
   ],
   "source": [
    "nlp.remove_pipe('ner')\n"
   ]
  },
  {
   "cell_type": "code",
   "execution_count": 53,
   "metadata": {},
   "outputs": [],
   "source": [
    "entity_ruler_TOPS.add_patterns([{'label':'TOPS', 'pattern': p} for p in create_tops_patterns()])"
   ]
  },
  {
   "cell_type": "code",
   "execution_count": 54,
   "metadata": {},
   "outputs": [
    {
     "data": {
      "text/plain": [
       "[('tok2vec', <spacy.pipeline.tok2vec.Tok2Vec at 0x17b637040>),\n",
       " ('tagger', <spacy.pipeline.tagger.Tagger at 0x17c7f9340>),\n",
       " ('parser', <spacy.pipeline.dep_parser.DependencyParser at 0x17bb0aeb0>),\n",
       " ('attribute_ruler',\n",
       "  <spacy.pipeline.attributeruler.AttributeRuler at 0x17c7fb6c0>),\n",
       " ('lemmatizer', <spacy.lang.en.lemmatizer.EnglishLemmatizer at 0x17c95a4c0>),\n",
       " ('entity_ruler', <spacy.pipeline.entityruler.EntityRuler at 0x17b7b55c0>)]"
      ]
     },
     "execution_count": 54,
     "metadata": {},
     "output_type": "execute_result"
    }
   ],
   "source": [
    "nlp.pipeline"
   ]
  },
  {
   "cell_type": "code",
   "execution_count": 55,
   "metadata": {},
   "outputs": [
    {
     "name": "stdout",
     "output_type": "stream",
     "text": [
      "[('hoodie', 'TOPS'), ('hoodie', 'TOPS'), ('tops', 'TOPS'), ('hoodie', 'TOPS'), ('tops', 'TOPS')]\n"
     ]
    }
   ],
   "source": [
    "import common as c\n",
    "s = c.clean_product_description(\"The Tempo Hoodie TOPS is the UPF 50+ activewear you've been looking for! It has thumbholes, a kangaroo pocket, and a hood for when the sun is too hot or you forgot your hat. Our Fitness Hoodie TOPS is made out of our Active Athlon fabric with the added bonus of our Cooltect™ technology. You can be active in this fitted Fitness Hoodie TOPS without getting uncomfortably hot. So go ahead and enjoy sun-safe biking, walking, running and so much more!Highlights:UPF 50+Raglan long sleeves with thumbholesWelt kangaroo pocketHoodedActive Athlon™ fabric: Lightweight and breathable with moisture wicking for quick dry performanceCooltect™ technology accelerates moisture wicking to keep you cooler and more comfortable\")\n",
    "\n",
    "doc = nlp(s)\n",
    "print([(ent.text, ent.label_) for ent in doc.ents])"
   ]
  },
  {
   "cell_type": "code",
   "execution_count": 56,
   "metadata": {},
   "outputs": [
    {
     "data": {
      "text/plain": [
       "(hoodie, hoodie, tops, hoodie, tops)"
      ]
     },
     "execution_count": 56,
     "metadata": {},
     "output_type": "execute_result"
    }
   ],
   "source": [
    "doc.ents"
   ]
  },
  {
   "cell_type": "code",
   "execution_count": 48,
   "metadata": {},
   "outputs": [
    {
     "data": {
      "text/html": [
       "<span class=\"tex2jax_ignore\"><div class=\"entities\" style=\"line-height: 2.5; direction: ltr\">\n",
       "<mark class=\"entity\" style=\"background: #ddd; padding: 0.45em 0.6em; margin: 0 0.25em; line-height: 1; border-radius: 0.35em;\">\n",
       "    Tokyo Tower\n",
       "    <span style=\"font-size: 0.8em; font-weight: bold; line-height: 1; border-radius: 0.35em; vertical-align: middle; margin-left: 0.5rem\">BUILDING</span>\n",
       "</mark>\n",
       " is 333m tall.</div></span>"
      ],
      "text/plain": [
       "<IPython.core.display.HTML object>"
      ]
     },
     "metadata": {},
     "output_type": "display_data"
    },
    {
     "name": "stderr",
     "output_type": "stream",
     "text": [
      "/Users/luis/miniforge3/envs/tensorflow/lib/python3.9/site-packages/spacy/displacy/__init__.py:133: UserWarning: [W005] Doc object not parsed. This means displaCy won't be able to generate a dependency visualization for it. Make sure the Doc was processed with a model that supports dependency parsing, and not just a language class like `English()`. For more info, see the docs:\n",
      "https://spacy.io/usage/models\n",
      "  warnings.warn(Warnings.W005)\n"
     ]
    },
    {
     "data": {
      "text/html": [
       "<span class=\"tex2jax_ignore\"><svg xmlns=\"http://www.w3.org/2000/svg\" xmlns:xlink=\"http://www.w3.org/1999/xlink\" xml:lang=\"en\" id=\"35895c0d74af472f8c017b4126dd6857-0\" class=\"displacy\" width=\"1100\" height=\"137.0\" direction=\"ltr\" style=\"max-width: none; height: 137.0px; color: #000000; background: #ffffff; font-family: Arial; direction: ltr\">\n",
       "<text class=\"displacy-token\" fill=\"currentColor\" text-anchor=\"middle\" y=\"47.0\">\n",
       "    <tspan class=\"displacy-word\" fill=\"currentColor\" x=\"50\">Tokyo</tspan>\n",
       "    <tspan class=\"displacy-tag\" dy=\"2em\" fill=\"currentColor\" x=\"50\"></tspan>\n",
       "</text>\n",
       "\n",
       "<text class=\"displacy-token\" fill=\"currentColor\" text-anchor=\"middle\" y=\"47.0\">\n",
       "    <tspan class=\"displacy-word\" fill=\"currentColor\" x=\"225\">Tower</tspan>\n",
       "    <tspan class=\"displacy-tag\" dy=\"2em\" fill=\"currentColor\" x=\"225\"></tspan>\n",
       "</text>\n",
       "\n",
       "<text class=\"displacy-token\" fill=\"currentColor\" text-anchor=\"middle\" y=\"47.0\">\n",
       "    <tspan class=\"displacy-word\" fill=\"currentColor\" x=\"400\">is</tspan>\n",
       "    <tspan class=\"displacy-tag\" dy=\"2em\" fill=\"currentColor\" x=\"400\"></tspan>\n",
       "</text>\n",
       "\n",
       "<text class=\"displacy-token\" fill=\"currentColor\" text-anchor=\"middle\" y=\"47.0\">\n",
       "    <tspan class=\"displacy-word\" fill=\"currentColor\" x=\"575\">333</tspan>\n",
       "    <tspan class=\"displacy-tag\" dy=\"2em\" fill=\"currentColor\" x=\"575\"></tspan>\n",
       "</text>\n",
       "\n",
       "<text class=\"displacy-token\" fill=\"currentColor\" text-anchor=\"middle\" y=\"47.0\">\n",
       "    <tspan class=\"displacy-word\" fill=\"currentColor\" x=\"750\">m</tspan>\n",
       "    <tspan class=\"displacy-tag\" dy=\"2em\" fill=\"currentColor\" x=\"750\"></tspan>\n",
       "</text>\n",
       "\n",
       "<text class=\"displacy-token\" fill=\"currentColor\" text-anchor=\"middle\" y=\"47.0\">\n",
       "    <tspan class=\"displacy-word\" fill=\"currentColor\" x=\"925\">tall.</tspan>\n",
       "    <tspan class=\"displacy-tag\" dy=\"2em\" fill=\"currentColor\" x=\"925\"></tspan>\n",
       "</text>\n",
       "</svg></span>"
      ],
      "text/plain": [
       "<IPython.core.display.HTML object>"
      ]
     },
     "metadata": {},
     "output_type": "display_data"
    }
   ],
   "source": [
    "from spacy import displacy\n",
    "displacy.render(doc, style='ent')\n",
    "displacy.render(doc)"
   ]
  },
  {
   "cell_type": "markdown",
   "metadata": {},
   "source": [
    "Save the entity_ruler for 'TOPS' to disk"
   ]
  },
  {
   "cell_type": "code",
   "execution_count": 57,
   "metadata": {},
   "outputs": [],
   "source": [
    "entity_ruler_TOPS.to_disk(\"entity_ruler_TOPS.jsonl\")\n",
    "nlp.to_disk(\"rule_model_TOPS\")"
   ]
  },
  {
   "cell_type": "markdown",
   "metadata": {},
   "source": [
    "Preparing Data for Scoring\n",
    "Need some data to compare both method.(certain format)"
   ]
  },
  {
   "cell_type": "code",
   "execution_count": 63,
   "metadata": {},
   "outputs": [],
   "source": [
    "from spacy.training import docs_to_json\n",
    "from spacy.training.iob_utils import biluo_tags_from_offsets, spans_from_biluo_tags\n",
    "import srsly\n"
   ]
  },
  {
   "cell_type": "code",
   "execution_count": 58,
   "metadata": {},
   "outputs": [],
   "source": [
    "#for parsing data to TRIAN_DATA purpose\n",
    "from spacy.matcher import Matcher\n",
    "\n",
    "tops_matcher = Matcher(nlp.vocab)\n",
    "#This rule_based matcher is only to detect \"TOPS\"\n",
    "tops_matcher.add(\"TOPS_TYPE\", create_tops_patterns())\n",
    "\n",
    "def parse_train_data_forDB(text):\n",
    "    doc = nlp(text)\n",
    "    #ignore for now \n",
    "    #detections = [(doc[start:end].start_char, doc[start:end].end_char, 'TOPS') for idx, start, end in type_matcher(doc) ]\n",
    "    \n",
    "    spans = [doc[start:end] for _, start, end in tops_matcher(doc)]\n",
    "    detections =  [(span.start_char, span.end_char, 'TOPS') for span in spacy.util.filter_spans(spans)] #remove duplicates or overlaps using spacy.util.filter_spans\n",
    "    \n",
    "    return (doc.text, detections)"
   ]
  },
  {
   "cell_type": "code",
   "execution_count": 83,
   "metadata": {},
   "outputs": [],
   "source": [
    "import pandas as pd\n",
    "\n"
   ]
  },
  {
   "cell_type": "code",
   "execution_count": 43,
   "metadata": {},
   "outputs": [
    {
     "name": "stdout",
     "output_type": "stream",
     "text": [
      "Tokyo Tower\n",
      "[Tokyo Tower]\n"
     ]
    }
   ],
   "source": [
    "'''Example for docBin trainning format\n",
    "import spacy\n",
    "from spacy.tokens import DocBin\n",
    "\n",
    "nlp = spacy.blank(\"en\")\n",
    "training_data = [\n",
    "  (\"Tokyo Tower is 333m tall.\", [(0, 11, \"BUILDING\")]),\n",
    "]\n",
    "# the DocBin will store the example documents\n",
    "db = DocBin()\n",
    "for text, annotations in training_data:\n",
    "    doc = nlp(text)\n",
    "    ents = []\n",
    "    \n",
    "    for start, end, label in annotations:\n",
    "        span = doc.char_span(start, end, label=label)\n",
    "        print(span)\n",
    "        ents.append(span)\n",
    "        print(ents)\n",
    "        \n",
    "    doc.ents = ents\n",
    "    db.add(doc)\n",
    "  #db.to_disk(\"./train.spacy\")  \n",
    "  '''"
   ]
  },
  {
   "cell_type": "code",
   "execution_count": 60,
   "metadata": {},
   "outputs": [],
   "source": [
    "import common as c\n",
    "title_tags_type_df = tops_test_data[['title',  'product_type', 'tags']]\n",
    "title_tags_type_df.insert(len(title_tags_type_df.columns), 'raw_combined_text', '')\n",
    "for i in range(len(title_tags_type_df)):\n",
    "    try:\n",
    "        raw_combined_text = c.clean_tags_text(title_tags_type_df.loc[i, 'title'], title_tags_type_df.loc[i, 'product_type'], title_tags_type_df.loc[i, 'tags'])\n",
    "        \n",
    "        title_tags_type_df.loc[i, 'raw_combined_text'] = raw_combined_text\n",
    "    except:\n",
    "        print(\"something wrong in line# : \", i)"
   ]
  },
  {
   "cell_type": "code",
   "execution_count": 61,
   "metadata": {},
   "outputs": [],
   "source": [
    "TRAIN_DATA  = [parse_train_data_forDB(d) for d in nlp.pipe(title_tags_type_df.loc[:,'raw_combined_text'])]"
   ]
  },
  {
   "cell_type": "code",
   "execution_count": 65,
   "metadata": {},
   "outputs": [],
   "source": [
    "\n",
    "docs = []\n",
    "\n",
    "for text, annot in TRAIN_DATA:\n",
    "    \n",
    "    doc = nlp(text)\n",
    "    tags = biluo_tags_from_offsets(doc, annot)\n",
    "    entities = spans_from_biluo_tags(doc, tags)\n",
    "    doc.set_ents(entities)\n",
    "    docs.append(doc)\n",
    "    \n",
    "\n",
    "#srsly.write_json(\"spacy_format.json\", docs_to_json(docs))"
   ]
  },
  {
   "cell_type": "code",
   "execution_count": 66,
   "metadata": {},
   "outputs": [
    {
     "name": "stdout",
     "output_type": "stream",
     "text": [
      "the gift sports bra, sports bra, galaxy nu psychedelic sacred geometry space\n",
      "\n",
      "[(16, 19, 'TOPS'), (28, 31, 'TOPS')]\n"
     ]
    }
   ],
   "source": [
    "from spacy.tokens import Doc, DocBin\n",
    "docs_bin = DocBin(attrs=[\"ENT_IOB\", \"ENT_TYPE\"])\n",
    "for text, annot in TRAIN_DATA[0:1]:\n",
    "    print(text)\n",
    "    print()\n",
    "    print(annot)\n",
    "    \n"
   ]
  },
  {
   "cell_type": "code",
   "execution_count": 67,
   "metadata": {},
   "outputs": [
    {
     "name": "stdout",
     "output_type": "stream",
     "text": [
      "[bra, bra]\n"
     ]
    }
   ],
   "source": [
    "for text, annot in TRAIN_DATA[0:1]:\n",
    "    doc = nlp(text)\n",
    "    tags = biluo_tags_from_offsets(doc, annot)\n",
    "    entities = spans_from_biluo_tags(doc, tags)\n",
    "    \n",
    "    print(entities)"
   ]
  },
  {
   "cell_type": "code",
   "execution_count": 68,
   "metadata": {},
   "outputs": [],
   "source": [
    "nlp_stat = spacy.load(\"ML_based_model\")\n",
    "nlp_rule = spacy.load(\"rule_model_TOPS\")"
   ]
  },
  {
   "cell_type": "code",
   "execution_count": 69,
   "metadata": {},
   "outputs": [
    {
     "data": {
      "text/html": [
       "<span class=\"tex2jax_ignore\"><div class=\"entities\" style=\"line-height: 2.5; direction: ltr\">sweetlegs is excited to introduce funky bunch plus sweetlegs, a bold and electrifying addition to our 2021 plus size leggings collection! this black-based print features a bright neon geometric pattern that wouldnt be out of place in a 90s party! its perfect for those who like to make an entrance.funky bunch plus size leggings look rad styled with a relaxed 90s-inspired denim \n",
       "<mark class=\"entity\" style=\"background: #ddd; padding: 0.45em 0.6em; margin: 0 0.25em; line-height: 1; border-radius: 0.35em;\">\n",
       "    jacket\n",
       "    <span style=\"font-size: 0.8em; font-weight: bold; line-height: 1; border-radius: 0.35em; vertical-align: middle; margin-left: 0.5rem\">TOPS</span>\n",
       "</mark>\n",
       ", a \n",
       "<mark class=\"entity\" style=\"background: #ddd; padding: 0.45em 0.6em; margin: 0 0.25em; line-height: 1; border-radius: 0.35em;\">\n",
       "    sweettops\n",
       "    <span style=\"font-size: 0.8em; font-weight: bold; line-height: 1; border-radius: 0.35em; vertical-align: middle; margin-left: 0.5rem\">TOPS</span>\n",
       "</mark>\n",
       " classic \n",
       "<mark class=\"entity\" style=\"background: #ddd; padding: 0.45em 0.6em; margin: 0 0.25em; line-height: 1; border-radius: 0.35em;\">\n",
       "    tee\n",
       "    <span style=\"font-size: 0.8em; font-weight: bold; line-height: 1; border-radius: 0.35em; vertical-align: middle; margin-left: 0.5rem\">TOPS</span>\n",
       "</mark>\n",
       " in white, and a pair of orange converse.</div></span>"
      ],
      "text/plain": [
       "<IPython.core.display.HTML object>"
      ]
     },
     "metadata": {},
     "output_type": "display_data"
    },
    {
     "data": {
      "text/html": [
       "<span class=\"tex2jax_ignore\"><div class=\"entities\" style=\"line-height: 2.5; direction: ltr\">sweetlegs is excited to introduce funky bunch plus sweetlegs, a bold and electrifying addition to our 2021 plus size leggings collection! this black-based print features a bright neon geometric pattern that wouldnt be out of place in a 90s party! its perfect for those who like to make an entrance.funky bunch plus size leggings look rad styled with a relaxed 90s-inspired denim \n",
       "<mark class=\"entity\" style=\"background: #ddd; padding: 0.45em 0.6em; margin: 0 0.25em; line-height: 1; border-radius: 0.35em;\">\n",
       "    jacket\n",
       "    <span style=\"font-size: 0.8em; font-weight: bold; line-height: 1; border-radius: 0.35em; vertical-align: middle; margin-left: 0.5rem\">TOPS</span>\n",
       "</mark>\n",
       ", a sweettops classic \n",
       "<mark class=\"entity\" style=\"background: #ddd; padding: 0.45em 0.6em; margin: 0 0.25em; line-height: 1; border-radius: 0.35em;\">\n",
       "    tee\n",
       "    <span style=\"font-size: 0.8em; font-weight: bold; line-height: 1; border-radius: 0.35em; vertical-align: middle; margin-left: 0.5rem\">TOPS</span>\n",
       "</mark>\n",
       " in white, and a pair of orange converse.</div></span>"
      ],
      "text/plain": [
       "<IPython.core.display.HTML object>"
      ]
     },
     "metadata": {},
     "output_type": "display_data"
    }
   ],
   "source": [
    "from spacy import displacy\n",
    "txt1 = c.clean_product_description(\"SweetLegs is excited to introduce Funky Bunch Plus SweetLegs, a bold and electrifying addition to our 2021 Plus Size leggings collection! This black-based print features a bright neon geometric pattern that wouldn't be out of place in a 90's party! It's perfect for those who like to make an entrance.Funky Bunch Plus Size Leggings look rad styled with a relaxed 90's-inspired denim jacket, a SweetTops Classic Tee in white, and a pair of orange converse.\")\n",
    "\n",
    "displacy.render(nlp_stat(txt1), style=\"ent\")\n",
    "displacy.render(nlp_rule(txt1), style=\"ent\")\n",
    "\n"
   ]
  },
  {
   "cell_type": "code",
   "execution_count": 70,
   "metadata": {},
   "outputs": [
    {
     "data": {
      "text/html": [
       "<span class=\"tex2jax_ignore\"><div class=\"entities\" style=\"line-height: 2.5; direction: ltr\">this item is already made and ships out within 5 business days.out of your size? dont worry, order here100% soft-spun premium polyestervibrant all over front and; back print fade, crack and; wrinkle resistantlight fleece liningour \n",
       "<mark class=\"entity\" style=\"background: #ddd; padding: 0.45em 0.6em; margin: 0 0.25em; line-height: 1; border-radius: 0.35em;\">\n",
       "    sweaters\n",
       "    <span style=\"font-size: 0.8em; font-weight: bold; line-height: 1; border-radius: 0.35em; vertical-align: middle; margin-left: 0.5rem\">TOPS</span>\n",
       "</mark>\n",
       " are made with love one at a time,cut, sewn and; hand finished.. just for you!</div></span>"
      ],
      "text/plain": [
       "<IPython.core.display.HTML object>"
      ]
     },
     "metadata": {},
     "output_type": "display_data"
    },
    {
     "data": {
      "text/html": [
       "<span class=\"tex2jax_ignore\"><div class=\"entities\" style=\"line-height: 2.5; direction: ltr\">this item is already made and ships out within 5 business days.out of your size? dont worry, order here100% soft-spun premium polyestervibrant all over front and; back print fade, crack and; wrinkle resistantlight fleece liningour \n",
       "<mark class=\"entity\" style=\"background: #ddd; padding: 0.45em 0.6em; margin: 0 0.25em; line-height: 1; border-radius: 0.35em;\">\n",
       "    sweaters\n",
       "    <span style=\"font-size: 0.8em; font-weight: bold; line-height: 1; border-radius: 0.35em; vertical-align: middle; margin-left: 0.5rem\">TOPS</span>\n",
       "</mark>\n",
       " are made with love one at a time,cut, sewn and; hand finished.. just for you!</div></span>"
      ],
      "text/plain": [
       "<IPython.core.display.HTML object>"
      ]
     },
     "metadata": {},
     "output_type": "display_data"
    }
   ],
   "source": [
    "\n",
    "txt2 = \"This item is already made and ships out within 5 business days.Out of your size? Don't worry, order HERE100% soft-spun premium polyesterVibrant all over front &amp; back print Fade, crack &amp; wrinkle resistantLight fleece liningOur sweaters are made with love one at a time,Cut, sewn &amp; hand finished.. just for you!\"\n",
    "txt2 = c.clean_product_description(txt2)\n",
    "displacy.render(nlp_stat(txt2), style=\"ent\")\n",
    "displacy.render(nlp_rule(txt2), style=\"ent\")"
   ]
  },
  {
   "cell_type": "code",
   "execution_count": 71,
   "metadata": {},
   "outputs": [
    {
     "data": {
      "text/html": [
       "<span class=\"tex2jax_ignore\"><div class=\"entities\" style=\"line-height: 2.5; direction: ltr\">style #85143 – 08/0827cozy up in this beautiful cable knit \n",
       "<mark class=\"entity\" style=\"background: #ddd; padding: 0.45em 0.6em; margin: 0 0.25em; line-height: 1; border-radius: 0.35em;\">\n",
       "    sweater\n",
       "    <span style=\"font-size: 0.8em; font-weight: bold; line-height: 1; border-radius: 0.35em; vertical-align: middle; margin-left: 0.5rem\">TOPS</span>\n",
       "</mark>\n",
       "! made with recycled cotton, this \n",
       "<mark class=\"entity\" style=\"background: #ddd; padding: 0.45em 0.6em; margin: 0 0.25em; line-height: 1; border-radius: 0.35em;\">\n",
       "    sweater\n",
       "    <span style=\"font-size: 0.8em; font-weight: bold; line-height: 1; border-radius: 0.35em; vertical-align: middle; margin-left: 0.5rem\">TOPS</span>\n",
       "</mark>\n",
       " features a funnel neck, long sleeves and chunky knit. it is a timeless classic that will pair with everything in your closet for years to come.style: pulloverfit: relaxedlength: slightly below hipsfunnel necklinelong sleeves with ribbed knit cuffsribbed knit hemmachine wash in cold watercomposition: 75% recycled cotton, 25% polyester</div></span>"
      ],
      "text/plain": [
       "<IPython.core.display.HTML object>"
      ]
     },
     "metadata": {},
     "output_type": "display_data"
    },
    {
     "data": {
      "text/html": [
       "<span class=\"tex2jax_ignore\"><div class=\"entities\" style=\"line-height: 2.5; direction: ltr\">style #85143 – 08/0827cozy up in this beautiful cable knit \n",
       "<mark class=\"entity\" style=\"background: #ddd; padding: 0.45em 0.6em; margin: 0 0.25em; line-height: 1; border-radius: 0.35em;\">\n",
       "    sweater\n",
       "    <span style=\"font-size: 0.8em; font-weight: bold; line-height: 1; border-radius: 0.35em; vertical-align: middle; margin-left: 0.5rem\">TOPS</span>\n",
       "</mark>\n",
       "! made with recycled cotton, this \n",
       "<mark class=\"entity\" style=\"background: #ddd; padding: 0.45em 0.6em; margin: 0 0.25em; line-height: 1; border-radius: 0.35em;\">\n",
       "    sweater\n",
       "    <span style=\"font-size: 0.8em; font-weight: bold; line-height: 1; border-radius: 0.35em; vertical-align: middle; margin-left: 0.5rem\">TOPS</span>\n",
       "</mark>\n",
       " features a funnel neck, long sleeves and chunky knit. it is a timeless classic that will pair with everything in your closet for years to come.style: pulloverfit: relaxedlength: slightly below hipsfunnel necklinelong sleeves with ribbed knit cuffsribbed knit hemmachine wash in cold watercomposition: 75% recycled cotton, 25% polyester</div></span>"
      ],
      "text/plain": [
       "<IPython.core.display.HTML object>"
      ]
     },
     "metadata": {},
     "output_type": "display_data"
    }
   ],
   "source": [
    "\n",
    "txt3 = \"Style #85143 – 08/0827Cozy up in this beautiful cable knit sweater! Made with recycled cotton, this sweater features a funnel neck, long sleeves and chunky knit. It is a timeless classic that will pair with everything in your closet for years to come.Style: PulloverFit: RelaxedLength: Slightly below hipsFunnel necklineLong sleeves with ribbed knit cuffsRibbed knit hemMachine wash in cold waterComposition: 75% Recycled Cotton, 25% Polyester\"\n",
    "txt3 = c.clean_product_description(txt3)\n",
    "displacy.render(nlp_stat(txt3), style=\"ent\")\n",
    "displacy.render(nlp_rule(txt3), style=\"ent\")"
   ]
  },
  {
   "cell_type": "code",
   "execution_count": 72,
   "metadata": {},
   "outputs": [
    {
     "data": {
      "text/html": [
       "<span class=\"tex2jax_ignore\"><div class=\"entities\" style=\"line-height: 2.5; direction: ltr\">i wear a fancy \n",
       "<mark class=\"entity\" style=\"background: #ddd; padding: 0.45em 0.6em; margin: 0 0.25em; line-height: 1; border-radius: 0.35em;\">\n",
       "    t-shirt\n",
       "    <span style=\"font-size: 0.8em; font-weight: bold; line-height: 1; border-radius: 0.35em; vertical-align: middle; margin-left: 0.5rem\">TOPS</span>\n",
       "</mark>\n",
       " \n",
       "<mark class=\"entity\" style=\"background: #ddd; padding: 0.45em 0.6em; margin: 0 0.25em; line-height: 1; border-radius: 0.35em;\">\n",
       "    tops\n",
       "    <span style=\"font-size: 0.8em; font-weight: bold; line-height: 1; border-radius: 0.35em; vertical-align: middle; margin-left: 0.5rem\">TOPS</span>\n",
       "</mark>\n",
       " and i got another button-down wonderful \n",
       "<mark class=\"entity\" style=\"background: #ddd; padding: 0.45em 0.6em; margin: 0 0.25em; line-height: 1; border-radius: 0.35em;\">\n",
       "    crop\n",
       "    <span style=\"font-size: 0.8em; font-weight: bold; line-height: 1; border-radius: 0.35em; vertical-align: middle; margin-left: 0.5rem\">TOPS</span>\n",
       "</mark>\n",
       " \n",
       "<mark class=\"entity\" style=\"background: #ddd; padding: 0.45em 0.6em; margin: 0 0.25em; line-height: 1; border-radius: 0.35em;\">\n",
       "    tops\n",
       "    <span style=\"font-size: 0.8em; font-weight: bold; line-height: 1; border-radius: 0.35em; vertical-align: middle; margin-left: 0.5rem\">TOPS</span>\n",
       "</mark>\n",
       " \n",
       "<mark class=\"entity\" style=\"background: #ddd; padding: 0.45em 0.6em; margin: 0 0.25em; line-height: 1; border-radius: 0.35em;\">\n",
       "    tee\n",
       "    <span style=\"font-size: 0.8em; font-weight: bold; line-height: 1; border-radius: 0.35em; vertical-align: middle; margin-left: 0.5rem\">TOPS</span>\n",
       "</mark>\n",
       " \n",
       "<mark class=\"entity\" style=\"background: #ddd; padding: 0.45em 0.6em; margin: 0 0.25em; line-height: 1; border-radius: 0.35em;\">\n",
       "    tops\n",
       "    <span style=\"font-size: 0.8em; font-weight: bold; line-height: 1; border-radius: 0.35em; vertical-align: middle; margin-left: 0.5rem\">TOPS</span>\n",
       "</mark>\n",
       " . long shirt \n",
       "<mark class=\"entity\" style=\"background: #ddd; padding: 0.45em 0.6em; margin: 0 0.25em; line-height: 1; border-radius: 0.35em;\">\n",
       "    tops\n",
       "    <span style=\"font-size: 0.8em; font-weight: bold; line-height: 1; border-radius: 0.35em; vertical-align: middle; margin-left: 0.5rem\">TOPS</span>\n",
       "</mark>\n",
       " and coat \n",
       "<mark class=\"entity\" style=\"background: #ddd; padding: 0.45em 0.6em; margin: 0 0.25em; line-height: 1; border-radius: 0.35em;\">\n",
       "    tops\n",
       "    <span style=\"font-size: 0.8em; font-weight: bold; line-height: 1; border-radius: 0.35em; vertical-align: middle; margin-left: 0.5rem\">TOPS</span>\n",
       "</mark>\n",
       " are necessary for keeping warm in winter. \n",
       "<mark class=\"entity\" style=\"background: #ddd; padding: 0.45em 0.6em; margin: 0 0.25em; line-height: 1; border-radius: 0.35em;\">\n",
       "    sweater\n",
       "    <span style=\"font-size: 0.8em; font-weight: bold; line-height: 1; border-radius: 0.35em; vertical-align: middle; margin-left: 0.5rem\">TOPS</span>\n",
       "</mark>\n",
       " tops and \n",
       "<mark class=\"entity\" style=\"background: #ddd; padding: 0.45em 0.6em; margin: 0 0.25em; line-height: 1; border-radius: 0.35em;\">\n",
       "    blouse\n",
       "    <span style=\"font-size: 0.8em; font-weight: bold; line-height: 1; border-radius: 0.35em; vertical-align: middle; margin-left: 0.5rem\">TOPS</span>\n",
       "</mark>\n",
       " \n",
       "<mark class=\"entity\" style=\"background: #ddd; padding: 0.45em 0.6em; margin: 0 0.25em; line-height: 1; border-radius: 0.35em;\">\n",
       "    tops\n",
       "    <span style=\"font-size: 0.8em; font-weight: bold; line-height: 1; border-radius: 0.35em; vertical-align: middle; margin-left: 0.5rem\">TOPS</span>\n",
       "</mark>\n",
       " are important for people living in the north. ua students have their own \n",
       "<mark class=\"entity\" style=\"background: #ddd; padding: 0.45em 0.6em; margin: 0 0.25em; line-height: 1; border-radius: 0.35em;\">\n",
       "    hoodies\n",
       "    <span style=\"font-size: 0.8em; font-weight: bold; line-height: 1; border-radius: 0.35em; vertical-align: middle; margin-left: 0.5rem\">TOPS</span>\n",
       "</mark>\n",
       " \n",
       "<mark class=\"entity\" style=\"background: #ddd; padding: 0.45em 0.6em; margin: 0 0.25em; line-height: 1; border-radius: 0.35em;\">\n",
       "    tops\n",
       "    <span style=\"font-size: 0.8em; font-weight: bold; line-height: 1; border-radius: 0.35em; vertical-align: middle; margin-left: 0.5rem\">TOPS</span>\n",
       "</mark>\n",
       " . the \n",
       "<mark class=\"entity\" style=\"background: #ddd; padding: 0.45em 0.6em; margin: 0 0.25em; line-height: 1; border-radius: 0.35em;\">\n",
       "    tank top\n",
       "    <span style=\"font-size: 0.8em; font-weight: bold; line-height: 1; border-radius: 0.35em; vertical-align: middle; margin-left: 0.5rem\">TOPS</span>\n",
       "</mark>\n",
       " \n",
       "<mark class=\"entity\" style=\"background: #ddd; padding: 0.45em 0.6em; margin: 0 0.25em; line-height: 1; border-radius: 0.35em;\">\n",
       "    tops\n",
       "    <span style=\"font-size: 0.8em; font-weight: bold; line-height: 1; border-radius: 0.35em; vertical-align: middle; margin-left: 0.5rem\">TOPS</span>\n",
       "</mark>\n",
       " is new stylish top-clothes. what about trying our new camisole which is fantastic?</div></span>"
      ],
      "text/plain": [
       "<IPython.core.display.HTML object>"
      ]
     },
     "metadata": {},
     "output_type": "display_data"
    },
    {
     "data": {
      "text/html": [
       "<span class=\"tex2jax_ignore\"><div class=\"entities\" style=\"line-height: 2.5; direction: ltr\">i wear a fancy \n",
       "<mark class=\"entity\" style=\"background: #ddd; padding: 0.45em 0.6em; margin: 0 0.25em; line-height: 1; border-radius: 0.35em;\">\n",
       "    t-shirt\n",
       "    <span style=\"font-size: 0.8em; font-weight: bold; line-height: 1; border-radius: 0.35em; vertical-align: middle; margin-left: 0.5rem\">TOPS</span>\n",
       "</mark>\n",
       " \n",
       "<mark class=\"entity\" style=\"background: #ddd; padding: 0.45em 0.6em; margin: 0 0.25em; line-height: 1; border-radius: 0.35em;\">\n",
       "    tops\n",
       "    <span style=\"font-size: 0.8em; font-weight: bold; line-height: 1; border-radius: 0.35em; vertical-align: middle; margin-left: 0.5rem\">TOPS</span>\n",
       "</mark>\n",
       " and i got another button-down wonderful \n",
       "<mark class=\"entity\" style=\"background: #ddd; padding: 0.45em 0.6em; margin: 0 0.25em; line-height: 1; border-radius: 0.35em;\">\n",
       "    crop\n",
       "    <span style=\"font-size: 0.8em; font-weight: bold; line-height: 1; border-radius: 0.35em; vertical-align: middle; margin-left: 0.5rem\">TOPS</span>\n",
       "</mark>\n",
       " \n",
       "<mark class=\"entity\" style=\"background: #ddd; padding: 0.45em 0.6em; margin: 0 0.25em; line-height: 1; border-radius: 0.35em;\">\n",
       "    tops\n",
       "    <span style=\"font-size: 0.8em; font-weight: bold; line-height: 1; border-radius: 0.35em; vertical-align: middle; margin-left: 0.5rem\">TOPS</span>\n",
       "</mark>\n",
       " \n",
       "<mark class=\"entity\" style=\"background: #ddd; padding: 0.45em 0.6em; margin: 0 0.25em; line-height: 1; border-radius: 0.35em;\">\n",
       "    tee\n",
       "    <span style=\"font-size: 0.8em; font-weight: bold; line-height: 1; border-radius: 0.35em; vertical-align: middle; margin-left: 0.5rem\">TOPS</span>\n",
       "</mark>\n",
       " \n",
       "<mark class=\"entity\" style=\"background: #ddd; padding: 0.45em 0.6em; margin: 0 0.25em; line-height: 1; border-radius: 0.35em;\">\n",
       "    tops\n",
       "    <span style=\"font-size: 0.8em; font-weight: bold; line-height: 1; border-radius: 0.35em; vertical-align: middle; margin-left: 0.5rem\">TOPS</span>\n",
       "</mark>\n",
       " . long \n",
       "<mark class=\"entity\" style=\"background: #ddd; padding: 0.45em 0.6em; margin: 0 0.25em; line-height: 1; border-radius: 0.35em;\">\n",
       "    shirt\n",
       "    <span style=\"font-size: 0.8em; font-weight: bold; line-height: 1; border-radius: 0.35em; vertical-align: middle; margin-left: 0.5rem\">TOPS</span>\n",
       "</mark>\n",
       " \n",
       "<mark class=\"entity\" style=\"background: #ddd; padding: 0.45em 0.6em; margin: 0 0.25em; line-height: 1; border-radius: 0.35em;\">\n",
       "    tops\n",
       "    <span style=\"font-size: 0.8em; font-weight: bold; line-height: 1; border-radius: 0.35em; vertical-align: middle; margin-left: 0.5rem\">TOPS</span>\n",
       "</mark>\n",
       " and \n",
       "<mark class=\"entity\" style=\"background: #ddd; padding: 0.45em 0.6em; margin: 0 0.25em; line-height: 1; border-radius: 0.35em;\">\n",
       "    coat\n",
       "    <span style=\"font-size: 0.8em; font-weight: bold; line-height: 1; border-radius: 0.35em; vertical-align: middle; margin-left: 0.5rem\">TOPS</span>\n",
       "</mark>\n",
       " \n",
       "<mark class=\"entity\" style=\"background: #ddd; padding: 0.45em 0.6em; margin: 0 0.25em; line-height: 1; border-radius: 0.35em;\">\n",
       "    tops\n",
       "    <span style=\"font-size: 0.8em; font-weight: bold; line-height: 1; border-radius: 0.35em; vertical-align: middle; margin-left: 0.5rem\">TOPS</span>\n",
       "</mark>\n",
       " are necessary for keeping warm in winter. \n",
       "<mark class=\"entity\" style=\"background: #ddd; padding: 0.45em 0.6em; margin: 0 0.25em; line-height: 1; border-radius: 0.35em;\">\n",
       "    sweater\n",
       "    <span style=\"font-size: 0.8em; font-weight: bold; line-height: 1; border-radius: 0.35em; vertical-align: middle; margin-left: 0.5rem\">TOPS</span>\n",
       "</mark>\n",
       " \n",
       "<mark class=\"entity\" style=\"background: #ddd; padding: 0.45em 0.6em; margin: 0 0.25em; line-height: 1; border-radius: 0.35em;\">\n",
       "    tops\n",
       "    <span style=\"font-size: 0.8em; font-weight: bold; line-height: 1; border-radius: 0.35em; vertical-align: middle; margin-left: 0.5rem\">TOPS</span>\n",
       "</mark>\n",
       " and \n",
       "<mark class=\"entity\" style=\"background: #ddd; padding: 0.45em 0.6em; margin: 0 0.25em; line-height: 1; border-radius: 0.35em;\">\n",
       "    blouse\n",
       "    <span style=\"font-size: 0.8em; font-weight: bold; line-height: 1; border-radius: 0.35em; vertical-align: middle; margin-left: 0.5rem\">TOPS</span>\n",
       "</mark>\n",
       " \n",
       "<mark class=\"entity\" style=\"background: #ddd; padding: 0.45em 0.6em; margin: 0 0.25em; line-height: 1; border-radius: 0.35em;\">\n",
       "    tops\n",
       "    <span style=\"font-size: 0.8em; font-weight: bold; line-height: 1; border-radius: 0.35em; vertical-align: middle; margin-left: 0.5rem\">TOPS</span>\n",
       "</mark>\n",
       " are important for people living in the north. ua students have their own \n",
       "<mark class=\"entity\" style=\"background: #ddd; padding: 0.45em 0.6em; margin: 0 0.25em; line-height: 1; border-radius: 0.35em;\">\n",
       "    hoodies\n",
       "    <span style=\"font-size: 0.8em; font-weight: bold; line-height: 1; border-radius: 0.35em; vertical-align: middle; margin-left: 0.5rem\">TOPS</span>\n",
       "</mark>\n",
       " \n",
       "<mark class=\"entity\" style=\"background: #ddd; padding: 0.45em 0.6em; margin: 0 0.25em; line-height: 1; border-radius: 0.35em;\">\n",
       "    tops\n",
       "    <span style=\"font-size: 0.8em; font-weight: bold; line-height: 1; border-radius: 0.35em; vertical-align: middle; margin-left: 0.5rem\">TOPS</span>\n",
       "</mark>\n",
       " . the \n",
       "<mark class=\"entity\" style=\"background: #ddd; padding: 0.45em 0.6em; margin: 0 0.25em; line-height: 1; border-radius: 0.35em;\">\n",
       "    tank top\n",
       "    <span style=\"font-size: 0.8em; font-weight: bold; line-height: 1; border-radius: 0.35em; vertical-align: middle; margin-left: 0.5rem\">TOPS</span>\n",
       "</mark>\n",
       " \n",
       "<mark class=\"entity\" style=\"background: #ddd; padding: 0.45em 0.6em; margin: 0 0.25em; line-height: 1; border-radius: 0.35em;\">\n",
       "    tops\n",
       "    <span style=\"font-size: 0.8em; font-weight: bold; line-height: 1; border-radius: 0.35em; vertical-align: middle; margin-left: 0.5rem\">TOPS</span>\n",
       "</mark>\n",
       " is new stylish top-clothes. what about trying our new \n",
       "<mark class=\"entity\" style=\"background: #ddd; padding: 0.45em 0.6em; margin: 0 0.25em; line-height: 1; border-radius: 0.35em;\">\n",
       "    camisole\n",
       "    <span style=\"font-size: 0.8em; font-weight: bold; line-height: 1; border-radius: 0.35em; vertical-align: middle; margin-left: 0.5rem\">TOPS</span>\n",
       "</mark>\n",
       " which is fantastic?</div></span>"
      ],
      "text/plain": [
       "<IPython.core.display.HTML object>"
      ]
     },
     "metadata": {},
     "output_type": "display_data"
    }
   ],
   "source": [
    "txt4 = \"I wear a fancy T-SHirt TOPS and I got another button-down wonderful crop TOPS tee TOPS . Long shirt TOPS and coat TOPS are necessary for keeping warm in winter. Sweater TOPS and blouse TOPS are important for people living in the north. UA students have their own hoodies TOPS . The Tank Top TOPS is new stylish top-clothes. What about trying our new camisole which is fantastic?\"\n",
    "txt4 = c.clean_product_description(txt4)\n",
    "displacy.render(nlp_stat(txt4), style=\"ent\")\n",
    "displacy.render(nlp_rule(txt4), style=\"ent\")"
   ]
  },
  {
   "cell_type": "code",
   "execution_count": 79,
   "metadata": {},
   "outputs": [
    {
     "name": "stdout",
     "output_type": "stream",
     "text": [
      "7\n",
      "5\n"
     ]
    }
   ],
   "source": [
    "txt5 = \"The Tempo Hoodie TOPS is the UPF 50+ activewear you've been looking for! It has thumbholes, a kangaroo pocket, and a hood for when the sun is too hot or you forgot your hat. Our Fitness Hoodie TOPS is made out of our Active Athlon fabric with the added bonus of our Cooltect™ technology. You can be active in this fitted Fitness Hoodie TOPS without getting uncomfortably hot. So go ahead and enjoy sun-safe biking, walking, running and so much more!Highlights:UPF 50+Raglan long sleeves with thumbholesWelt kangaroo pocketHoodedActive Athlon™ fabric: Lightweight and breathable with moisture wicking for quick dry performanceCooltect™ technology accelerates moisture wicking to keep you cooler and more comfortable\"\n",
    "txt5 = c.clean_product_description(txt5)\n",
    "#displacy.render(nlp_stat(txt5), style=\"ent\")\n",
    "#displacy.render(nlp_rule(txt5), style=\"ent\")\n",
    "print(len(nlp_stat(txt5).ents))\n",
    "print(len(nlp_rule(txt5).ents))"
   ]
  },
  {
   "cell_type": "markdown",
   "metadata": {},
   "source": [
    "### Based on Test_tops.csv to build ML and RM matcher."
   ]
  },
  {
   "cell_type": "code",
   "execution_count": 97,
   "metadata": {},
   "outputs": [
    {
     "data": {
      "text/html": [
       "<div>\n",
       "<style scoped>\n",
       "    .dataframe tbody tr th:only-of-type {\n",
       "        vertical-align: middle;\n",
       "    }\n",
       "\n",
       "    .dataframe tbody tr th {\n",
       "        vertical-align: top;\n",
       "    }\n",
       "\n",
       "    .dataframe thead th {\n",
       "        text-align: right;\n",
       "    }\n",
       "</style>\n",
       "<table border=\"1\" class=\"dataframe\">\n",
       "  <thead>\n",
       "    <tr style=\"text-align: right;\">\n",
       "      <th></th>\n",
       "      <th>title</th>\n",
       "      <th>product_type</th>\n",
       "      <th>tags</th>\n",
       "      <th>body_html</th>\n",
       "      <th>label</th>\n",
       "      <th>nlp_stat_found</th>\n",
       "      <th>nlp_rule_found</th>\n",
       "      <th>nlp_stat_ents</th>\n",
       "      <th>nlp_rule_ents</th>\n",
       "      <th>(description)nlp_stat_found</th>\n",
       "      <th>(description)nlp_rule_found</th>\n",
       "      <th>(description)nlp_stat_ents</th>\n",
       "      <th>(description)nlp_rule_ents</th>\n",
       "    </tr>\n",
       "  </thead>\n",
       "  <tbody>\n",
       "    <tr>\n",
       "      <th>0</th>\n",
       "      <td>THE GIFT SPORTS BRA</td>\n",
       "      <td>sports bra</td>\n",
       "      <td>{Galaxy,Nu,Psychedelic,\"Sacred Geometry\",Space}</td>\n",
       "      <td>Vibrant all over front &amp;amp; back design100% p...</td>\n",
       "      <td>1</td>\n",
       "      <td>0</td>\n",
       "      <td>0</td>\n",
       "      <td></td>\n",
       "      <td></td>\n",
       "      <td>0</td>\n",
       "      <td>0</td>\n",
       "      <td></td>\n",
       "      <td></td>\n",
       "    </tr>\n",
       "    <tr>\n",
       "      <th>1</th>\n",
       "      <td>TEE SHIRT - BURNT ORANGE</td>\n",
       "      <td>tee shirt</td>\n",
       "      <td>{fw20,gastown,\"jack jones\",long,mens,ochre,ora...</td>\n",
       "      <td>PRODUCT DESCRIPTIONOne of the best selling lon...</td>\n",
       "      <td>1</td>\n",
       "      <td>0</td>\n",
       "      <td>0</td>\n",
       "      <td></td>\n",
       "      <td></td>\n",
       "      <td>0</td>\n",
       "      <td>0</td>\n",
       "      <td></td>\n",
       "      <td></td>\n",
       "    </tr>\n",
       "    <tr>\n",
       "      <th>2</th>\n",
       "      <td>DISAMBIGUATION DROP TEE</td>\n",
       "      <td>drop tee</td>\n",
       "      <td>{Nu,Psychedelic,\"Sacred Geometry\"}</td>\n",
       "      <td>Vibrant all over front &amp;amp; back design100% p...</td>\n",
       "      <td>1</td>\n",
       "      <td>0</td>\n",
       "      <td>0</td>\n",
       "      <td></td>\n",
       "      <td></td>\n",
       "      <td>0</td>\n",
       "      <td>0</td>\n",
       "      <td></td>\n",
       "      <td></td>\n",
       "    </tr>\n",
       "    <tr>\n",
       "      <th>3</th>\n",
       "      <td>Geometric Print Tunic Top - NEW ARRIVAL</td>\n",
       "      <td>tunic</td>\n",
       "      <td>{221266,\"JOSEPH RIBKOFF\",\"Regular Price\",RESOR...</td>\n",
       "      <td>Style # 221266 - 03/0900This stretchy, silky k...</td>\n",
       "      <td>1</td>\n",
       "      <td>0</td>\n",
       "      <td>0</td>\n",
       "      <td></td>\n",
       "      <td></td>\n",
       "      <td>0</td>\n",
       "      <td>0</td>\n",
       "      <td></td>\n",
       "      <td></td>\n",
       "    </tr>\n",
       "    <tr>\n",
       "      <th>4</th>\n",
       "      <td>Billabong Arch S/S Tee</td>\n",
       "      <td>mens tees</td>\n",
       "      <td>{20-40,25-50,availability_in-stock,billabong,c...</td>\n",
       "      <td>The Billabong Arch Short Sleeve T-Shirt featur...</td>\n",
       "      <td>1</td>\n",
       "      <td>0</td>\n",
       "      <td>0</td>\n",
       "      <td></td>\n",
       "      <td></td>\n",
       "      <td>0</td>\n",
       "      <td>0</td>\n",
       "      <td></td>\n",
       "      <td></td>\n",
       "    </tr>\n",
       "  </tbody>\n",
       "</table>\n",
       "</div>"
      ],
      "text/plain": [
       "                                     title product_type  \\\n",
       "0                      THE GIFT SPORTS BRA   sports bra   \n",
       "1                 TEE SHIRT - BURNT ORANGE    tee shirt   \n",
       "2                  DISAMBIGUATION DROP TEE     drop tee   \n",
       "3  Geometric Print Tunic Top - NEW ARRIVAL        tunic   \n",
       "4                   Billabong Arch S/S Tee    mens tees   \n",
       "\n",
       "                                                tags  \\\n",
       "0    {Galaxy,Nu,Psychedelic,\"Sacred Geometry\",Space}   \n",
       "1  {fw20,gastown,\"jack jones\",long,mens,ochre,ora...   \n",
       "2                 {Nu,Psychedelic,\"Sacred Geometry\"}   \n",
       "3  {221266,\"JOSEPH RIBKOFF\",\"Regular Price\",RESOR...   \n",
       "4  {20-40,25-50,availability_in-stock,billabong,c...   \n",
       "\n",
       "                                           body_html  label  nlp_stat_found  \\\n",
       "0  Vibrant all over front &amp; back design100% p...      1               0   \n",
       "1  PRODUCT DESCRIPTIONOne of the best selling lon...      1               0   \n",
       "2  Vibrant all over front &amp; back design100% p...      1               0   \n",
       "3  Style # 221266 - 03/0900This stretchy, silky k...      1               0   \n",
       "4  The Billabong Arch Short Sleeve T-Shirt featur...      1               0   \n",
       "\n",
       "   nlp_rule_found nlp_stat_ents nlp_rule_ents  (description)nlp_stat_found  \\\n",
       "0               0                                                        0   \n",
       "1               0                                                        0   \n",
       "2               0                                                        0   \n",
       "3               0                                                        0   \n",
       "4               0                                                        0   \n",
       "\n",
       "   (description)nlp_rule_found (description)nlp_stat_ents  \\\n",
       "0                            0                              \n",
       "1                            0                              \n",
       "2                            0                              \n",
       "3                            0                              \n",
       "4                            0                              \n",
       "\n",
       "  (description)nlp_rule_ents  \n",
       "0                             \n",
       "1                             \n",
       "2                             \n",
       "3                             \n",
       "4                             "
      ]
     },
     "execution_count": 97,
     "metadata": {},
     "output_type": "execute_result"
    }
   ],
   "source": [
    "tops_test_data = pd.read_csv(\"test_data/tops_test.csv\")\n",
    "tops_test_data.insert(len(tops_test_data.columns), 'label', 1, allow_duplicates=True)\n",
    "tops_test_data.insert(len(tops_test_data.columns), 'nlp_stat_found', 0, allow_duplicates=True)\n",
    "tops_test_data.insert(len(tops_test_data.columns), 'nlp_rule_found', 0, allow_duplicates=True)\n",
    "tops_test_data.insert(len(tops_test_data.columns), 'nlp_stat_ents', \"\", allow_duplicates=True)\n",
    "tops_test_data.insert(len(tops_test_data.columns), 'nlp_rule_ents', \"\", allow_duplicates=True)\n",
    "\n",
    "tops_test_data.insert(len(tops_test_data.columns), '(description)nlp_stat_found', 0, allow_duplicates=True)\n",
    "tops_test_data.insert(len(tops_test_data.columns), '(description)nlp_rule_found', 0, allow_duplicates=True)\n",
    "tops_test_data.insert(len(tops_test_data.columns), '(description)nlp_stat_ents', \"\", allow_duplicates=True)\n",
    "tops_test_data.insert(len(tops_test_data.columns), '(description)nlp_rule_ents', \"\", allow_duplicates=True)\n",
    "\n",
    "\n",
    "\n",
    "tops_test_data.head()"
   ]
  },
  {
   "cell_type": "code",
   "execution_count": 76,
   "metadata": {},
   "outputs": [
    {
     "data": {
      "text/html": [
       "<div>\n",
       "<style scoped>\n",
       "    .dataframe tbody tr th:only-of-type {\n",
       "        vertical-align: middle;\n",
       "    }\n",
       "\n",
       "    .dataframe tbody tr th {\n",
       "        vertical-align: top;\n",
       "    }\n",
       "\n",
       "    .dataframe thead th {\n",
       "        text-align: right;\n",
       "    }\n",
       "</style>\n",
       "<table border=\"1\" class=\"dataframe\">\n",
       "  <thead>\n",
       "    <tr style=\"text-align: right;\">\n",
       "      <th></th>\n",
       "      <th>title</th>\n",
       "      <th>product_type</th>\n",
       "      <th>tags</th>\n",
       "      <th>raw_combined_text</th>\n",
       "    </tr>\n",
       "  </thead>\n",
       "  <tbody>\n",
       "    <tr>\n",
       "      <th>0</th>\n",
       "      <td>THE GIFT SPORTS BRA</td>\n",
       "      <td>sports bra</td>\n",
       "      <td>{Galaxy,Nu,Psychedelic,\"Sacred Geometry\",Space}</td>\n",
       "      <td>the gift sports bra, sports bra, galaxy nu psy...</td>\n",
       "    </tr>\n",
       "    <tr>\n",
       "      <th>1</th>\n",
       "      <td>TEE SHIRT - BURNT ORANGE</td>\n",
       "      <td>tee shirt</td>\n",
       "      <td>{fw20,gastown,\"jack jones\",long,mens,ochre,ora...</td>\n",
       "      <td>tee shirt - burnt orange, tee shirt, fw20 gast...</td>\n",
       "    </tr>\n",
       "    <tr>\n",
       "      <th>2</th>\n",
       "      <td>DISAMBIGUATION DROP TEE</td>\n",
       "      <td>drop tee</td>\n",
       "      <td>{Nu,Psychedelic,\"Sacred Geometry\"}</td>\n",
       "      <td>disambiguation drop tee, drop tee, nu psychede...</td>\n",
       "    </tr>\n",
       "    <tr>\n",
       "      <th>3</th>\n",
       "      <td>Geometric Print Tunic Top - NEW ARRIVAL</td>\n",
       "      <td>tunic</td>\n",
       "      <td>{221266,\"JOSEPH RIBKOFF\",\"Regular Price\",RESOR...</td>\n",
       "      <td>geometric print tunic top - new arrival, tunic...</td>\n",
       "    </tr>\n",
       "    <tr>\n",
       "      <th>4</th>\n",
       "      <td>Billabong Arch S/S Tee</td>\n",
       "      <td>mens tees</td>\n",
       "      <td>{20-40,25-50,availability_in-stock,billabong,c...</td>\n",
       "      <td>billabong arch s/s tee, mens tees, 20-40 25-50...</td>\n",
       "    </tr>\n",
       "  </tbody>\n",
       "</table>\n",
       "</div>"
      ],
      "text/plain": [
       "                                     title product_type  \\\n",
       "0                      THE GIFT SPORTS BRA   sports bra   \n",
       "1                 TEE SHIRT - BURNT ORANGE    tee shirt   \n",
       "2                  DISAMBIGUATION DROP TEE     drop tee   \n",
       "3  Geometric Print Tunic Top - NEW ARRIVAL        tunic   \n",
       "4                   Billabong Arch S/S Tee    mens tees   \n",
       "\n",
       "                                                tags  \\\n",
       "0    {Galaxy,Nu,Psychedelic,\"Sacred Geometry\",Space}   \n",
       "1  {fw20,gastown,\"jack jones\",long,mens,ochre,ora...   \n",
       "2                 {Nu,Psychedelic,\"Sacred Geometry\"}   \n",
       "3  {221266,\"JOSEPH RIBKOFF\",\"Regular Price\",RESOR...   \n",
       "4  {20-40,25-50,availability_in-stock,billabong,c...   \n",
       "\n",
       "                                   raw_combined_text  \n",
       "0  the gift sports bra, sports bra, galaxy nu psy...  \n",
       "1  tee shirt - burnt orange, tee shirt, fw20 gast...  \n",
       "2  disambiguation drop tee, drop tee, nu psychede...  \n",
       "3  geometric print tunic top - new arrival, tunic...  \n",
       "4  billabong arch s/s tee, mens tees, 20-40 25-50...  "
      ]
     },
     "execution_count": 76,
     "metadata": {},
     "output_type": "execute_result"
    }
   ],
   "source": [
    "title_tags_type_df.head()#this contains 'raw_combined_text' after cleaning title + product_type+ tags"
   ]
  },
  {
   "cell_type": "code",
   "execution_count": 98,
   "metadata": {},
   "outputs": [],
   "source": [
    "for i in range(tops_test_data.shape[0]):\n",
    "    try:\n",
    "        s = title_tags_type_df.loc[i, 'raw_combined_text']\n",
    "        tops_test_data.loc[i, \"nlp_stat_found\"] = len(nlp_stat(s).ents)\n",
    "        tops_test_data.loc[i, \"nlp_rule_found\"] = len(nlp_rule(s).ents)\n",
    "        tops_test_data.loc[i, \"nlp_stat_ents\"] = str(nlp_stat(s).ents)\n",
    "        tops_test_data.loc[i, \"nlp_rule_ents\"] = str(nlp_rule(s).ents)\n",
    "    except:\n",
    "        print(\"Error: \" + str(i) + s)\n",
    "    "
   ]
  },
  {
   "cell_type": "markdown",
   "metadata": {},
   "source": [
    "### Based on Title_Tags_Product_type two method comparasion "
   ]
  },
  {
   "cell_type": "code",
   "execution_count": 100,
   "metadata": {},
   "outputs": [
    {
     "name": "stdout",
     "output_type": "stream",
     "text": [
      "total data sample:  41\n",
      "based_on_ML_model:  0.926829268292683\n",
      "nlp_stat_found:  38 / 41\n",
      "based_on_RB_model:  1.0\n",
      "nlp_stat_found:  41 / 41\n"
     ]
    }
   ],
   "source": [
    "rows = tops_test_data[tops_test_data.columns[0]].count()\n",
    "print(\"total data sample: \", rows)\n",
    "nlp_stat_found = tops_test_data.loc[tops_test_data['nlp_stat_found'] > 0].shape[0]\n",
    "nlp_rule_found = tops_test_data.loc[tops_test_data['nlp_rule_found'] > 0].shape[0] \n",
    "based_on_ML_model = nlp_stat_found / rows\n",
    "based_on_RB_model = nlp_rule_found / rows\n",
    "print(\"based_on_ML_model: \", based_on_ML_model)\n",
    "print(\"nlp_stat_found: \", nlp_stat_found, \"/\", rows)\n",
    "print(\"based_on_RB_model: \",  based_on_RB_model)\n",
    "print(\"nlp_stat_found: \", nlp_rule_found, \"/\", rows)"
   ]
  },
  {
   "cell_type": "markdown",
   "metadata": {},
   "source": [
    "### Based on Product Description (body_html) two Method Comparasion "
   ]
  },
  {
   "cell_type": "code",
   "execution_count": 106,
   "metadata": {},
   "outputs": [],
   "source": [
    "for i in range(tops_test_data.shape[0]):\n",
    "    try:\n",
    "        s = tops_test_data.loc[i, 'body_html']\n",
    "        s = c.clean_product_description(s)\n",
    "       \n",
    "        tops_test_data.loc[i, \"(description)nlp_stat_found\"] = len(nlp_stat(s).ents)\n",
    "        tops_test_data.loc[i, \"(description)nlp_rule_found\"] = len(nlp_rule(s).ents)\n",
    "        tops_test_data.loc[i, \"(description)nlp_stat_ents\"] = str(nlp_stat(s).ents)\n",
    "        tops_test_data.loc[i, \"(description)nlp_rule_ents\"] = str(nlp_rule(s).ents)\n",
    "    except:\n",
    "        print(\"Error: \" + str(i) + \" \" + s)\n",
    "    "
   ]
  },
  {
   "cell_type": "code",
   "execution_count": 110,
   "metadata": {},
   "outputs": [
    {
     "name": "stdout",
     "output_type": "stream",
     "text": [
      "total data sample:  41\n",
      "body_html_based_on_ML_model:  0.36585365853658536\n",
      "nlp_stat_found:  15 / 41\n",
      "body_html_based_on_RB_model:  0.36585365853658536\n",
      "nlp_stat_found:  15 / 41\n"
     ]
    }
   ],
   "source": [
    "print(\"total data sample: \", rows)\n",
    "bt_nlp_stat_found = tops_test_data.loc[tops_test_data['(description)nlp_stat_found'] > 0].shape[0]\n",
    "bt_nlp_rule_found = tops_test_data.loc[tops_test_data['(description)nlp_rule_found'] > 0].shape[0] \n",
    "bt_based_on_ML_model = bt_nlp_stat_found / rows\n",
    "bt_based_on_RB_model = bt_nlp_rule_found / rows\n",
    "print(\"body_html_based_on_ML_model: \", bt_based_on_ML_model)\n",
    "print(\"nlp_stat_found: \", bt_nlp_stat_found, \"/\", rows)\n",
    "print(\"body_html_based_on_RB_model: \",  bt_based_on_RB_model)\n",
    "print(\"nlp_stat_found: \", bt_nlp_rule_found, \"/\", rows)"
   ]
  },
  {
   "cell_type": "code",
   "execution_count": 107,
   "metadata": {},
   "outputs": [],
   "source": [
    "tops_test_data.to_csv(\"test_data/valid_output.csv\")"
   ]
  }
 ],
 "metadata": {
  "interpreter": {
   "hash": "08f33c96bfe48976e0772c3a4097c2fff4477ea59ec4556e2e8fa1251315c612"
  },
  "kernelspec": {
   "display_name": "Python 3.9.12 ('tensorflow')",
   "language": "python",
   "name": "python3"
  },
  "language_info": {
   "codemirror_mode": {
    "name": "ipython",
    "version": 3
   },
   "file_extension": ".py",
   "mimetype": "text/x-python",
   "name": "python",
   "nbconvert_exporter": "python",
   "pygments_lexer": "ipython3",
   "version": "3.9.12"
  },
  "orig_nbformat": 4
 },
 "nbformat": 4,
 "nbformat_minor": 2
}
