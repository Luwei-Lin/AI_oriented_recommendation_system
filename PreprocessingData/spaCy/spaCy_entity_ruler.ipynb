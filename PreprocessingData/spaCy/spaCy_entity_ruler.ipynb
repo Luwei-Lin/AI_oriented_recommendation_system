{
 "cells": [
  {
   "cell_type": "code",
   "execution_count": 3,
   "metadata": {},
   "outputs": [
    {
     "name": "stdout",
     "output_type": "stream",
     "text": [
      "Init Plugin\n",
      "Init Graph Optimizer\n",
      "Init Kernel\n"
     ]
    }
   ],
   "source": [
    "from spacy.lang.en import English\n",
    "from common import create_tops_patterns\n",
    "import spacy\n",
    "import common as c\n",
    "from spacy import displacy"
   ]
  },
  {
   "cell_type": "code",
   "execution_count": 34,
   "metadata": {},
   "outputs": [],
   "source": [
    "#initilize empty pipeline model\n",
    "# nlp = English()\n",
    "nlp = spacy.load(\"en_core_web_sm\")\n",
    "#nlp = spacy.blank(\"en\")\n",
    "#intilize EntityRuler\n",
    "entity_ruler_TOPS = nlp.add_pipe(\"entity_ruler\")\n"
   ]
  },
  {
   "cell_type": "code",
   "execution_count": 35,
   "metadata": {},
   "outputs": [
    {
     "data": {
      "text/plain": [
       "[('tok2vec', <spacy.pipeline.tok2vec.Tok2Vec at 0x15ec94c40>),\n",
       " ('tagger', <spacy.pipeline.tagger.Tagger at 0x15ec947c0>),\n",
       " ('parser', <spacy.pipeline.dep_parser.DependencyParser at 0x15eb0b900>),\n",
       " ('attribute_ruler',\n",
       "  <spacy.pipeline.attributeruler.AttributeRuler at 0x15ec8ff40>),\n",
       " ('lemmatizer', <spacy.lang.en.lemmatizer.EnglishLemmatizer at 0x159fa75c0>),\n",
       " ('ner', <spacy.pipeline.ner.EntityRecognizer at 0x15eb0b970>),\n",
       " ('entity_ruler', <spacy.pipeline.entityruler.EntityRuler at 0x15eaeedc0>)]"
      ]
     },
     "execution_count": 35,
     "metadata": {},
     "output_type": "execute_result"
    }
   ],
   "source": [
    "nlp.pipeline"
   ]
  },
  {
   "cell_type": "code",
   "execution_count": 36,
   "metadata": {},
   "outputs": [
    {
     "data": {
      "text/plain": [
       "('ner', <spacy.pipeline.ner.EntityRecognizer at 0x15eb0b970>)"
      ]
     },
     "execution_count": 36,
     "metadata": {},
     "output_type": "execute_result"
    }
   ],
   "source": [
    "nlp.remove_pipe('ner')\n"
   ]
  },
  {
   "cell_type": "code",
   "execution_count": 37,
   "metadata": {},
   "outputs": [],
   "source": [
    "entity_ruler_TOPS.add_patterns([{'label':'TOPS', 'pattern': p} for p in create_tops_patterns()])\n",
    "entity_ruler_TOPS.add_patterns([{'label':'BOTTOMS', 'pattern': p} for p in c.create_bottoms_patterns()])\n",
    "entity_ruler_TOPS.add_patterns([{'label':'OTHER_CLOTHING', 'pattern': p} for p in c.creat_other_clothing_patterns()])\n",
    "entity_ruler_TOPS.add_patterns([{'label':'SHOES', 'pattern': p} for p in c.create_shoes_patterns()])\n",
    "entity_ruler_TOPS.add_patterns([{'label':'HOMEWARE', 'pattern': p} for p in c.creat_homeware_patterns()])\n",
    "entity_ruler_TOPS.add_patterns([{'label':'BEAUTY', 'pattern': p} for p in c.create_beauty_patterns()])\n",
    "entity_ruler_TOPS.add_patterns([{'label':'ACCESSORIES', 'pattern': p} for p in c.creat_accessories_patterns()])\n"
   ]
  },
  {
   "cell_type": "code",
   "execution_count": 38,
   "metadata": {},
   "outputs": [
    {
     "data": {
      "text/plain": [
       "[('tok2vec', <spacy.pipeline.tok2vec.Tok2Vec at 0x15ec94c40>),\n",
       " ('tagger', <spacy.pipeline.tagger.Tagger at 0x15ec947c0>),\n",
       " ('parser', <spacy.pipeline.dep_parser.DependencyParser at 0x15eb0b900>),\n",
       " ('attribute_ruler',\n",
       "  <spacy.pipeline.attributeruler.AttributeRuler at 0x15ec8ff40>),\n",
       " ('lemmatizer', <spacy.lang.en.lemmatizer.EnglishLemmatizer at 0x159fa75c0>),\n",
       " ('entity_ruler', <spacy.pipeline.entityruler.EntityRuler at 0x15eaeedc0>)]"
      ]
     },
     "execution_count": 38,
     "metadata": {},
     "output_type": "execute_result"
    }
   ],
   "source": [
    "nlp.pipeline"
   ]
  },
  {
   "cell_type": "code",
   "execution_count": 39,
   "metadata": {},
   "outputs": [
    {
     "name": "stdout",
     "output_type": "stream",
     "text": [
      "[('hoodie', 'TOPS'), ('activewear', 'OTHER_CLOTHING'), ('hoodie', 'TOPS'), ('tops', 'TOPS'), ('hoodie', 'TOPS'), ('tops', 'TOPS')]\n"
     ]
    }
   ],
   "source": [
    "import common as c\n",
    "s = c.clean_product_description(\"The Tempo Hoodie TOPS is the UPF 50+ activewear you've been looking for! It has thumbholes, a kangaroo pocket, and a hood for when the sun is too hot or you forgot your hat. Our Fitness Hoodie TOPS is made out of our Active Athlon fabric with the added bonus of our Cooltect™ technology. You can be active in this fitted Fitness Hoodie TOPS without getting uncomfortably hot. So go ahead and enjoy sun-safe biking, walking, running and so much more!Highlights:UPF 50+Raglan long sleeves with thumbholesWelt kangaroo pocketHoodedActive Athlon™ fabric: Lightweight and breathable with moisture wicking for quick dry performanceCooltect™ technology accelerates moisture wicking to keep you cooler and more comfortable\")\n",
    "\n",
    "doc = nlp(s)\n",
    "print([(ent.text, ent.label_) for ent in doc.ents])"
   ]
  },
  {
   "cell_type": "code",
   "execution_count": 40,
   "metadata": {},
   "outputs": [
    {
     "data": {
      "text/plain": [
       "(hoodie, activewear, hoodie, tops, hoodie, tops)"
      ]
     },
     "execution_count": 40,
     "metadata": {},
     "output_type": "execute_result"
    }
   ],
   "source": [
    "doc.ents"
   ]
  },
  {
   "cell_type": "code",
   "execution_count": 41,
   "metadata": {},
   "outputs": [
    {
     "data": {
      "text/html": [
       "<span class=\"tex2jax_ignore\"><div class=\"entities\" style=\"line-height: 2.5; direction: ltr\">the tempo \n",
       "<mark class=\"entity\" style=\"background: #F9E79F; padding: 0.45em 0.6em; margin: 0 0.25em; line-height: 1; border-radius: 0.35em;\">\n",
       "    hoodie\n",
       "    <span style=\"font-size: 0.8em; font-weight: bold; line-height: 1; border-radius: 0.35em; vertical-align: middle; margin-left: 0.5rem\">TOPS</span>\n",
       "</mark>\n",
       " tops is the upf 50+ \n",
       "<mark class=\"entity\" style=\"background: #E8DAEF; padding: 0.45em 0.6em; margin: 0 0.25em; line-height: 1; border-radius: 0.35em;\">\n",
       "    activewear\n",
       "    <span style=\"font-size: 0.8em; font-weight: bold; line-height: 1; border-radius: 0.35em; vertical-align: middle; margin-left: 0.5rem\">OTHER_CLOTHING</span>\n",
       "</mark>\n",
       " youve been looking for! it has thumbholes, a kangaroo pocket, and a hood for when the sun is too hot or you forgot your hat. our fitness \n",
       "<mark class=\"entity\" style=\"background: #F9E79F; padding: 0.45em 0.6em; margin: 0 0.25em; line-height: 1; border-radius: 0.35em;\">\n",
       "    hoodie\n",
       "    <span style=\"font-size: 0.8em; font-weight: bold; line-height: 1; border-radius: 0.35em; vertical-align: middle; margin-left: 0.5rem\">TOPS</span>\n",
       "</mark>\n",
       " \n",
       "<mark class=\"entity\" style=\"background: #F9E79F; padding: 0.45em 0.6em; margin: 0 0.25em; line-height: 1; border-radius: 0.35em;\">\n",
       "    tops\n",
       "    <span style=\"font-size: 0.8em; font-weight: bold; line-height: 1; border-radius: 0.35em; vertical-align: middle; margin-left: 0.5rem\">TOPS</span>\n",
       "</mark>\n",
       " is made out of our active athlon fabric with the added bonus of our cooltect™ technology. you can be active in this fitted fitness \n",
       "<mark class=\"entity\" style=\"background: #F9E79F; padding: 0.45em 0.6em; margin: 0 0.25em; line-height: 1; border-radius: 0.35em;\">\n",
       "    hoodie\n",
       "    <span style=\"font-size: 0.8em; font-weight: bold; line-height: 1; border-radius: 0.35em; vertical-align: middle; margin-left: 0.5rem\">TOPS</span>\n",
       "</mark>\n",
       " \n",
       "<mark class=\"entity\" style=\"background: #F9E79F; padding: 0.45em 0.6em; margin: 0 0.25em; line-height: 1; border-radius: 0.35em;\">\n",
       "    tops\n",
       "    <span style=\"font-size: 0.8em; font-weight: bold; line-height: 1; border-radius: 0.35em; vertical-align: middle; margin-left: 0.5rem\">TOPS</span>\n",
       "</mark>\n",
       " without getting uncomfortably hot. so go ahead and enjoy sun-safe biking, walking, running and so much more!highlights:upf 50+raglan long sleeves with thumbholeswelt kangaroo pockethoodedactive athlon™ fabric: lightweight and breathable with moisture wicking for quick dry performancecooltect™ technology accelerates moisture wicking to keep you cooler and more comfortable</div></span>"
      ],
      "text/plain": [
       "<IPython.core.display.HTML object>"
      ]
     },
     "metadata": {},
     "output_type": "display_data"
    }
   ],
   "source": [
    "import entity_options as e\n",
    "\n",
    "displacy.render(doc, style='ent', options=e.get_entity_options())"
   ]
  },
  {
   "cell_type": "markdown",
   "metadata": {},
   "source": [
    "Save the entity_ruler for 'TOPS' to disk"
   ]
  },
  {
   "cell_type": "code",
   "execution_count": 42,
   "metadata": {},
   "outputs": [],
   "source": [
    "entity_ruler_TOPS.to_disk(\"entity_ruler_TOPS.jsonl\")\n",
    "nlp.to_disk(\"rule_model_7Categories\")"
   ]
  },
  {
   "cell_type": "markdown",
   "metadata": {},
   "source": [
    "Preparing Data for Scoring\n",
    "Need some data to compare both method.(certain format)"
   ]
  },
  {
   "cell_type": "code",
   "execution_count": 13,
   "metadata": {},
   "outputs": [],
   "source": [
    "from spacy.training import docs_to_json\n",
    "from spacy.training.iob_utils import biluo_tags_from_offsets, spans_from_biluo_tags\n",
    "import srsly\n"
   ]
  },
  {
   "cell_type": "code",
   "execution_count": 14,
   "metadata": {},
   "outputs": [],
   "source": [
    "#for parsing data to TRIAN_DATA purpose\n",
    "from spacy.matcher import Matcher\n",
    "\n",
    "tops_matcher = Matcher(nlp.vocab)\n",
    "#This rule_based matcher is only to detect \"TOPS\"\n",
    "tops_matcher.add(\"TOPS_TYPE\", create_tops_patterns())\n",
    "\n",
    "def parse_train_data_forDB(text):\n",
    "    doc = nlp(text)\n",
    "    #ignore for now \n",
    "    #detections = [(doc[start:end].start_char, doc[start:end].end_char, 'TOPS') for idx, start, end in type_matcher(doc) ]\n",
    "    \n",
    "    spans = [doc[start:end] for _, start, end in tops_matcher(doc)]\n",
    "    detections =  [(span.start_char, span.end_char, 'TOPS') for span in spacy.util.filter_spans(spans)] #remove duplicates or overlaps using spacy.util.filter_spans\n",
    "    \n",
    "    return (doc.text, detections)"
   ]
  },
  {
   "cell_type": "code",
   "execution_count": 15,
   "metadata": {},
   "outputs": [
    {
     "data": {
      "text/html": [
       "<div>\n",
       "<style scoped>\n",
       "    .dataframe tbody tr th:only-of-type {\n",
       "        vertical-align: middle;\n",
       "    }\n",
       "\n",
       "    .dataframe tbody tr th {\n",
       "        vertical-align: top;\n",
       "    }\n",
       "\n",
       "    .dataframe thead th {\n",
       "        text-align: right;\n",
       "    }\n",
       "</style>\n",
       "<table border=\"1\" class=\"dataframe\">\n",
       "  <thead>\n",
       "    <tr style=\"text-align: right;\">\n",
       "      <th></th>\n",
       "      <th>title</th>\n",
       "      <th>product_type</th>\n",
       "      <th>tags</th>\n",
       "      <th>body_html</th>\n",
       "    </tr>\n",
       "  </thead>\n",
       "  <tbody>\n",
       "    <tr>\n",
       "      <th>0</th>\n",
       "      <td>THE GIFT SPORTS BRA</td>\n",
       "      <td>sports bra</td>\n",
       "      <td>{Galaxy,Nu,Psychedelic,\"Sacred Geometry\",Space}</td>\n",
       "      <td>Vibrant all over front &amp;amp; back design100% p...</td>\n",
       "    </tr>\n",
       "    <tr>\n",
       "      <th>1</th>\n",
       "      <td>TEE SHIRT - BURNT ORANGE</td>\n",
       "      <td>tee shirt</td>\n",
       "      <td>{fw20,gastown,\"jack jones\",long,mens,ochre,ora...</td>\n",
       "      <td>PRODUCT DESCRIPTIONOne of the best selling lon...</td>\n",
       "    </tr>\n",
       "    <tr>\n",
       "      <th>2</th>\n",
       "      <td>DISAMBIGUATION DROP TEE</td>\n",
       "      <td>drop tee</td>\n",
       "      <td>{Nu,Psychedelic,\"Sacred Geometry\"}</td>\n",
       "      <td>Vibrant all over front &amp;amp; back design100% p...</td>\n",
       "    </tr>\n",
       "    <tr>\n",
       "      <th>3</th>\n",
       "      <td>Geometric Print Tunic Top - NEW ARRIVAL</td>\n",
       "      <td>tunic</td>\n",
       "      <td>{221266,\"JOSEPH RIBKOFF\",\"Regular Price\",RESOR...</td>\n",
       "      <td>Style # 221266 - 03/0900This stretchy, silky k...</td>\n",
       "    </tr>\n",
       "    <tr>\n",
       "      <th>4</th>\n",
       "      <td>Billabong Arch S/S Tee</td>\n",
       "      <td>mens tees</td>\n",
       "      <td>{20-40,25-50,availability_in-stock,billabong,c...</td>\n",
       "      <td>The Billabong Arch Short Sleeve T-Shirt featur...</td>\n",
       "    </tr>\n",
       "  </tbody>\n",
       "</table>\n",
       "</div>"
      ],
      "text/plain": [
       "                                     title product_type  \\\n",
       "0                      THE GIFT SPORTS BRA   sports bra   \n",
       "1                 TEE SHIRT - BURNT ORANGE    tee shirt   \n",
       "2                  DISAMBIGUATION DROP TEE     drop tee   \n",
       "3  Geometric Print Tunic Top - NEW ARRIVAL        tunic   \n",
       "4                   Billabong Arch S/S Tee    mens tees   \n",
       "\n",
       "                                                tags  \\\n",
       "0    {Galaxy,Nu,Psychedelic,\"Sacred Geometry\",Space}   \n",
       "1  {fw20,gastown,\"jack jones\",long,mens,ochre,ora...   \n",
       "2                 {Nu,Psychedelic,\"Sacred Geometry\"}   \n",
       "3  {221266,\"JOSEPH RIBKOFF\",\"Regular Price\",RESOR...   \n",
       "4  {20-40,25-50,availability_in-stock,billabong,c...   \n",
       "\n",
       "                                           body_html  \n",
       "0  Vibrant all over front &amp; back design100% p...  \n",
       "1  PRODUCT DESCRIPTIONOne of the best selling lon...  \n",
       "2  Vibrant all over front &amp; back design100% p...  \n",
       "3  Style # 221266 - 03/0900This stretchy, silky k...  \n",
       "4  The Billabong Arch Short Sleeve T-Shirt featur...  "
      ]
     },
     "execution_count": 15,
     "metadata": {},
     "output_type": "execute_result"
    }
   ],
   "source": [
    "import pandas as pd\n",
    "tops_test_data = pd.read_csv(\"test_data/tops_test.csv\")\n",
    "tops_test_data.head()"
   ]
  },
  {
   "cell_type": "code",
   "execution_count": 16,
   "metadata": {},
   "outputs": [
    {
     "data": {
      "text/plain": [
       "'Example for docBin trainning format\\nimport spacy\\nfrom spacy.tokens import DocBin\\n\\nnlp = spacy.blank(\"en\")\\ntraining_data = [\\n  (\"Tokyo Tower is 333m tall.\", [(0, 11, \"BUILDING\")]),\\n]\\n# the DocBin will store the example documents\\ndb = DocBin()\\nfor text, annotations in training_data:\\n    doc = nlp(text)\\n    ents = []\\n    \\n    for start, end, label in annotations:\\n        span = doc.char_span(start, end, label=label)\\n        print(span)\\n        ents.append(span)\\n        print(ents)\\n        \\n    doc.ents = ents\\n    db.add(doc)\\n  #db.to_disk(\"./train.spacy\")  \\n  '"
      ]
     },
     "execution_count": 16,
     "metadata": {},
     "output_type": "execute_result"
    }
   ],
   "source": [
    "'''Example for docBin trainning format\n",
    "import spacy\n",
    "from spacy.tokens import DocBin\n",
    "\n",
    "nlp = spacy.blank(\"en\")\n",
    "training_data = [\n",
    "  (\"Tokyo Tower is 333m tall.\", [(0, 11, \"BUILDING\")]),\n",
    "]\n",
    "# the DocBin will store the example documents\n",
    "db = DocBin()\n",
    "for text, annotations in training_data:\n",
    "    doc = nlp(text)\n",
    "    ents = []\n",
    "    \n",
    "    for start, end, label in annotations:\n",
    "        span = doc.char_span(start, end, label=label)\n",
    "        print(span)\n",
    "        ents.append(span)\n",
    "        print(ents)\n",
    "        \n",
    "    doc.ents = ents\n",
    "    db.add(doc)\n",
    "  #db.to_disk(\"./train.spacy\")  \n",
    "  '''"
   ]
  },
  {
   "cell_type": "code",
   "execution_count": 20,
   "metadata": {},
   "outputs": [
    {
     "ename": "NameError",
     "evalue": "name 'tops_test_data' is not defined",
     "output_type": "error",
     "traceback": [
      "\u001b[0;31m---------------------------------------------------------------------------\u001b[0m",
      "\u001b[0;31mNameError\u001b[0m                                 Traceback (most recent call last)",
      "\u001b[1;32m/Users/luis/Documents/GitHub/2022Summer/AI-Oriented-Recommendation-System/PreprocessingData/spaCy/spaCy_entity_ruler.ipynb Cell 17'\u001b[0m in \u001b[0;36m<cell line: 2>\u001b[0;34m()\u001b[0m\n\u001b[1;32m      <a href='vscode-notebook-cell:/Users/luis/Documents/GitHub/2022Summer/AI-Oriented-Recommendation-System/PreprocessingData/spaCy/spaCy_entity_ruler.ipynb#ch0000018?line=0'>1</a>\u001b[0m \u001b[39mimport\u001b[39;00m \u001b[39mcommon\u001b[39;00m \u001b[39mas\u001b[39;00m \u001b[39mc\u001b[39;00m\n\u001b[0;32m----> <a href='vscode-notebook-cell:/Users/luis/Documents/GitHub/2022Summer/AI-Oriented-Recommendation-System/PreprocessingData/spaCy/spaCy_entity_ruler.ipynb#ch0000018?line=1'>2</a>\u001b[0m title_tags_type_df \u001b[39m=\u001b[39m tops_test_data\u001b[39m.\u001b[39mloc[:,[\u001b[39m'\u001b[39m\u001b[39mtitle\u001b[39m\u001b[39m'\u001b[39m, \u001b[39m'\u001b[39m\u001b[39mtags\u001b[39m\u001b[39m'\u001b[39m]]\n\u001b[1;32m      <a href='vscode-notebook-cell:/Users/luis/Documents/GitHub/2022Summer/AI-Oriented-Recommendation-System/PreprocessingData/spaCy/spaCy_entity_ruler.ipynb#ch0000018?line=2'>3</a>\u001b[0m title_tags_type_df\u001b[39m.\u001b[39minsert(\u001b[39mlen\u001b[39m(title_tags_type_df\u001b[39m.\u001b[39mcolumns), \u001b[39m'\u001b[39m\u001b[39mraw_combined_text\u001b[39m\u001b[39m'\u001b[39m, \u001b[39m'\u001b[39m\u001b[39m'\u001b[39m)\n\u001b[1;32m      <a href='vscode-notebook-cell:/Users/luis/Documents/GitHub/2022Summer/AI-Oriented-Recommendation-System/PreprocessingData/spaCy/spaCy_entity_ruler.ipynb#ch0000018?line=3'>4</a>\u001b[0m \u001b[39mfor\u001b[39;00m i \u001b[39min\u001b[39;00m \u001b[39mrange\u001b[39m(\u001b[39mlen\u001b[39m(title_tags_type_df)):\n",
      "\u001b[0;31mNameError\u001b[0m: name 'tops_test_data' is not defined"
     ]
    }
   ],
   "source": [
    "import common as c\n",
    "title_tags_type_df = tops_test_data.loc[:,['title', 'tags']]\n",
    "title_tags_type_df.insert(len(title_tags_type_df.columns), 'raw_combined_text', '')\n",
    "for i in range(len(title_tags_type_df)):\n",
    "    try:\n",
    "        raw_combined_text = c.clean_tags_text(title_tags_type_df.loc[i, 'title'], None, title_tags_type_df.loc[i, 'tags'])\n",
    "        \n",
    "        title_tags_type_df.loc[i, 'raw_combined_text'] = raw_combined_text\n",
    "    except:\n",
    "        print(\"something wrong in line# : \", i)"
   ]
  },
  {
   "cell_type": "code",
   "execution_count": 21,
   "metadata": {},
   "outputs": [
    {
     "ename": "NameError",
     "evalue": "name 'title_tags_type_df' is not defined",
     "output_type": "error",
     "traceback": [
      "\u001b[0;31m---------------------------------------------------------------------------\u001b[0m",
      "\u001b[0;31mNameError\u001b[0m                                 Traceback (most recent call last)",
      "\u001b[1;32m/Users/luis/Documents/GitHub/2022Summer/AI-Oriented-Recommendation-System/PreprocessingData/spaCy/spaCy_entity_ruler.ipynb Cell 18'\u001b[0m in \u001b[0;36m<cell line: 1>\u001b[0;34m()\u001b[0m\n\u001b[0;32m----> <a href='vscode-notebook-cell:/Users/luis/Documents/GitHub/2022Summer/AI-Oriented-Recommendation-System/PreprocessingData/spaCy/spaCy_entity_ruler.ipynb#ch0000019?line=0'>1</a>\u001b[0m TRAIN_DATA  \u001b[39m=\u001b[39m [parse_train_data_forDB(d) \u001b[39mfor\u001b[39;00m d \u001b[39min\u001b[39;00m nlp\u001b[39m.\u001b[39mpipe(title_tags_type_df\u001b[39m.\u001b[39mloc[:,\u001b[39m'\u001b[39m\u001b[39mraw_combined_text\u001b[39m\u001b[39m'\u001b[39m])]\n",
      "\u001b[0;31mNameError\u001b[0m: name 'title_tags_type_df' is not defined"
     ]
    }
   ],
   "source": [
    "TRAIN_DATA  = [parse_train_data_forDB(d) for d in nlp.pipe(title_tags_type_df.loc[:,'raw_combined_text'])]"
   ]
  },
  {
   "cell_type": "code",
   "execution_count": 19,
   "metadata": {},
   "outputs": [],
   "source": [
    "\n",
    "docs = []\n",
    "\n",
    "for text, annot in TRAIN_DATA:\n",
    "    \n",
    "    doc = nlp(text)\n",
    "    tags = biluo_tags_from_offsets(doc, annot)\n",
    "    entities = spans_from_biluo_tags(doc, tags)\n",
    "    doc.set_ents(entities)\n",
    "    docs.append(doc)\n",
    "    \n",
    "\n",
    "#srsly.write_json(\"spacy_format.json\", docs_to_json(docs))"
   ]
  },
  {
   "cell_type": "code",
   "execution_count": 22,
   "metadata": {},
   "outputs": [
    {
     "ename": "NameError",
     "evalue": "name 'TRAIN_DATA' is not defined",
     "output_type": "error",
     "traceback": [
      "\u001b[0;31m---------------------------------------------------------------------------\u001b[0m",
      "\u001b[0;31mNameError\u001b[0m                                 Traceback (most recent call last)",
      "\u001b[1;32m/Users/luis/Documents/GitHub/2022Summer/AI-Oriented-Recommendation-System/PreprocessingData/spaCy/spaCy_entity_ruler.ipynb Cell 20'\u001b[0m in \u001b[0;36m<cell line: 3>\u001b[0;34m()\u001b[0m\n\u001b[1;32m      <a href='vscode-notebook-cell:/Users/luis/Documents/GitHub/2022Summer/AI-Oriented-Recommendation-System/PreprocessingData/spaCy/spaCy_entity_ruler.ipynb#ch0000021?line=0'>1</a>\u001b[0m \u001b[39mfrom\u001b[39;00m \u001b[39mspacy\u001b[39;00m\u001b[39m.\u001b[39;00m\u001b[39mtokens\u001b[39;00m \u001b[39mimport\u001b[39;00m Doc, DocBin\n\u001b[1;32m      <a href='vscode-notebook-cell:/Users/luis/Documents/GitHub/2022Summer/AI-Oriented-Recommendation-System/PreprocessingData/spaCy/spaCy_entity_ruler.ipynb#ch0000021?line=1'>2</a>\u001b[0m docs_bin \u001b[39m=\u001b[39m DocBin(attrs\u001b[39m=\u001b[39m[\u001b[39m\"\u001b[39m\u001b[39mENT_IOB\u001b[39m\u001b[39m\"\u001b[39m, \u001b[39m\"\u001b[39m\u001b[39mENT_TYPE\u001b[39m\u001b[39m\"\u001b[39m])\n\u001b[0;32m----> <a href='vscode-notebook-cell:/Users/luis/Documents/GitHub/2022Summer/AI-Oriented-Recommendation-System/PreprocessingData/spaCy/spaCy_entity_ruler.ipynb#ch0000021?line=2'>3</a>\u001b[0m \u001b[39mfor\u001b[39;00m text, annot \u001b[39min\u001b[39;00m TRAIN_DATA[\u001b[39m0\u001b[39m:\u001b[39m1\u001b[39m]:\n\u001b[1;32m      <a href='vscode-notebook-cell:/Users/luis/Documents/GitHub/2022Summer/AI-Oriented-Recommendation-System/PreprocessingData/spaCy/spaCy_entity_ruler.ipynb#ch0000021?line=3'>4</a>\u001b[0m     \u001b[39mprint\u001b[39m(text)\n\u001b[1;32m      <a href='vscode-notebook-cell:/Users/luis/Documents/GitHub/2022Summer/AI-Oriented-Recommendation-System/PreprocessingData/spaCy/spaCy_entity_ruler.ipynb#ch0000021?line=4'>5</a>\u001b[0m     \u001b[39mprint\u001b[39m()\n",
      "\u001b[0;31mNameError\u001b[0m: name 'TRAIN_DATA' is not defined"
     ]
    }
   ],
   "source": [
    "from spacy.tokens import Doc, DocBin\n",
    "docs_bin = DocBin(attrs=[\"ENT_IOB\", \"ENT_TYPE\"])\n",
    "for text, annot in TRAIN_DATA[0:1]:\n",
    "    print(text)\n",
    "    print()\n",
    "    print(annot)\n",
    "    \n"
   ]
  },
  {
   "cell_type": "code",
   "execution_count": 21,
   "metadata": {},
   "outputs": [
    {
     "name": "stdout",
     "output_type": "stream",
     "text": [
      "[bra]\n"
     ]
    }
   ],
   "source": [
    "for text, annot in TRAIN_DATA[0:1]:\n",
    "    doc = nlp(text)\n",
    "    tags = biluo_tags_from_offsets(doc, annot)\n",
    "    entities = spans_from_biluo_tags(doc, tags)\n",
    "    \n",
    "    print(entities)"
   ]
  },
  {
   "cell_type": "code",
   "execution_count": 43,
   "metadata": {},
   "outputs": [],
   "source": [
    "nlp_stat = spacy.load(\"ML_based_model\")\n",
    "\n",
    "nlp_rule = spacy.load(\"rule_model_7Categories\")"
   ]
  },
  {
   "cell_type": "code",
   "execution_count": 44,
   "metadata": {},
   "outputs": [
    {
     "data": {
      "text/html": [
       "<span class=\"tex2jax_ignore\"><div class=\"entities\" style=\"line-height: 2.5; direction: ltr\">sweetlegs is excited to introduce funky bunch plus sweetlegs, a bold and electrifying addition to our 2021 plus size leggings collection! this black-based print features a bright neon geometric pattern that wouldnt be out of place in a 90s party! its perfect for those who like to make an entrance.funky bunch plus size leggings look rad styled with a relaxed 90s-inspired denim \n",
       "<mark class=\"entity\" style=\"background: #F9E79F; padding: 0.45em 0.6em; margin: 0 0.25em; line-height: 1; border-radius: 0.35em;\">\n",
       "    jacket\n",
       "    <span style=\"font-size: 0.8em; font-weight: bold; line-height: 1; border-radius: 0.35em; vertical-align: middle; margin-left: 0.5rem\">TOPS</span>\n",
       "</mark>\n",
       ", a \n",
       "<mark class=\"entity\" style=\"background: #F9E79F; padding: 0.45em 0.6em; margin: 0 0.25em; line-height: 1; border-radius: 0.35em;\">\n",
       "    sweettops\n",
       "    <span style=\"font-size: 0.8em; font-weight: bold; line-height: 1; border-radius: 0.35em; vertical-align: middle; margin-left: 0.5rem\">TOPS</span>\n",
       "</mark>\n",
       " classic \n",
       "<mark class=\"entity\" style=\"background: #F9E79F; padding: 0.45em 0.6em; margin: 0 0.25em; line-height: 1; border-radius: 0.35em;\">\n",
       "    tee\n",
       "    <span style=\"font-size: 0.8em; font-weight: bold; line-height: 1; border-radius: 0.35em; vertical-align: middle; margin-left: 0.5rem\">TOPS</span>\n",
       "</mark>\n",
       " in white, and a pair of orange converse.</div></span>"
      ],
      "text/plain": [
       "<IPython.core.display.HTML object>"
      ]
     },
     "metadata": {},
     "output_type": "display_data"
    },
    {
     "data": {
      "text/html": [
       "<span class=\"tex2jax_ignore\"><div class=\"entities\" style=\"line-height: 2.5; direction: ltr\">sweetlegs is excited to introduce funky bunch plus sweetlegs, a bold and electrifying addition to our 2021 plus size \n",
       "<mark class=\"entity\" style=\"background: #76D7C4; padding: 0.45em 0.6em; margin: 0 0.25em; line-height: 1; border-radius: 0.35em;\">\n",
       "    leggings\n",
       "    <span style=\"font-size: 0.8em; font-weight: bold; line-height: 1; border-radius: 0.35em; vertical-align: middle; margin-left: 0.5rem\">BOTTOMS</span>\n",
       "</mark>\n",
       " collection! this black-based print features a bright neon geometric pattern that wouldnt be out of place in a 90s party! its perfect for those who like to make an entrance.funky bunch plus size \n",
       "<mark class=\"entity\" style=\"background: #76D7C4; padding: 0.45em 0.6em; margin: 0 0.25em; line-height: 1; border-radius: 0.35em;\">\n",
       "    leggings\n",
       "    <span style=\"font-size: 0.8em; font-weight: bold; line-height: 1; border-radius: 0.35em; vertical-align: middle; margin-left: 0.5rem\">BOTTOMS</span>\n",
       "</mark>\n",
       " look rad styled with a relaxed 90s-inspired denim \n",
       "<mark class=\"entity\" style=\"background: #F9E79F; padding: 0.45em 0.6em; margin: 0 0.25em; line-height: 1; border-radius: 0.35em;\">\n",
       "    jacket\n",
       "    <span style=\"font-size: 0.8em; font-weight: bold; line-height: 1; border-radius: 0.35em; vertical-align: middle; margin-left: 0.5rem\">TOPS</span>\n",
       "</mark>\n",
       ", a sweettops classic \n",
       "<mark class=\"entity\" style=\"background: #F9E79F; padding: 0.45em 0.6em; margin: 0 0.25em; line-height: 1; border-radius: 0.35em;\">\n",
       "    tee\n",
       "    <span style=\"font-size: 0.8em; font-weight: bold; line-height: 1; border-radius: 0.35em; vertical-align: middle; margin-left: 0.5rem\">TOPS</span>\n",
       "</mark>\n",
       " in white, and a pair of orange converse.</div></span>"
      ],
      "text/plain": [
       "<IPython.core.display.HTML object>"
      ]
     },
     "metadata": {},
     "output_type": "display_data"
    }
   ],
   "source": [
    "from spacy import displacy\n",
    "txt1 = c.clean_product_description(\"SweetLegs is excited to introduce Funky Bunch Plus SweetLegs, a bold and electrifying addition to our 2021 Plus Size leggings collection! This black-based print features a bright neon geometric pattern that wouldn't be out of place in a 90's party! It's perfect for those who like to make an entrance.Funky Bunch Plus Size Leggings look rad styled with a relaxed 90's-inspired denim jacket, a SweetTops Classic Tee in white, and a pair of orange converse.\")\n",
    "\n",
    "displacy.render(nlp_stat(txt1), style=\"ent\", options=e.get_entity_options())\n",
    "displacy.render(nlp_rule(txt1), style=\"ent\", options=e.get_entity_options())\n",
    "\n"
   ]
  },
  {
   "cell_type": "code",
   "execution_count": 25,
   "metadata": {},
   "outputs": [
    {
     "data": {
      "text/html": [
       "<span class=\"tex2jax_ignore\"><div class=\"entities\" style=\"line-height: 2.5; direction: ltr\">this item is already made and ships out within 5 business days.out of your size? dont worry, order here100% soft-spun premium polyestervibrant all over front and; back print fade, crack and; wrinkle resistantlight fleece liningour \n",
       "<mark class=\"entity\" style=\"background: #ddd; padding: 0.45em 0.6em; margin: 0 0.25em; line-height: 1; border-radius: 0.35em;\">\n",
       "    sweaters\n",
       "    <span style=\"font-size: 0.8em; font-weight: bold; line-height: 1; border-radius: 0.35em; vertical-align: middle; margin-left: 0.5rem\">TOPS</span>\n",
       "</mark>\n",
       " are made with love one at a time,cut, sewn and; hand finished.. just for you!</div></span>"
      ],
      "text/plain": [
       "<IPython.core.display.HTML object>"
      ]
     },
     "metadata": {},
     "output_type": "display_data"
    },
    {
     "data": {
      "text/html": [
       "<span class=\"tex2jax_ignore\"><div class=\"entities\" style=\"line-height: 2.5; direction: ltr\">this item is already made and ships out within 5 business days.out of your size? dont worry, order here100% soft-spun premium polyestervibrant all over front and; back print fade, crack and; wrinkle resistantlight fleece liningour \n",
       "<mark class=\"entity\" style=\"background: #ddd; padding: 0.45em 0.6em; margin: 0 0.25em; line-height: 1; border-radius: 0.35em;\">\n",
       "    sweaters\n",
       "    <span style=\"font-size: 0.8em; font-weight: bold; line-height: 1; border-radius: 0.35em; vertical-align: middle; margin-left: 0.5rem\">TOPS</span>\n",
       "</mark>\n",
       " are made with love one at a time,cut, sewn and; hand finished.. just for you!</div></span>"
      ],
      "text/plain": [
       "<IPython.core.display.HTML object>"
      ]
     },
     "metadata": {},
     "output_type": "display_data"
    }
   ],
   "source": [
    "\n",
    "txt2 = \"This item is already made and ships out within 5 business days.Out of your size? Don't worry, order HERE100% soft-spun premium polyesterVibrant all over front &amp; back print Fade, crack &amp; wrinkle resistantLight fleece liningOur sweaters are made with love one at a time,Cut, sewn &amp; hand finished.. just for you!\"\n",
    "txt2 = c.clean_product_description(txt2)\n",
    "displacy.render(nlp_stat(txt2), style=\"ent\")\n",
    "displacy.render(nlp_rule(txt2), style=\"ent\")"
   ]
  },
  {
   "cell_type": "code",
   "execution_count": 26,
   "metadata": {},
   "outputs": [
    {
     "data": {
      "text/html": [
       "<span class=\"tex2jax_ignore\"><div class=\"entities\" style=\"line-height: 2.5; direction: ltr\">style #85143 – 08/0827cozy up in this beautiful cable knit \n",
       "<mark class=\"entity\" style=\"background: #ddd; padding: 0.45em 0.6em; margin: 0 0.25em; line-height: 1; border-radius: 0.35em;\">\n",
       "    sweater\n",
       "    <span style=\"font-size: 0.8em; font-weight: bold; line-height: 1; border-radius: 0.35em; vertical-align: middle; margin-left: 0.5rem\">TOPS</span>\n",
       "</mark>\n",
       "! made with recycled cotton, this \n",
       "<mark class=\"entity\" style=\"background: #ddd; padding: 0.45em 0.6em; margin: 0 0.25em; line-height: 1; border-radius: 0.35em;\">\n",
       "    sweater\n",
       "    <span style=\"font-size: 0.8em; font-weight: bold; line-height: 1; border-radius: 0.35em; vertical-align: middle; margin-left: 0.5rem\">TOPS</span>\n",
       "</mark>\n",
       " features a funnel neck, long sleeves and chunky knit. it is a timeless classic that will pair with everything in your closet for years to come.style: pulloverfit: relaxedlength: slightly below hipsfunnel necklinelong sleeves with ribbed knit cuffsribbed knit hemmachine wash in cold watercomposition: 75% recycled cotton, 25% polyester</div></span>"
      ],
      "text/plain": [
       "<IPython.core.display.HTML object>"
      ]
     },
     "metadata": {},
     "output_type": "display_data"
    },
    {
     "data": {
      "text/html": [
       "<span class=\"tex2jax_ignore\"><div class=\"entities\" style=\"line-height: 2.5; direction: ltr\">style #85143 – 08/0827cozy up in this beautiful cable knit \n",
       "<mark class=\"entity\" style=\"background: #ddd; padding: 0.45em 0.6em; margin: 0 0.25em; line-height: 1; border-radius: 0.35em;\">\n",
       "    sweater\n",
       "    <span style=\"font-size: 0.8em; font-weight: bold; line-height: 1; border-radius: 0.35em; vertical-align: middle; margin-left: 0.5rem\">TOPS</span>\n",
       "</mark>\n",
       "! made with recycled cotton, this \n",
       "<mark class=\"entity\" style=\"background: #ddd; padding: 0.45em 0.6em; margin: 0 0.25em; line-height: 1; border-radius: 0.35em;\">\n",
       "    sweater\n",
       "    <span style=\"font-size: 0.8em; font-weight: bold; line-height: 1; border-radius: 0.35em; vertical-align: middle; margin-left: 0.5rem\">TOPS</span>\n",
       "</mark>\n",
       " features a funnel neck, long sleeves and chunky knit. it is a timeless classic that will pair with everything in your closet for years to come.style: pulloverfit: relaxedlength: slightly below hipsfunnel necklinelong sleeves with ribbed knit cuffsribbed knit hemmachine wash in cold watercomposition: 75% recycled cotton, 25% polyester</div></span>"
      ],
      "text/plain": [
       "<IPython.core.display.HTML object>"
      ]
     },
     "metadata": {},
     "output_type": "display_data"
    }
   ],
   "source": [
    "\n",
    "txt3 = \"Style #85143 – 08/0827Cozy up in this beautiful cable knit sweater! Made with recycled cotton, this sweater features a funnel neck, long sleeves and chunky knit. It is a timeless classic that will pair with everything in your closet for years to come.Style: PulloverFit: RelaxedLength: Slightly below hipsFunnel necklineLong sleeves with ribbed knit cuffsRibbed knit hemMachine wash in cold waterComposition: 75% Recycled Cotton, 25% Polyester\"\n",
    "txt3 = c.clean_product_description(txt3)\n",
    "displacy.render(nlp_stat(txt3), style=\"ent\")\n",
    "displacy.render(nlp_rule(txt3), style=\"ent\")"
   ]
  },
  {
   "cell_type": "code",
   "execution_count": 27,
   "metadata": {},
   "outputs": [
    {
     "data": {
      "text/html": [
       "<span class=\"tex2jax_ignore\"><div class=\"entities\" style=\"line-height: 2.5; direction: ltr\">i wear a fancy \n",
       "<mark class=\"entity\" style=\"background: #ddd; padding: 0.45em 0.6em; margin: 0 0.25em; line-height: 1; border-radius: 0.35em;\">\n",
       "    t-shirt\n",
       "    <span style=\"font-size: 0.8em; font-weight: bold; line-height: 1; border-radius: 0.35em; vertical-align: middle; margin-left: 0.5rem\">TOPS</span>\n",
       "</mark>\n",
       " \n",
       "<mark class=\"entity\" style=\"background: #ddd; padding: 0.45em 0.6em; margin: 0 0.25em; line-height: 1; border-radius: 0.35em;\">\n",
       "    tops\n",
       "    <span style=\"font-size: 0.8em; font-weight: bold; line-height: 1; border-radius: 0.35em; vertical-align: middle; margin-left: 0.5rem\">TOPS</span>\n",
       "</mark>\n",
       " and i got another button-down wonderful \n",
       "<mark class=\"entity\" style=\"background: #ddd; padding: 0.45em 0.6em; margin: 0 0.25em; line-height: 1; border-radius: 0.35em;\">\n",
       "    crop\n",
       "    <span style=\"font-size: 0.8em; font-weight: bold; line-height: 1; border-radius: 0.35em; vertical-align: middle; margin-left: 0.5rem\">TOPS</span>\n",
       "</mark>\n",
       " \n",
       "<mark class=\"entity\" style=\"background: #ddd; padding: 0.45em 0.6em; margin: 0 0.25em; line-height: 1; border-radius: 0.35em;\">\n",
       "    tops\n",
       "    <span style=\"font-size: 0.8em; font-weight: bold; line-height: 1; border-radius: 0.35em; vertical-align: middle; margin-left: 0.5rem\">TOPS</span>\n",
       "</mark>\n",
       " \n",
       "<mark class=\"entity\" style=\"background: #ddd; padding: 0.45em 0.6em; margin: 0 0.25em; line-height: 1; border-radius: 0.35em;\">\n",
       "    tee\n",
       "    <span style=\"font-size: 0.8em; font-weight: bold; line-height: 1; border-radius: 0.35em; vertical-align: middle; margin-left: 0.5rem\">TOPS</span>\n",
       "</mark>\n",
       " \n",
       "<mark class=\"entity\" style=\"background: #ddd; padding: 0.45em 0.6em; margin: 0 0.25em; line-height: 1; border-radius: 0.35em;\">\n",
       "    tops\n",
       "    <span style=\"font-size: 0.8em; font-weight: bold; line-height: 1; border-radius: 0.35em; vertical-align: middle; margin-left: 0.5rem\">TOPS</span>\n",
       "</mark>\n",
       " . long shirt \n",
       "<mark class=\"entity\" style=\"background: #ddd; padding: 0.45em 0.6em; margin: 0 0.25em; line-height: 1; border-radius: 0.35em;\">\n",
       "    tops\n",
       "    <span style=\"font-size: 0.8em; font-weight: bold; line-height: 1; border-radius: 0.35em; vertical-align: middle; margin-left: 0.5rem\">TOPS</span>\n",
       "</mark>\n",
       " and coat \n",
       "<mark class=\"entity\" style=\"background: #ddd; padding: 0.45em 0.6em; margin: 0 0.25em; line-height: 1; border-radius: 0.35em;\">\n",
       "    tops\n",
       "    <span style=\"font-size: 0.8em; font-weight: bold; line-height: 1; border-radius: 0.35em; vertical-align: middle; margin-left: 0.5rem\">TOPS</span>\n",
       "</mark>\n",
       " are necessary for keeping warm in winter. \n",
       "<mark class=\"entity\" style=\"background: #ddd; padding: 0.45em 0.6em; margin: 0 0.25em; line-height: 1; border-radius: 0.35em;\">\n",
       "    sweater\n",
       "    <span style=\"font-size: 0.8em; font-weight: bold; line-height: 1; border-radius: 0.35em; vertical-align: middle; margin-left: 0.5rem\">TOPS</span>\n",
       "</mark>\n",
       " tops and \n",
       "<mark class=\"entity\" style=\"background: #ddd; padding: 0.45em 0.6em; margin: 0 0.25em; line-height: 1; border-radius: 0.35em;\">\n",
       "    blouse\n",
       "    <span style=\"font-size: 0.8em; font-weight: bold; line-height: 1; border-radius: 0.35em; vertical-align: middle; margin-left: 0.5rem\">TOPS</span>\n",
       "</mark>\n",
       " \n",
       "<mark class=\"entity\" style=\"background: #ddd; padding: 0.45em 0.6em; margin: 0 0.25em; line-height: 1; border-radius: 0.35em;\">\n",
       "    tops\n",
       "    <span style=\"font-size: 0.8em; font-weight: bold; line-height: 1; border-radius: 0.35em; vertical-align: middle; margin-left: 0.5rem\">TOPS</span>\n",
       "</mark>\n",
       " are important for people living in the north. ua students have their own \n",
       "<mark class=\"entity\" style=\"background: #ddd; padding: 0.45em 0.6em; margin: 0 0.25em; line-height: 1; border-radius: 0.35em;\">\n",
       "    hoodies\n",
       "    <span style=\"font-size: 0.8em; font-weight: bold; line-height: 1; border-radius: 0.35em; vertical-align: middle; margin-left: 0.5rem\">TOPS</span>\n",
       "</mark>\n",
       " \n",
       "<mark class=\"entity\" style=\"background: #ddd; padding: 0.45em 0.6em; margin: 0 0.25em; line-height: 1; border-radius: 0.35em;\">\n",
       "    tops\n",
       "    <span style=\"font-size: 0.8em; font-weight: bold; line-height: 1; border-radius: 0.35em; vertical-align: middle; margin-left: 0.5rem\">TOPS</span>\n",
       "</mark>\n",
       " . the \n",
       "<mark class=\"entity\" style=\"background: #ddd; padding: 0.45em 0.6em; margin: 0 0.25em; line-height: 1; border-radius: 0.35em;\">\n",
       "    tank top\n",
       "    <span style=\"font-size: 0.8em; font-weight: bold; line-height: 1; border-radius: 0.35em; vertical-align: middle; margin-left: 0.5rem\">TOPS</span>\n",
       "</mark>\n",
       " \n",
       "<mark class=\"entity\" style=\"background: #ddd; padding: 0.45em 0.6em; margin: 0 0.25em; line-height: 1; border-radius: 0.35em;\">\n",
       "    tops\n",
       "    <span style=\"font-size: 0.8em; font-weight: bold; line-height: 1; border-radius: 0.35em; vertical-align: middle; margin-left: 0.5rem\">TOPS</span>\n",
       "</mark>\n",
       " is new stylish top-clothes. what about trying our new camisole which is fantastic?</div></span>"
      ],
      "text/plain": [
       "<IPython.core.display.HTML object>"
      ]
     },
     "metadata": {},
     "output_type": "display_data"
    },
    {
     "data": {
      "text/html": [
       "<span class=\"tex2jax_ignore\"><div class=\"entities\" style=\"line-height: 2.5; direction: ltr\">i wear a fancy \n",
       "<mark class=\"entity\" style=\"background: #ddd; padding: 0.45em 0.6em; margin: 0 0.25em; line-height: 1; border-radius: 0.35em;\">\n",
       "    t-shirt\n",
       "    <span style=\"font-size: 0.8em; font-weight: bold; line-height: 1; border-radius: 0.35em; vertical-align: middle; margin-left: 0.5rem\">TOPS</span>\n",
       "</mark>\n",
       " \n",
       "<mark class=\"entity\" style=\"background: #ddd; padding: 0.45em 0.6em; margin: 0 0.25em; line-height: 1; border-radius: 0.35em;\">\n",
       "    tops\n",
       "    <span style=\"font-size: 0.8em; font-weight: bold; line-height: 1; border-radius: 0.35em; vertical-align: middle; margin-left: 0.5rem\">TOPS</span>\n",
       "</mark>\n",
       " and i got another button-down wonderful \n",
       "<mark class=\"entity\" style=\"background: #ddd; padding: 0.45em 0.6em; margin: 0 0.25em; line-height: 1; border-radius: 0.35em;\">\n",
       "    crop\n",
       "    <span style=\"font-size: 0.8em; font-weight: bold; line-height: 1; border-radius: 0.35em; vertical-align: middle; margin-left: 0.5rem\">TOPS</span>\n",
       "</mark>\n",
       " \n",
       "<mark class=\"entity\" style=\"background: #ddd; padding: 0.45em 0.6em; margin: 0 0.25em; line-height: 1; border-radius: 0.35em;\">\n",
       "    tops\n",
       "    <span style=\"font-size: 0.8em; font-weight: bold; line-height: 1; border-radius: 0.35em; vertical-align: middle; margin-left: 0.5rem\">TOPS</span>\n",
       "</mark>\n",
       " \n",
       "<mark class=\"entity\" style=\"background: #ddd; padding: 0.45em 0.6em; margin: 0 0.25em; line-height: 1; border-radius: 0.35em;\">\n",
       "    tee\n",
       "    <span style=\"font-size: 0.8em; font-weight: bold; line-height: 1; border-radius: 0.35em; vertical-align: middle; margin-left: 0.5rem\">TOPS</span>\n",
       "</mark>\n",
       " \n",
       "<mark class=\"entity\" style=\"background: #ddd; padding: 0.45em 0.6em; margin: 0 0.25em; line-height: 1; border-radius: 0.35em;\">\n",
       "    tops\n",
       "    <span style=\"font-size: 0.8em; font-weight: bold; line-height: 1; border-radius: 0.35em; vertical-align: middle; margin-left: 0.5rem\">TOPS</span>\n",
       "</mark>\n",
       " . long \n",
       "<mark class=\"entity\" style=\"background: #ddd; padding: 0.45em 0.6em; margin: 0 0.25em; line-height: 1; border-radius: 0.35em;\">\n",
       "    shirt\n",
       "    <span style=\"font-size: 0.8em; font-weight: bold; line-height: 1; border-radius: 0.35em; vertical-align: middle; margin-left: 0.5rem\">TOPS</span>\n",
       "</mark>\n",
       " \n",
       "<mark class=\"entity\" style=\"background: #ddd; padding: 0.45em 0.6em; margin: 0 0.25em; line-height: 1; border-radius: 0.35em;\">\n",
       "    tops\n",
       "    <span style=\"font-size: 0.8em; font-weight: bold; line-height: 1; border-radius: 0.35em; vertical-align: middle; margin-left: 0.5rem\">TOPS</span>\n",
       "</mark>\n",
       " and \n",
       "<mark class=\"entity\" style=\"background: #ddd; padding: 0.45em 0.6em; margin: 0 0.25em; line-height: 1; border-radius: 0.35em;\">\n",
       "    coat\n",
       "    <span style=\"font-size: 0.8em; font-weight: bold; line-height: 1; border-radius: 0.35em; vertical-align: middle; margin-left: 0.5rem\">TOPS</span>\n",
       "</mark>\n",
       " \n",
       "<mark class=\"entity\" style=\"background: #ddd; padding: 0.45em 0.6em; margin: 0 0.25em; line-height: 1; border-radius: 0.35em;\">\n",
       "    tops\n",
       "    <span style=\"font-size: 0.8em; font-weight: bold; line-height: 1; border-radius: 0.35em; vertical-align: middle; margin-left: 0.5rem\">TOPS</span>\n",
       "</mark>\n",
       " are necessary for keeping warm in winter. \n",
       "<mark class=\"entity\" style=\"background: #ddd; padding: 0.45em 0.6em; margin: 0 0.25em; line-height: 1; border-radius: 0.35em;\">\n",
       "    sweater\n",
       "    <span style=\"font-size: 0.8em; font-weight: bold; line-height: 1; border-radius: 0.35em; vertical-align: middle; margin-left: 0.5rem\">TOPS</span>\n",
       "</mark>\n",
       " \n",
       "<mark class=\"entity\" style=\"background: #ddd; padding: 0.45em 0.6em; margin: 0 0.25em; line-height: 1; border-radius: 0.35em;\">\n",
       "    tops\n",
       "    <span style=\"font-size: 0.8em; font-weight: bold; line-height: 1; border-radius: 0.35em; vertical-align: middle; margin-left: 0.5rem\">TOPS</span>\n",
       "</mark>\n",
       " and \n",
       "<mark class=\"entity\" style=\"background: #ddd; padding: 0.45em 0.6em; margin: 0 0.25em; line-height: 1; border-radius: 0.35em;\">\n",
       "    blouse\n",
       "    <span style=\"font-size: 0.8em; font-weight: bold; line-height: 1; border-radius: 0.35em; vertical-align: middle; margin-left: 0.5rem\">TOPS</span>\n",
       "</mark>\n",
       " \n",
       "<mark class=\"entity\" style=\"background: #ddd; padding: 0.45em 0.6em; margin: 0 0.25em; line-height: 1; border-radius: 0.35em;\">\n",
       "    tops\n",
       "    <span style=\"font-size: 0.8em; font-weight: bold; line-height: 1; border-radius: 0.35em; vertical-align: middle; margin-left: 0.5rem\">TOPS</span>\n",
       "</mark>\n",
       " are important for people living in the north. ua students have their own \n",
       "<mark class=\"entity\" style=\"background: #ddd; padding: 0.45em 0.6em; margin: 0 0.25em; line-height: 1; border-radius: 0.35em;\">\n",
       "    hoodies\n",
       "    <span style=\"font-size: 0.8em; font-weight: bold; line-height: 1; border-radius: 0.35em; vertical-align: middle; margin-left: 0.5rem\">TOPS</span>\n",
       "</mark>\n",
       " \n",
       "<mark class=\"entity\" style=\"background: #ddd; padding: 0.45em 0.6em; margin: 0 0.25em; line-height: 1; border-radius: 0.35em;\">\n",
       "    tops\n",
       "    <span style=\"font-size: 0.8em; font-weight: bold; line-height: 1; border-radius: 0.35em; vertical-align: middle; margin-left: 0.5rem\">TOPS</span>\n",
       "</mark>\n",
       " . the \n",
       "<mark class=\"entity\" style=\"background: #ddd; padding: 0.45em 0.6em; margin: 0 0.25em; line-height: 1; border-radius: 0.35em;\">\n",
       "    tank top\n",
       "    <span style=\"font-size: 0.8em; font-weight: bold; line-height: 1; border-radius: 0.35em; vertical-align: middle; margin-left: 0.5rem\">TOPS</span>\n",
       "</mark>\n",
       " \n",
       "<mark class=\"entity\" style=\"background: #ddd; padding: 0.45em 0.6em; margin: 0 0.25em; line-height: 1; border-radius: 0.35em;\">\n",
       "    tops\n",
       "    <span style=\"font-size: 0.8em; font-weight: bold; line-height: 1; border-radius: 0.35em; vertical-align: middle; margin-left: 0.5rem\">TOPS</span>\n",
       "</mark>\n",
       " is new stylish top-clothes. what about trying our new \n",
       "<mark class=\"entity\" style=\"background: #ddd; padding: 0.45em 0.6em; margin: 0 0.25em; line-height: 1; border-radius: 0.35em;\">\n",
       "    camisole\n",
       "    <span style=\"font-size: 0.8em; font-weight: bold; line-height: 1; border-radius: 0.35em; vertical-align: middle; margin-left: 0.5rem\">TOPS</span>\n",
       "</mark>\n",
       " which is fantastic?</div></span>"
      ],
      "text/plain": [
       "<IPython.core.display.HTML object>"
      ]
     },
     "metadata": {},
     "output_type": "display_data"
    }
   ],
   "source": [
    "txt4 = \"I wear a fancy T-SHirt TOPS and I got another button-down wonderful crop TOPS tee TOPS . Long shirt TOPS and coat TOPS are necessary for keeping warm in winter. Sweater TOPS and blouse TOPS are important for people living in the north. UA students have their own hoodies TOPS . The Tank Top TOPS is new stylish top-clothes. What about trying our new camisole which is fantastic?\"\n",
    "txt4 = c.clean_product_description(txt4)\n",
    "displacy.render(nlp_stat(txt4), style=\"ent\")\n",
    "displacy.render(nlp_rule(txt4), style=\"ent\")"
   ]
  },
  {
   "cell_type": "code",
   "execution_count": 27,
   "metadata": {},
   "outputs": [
    {
     "name": "stdout",
     "output_type": "stream",
     "text": [
      "7\n",
      "5\n"
     ]
    }
   ],
   "source": [
    "txt5 = \"The Tempo Hoodie TOPS is the UPF 50+ activewear you've been looking for! It has thumbholes, a kangaroo pocket, and a hood for when the sun is too hot or you forgot your hat. Our Fitness Hoodie TOPS is made out of our Active Athlon fabric with the added bonus of our Cooltect™ technology. You can be active in this fitted Fitness Hoodie TOPS without getting uncomfortably hot. So go ahead and enjoy sun-safe biking, walking, running and so much more!Highlights:UPF 50+Raglan long sleeves with thumbholesWelt kangaroo pocketHoodedActive Athlon™ fabric: Lightweight and breathable with moisture wicking for quick dry performanceCooltect™ technology accelerates moisture wicking to keep you cooler and more comfortable\"\n",
    "txt5 = c.clean_product_description(txt5)\n",
    "#displacy.render(nlp_stat(txt5), style=\"ent\")\n",
    "#displacy.render(nlp_rule(txt5), style=\"ent\")\n",
    "print(len(nlp_stat(txt5).ents))\n",
    "print(len(nlp_rule(txt5).ents))"
   ]
  },
  {
   "cell_type": "code",
   "execution_count": 33,
   "metadata": {},
   "outputs": [
    {
     "name": "stdout",
     "output_type": "stream",
     "text": [
      "()\n"
     ]
    }
   ],
   "source": [
    "#txt6 = c.clean_tags_text(\"Koy Ladies Miami Smocked Bandeau Top.\", None, None)\n",
    "txt6 = \"koy ladies miami smocked bandeau top.\"\n",
    "print(nlp_stat(txt6).ents)\n",
    "\n",
    "doc = nlp_rule(txt6)\n",
    "\n",
    "    "
   ]
  },
  {
   "cell_type": "markdown",
   "metadata": {},
   "source": [
    "### Based on Test_tops.csv to build ML and RM matcher."
   ]
  },
  {
   "cell_type": "code",
   "execution_count": 29,
   "metadata": {},
   "outputs": [
    {
     "data": {
      "text/html": [
       "<div>\n",
       "<style scoped>\n",
       "    .dataframe tbody tr th:only-of-type {\n",
       "        vertical-align: middle;\n",
       "    }\n",
       "\n",
       "    .dataframe tbody tr th {\n",
       "        vertical-align: top;\n",
       "    }\n",
       "\n",
       "    .dataframe thead th {\n",
       "        text-align: right;\n",
       "    }\n",
       "</style>\n",
       "<table border=\"1\" class=\"dataframe\">\n",
       "  <thead>\n",
       "    <tr style=\"text-align: right;\">\n",
       "      <th></th>\n",
       "      <th>title</th>\n",
       "      <th>product_type</th>\n",
       "      <th>tags</th>\n",
       "      <th>body_html</th>\n",
       "      <th>label</th>\n",
       "      <th>nlp_stat_found</th>\n",
       "      <th>nlp_rule_found</th>\n",
       "      <th>nlp_stat_ents</th>\n",
       "      <th>nlp_rule_ents</th>\n",
       "      <th>(description)nlp_stat_found</th>\n",
       "      <th>(description)nlp_rule_found</th>\n",
       "      <th>(description)nlp_stat_ents</th>\n",
       "      <th>(description)nlp_rule_ents</th>\n",
       "    </tr>\n",
       "  </thead>\n",
       "  <tbody>\n",
       "    <tr>\n",
       "      <th>0</th>\n",
       "      <td>THE GIFT SPORTS BRA</td>\n",
       "      <td>sports bra</td>\n",
       "      <td>{Galaxy,Nu,Psychedelic,\"Sacred Geometry\",Space}</td>\n",
       "      <td>Vibrant all over front &amp;amp; back design100% p...</td>\n",
       "      <td>1</td>\n",
       "      <td>0</td>\n",
       "      <td>0</td>\n",
       "      <td></td>\n",
       "      <td></td>\n",
       "      <td>0</td>\n",
       "      <td>0</td>\n",
       "      <td></td>\n",
       "      <td></td>\n",
       "    </tr>\n",
       "    <tr>\n",
       "      <th>1</th>\n",
       "      <td>TEE SHIRT - BURNT ORANGE</td>\n",
       "      <td>tee shirt</td>\n",
       "      <td>{fw20,gastown,\"jack jones\",long,mens,ochre,ora...</td>\n",
       "      <td>PRODUCT DESCRIPTIONOne of the best selling lon...</td>\n",
       "      <td>1</td>\n",
       "      <td>0</td>\n",
       "      <td>0</td>\n",
       "      <td></td>\n",
       "      <td></td>\n",
       "      <td>0</td>\n",
       "      <td>0</td>\n",
       "      <td></td>\n",
       "      <td></td>\n",
       "    </tr>\n",
       "    <tr>\n",
       "      <th>2</th>\n",
       "      <td>DISAMBIGUATION DROP TEE</td>\n",
       "      <td>drop tee</td>\n",
       "      <td>{Nu,Psychedelic,\"Sacred Geometry\"}</td>\n",
       "      <td>Vibrant all over front &amp;amp; back design100% p...</td>\n",
       "      <td>1</td>\n",
       "      <td>0</td>\n",
       "      <td>0</td>\n",
       "      <td></td>\n",
       "      <td></td>\n",
       "      <td>0</td>\n",
       "      <td>0</td>\n",
       "      <td></td>\n",
       "      <td></td>\n",
       "    </tr>\n",
       "    <tr>\n",
       "      <th>3</th>\n",
       "      <td>Geometric Print Tunic Top - NEW ARRIVAL</td>\n",
       "      <td>tunic</td>\n",
       "      <td>{221266,\"JOSEPH RIBKOFF\",\"Regular Price\",RESOR...</td>\n",
       "      <td>Style # 221266 - 03/0900This stretchy, silky k...</td>\n",
       "      <td>1</td>\n",
       "      <td>0</td>\n",
       "      <td>0</td>\n",
       "      <td></td>\n",
       "      <td></td>\n",
       "      <td>0</td>\n",
       "      <td>0</td>\n",
       "      <td></td>\n",
       "      <td></td>\n",
       "    </tr>\n",
       "    <tr>\n",
       "      <th>4</th>\n",
       "      <td>Billabong Arch S/S Tee</td>\n",
       "      <td>mens tees</td>\n",
       "      <td>{20-40,25-50,availability_in-stock,billabong,c...</td>\n",
       "      <td>The Billabong Arch Short Sleeve T-Shirt featur...</td>\n",
       "      <td>1</td>\n",
       "      <td>0</td>\n",
       "      <td>0</td>\n",
       "      <td></td>\n",
       "      <td></td>\n",
       "      <td>0</td>\n",
       "      <td>0</td>\n",
       "      <td></td>\n",
       "      <td></td>\n",
       "    </tr>\n",
       "  </tbody>\n",
       "</table>\n",
       "</div>"
      ],
      "text/plain": [
       "                                     title product_type  \\\n",
       "0                      THE GIFT SPORTS BRA   sports bra   \n",
       "1                 TEE SHIRT - BURNT ORANGE    tee shirt   \n",
       "2                  DISAMBIGUATION DROP TEE     drop tee   \n",
       "3  Geometric Print Tunic Top - NEW ARRIVAL        tunic   \n",
       "4                   Billabong Arch S/S Tee    mens tees   \n",
       "\n",
       "                                                tags  \\\n",
       "0    {Galaxy,Nu,Psychedelic,\"Sacred Geometry\",Space}   \n",
       "1  {fw20,gastown,\"jack jones\",long,mens,ochre,ora...   \n",
       "2                 {Nu,Psychedelic,\"Sacred Geometry\"}   \n",
       "3  {221266,\"JOSEPH RIBKOFF\",\"Regular Price\",RESOR...   \n",
       "4  {20-40,25-50,availability_in-stock,billabong,c...   \n",
       "\n",
       "                                           body_html  label  nlp_stat_found  \\\n",
       "0  Vibrant all over front &amp; back design100% p...      1               0   \n",
       "1  PRODUCT DESCRIPTIONOne of the best selling lon...      1               0   \n",
       "2  Vibrant all over front &amp; back design100% p...      1               0   \n",
       "3  Style # 221266 - 03/0900This stretchy, silky k...      1               0   \n",
       "4  The Billabong Arch Short Sleeve T-Shirt featur...      1               0   \n",
       "\n",
       "   nlp_rule_found nlp_stat_ents nlp_rule_ents  (description)nlp_stat_found  \\\n",
       "0               0                                                        0   \n",
       "1               0                                                        0   \n",
       "2               0                                                        0   \n",
       "3               0                                                        0   \n",
       "4               0                                                        0   \n",
       "\n",
       "   (description)nlp_rule_found (description)nlp_stat_ents  \\\n",
       "0                            0                              \n",
       "1                            0                              \n",
       "2                            0                              \n",
       "3                            0                              \n",
       "4                            0                              \n",
       "\n",
       "  (description)nlp_rule_ents  \n",
       "0                             \n",
       "1                             \n",
       "2                             \n",
       "3                             \n",
       "4                             "
      ]
     },
     "execution_count": 29,
     "metadata": {},
     "output_type": "execute_result"
    }
   ],
   "source": [
    "tops_test_data = pd.read_csv(\"test_data/tops_test.csv\")\n",
    "tops_test_data.insert(len(tops_test_data.columns), 'label', 1, allow_duplicates=True)\n",
    "tops_test_data.insert(len(tops_test_data.columns), 'nlp_stat_found', 0, allow_duplicates=True)\n",
    "tops_test_data.insert(len(tops_test_data.columns), 'nlp_rule_found', 0, allow_duplicates=True)\n",
    "tops_test_data.insert(len(tops_test_data.columns), 'nlp_stat_ents', \"\", allow_duplicates=True)\n",
    "tops_test_data.insert(len(tops_test_data.columns), 'nlp_rule_ents', \"\", allow_duplicates=True)\n",
    "\n",
    "tops_test_data.insert(len(tops_test_data.columns), '(description)nlp_stat_found', 0, allow_duplicates=True)\n",
    "tops_test_data.insert(len(tops_test_data.columns), '(description)nlp_rule_found', 0, allow_duplicates=True)\n",
    "tops_test_data.insert(len(tops_test_data.columns), '(description)nlp_stat_ents', \"\", allow_duplicates=True)\n",
    "tops_test_data.insert(len(tops_test_data.columns), '(description)nlp_rule_ents', \"\", allow_duplicates=True)\n",
    "\n",
    "\n",
    "\n",
    "tops_test_data.head()"
   ]
  },
  {
   "cell_type": "code",
   "execution_count": 30,
   "metadata": {},
   "outputs": [
    {
     "data": {
      "text/html": [
       "<div>\n",
       "<style scoped>\n",
       "    .dataframe tbody tr th:only-of-type {\n",
       "        vertical-align: middle;\n",
       "    }\n",
       "\n",
       "    .dataframe tbody tr th {\n",
       "        vertical-align: top;\n",
       "    }\n",
       "\n",
       "    .dataframe thead th {\n",
       "        text-align: right;\n",
       "    }\n",
       "</style>\n",
       "<table border=\"1\" class=\"dataframe\">\n",
       "  <thead>\n",
       "    <tr style=\"text-align: right;\">\n",
       "      <th></th>\n",
       "      <th>title</th>\n",
       "      <th>tags</th>\n",
       "      <th>raw_combined_text</th>\n",
       "    </tr>\n",
       "  </thead>\n",
       "  <tbody>\n",
       "    <tr>\n",
       "      <th>0</th>\n",
       "      <td>THE GIFT SPORTS BRA</td>\n",
       "      <td>{Galaxy,Nu,Psychedelic,\"Sacred Geometry\",Space}</td>\n",
       "      <td>the gift sports bra; galaxy nu psychedelic sac...</td>\n",
       "    </tr>\n",
       "    <tr>\n",
       "      <th>1</th>\n",
       "      <td>TEE SHIRT - BURNT ORANGE</td>\n",
       "      <td>{fw20,gastown,\"jack jones\",long,mens,ochre,ora...</td>\n",
       "      <td>tee shirt   burnt orange; fw20 gastown jack jo...</td>\n",
       "    </tr>\n",
       "    <tr>\n",
       "      <th>2</th>\n",
       "      <td>DISAMBIGUATION DROP TEE</td>\n",
       "      <td>{Nu,Psychedelic,\"Sacred Geometry\"}</td>\n",
       "      <td>disambiguation drop tee; nu psychedelic sacred...</td>\n",
       "    </tr>\n",
       "    <tr>\n",
       "      <th>3</th>\n",
       "      <td>Geometric Print Tunic Top - NEW ARRIVAL</td>\n",
       "      <td>{221266,\"JOSEPH RIBKOFF\",\"Regular Price\",RESOR...</td>\n",
       "      <td>geometric print tunic top   new arrival; 22126...</td>\n",
       "    </tr>\n",
       "    <tr>\n",
       "      <th>4</th>\n",
       "      <td>Billabong Arch S/S Tee</td>\n",
       "      <td>{20-40,25-50,availability_in-stock,billabong,c...</td>\n",
       "      <td>billabong arch s/s tee; 20-40 25-50 availabili...</td>\n",
       "    </tr>\n",
       "  </tbody>\n",
       "</table>\n",
       "</div>"
      ],
      "text/plain": [
       "                                     title  \\\n",
       "0                      THE GIFT SPORTS BRA   \n",
       "1                 TEE SHIRT - BURNT ORANGE   \n",
       "2                  DISAMBIGUATION DROP TEE   \n",
       "3  Geometric Print Tunic Top - NEW ARRIVAL   \n",
       "4                   Billabong Arch S/S Tee   \n",
       "\n",
       "                                                tags  \\\n",
       "0    {Galaxy,Nu,Psychedelic,\"Sacred Geometry\",Space}   \n",
       "1  {fw20,gastown,\"jack jones\",long,mens,ochre,ora...   \n",
       "2                 {Nu,Psychedelic,\"Sacred Geometry\"}   \n",
       "3  {221266,\"JOSEPH RIBKOFF\",\"Regular Price\",RESOR...   \n",
       "4  {20-40,25-50,availability_in-stock,billabong,c...   \n",
       "\n",
       "                                   raw_combined_text  \n",
       "0  the gift sports bra; galaxy nu psychedelic sac...  \n",
       "1  tee shirt   burnt orange; fw20 gastown jack jo...  \n",
       "2  disambiguation drop tee; nu psychedelic sacred...  \n",
       "3  geometric print tunic top   new arrival; 22126...  \n",
       "4  billabong arch s/s tee; 20-40 25-50 availabili...  "
      ]
     },
     "execution_count": 30,
     "metadata": {},
     "output_type": "execute_result"
    }
   ],
   "source": [
    "title_tags_type_df.head()#this contains 'raw_combined_text' after cleaning title + product_type+ tags"
   ]
  },
  {
   "cell_type": "code",
   "execution_count": 31,
   "metadata": {},
   "outputs": [],
   "source": [
    "for i in range(tops_test_data.shape[0]):\n",
    "    try:\n",
    "        s = title_tags_type_df.loc[i, 'raw_combined_text']\n",
    "        tops_test_data.loc[i, \"nlp_stat_found\"] = len(nlp_stat(s).ents)\n",
    "        tops_test_data.loc[i, \"nlp_rule_found\"] = len(nlp_rule(s).ents)\n",
    "        tops_test_data.loc[i, \"nlp_stat_ents\"] = str(nlp_stat(s).ents)\n",
    "        tops_test_data.loc[i, \"nlp_rule_ents\"] = str(nlp_rule(s).ents)\n",
    "    except:\n",
    "        print(\"Error: \" + str(i) + s)\n",
    "    "
   ]
  },
  {
   "cell_type": "markdown",
   "metadata": {},
   "source": [
    "### Based on Title_Tags_Product_type two method comparasion "
   ]
  },
  {
   "cell_type": "code",
   "execution_count": 32,
   "metadata": {},
   "outputs": [
    {
     "name": "stdout",
     "output_type": "stream",
     "text": [
      "total data sample:  41\n",
      "based_on_ML_model:  0.8780487804878049\n",
      "nlp_stat_found:  36 / 41\n",
      "based_on_RB_model:  0.975609756097561\n",
      "nlp_stat_found:  40 / 41\n"
     ]
    }
   ],
   "source": [
    "rows = tops_test_data[tops_test_data.columns[0]].count()\n",
    "print(\"total data sample: \", rows)\n",
    "nlp_stat_found = tops_test_data.loc[tops_test_data['nlp_stat_found'] > 0].shape[0]\n",
    "nlp_rule_found = tops_test_data.loc[tops_test_data['nlp_rule_found'] > 0].shape[0] \n",
    "based_on_ML_model = nlp_stat_found / rows\n",
    "based_on_RB_model = nlp_rule_found / rows\n",
    "print(\"based_on_ML_model: \", based_on_ML_model)\n",
    "print(\"nlp_stat_found: \", nlp_stat_found, \"/\", rows)\n",
    "print(\"based_on_RB_model: \",  based_on_RB_model)\n",
    "print(\"nlp_stat_found: \", nlp_rule_found, \"/\", rows)"
   ]
  },
  {
   "cell_type": "markdown",
   "metadata": {},
   "source": [
    "### Based on Product Description (body_html) two Method Comparasion "
   ]
  },
  {
   "cell_type": "code",
   "execution_count": 33,
   "metadata": {},
   "outputs": [],
   "source": [
    "for i in range(tops_test_data.shape[0]):\n",
    "    try:\n",
    "        s = tops_test_data.loc[i, 'body_html']\n",
    "        s = c.clean_product_description(s)\n",
    "       \n",
    "        tops_test_data.loc[i, \"(description)nlp_stat_found\"] = len(nlp_stat(s).ents)\n",
    "        tops_test_data.loc[i, \"(description)nlp_rule_found\"] = len(nlp_rule(s).ents)\n",
    "        tops_test_data.loc[i, \"(description)nlp_stat_ents\"] = str(nlp_stat(s).ents)\n",
    "        tops_test_data.loc[i, \"(description)nlp_rule_ents\"] = str(nlp_rule(s).ents)\n",
    "    except:\n",
    "        print(\"Error: \" + str(i) + \" \" + s)\n",
    "    "
   ]
  },
  {
   "cell_type": "code",
   "execution_count": 34,
   "metadata": {},
   "outputs": [
    {
     "name": "stdout",
     "output_type": "stream",
     "text": [
      "total data sample:  41\n",
      "body_html_based_on_ML_model:  0.36585365853658536\n",
      "nlp_stat_found:  15 / 41\n",
      "body_html_based_on_RB_model:  0.36585365853658536\n",
      "nlp_stat_found:  15 / 41\n"
     ]
    }
   ],
   "source": [
    "print(\"total data sample: \", rows)\n",
    "bt_nlp_stat_found = tops_test_data.loc[tops_test_data['(description)nlp_stat_found'] > 0].shape[0]\n",
    "bt_nlp_rule_found = tops_test_data.loc[tops_test_data['(description)nlp_rule_found'] > 0].shape[0] \n",
    "bt_based_on_ML_model = bt_nlp_stat_found / rows\n",
    "bt_based_on_RB_model = bt_nlp_rule_found / rows\n",
    "print(\"body_html_based_on_ML_model: \", bt_based_on_ML_model)\n",
    "print(\"nlp_stat_found: \", bt_nlp_stat_found, \"/\", rows)\n",
    "print(\"body_html_based_on_RB_model: \",  bt_based_on_RB_model)\n",
    "print(\"nlp_stat_found: \", bt_nlp_rule_found, \"/\", rows)"
   ]
  },
  {
   "cell_type": "code",
   "execution_count": 35,
   "metadata": {},
   "outputs": [],
   "source": [
    "tops_test_data.to_csv(\"test_data/valid_output.csv\")"
   ]
  }
 ],
 "metadata": {
  "interpreter": {
   "hash": "08f33c96bfe48976e0772c3a4097c2fff4477ea59ec4556e2e8fa1251315c612"
  },
  "kernelspec": {
   "display_name": "Python 3.9.12 ('tensorflow')",
   "language": "python",
   "name": "python3"
  },
  "language_info": {
   "codemirror_mode": {
    "name": "ipython",
    "version": 3
   },
   "file_extension": ".py",
   "mimetype": "text/x-python",
   "name": "python",
   "nbconvert_exporter": "python",
   "pygments_lexer": "ipython3",
   "version": "3.9.12"
  },
  "orig_nbformat": 4
 },
 "nbformat": 4,
 "nbformat_minor": 2
}
