{
 "cells": [
  {
   "cell_type": "code",
   "execution_count": 2,
   "metadata": {},
   "outputs": [
    {
     "name": "stdout",
     "output_type": "stream",
     "text": [
      "Init Plugin\n",
      "Init Graph Optimizer\n",
      "Init Kernel\n"
     ]
    }
   ],
   "source": [
    "import spacy\n",
    "nlp = spacy.load(\"en_core_web_md\")"
   ]
  },
  {
   "cell_type": "code",
   "execution_count": 3,
   "metadata": {},
   "outputs": [
    {
     "name": "stdout",
     "output_type": "stream",
     "text": [
      "[(cotopaxi, 'cotopaxi', 'PROPN'), (outerwear, 'outerwear', 'VERB'), (womens, 'women', 'NOUN'), ( , ' ', 'SPACE'), (cotopaxi, 'cotopaxi', 'NOUN'), (women, 'woman', 'NOUN'), ('s, \"'s\", 'PART'), (teca, 'teca', 'NOUN'), (half, 'half', 'ADJ'), (-, '-', 'PUNCT'), (zip, 'zip', 'NOUN'), (windbreaker, 'windbreaker', 'NOUN'), (postcard, 'postcard', 'PROPN'), ( , ' ', 'SPACE'), (jackets, 'jacket', 'NOUN')]\n",
      "jacket\n"
     ]
    }
   ],
   "source": [
    "import common as c\n",
    "raw_tag = '{BAGGU,groupbycolor,\"home goods\",Textiles}'\n",
    "raw_title = 'Reusable Cloth Set / Backyard Fruit'\n",
    "raw_product_type = 'textiles'\n",
    "#line 31 example\n",
    "raw_product_description = 'You may find yourself in a sticky situation. \\\n",
    "    You may need to secure that mushroom you came across in the woods. \\\n",
    "    You may need a tablecloth for a very small table. \\\n",
    "    You may have a runny nose or cold neck or be having a bad hair day and just want to cover it up. \\\n",
    "    You may ask yourself why you left home without a square of fabric. \\\n",
    "    You may have just found the solution — 20 square inches of pure possibility.\\\n",
    "    Details:Set of threeMeasures 20'' H x 20'' W100% Organic Cotton\\\n",
    "    About the Brand:Founded in 2007, BAGGU set out to create a reusable bag that was as functional as it was adorable. \\\n",
    "    Today their goal is to make every bag you need for your every day life. \\\n",
    "    They have stuck with their mission of creating useful products that are made with you and the planet in mind. \\\n",
    "    BAGGU is manufactured ethically and environmentally responsibly in China.'\n",
    "#pre-process the tag/title/product_type\n",
    "content_1 = c.clean_tags_text(raw_tag, raw_title, raw_product_type)\n",
    "#pre-process the production_description\n",
    "content_2 = c.clean_product_description(raw_product_description)\n"
   ]
  },
  {
   "cell_type": "code",
   "execution_count": 4,
   "metadata": {},
   "outputs": [
    {
     "name": "stdout",
     "output_type": "stream",
     "text": [
      "bag\n",
      "bag\n"
     ]
    }
   ],
   "source": [
    "type_matcher = c.create_patterns_matcher()\n",
    "doc = nlp(content_2 + content_1)\n",
    "\n",
    "for idx, start, end in type_matcher(doc):\n",
    "    print(doc[start:end])"
   ]
  },
  {
   "cell_type": "markdown",
   "metadata": {},
   "source": [
    "#### 1. First we are trainning model to detect all products belonging to 'TOPS'\n",
    "(TODO: overlap type in matcher eg. \"t-shirt\" -> 'shirt' and 't-shirt') "
   ]
  },
  {
   "cell_type": "code",
   "execution_count": 5,
   "metadata": {},
   "outputs": [
    {
     "data": {
      "text/plain": [
       "('These camisole and T-shirt and are so good. I did have similar pattern jacket which is so fancy',\n",
       " {'entities': [(6, 14, 'TOPS'),\n",
       "   (19, 26, 'TOPS'),\n",
       "   (21, 26, 'TOPS'),\n",
       "   (71, 77, 'TOPS')]})"
      ]
     },
     "execution_count": 5,
     "metadata": {},
     "output_type": "execute_result"
    }
   ],
   "source": [
    "def parse_train_data(text):\n",
    "    doc = nlp(text)\n",
    "    #ignore for now \n",
    "    detections = [(doc[start:end].start_char, doc[start:end].end_char, 'TOPS') for idx, start, end in type_matcher(doc)]\n",
    "    \n",
    "    return (doc.text, {'entities': detections})\n",
    "\n",
    "#parse_train_data(\"I like my jacket\")\n",
    "parse_train_data(\"These camisole and T-shirt and are so good. I did have similar pattern jacket which is so fancy\")"
   ]
  },
  {
   "cell_type": "markdown",
   "metadata": {},
   "source": [
    "#### 2. Next step: We need to operate sample dataset to seperate the 'product_type_number == 2' to create classifier of 'TOPS' trainning model\n"
   ]
  },
  {
   "cell_type": "code",
   "execution_count": 6,
   "metadata": {},
   "outputs": [
    {
     "name": "stdout",
     "output_type": "stream",
     "text": [
      "columns 7\n"
     ]
    }
   ],
   "source": [
    "import pandas as pd\n",
    "text_type = pd.read_csv('sample_v1.csv', usecols=[\"title\", \"tags\", \"product_type\", \"body_html\", \"product_type_number\"])\n",
    "\n",
    "tops_df = text_type.loc[text_type['product_type_number'] == '2'].reset_index()\n",
    "#pd.concat([pd.DataFrame([i], columns=['label']) for i in range(70)])\n",
    "\n",
    "tops_df.insert(len(tops_df.columns), 'label', 1, allow_duplicates=True)\n",
    "print(\"columns\", len(tops_df.columns))\n",
    "#prediction_1 is based on tags + title + product_type\n",
    "tops_df.insert(7, 'prediction_1', 0, allow_duplicates=True)\n",
    "#prediction_2 is based on product_description(body_html)\n",
    "tops_df.insert(len(tops_df.columns), 'prediction_2', 0, allow_duplicates=True)\n",
    "#prdiction_3 is based on prediction1 + prdiction 2 (all words) a & b\n",
    "tops_df.insert(len(tops_df.columns), 'prediction', 0, allow_duplicates=True)\n",
    "#fill all empty cells \n",
    "tops_df.fillna(\"Not mention\", inplace=True)"
   ]
  },
  {
   "cell_type": "code",
   "execution_count": 7,
   "metadata": {},
   "outputs": [],
   "source": [
    "#loop all rows with each row 'title', 'tags' and 'product_type' to create new column called 'title+tag'\n",
    "type_matcher = c.create_patterns_matcher()\n",
    "errorcount = 0\n",
    "for i in range(len(tops_df)):\n",
    "    content_2_raw = ''\n",
    "    content_1_raw = ''\n",
    "    content_raw = ''\n",
    "    try:\n",
    "        content_1_raw = c.clean_tags_text(tops_df.loc[i, 'tags'], tops_df.loc[i, 'title'], tops_df.loc[i, 'product_type'])\n",
    "        \n",
    "        content_2_raw = c.clean_product_description(tops_df.loc[i, 'body_html'])\n",
    "        \n",
    "        content_raw = content_1_raw + ', ' + content_2_raw\n",
    "        \n",
    "    except:\n",
    "        print(\"line type error \",i)\n",
    "    \n",
    "    content = nlp(content_raw)\n",
    "    content_1 = nlp(content_1_raw)\n",
    "    content_2 = nlp(content_2_raw)\n",
    "    \n",
    "    if len(type_matcher(content_1)) > 0:\n",
    "        tops_df.loc[i, 'prediction_1'] = 1\n",
    "\n",
    "        \n",
    "    if len(type_matcher(content_2)) > 0:\n",
    "        tops_df.loc[i, 'prediction_2'] = 1\n",
    "    \n",
    "    if len(type_matcher(content)) > 0:\n",
    "        tops_df.loc[i, 'prediction'] = 1\n",
    "    else:\n",
    "        errorcount += 1\n",
    "        print(errorcount, content_1_raw)\n",
    "        print(errorcount, content_2_raw)\n",
    "    \n",
    "\n",
    "\n",
    "\n"
   ]
  },
  {
   "cell_type": "markdown",
   "metadata": {},
   "source": [
    "#### 3. After every column using type_matcher, we update the 'prediction' column.\n"
   ]
  },
  {
   "cell_type": "code",
   "execution_count": 12,
   "metadata": {},
   "outputs": [],
   "source": [
    "tops_df.rename(columns={\"index\": \"index_in_original_sample\"}, inplace=True)\n",
    "tops_df.to_csv('TOPS_result.csv')"
   ]
  },
  {
   "cell_type": "markdown",
   "metadata": {},
   "source": [
    "#### 4. Build TRIAN_DATA for 'tops'"
   ]
  },
  {
   "cell_type": "code",
   "execution_count": 13,
   "metadata": {},
   "outputs": [
    {
     "data": {
      "text/html": [
       "<div>\n",
       "<style scoped>\n",
       "    .dataframe tbody tr th:only-of-type {\n",
       "        vertical-align: middle;\n",
       "    }\n",
       "\n",
       "    .dataframe tbody tr th {\n",
       "        vertical-align: top;\n",
       "    }\n",
       "\n",
       "    .dataframe thead th {\n",
       "        text-align: right;\n",
       "    }\n",
       "</style>\n",
       "<table border=\"1\" class=\"dataframe\">\n",
       "  <thead>\n",
       "    <tr style=\"text-align: right;\">\n",
       "      <th></th>\n",
       "      <th>index_in_original_sample</th>\n",
       "      <th>title</th>\n",
       "      <th>product_type</th>\n",
       "      <th>tags</th>\n",
       "      <th>product_type_number</th>\n",
       "      <th>body_html</th>\n",
       "      <th>label</th>\n",
       "      <th>prediction_1</th>\n",
       "      <th>prediction_2</th>\n",
       "      <th>prediction</th>\n",
       "    </tr>\n",
       "  </thead>\n",
       "  <tbody>\n",
       "  </tbody>\n",
       "</table>\n",
       "</div>"
      ],
      "text/plain": [
       "Empty DataFrame\n",
       "Columns: [index_in_original_sample, title, product_type, tags, product_type_number, body_html, label, prediction_1, prediction_2, prediction]\n",
       "Index: []"
      ]
     },
     "execution_count": 13,
     "metadata": {},
     "output_type": "execute_result"
    }
   ],
   "source": [
    "tops_df.loc[tops_df['prediction'] == 0]"
   ]
  }
 ],
 "metadata": {
  "interpreter": {
   "hash": "08f33c96bfe48976e0772c3a4097c2fff4477ea59ec4556e2e8fa1251315c612"
  },
  "kernelspec": {
   "display_name": "Python 3.9.12 ('tensorflow')",
   "language": "python",
   "name": "python3"
  },
  "language_info": {
   "codemirror_mode": {
    "name": "ipython",
    "version": 3
   },
   "file_extension": ".py",
   "mimetype": "text/x-python",
   "name": "python",
   "nbconvert_exporter": "python",
   "pygments_lexer": "ipython3",
   "version": "3.9.12"
  },
  "orig_nbformat": 4
 },
 "nbformat": 4,
 "nbformat_minor": 2
}
