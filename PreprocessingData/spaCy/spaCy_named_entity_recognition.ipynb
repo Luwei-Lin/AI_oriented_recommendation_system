{
 "cells": [
  {
   "cell_type": "code",
   "execution_count": 1,
   "metadata": {},
   "outputs": [
    {
     "name": "stdout",
     "output_type": "stream",
     "text": [
      "Init Plugin\n",
      "Init Graph Optimizer\n",
      "Init Kernel\n"
     ]
    }
   ],
   "source": [
    "import spacy\n",
    "nlp = spacy.load(\"en_core_web_sm\")"
   ]
  },
  {
   "cell_type": "code",
   "execution_count": 2,
   "metadata": {},
   "outputs": [],
   "source": [
    "import common as c\n",
    "\n",
    "#The codes below are for specific example cleaning testing.\n",
    "raw_tag = \"{what :?}\"\n",
    "raw_title = 'Gemi Top, Red Plaid, Bamboo'\n",
    "raw_product_type = 'top'\n",
    "#line 31 example\n",
    "raw_product_description = 'You may find yourself in a sticky situation. \\\n",
    "    You may need to secure that mushroom you came across in the woods. \\\n",
    "    You may need a tablecloth for a very small table. \\\n",
    "    You may have a runny nose or cold neck or be having a bad hair day and just want to cover it up. \\\n",
    "    You may ask yourself why you left home without a square of fabric. \\\n",
    "    You may have just found the solution — 20 square inches of pure possibility.\\\n",
    "    Details:Set of threeMeasures 20'' H x 20'' W100% Organic Cotton\\\n",
    "    About the Brand:Founded in 2007, BAGGU set out to create a reusable bag that was as functional as it was adorable. \\\n",
    "    Today their goal is to make every bag you need for your every day life. \\\n",
    "    They have stuck with their mission of creating useful products that are made with you and the planet in mind. \\\n",
    "    BAGGU is manufactured ethically and environmentally responsibly in China.'\n",
    "#pre-process the tag/title/product_type\n",
    "content_1 = c.clean_tags_text(raw_title, raw_product_type, raw_tag)\n",
    "#pre-process the production_description\n",
    "content_2 = c.clean_product_description(raw_product_description)\n"
   ]
  },
  {
   "cell_type": "code",
   "execution_count": 3,
   "metadata": {},
   "outputs": [
    {
     "name": "stdout",
     "output_type": "stream",
     "text": [
      "pearl top  secret garden  bamboo, top, 20 bamboo navy sale short sleeve sunny top white\n"
     ]
    }
   ],
   "source": [
    "content_test = c.clean_tags_text(\"Pearl Top, Secret Garden, Bamboo\", \"top\", \"{20,Bamboo,Navy,sale,Short Sleeve,Sunny,Top,White}\")\n",
    "print(content_test)\n"
   ]
  },
  {
   "cell_type": "markdown",
   "metadata": {},
   "source": [
    "Create TOPS type rule based matcher --> tops_matcher"
   ]
  },
  {
   "cell_type": "code",
   "execution_count": 4,
   "metadata": {},
   "outputs": [],
   "source": [
    "type_matcher = c.create_patterns_matcher()\n",
    "\n",
    "from spacy.matcher import Matcher\n",
    "\n",
    "tops_patterns = c.create_tops_patterns()\n",
    "\n",
    "tops_matcher = Matcher(nlp.vocab)\n",
    "#This rule_based matcher is only to detect \"TOPS\"\n",
    "tops_matcher.add(\"TOPS_TYPE\", tops_patterns)\n"
   ]
  },
  {
   "cell_type": "code",
   "execution_count": 5,
   "metadata": {},
   "outputs": [
    {
     "data": {
      "text/plain": [
       "[(7479416363363656451, 1, 2)]"
      ]
     },
     "execution_count": 5,
     "metadata": {},
     "output_type": "execute_result"
    }
   ],
   "source": [
    "doc = nlp(\"womens tops. Jackson Rowe Cholla Henley, womens top, 22Mar22, cholla, dollar, henley, jackson, new arrival, rowe, sand, top, womens\")\n",
    "tops_matcher(doc)\n"
   ]
  },
  {
   "cell_type": "code",
   "execution_count": 6,
   "metadata": {},
   "outputs": [
    {
     "data": {
      "text/html": [
       "<span class=\"tex2jax_ignore\"><svg xmlns=\"http://www.w3.org/2000/svg\" xmlns:xlink=\"http://www.w3.org/1999/xlink\" xml:lang=\"en\" id=\"6154da03c7e0427c91cf670c0f29026f-0\" class=\"displacy\" width=\"3375\" height=\"399.5\" direction=\"ltr\" style=\"max-width: none; height: 399.5px; color: #000000; background: #ffffff; font-family: Arial; direction: ltr\">\n",
       "<text class=\"displacy-token\" fill=\"currentColor\" text-anchor=\"middle\" y=\"309.5\">\n",
       "    <tspan class=\"displacy-word\" fill=\"currentColor\" x=\"50\">womens</tspan>\n",
       "    <tspan class=\"displacy-tag\" dy=\"2em\" fill=\"currentColor\" x=\"50\">NOUN</tspan>\n",
       "</text>\n",
       "\n",
       "<text class=\"displacy-token\" fill=\"currentColor\" text-anchor=\"middle\" y=\"309.5\">\n",
       "    <tspan class=\"displacy-word\" fill=\"currentColor\" x=\"225\">tops.</tspan>\n",
       "    <tspan class=\"displacy-tag\" dy=\"2em\" fill=\"currentColor\" x=\"225\">NOUN</tspan>\n",
       "</text>\n",
       "\n",
       "<text class=\"displacy-token\" fill=\"currentColor\" text-anchor=\"middle\" y=\"309.5\">\n",
       "    <tspan class=\"displacy-word\" fill=\"currentColor\" x=\"400\">Jackson</tspan>\n",
       "    <tspan class=\"displacy-tag\" dy=\"2em\" fill=\"currentColor\" x=\"400\">PROPN</tspan>\n",
       "</text>\n",
       "\n",
       "<text class=\"displacy-token\" fill=\"currentColor\" text-anchor=\"middle\" y=\"309.5\">\n",
       "    <tspan class=\"displacy-word\" fill=\"currentColor\" x=\"575\">Rowe</tspan>\n",
       "    <tspan class=\"displacy-tag\" dy=\"2em\" fill=\"currentColor\" x=\"575\">PROPN</tspan>\n",
       "</text>\n",
       "\n",
       "<text class=\"displacy-token\" fill=\"currentColor\" text-anchor=\"middle\" y=\"309.5\">\n",
       "    <tspan class=\"displacy-word\" fill=\"currentColor\" x=\"750\">Cholla</tspan>\n",
       "    <tspan class=\"displacy-tag\" dy=\"2em\" fill=\"currentColor\" x=\"750\">PROPN</tspan>\n",
       "</text>\n",
       "\n",
       "<text class=\"displacy-token\" fill=\"currentColor\" text-anchor=\"middle\" y=\"309.5\">\n",
       "    <tspan class=\"displacy-word\" fill=\"currentColor\" x=\"925\">Henley,</tspan>\n",
       "    <tspan class=\"displacy-tag\" dy=\"2em\" fill=\"currentColor\" x=\"925\">PROPN</tspan>\n",
       "</text>\n",
       "\n",
       "<text class=\"displacy-token\" fill=\"currentColor\" text-anchor=\"middle\" y=\"309.5\">\n",
       "    <tspan class=\"displacy-word\" fill=\"currentColor\" x=\"1100\">womens</tspan>\n",
       "    <tspan class=\"displacy-tag\" dy=\"2em\" fill=\"currentColor\" x=\"1100\">NOUN</tspan>\n",
       "</text>\n",
       "\n",
       "<text class=\"displacy-token\" fill=\"currentColor\" text-anchor=\"middle\" y=\"309.5\">\n",
       "    <tspan class=\"displacy-word\" fill=\"currentColor\" x=\"1275\">top,</tspan>\n",
       "    <tspan class=\"displacy-tag\" dy=\"2em\" fill=\"currentColor\" x=\"1275\">ADJ</tspan>\n",
       "</text>\n",
       "\n",
       "<text class=\"displacy-token\" fill=\"currentColor\" text-anchor=\"middle\" y=\"309.5\">\n",
       "    <tspan class=\"displacy-word\" fill=\"currentColor\" x=\"1450\">22Mar22,</tspan>\n",
       "    <tspan class=\"displacy-tag\" dy=\"2em\" fill=\"currentColor\" x=\"1450\">NUM</tspan>\n",
       "</text>\n",
       "\n",
       "<text class=\"displacy-token\" fill=\"currentColor\" text-anchor=\"middle\" y=\"309.5\">\n",
       "    <tspan class=\"displacy-word\" fill=\"currentColor\" x=\"1625\">cholla,</tspan>\n",
       "    <tspan class=\"displacy-tag\" dy=\"2em\" fill=\"currentColor\" x=\"1625\">PROPN</tspan>\n",
       "</text>\n",
       "\n",
       "<text class=\"displacy-token\" fill=\"currentColor\" text-anchor=\"middle\" y=\"309.5\">\n",
       "    <tspan class=\"displacy-word\" fill=\"currentColor\" x=\"1800\">dollar,</tspan>\n",
       "    <tspan class=\"displacy-tag\" dy=\"2em\" fill=\"currentColor\" x=\"1800\">NOUN</tspan>\n",
       "</text>\n",
       "\n",
       "<text class=\"displacy-token\" fill=\"currentColor\" text-anchor=\"middle\" y=\"309.5\">\n",
       "    <tspan class=\"displacy-word\" fill=\"currentColor\" x=\"1975\">henley,</tspan>\n",
       "    <tspan class=\"displacy-tag\" dy=\"2em\" fill=\"currentColor\" x=\"1975\">PROPN</tspan>\n",
       "</text>\n",
       "\n",
       "<text class=\"displacy-token\" fill=\"currentColor\" text-anchor=\"middle\" y=\"309.5\">\n",
       "    <tspan class=\"displacy-word\" fill=\"currentColor\" x=\"2150\">jackson,</tspan>\n",
       "    <tspan class=\"displacy-tag\" dy=\"2em\" fill=\"currentColor\" x=\"2150\">PROPN</tspan>\n",
       "</text>\n",
       "\n",
       "<text class=\"displacy-token\" fill=\"currentColor\" text-anchor=\"middle\" y=\"309.5\">\n",
       "    <tspan class=\"displacy-word\" fill=\"currentColor\" x=\"2325\">new</tspan>\n",
       "    <tspan class=\"displacy-tag\" dy=\"2em\" fill=\"currentColor\" x=\"2325\">ADJ</tspan>\n",
       "</text>\n",
       "\n",
       "<text class=\"displacy-token\" fill=\"currentColor\" text-anchor=\"middle\" y=\"309.5\">\n",
       "    <tspan class=\"displacy-word\" fill=\"currentColor\" x=\"2500\">arrival,</tspan>\n",
       "    <tspan class=\"displacy-tag\" dy=\"2em\" fill=\"currentColor\" x=\"2500\">NOUN</tspan>\n",
       "</text>\n",
       "\n",
       "<text class=\"displacy-token\" fill=\"currentColor\" text-anchor=\"middle\" y=\"309.5\">\n",
       "    <tspan class=\"displacy-word\" fill=\"currentColor\" x=\"2675\">rowe,</tspan>\n",
       "    <tspan class=\"displacy-tag\" dy=\"2em\" fill=\"currentColor\" x=\"2675\">PROPN</tspan>\n",
       "</text>\n",
       "\n",
       "<text class=\"displacy-token\" fill=\"currentColor\" text-anchor=\"middle\" y=\"309.5\">\n",
       "    <tspan class=\"displacy-word\" fill=\"currentColor\" x=\"2850\">sand,</tspan>\n",
       "    <tspan class=\"displacy-tag\" dy=\"2em\" fill=\"currentColor\" x=\"2850\">NOUN</tspan>\n",
       "</text>\n",
       "\n",
       "<text class=\"displacy-token\" fill=\"currentColor\" text-anchor=\"middle\" y=\"309.5\">\n",
       "    <tspan class=\"displacy-word\" fill=\"currentColor\" x=\"3025\">top,</tspan>\n",
       "    <tspan class=\"displacy-tag\" dy=\"2em\" fill=\"currentColor\" x=\"3025\">ADJ</tspan>\n",
       "</text>\n",
       "\n",
       "<text class=\"displacy-token\" fill=\"currentColor\" text-anchor=\"middle\" y=\"309.5\">\n",
       "    <tspan class=\"displacy-word\" fill=\"currentColor\" x=\"3200\">womens</tspan>\n",
       "    <tspan class=\"displacy-tag\" dy=\"2em\" fill=\"currentColor\" x=\"3200\">NOUN</tspan>\n",
       "</text>\n",
       "\n",
       "<g class=\"displacy-arrow\">\n",
       "    <path class=\"displacy-arc\" id=\"arrow-6154da03c7e0427c91cf670c0f29026f-0-0\" stroke-width=\"2px\" d=\"M70,264.5 C70,177.0 215.0,177.0 215.0,264.5\" fill=\"none\" stroke=\"currentColor\"/>\n",
       "    <text dy=\"1.25em\" style=\"font-size: 0.8em; letter-spacing: 1px\">\n",
       "        <textPath xlink:href=\"#arrow-6154da03c7e0427c91cf670c0f29026f-0-0\" class=\"displacy-label\" startOffset=\"50%\" side=\"left\" fill=\"currentColor\" text-anchor=\"middle\">compound</textPath>\n",
       "    </text>\n",
       "    <path class=\"displacy-arrowhead\" d=\"M70,266.5 L62,254.5 78,254.5\" fill=\"currentColor\"/>\n",
       "</g>\n",
       "\n",
       "<g class=\"displacy-arrow\">\n",
       "    <path class=\"displacy-arc\" id=\"arrow-6154da03c7e0427c91cf670c0f29026f-0-1\" stroke-width=\"2px\" d=\"M420,264.5 C420,2.0 925.0,2.0 925.0,264.5\" fill=\"none\" stroke=\"currentColor\"/>\n",
       "    <text dy=\"1.25em\" style=\"font-size: 0.8em; letter-spacing: 1px\">\n",
       "        <textPath xlink:href=\"#arrow-6154da03c7e0427c91cf670c0f29026f-0-1\" class=\"displacy-label\" startOffset=\"50%\" side=\"left\" fill=\"currentColor\" text-anchor=\"middle\">compound</textPath>\n",
       "    </text>\n",
       "    <path class=\"displacy-arrowhead\" d=\"M420,266.5 L412,254.5 428,254.5\" fill=\"currentColor\"/>\n",
       "</g>\n",
       "\n",
       "<g class=\"displacy-arrow\">\n",
       "    <path class=\"displacy-arc\" id=\"arrow-6154da03c7e0427c91cf670c0f29026f-0-2\" stroke-width=\"2px\" d=\"M595,264.5 C595,89.5 920.0,89.5 920.0,264.5\" fill=\"none\" stroke=\"currentColor\"/>\n",
       "    <text dy=\"1.25em\" style=\"font-size: 0.8em; letter-spacing: 1px\">\n",
       "        <textPath xlink:href=\"#arrow-6154da03c7e0427c91cf670c0f29026f-0-2\" class=\"displacy-label\" startOffset=\"50%\" side=\"left\" fill=\"currentColor\" text-anchor=\"middle\">compound</textPath>\n",
       "    </text>\n",
       "    <path class=\"displacy-arrowhead\" d=\"M595,266.5 L587,254.5 603,254.5\" fill=\"currentColor\"/>\n",
       "</g>\n",
       "\n",
       "<g class=\"displacy-arrow\">\n",
       "    <path class=\"displacy-arc\" id=\"arrow-6154da03c7e0427c91cf670c0f29026f-0-3\" stroke-width=\"2px\" d=\"M770,264.5 C770,177.0 915.0,177.0 915.0,264.5\" fill=\"none\" stroke=\"currentColor\"/>\n",
       "    <text dy=\"1.25em\" style=\"font-size: 0.8em; letter-spacing: 1px\">\n",
       "        <textPath xlink:href=\"#arrow-6154da03c7e0427c91cf670c0f29026f-0-3\" class=\"displacy-label\" startOffset=\"50%\" side=\"left\" fill=\"currentColor\" text-anchor=\"middle\">compound</textPath>\n",
       "    </text>\n",
       "    <path class=\"displacy-arrowhead\" d=\"M770,266.5 L762,254.5 778,254.5\" fill=\"currentColor\"/>\n",
       "</g>\n",
       "\n",
       "<g class=\"displacy-arrow\">\n",
       "    <path class=\"displacy-arc\" id=\"arrow-6154da03c7e0427c91cf670c0f29026f-0-4\" stroke-width=\"2px\" d=\"M1120,264.5 C1120,177.0 1265.0,177.0 1265.0,264.5\" fill=\"none\" stroke=\"currentColor\"/>\n",
       "    <text dy=\"1.25em\" style=\"font-size: 0.8em; letter-spacing: 1px\">\n",
       "        <textPath xlink:href=\"#arrow-6154da03c7e0427c91cf670c0f29026f-0-4\" class=\"displacy-label\" startOffset=\"50%\" side=\"left\" fill=\"currentColor\" text-anchor=\"middle\">npadvmod</textPath>\n",
       "    </text>\n",
       "    <path class=\"displacy-arrowhead\" d=\"M1120,266.5 L1112,254.5 1128,254.5\" fill=\"currentColor\"/>\n",
       "</g>\n",
       "\n",
       "<g class=\"displacy-arrow\">\n",
       "    <path class=\"displacy-arc\" id=\"arrow-6154da03c7e0427c91cf670c0f29026f-0-5\" stroke-width=\"2px\" d=\"M945,264.5 C945,89.5 1270.0,89.5 1270.0,264.5\" fill=\"none\" stroke=\"currentColor\"/>\n",
       "    <text dy=\"1.25em\" style=\"font-size: 0.8em; letter-spacing: 1px\">\n",
       "        <textPath xlink:href=\"#arrow-6154da03c7e0427c91cf670c0f29026f-0-5\" class=\"displacy-label\" startOffset=\"50%\" side=\"left\" fill=\"currentColor\" text-anchor=\"middle\">amod</textPath>\n",
       "    </text>\n",
       "    <path class=\"displacy-arrowhead\" d=\"M1270.0,266.5 L1278.0,254.5 1262.0,254.5\" fill=\"currentColor\"/>\n",
       "</g>\n",
       "\n",
       "<g class=\"displacy-arrow\">\n",
       "    <path class=\"displacy-arc\" id=\"arrow-6154da03c7e0427c91cf670c0f29026f-0-6\" stroke-width=\"2px\" d=\"M1295,264.5 C1295,177.0 1440.0,177.0 1440.0,264.5\" fill=\"none\" stroke=\"currentColor\"/>\n",
       "    <text dy=\"1.25em\" style=\"font-size: 0.8em; letter-spacing: 1px\">\n",
       "        <textPath xlink:href=\"#arrow-6154da03c7e0427c91cf670c0f29026f-0-6\" class=\"displacy-label\" startOffset=\"50%\" side=\"left\" fill=\"currentColor\" text-anchor=\"middle\">appos</textPath>\n",
       "    </text>\n",
       "    <path class=\"displacy-arrowhead\" d=\"M1440.0,266.5 L1448.0,254.5 1432.0,254.5\" fill=\"currentColor\"/>\n",
       "</g>\n",
       "\n",
       "<g class=\"displacy-arrow\">\n",
       "    <path class=\"displacy-arc\" id=\"arrow-6154da03c7e0427c91cf670c0f29026f-0-7\" stroke-width=\"2px\" d=\"M1470,264.5 C1470,177.0 1615.0,177.0 1615.0,264.5\" fill=\"none\" stroke=\"currentColor\"/>\n",
       "    <text dy=\"1.25em\" style=\"font-size: 0.8em; letter-spacing: 1px\">\n",
       "        <textPath xlink:href=\"#arrow-6154da03c7e0427c91cf670c0f29026f-0-7\" class=\"displacy-label\" startOffset=\"50%\" side=\"left\" fill=\"currentColor\" text-anchor=\"middle\">conj</textPath>\n",
       "    </text>\n",
       "    <path class=\"displacy-arrowhead\" d=\"M1615.0,266.5 L1623.0,254.5 1607.0,254.5\" fill=\"currentColor\"/>\n",
       "</g>\n",
       "\n",
       "<g class=\"displacy-arrow\">\n",
       "    <path class=\"displacy-arc\" id=\"arrow-6154da03c7e0427c91cf670c0f29026f-0-8\" stroke-width=\"2px\" d=\"M1645,264.5 C1645,177.0 1790.0,177.0 1790.0,264.5\" fill=\"none\" stroke=\"currentColor\"/>\n",
       "    <text dy=\"1.25em\" style=\"font-size: 0.8em; letter-spacing: 1px\">\n",
       "        <textPath xlink:href=\"#arrow-6154da03c7e0427c91cf670c0f29026f-0-8\" class=\"displacy-label\" startOffset=\"50%\" side=\"left\" fill=\"currentColor\" text-anchor=\"middle\">conj</textPath>\n",
       "    </text>\n",
       "    <path class=\"displacy-arrowhead\" d=\"M1790.0,266.5 L1798.0,254.5 1782.0,254.5\" fill=\"currentColor\"/>\n",
       "</g>\n",
       "\n",
       "<g class=\"displacy-arrow\">\n",
       "    <path class=\"displacy-arc\" id=\"arrow-6154da03c7e0427c91cf670c0f29026f-0-9\" stroke-width=\"2px\" d=\"M1995,264.5 C1995,177.0 2140.0,177.0 2140.0,264.5\" fill=\"none\" stroke=\"currentColor\"/>\n",
       "    <text dy=\"1.25em\" style=\"font-size: 0.8em; letter-spacing: 1px\">\n",
       "        <textPath xlink:href=\"#arrow-6154da03c7e0427c91cf670c0f29026f-0-9\" class=\"displacy-label\" startOffset=\"50%\" side=\"left\" fill=\"currentColor\" text-anchor=\"middle\">nmod</textPath>\n",
       "    </text>\n",
       "    <path class=\"displacy-arrowhead\" d=\"M1995,266.5 L1987,254.5 2003,254.5\" fill=\"currentColor\"/>\n",
       "</g>\n",
       "\n",
       "<g class=\"displacy-arrow\">\n",
       "    <path class=\"displacy-arc\" id=\"arrow-6154da03c7e0427c91cf670c0f29026f-0-10\" stroke-width=\"2px\" d=\"M1820,264.5 C1820,89.5 2145.0,89.5 2145.0,264.5\" fill=\"none\" stroke=\"currentColor\"/>\n",
       "    <text dy=\"1.25em\" style=\"font-size: 0.8em; letter-spacing: 1px\">\n",
       "        <textPath xlink:href=\"#arrow-6154da03c7e0427c91cf670c0f29026f-0-10\" class=\"displacy-label\" startOffset=\"50%\" side=\"left\" fill=\"currentColor\" text-anchor=\"middle\">conj</textPath>\n",
       "    </text>\n",
       "    <path class=\"displacy-arrowhead\" d=\"M2145.0,266.5 L2153.0,254.5 2137.0,254.5\" fill=\"currentColor\"/>\n",
       "</g>\n",
       "\n",
       "<g class=\"displacy-arrow\">\n",
       "    <path class=\"displacy-arc\" id=\"arrow-6154da03c7e0427c91cf670c0f29026f-0-11\" stroke-width=\"2px\" d=\"M2345,264.5 C2345,177.0 2490.0,177.0 2490.0,264.5\" fill=\"none\" stroke=\"currentColor\"/>\n",
       "    <text dy=\"1.25em\" style=\"font-size: 0.8em; letter-spacing: 1px\">\n",
       "        <textPath xlink:href=\"#arrow-6154da03c7e0427c91cf670c0f29026f-0-11\" class=\"displacy-label\" startOffset=\"50%\" side=\"left\" fill=\"currentColor\" text-anchor=\"middle\">amod</textPath>\n",
       "    </text>\n",
       "    <path class=\"displacy-arrowhead\" d=\"M2345,266.5 L2337,254.5 2353,254.5\" fill=\"currentColor\"/>\n",
       "</g>\n",
       "\n",
       "<g class=\"displacy-arrow\">\n",
       "    <path class=\"displacy-arc\" id=\"arrow-6154da03c7e0427c91cf670c0f29026f-0-12\" stroke-width=\"2px\" d=\"M2170,264.5 C2170,89.5 2495.0,89.5 2495.0,264.5\" fill=\"none\" stroke=\"currentColor\"/>\n",
       "    <text dy=\"1.25em\" style=\"font-size: 0.8em; letter-spacing: 1px\">\n",
       "        <textPath xlink:href=\"#arrow-6154da03c7e0427c91cf670c0f29026f-0-12\" class=\"displacy-label\" startOffset=\"50%\" side=\"left\" fill=\"currentColor\" text-anchor=\"middle\">conj</textPath>\n",
       "    </text>\n",
       "    <path class=\"displacy-arrowhead\" d=\"M2495.0,266.5 L2503.0,254.5 2487.0,254.5\" fill=\"currentColor\"/>\n",
       "</g>\n",
       "\n",
       "<g class=\"displacy-arrow\">\n",
       "    <path class=\"displacy-arc\" id=\"arrow-6154da03c7e0427c91cf670c0f29026f-0-13\" stroke-width=\"2px\" d=\"M2520,264.5 C2520,177.0 2665.0,177.0 2665.0,264.5\" fill=\"none\" stroke=\"currentColor\"/>\n",
       "    <text dy=\"1.25em\" style=\"font-size: 0.8em; letter-spacing: 1px\">\n",
       "        <textPath xlink:href=\"#arrow-6154da03c7e0427c91cf670c0f29026f-0-13\" class=\"displacy-label\" startOffset=\"50%\" side=\"left\" fill=\"currentColor\" text-anchor=\"middle\">conj</textPath>\n",
       "    </text>\n",
       "    <path class=\"displacy-arrowhead\" d=\"M2665.0,266.5 L2673.0,254.5 2657.0,254.5\" fill=\"currentColor\"/>\n",
       "</g>\n",
       "\n",
       "<g class=\"displacy-arrow\">\n",
       "    <path class=\"displacy-arc\" id=\"arrow-6154da03c7e0427c91cf670c0f29026f-0-14\" stroke-width=\"2px\" d=\"M2695,264.5 C2695,177.0 2840.0,177.0 2840.0,264.5\" fill=\"none\" stroke=\"currentColor\"/>\n",
       "    <text dy=\"1.25em\" style=\"font-size: 0.8em; letter-spacing: 1px\">\n",
       "        <textPath xlink:href=\"#arrow-6154da03c7e0427c91cf670c0f29026f-0-14\" class=\"displacy-label\" startOffset=\"50%\" side=\"left\" fill=\"currentColor\" text-anchor=\"middle\">conj</textPath>\n",
       "    </text>\n",
       "    <path class=\"displacy-arrowhead\" d=\"M2840.0,266.5 L2848.0,254.5 2832.0,254.5\" fill=\"currentColor\"/>\n",
       "</g>\n",
       "\n",
       "<g class=\"displacy-arrow\">\n",
       "    <path class=\"displacy-arc\" id=\"arrow-6154da03c7e0427c91cf670c0f29026f-0-15\" stroke-width=\"2px\" d=\"M2870,264.5 C2870,177.0 3015.0,177.0 3015.0,264.5\" fill=\"none\" stroke=\"currentColor\"/>\n",
       "    <text dy=\"1.25em\" style=\"font-size: 0.8em; letter-spacing: 1px\">\n",
       "        <textPath xlink:href=\"#arrow-6154da03c7e0427c91cf670c0f29026f-0-15\" class=\"displacy-label\" startOffset=\"50%\" side=\"left\" fill=\"currentColor\" text-anchor=\"middle\">conj</textPath>\n",
       "    </text>\n",
       "    <path class=\"displacy-arrowhead\" d=\"M3015.0,266.5 L3023.0,254.5 3007.0,254.5\" fill=\"currentColor\"/>\n",
       "</g>\n",
       "\n",
       "<g class=\"displacy-arrow\">\n",
       "    <path class=\"displacy-arc\" id=\"arrow-6154da03c7e0427c91cf670c0f29026f-0-16\" stroke-width=\"2px\" d=\"M945,264.5 C945,2.0 3200.0,2.0 3200.0,264.5\" fill=\"none\" stroke=\"currentColor\"/>\n",
       "    <text dy=\"1.25em\" style=\"font-size: 0.8em; letter-spacing: 1px\">\n",
       "        <textPath xlink:href=\"#arrow-6154da03c7e0427c91cf670c0f29026f-0-16\" class=\"displacy-label\" startOffset=\"50%\" side=\"left\" fill=\"currentColor\" text-anchor=\"middle\">appos</textPath>\n",
       "    </text>\n",
       "    <path class=\"displacy-arrowhead\" d=\"M3200.0,266.5 L3208.0,254.5 3192.0,254.5\" fill=\"currentColor\"/>\n",
       "</g>\n",
       "</svg></span>"
      ],
      "text/plain": [
       "<IPython.core.display.HTML object>"
      ]
     },
     "metadata": {},
     "output_type": "display_data"
    }
   ],
   "source": [
    "from spacy import displacy\n",
    "displacy.render(doc)"
   ]
  },
  {
   "cell_type": "markdown",
   "metadata": {},
   "source": [
    "#### 1. First we are trainning model to detect all products belonging to 'TOPS'\n",
    "(TODO: overlap type in matcher eg. \"t-shirt\" -> 'shirt' and 't-shirt') "
   ]
  },
  {
   "cell_type": "markdown",
   "metadata": {},
   "source": [
    "(Solved) Overlap, duplicates, named entities"
   ]
  },
  {
   "cell_type": "code",
   "execution_count": 7,
   "metadata": {},
   "outputs": [],
   "source": [
    "def parse_train_data(text):\n",
    "    doc = nlp(text)\n",
    "    #ignore for now \n",
    "    #detections = [(doc[start:end].start_char, doc[start:end].end_char, 'TOPS') for idx, start, end in type_matcher(doc) ]\n",
    "    \n",
    "    spans = [doc[start:end] for _, start, end in tops_matcher(doc)]\n",
    "    detections =  [(span.start_char, span.end_char, 'TOPS') for span in spacy.util.filter_spans(spans)] #remove duplicates or overlaps using spacy.util.filter_spans\n",
    "    \n",
    "    return (doc.text, {'entities': detections})\n",
    "\n",
    "#parse_train_data(\"top\") #testing, which should show the entities location\n",
    "#parse_train_data(\"These camisole and T-shirt and are so good. I did have similar pattern jacket which is so fancy. They all belong to tops. Gemi top, The top blue top is cloak\")"
   ]
  },
  {
   "cell_type": "markdown",
   "metadata": {},
   "source": [
    "#### 2. Next step: We need to operate sample dataset to seperate the 'product_type_number == 2' to create classifier of 'TOPS' trainning model\n"
   ]
  },
  {
   "cell_type": "code",
   "execution_count": 8,
   "metadata": {},
   "outputs": [],
   "source": [
    "import pandas as pd"
   ]
  },
  {
   "cell_type": "code",
   "execution_count": 9,
   "metadata": {},
   "outputs": [],
   "source": [
    "tops_df = pd.read_csv('tops.csv')"
   ]
  },
  {
   "cell_type": "markdown",
   "metadata": {},
   "source": [
    "For rules_based matcher, we can use the tops_total.csv directly to see how the matcher works"
   ]
  },
  {
   "cell_type": "code",
   "execution_count": 10,
   "metadata": {},
   "outputs": [],
   "source": [
    "\n",
    "#text_type = pd.read_csv('sample_v1.csv', usecols=[\"title\", \"tags\", \"product_type\", \"body_html\", \"product_type_number\"])\n",
    "\n",
    "#tops_df = text_type.loc[text_type['product_type_number'] == '2'].reset_index()\n",
    "#pd.concat([pd.DataFrame([i], columns=['label']) for i in range(70)])\n",
    "\n",
    "tops_df.insert(len(tops_df.columns), 'label', 1, allow_duplicates=True)\n",
    "#print(\"columns number : \", len(tops_df.columns))\n",
    "\n",
    "#prdiction(mixed_all) is based on prediction1 + prdiction 2 (all words) a & b\n",
    "tops_df.insert(len(tops_df.columns), 'prediction(mixed_all)', 0, allow_duplicates=True)\n",
    "#prediction_1 is based on tags + title + product_type\n",
    "tops_df.insert(len(tops_df.columns), 'prediction_1(title+pt+tags)', 0, allow_duplicates=True)\n",
    "#prediction_2 is based on product_description(body_html)\n",
    "tops_df.insert(len(tops_df.columns), 'prediction_2(body_html)', 0, allow_duplicates=True)\n",
    "\n",
    "#fill all empty cells \n",
    "tops_df.fillna(\"Not mention\", inplace=True)\n",
    "tops_df.insert(len(tops_df.columns), 'based_on_title', 0, allow_duplicates=True)\n",
    "tops_df.insert(len(tops_df.columns), 'based_on_tags', 0, allow_duplicates=True)\n",
    "tops_df.insert(len(tops_df.columns), 'based_on_product_type', 0, allow_duplicates=True)"
   ]
  },
  {
   "cell_type": "code",
   "execution_count": 11,
   "metadata": {},
   "outputs": [
    {
     "data": {
      "text/html": [
       "<div>\n",
       "<style scoped>\n",
       "    .dataframe tbody tr th:only-of-type {\n",
       "        vertical-align: middle;\n",
       "    }\n",
       "\n",
       "    .dataframe tbody tr th {\n",
       "        vertical-align: top;\n",
       "    }\n",
       "\n",
       "    .dataframe thead th {\n",
       "        text-align: right;\n",
       "    }\n",
       "</style>\n",
       "<table border=\"1\" class=\"dataframe\">\n",
       "  <thead>\n",
       "    <tr style=\"text-align: right;\">\n",
       "      <th></th>\n",
       "      <th>title</th>\n",
       "      <th>product_type</th>\n",
       "      <th>tags</th>\n",
       "      <th>body_html</th>\n",
       "      <th>label</th>\n",
       "      <th>prediction(mixed_all)</th>\n",
       "      <th>prediction_1(title+pt+tags)</th>\n",
       "      <th>prediction_2(body_html)</th>\n",
       "      <th>based_on_title</th>\n",
       "      <th>based_on_tags</th>\n",
       "      <th>based_on_product_type</th>\n",
       "    </tr>\n",
       "  </thead>\n",
       "  <tbody>\n",
       "    <tr>\n",
       "      <th>0</th>\n",
       "      <td>Mia Top, Ice Pinecones, Bamboo</td>\n",
       "      <td>top</td>\n",
       "      <td>{\"3/4 Sleeve\",333,50%,Bamboo,fw2020,fw2020repo...</td>\n",
       "      <td>DescriptionFlattering whether worn loose or bo...</td>\n",
       "      <td>1</td>\n",
       "      <td>0</td>\n",
       "      <td>0</td>\n",
       "      <td>0</td>\n",
       "      <td>0</td>\n",
       "      <td>0</td>\n",
       "      <td>0</td>\n",
       "    </tr>\n",
       "    <tr>\n",
       "      <th>1</th>\n",
       "      <td>Ladybug Long Sleeve</td>\n",
       "      <td>tops</td>\n",
       "      <td>{_tab1_free-people-sizing,_tab2_atb-free-peopl...</td>\n",
       "      <td>Sweet corset-inspired long sleeve top featured...</td>\n",
       "      <td>1</td>\n",
       "      <td>0</td>\n",
       "      <td>0</td>\n",
       "      <td>0</td>\n",
       "      <td>0</td>\n",
       "      <td>0</td>\n",
       "      <td>0</td>\n",
       "    </tr>\n",
       "    <tr>\n",
       "      <th>2</th>\n",
       "      <td>Pearl Top, Secret Garden, Bamboo</td>\n",
       "      <td>top</td>\n",
       "      <td>{20,Bamboo,Navy,sale,\"Short Sleeve\",Sunny,Top,...</td>\n",
       "      <td>Cross over top for all shapes. The dolman slee...</td>\n",
       "      <td>1</td>\n",
       "      <td>0</td>\n",
       "      <td>0</td>\n",
       "      <td>0</td>\n",
       "      <td>0</td>\n",
       "      <td>0</td>\n",
       "      <td>0</td>\n",
       "    </tr>\n",
       "    <tr>\n",
       "      <th>3</th>\n",
       "      <td>CHROMA SLEEVELESS HOODIE</td>\n",
       "      <td>premium sleeveless hoodie</td>\n",
       "      <td>{Nu,Psychedelic,\"Sacred Geometry\"}</td>\n",
       "      <td>Vibrant all over front, back &amp;amp; hood design...</td>\n",
       "      <td>1</td>\n",
       "      <td>0</td>\n",
       "      <td>0</td>\n",
       "      <td>0</td>\n",
       "      <td>0</td>\n",
       "      <td>0</td>\n",
       "      <td>0</td>\n",
       "    </tr>\n",
       "    <tr>\n",
       "      <th>4</th>\n",
       "      <td>Rib Hacci Vagabond Tank</td>\n",
       "      <td>tops</td>\n",
       "      <td>{_tab1_zsupply-sizing,_tab2_atb-zsupply,_tab3_...</td>\n",
       "      <td>We updated our popular Vagabond tank! The Rib ...</td>\n",
       "      <td>1</td>\n",
       "      <td>0</td>\n",
       "      <td>0</td>\n",
       "      <td>0</td>\n",
       "      <td>0</td>\n",
       "      <td>0</td>\n",
       "      <td>0</td>\n",
       "    </tr>\n",
       "  </tbody>\n",
       "</table>\n",
       "</div>"
      ],
      "text/plain": [
       "                              title               product_type  \\\n",
       "0    Mia Top, Ice Pinecones, Bamboo                        top   \n",
       "1               Ladybug Long Sleeve                       tops   \n",
       "2  Pearl Top, Secret Garden, Bamboo                        top   \n",
       "3          CHROMA SLEEVELESS HOODIE  premium sleeveless hoodie   \n",
       "4           Rib Hacci Vagabond Tank                       tops   \n",
       "\n",
       "                                                tags  \\\n",
       "0  {\"3/4 Sleeve\",333,50%,Bamboo,fw2020,fw2020repo...   \n",
       "1  {_tab1_free-people-sizing,_tab2_atb-free-peopl...   \n",
       "2  {20,Bamboo,Navy,sale,\"Short Sleeve\",Sunny,Top,...   \n",
       "3                 {Nu,Psychedelic,\"Sacred Geometry\"}   \n",
       "4  {_tab1_zsupply-sizing,_tab2_atb-zsupply,_tab3_...   \n",
       "\n",
       "                                           body_html  label  \\\n",
       "0  DescriptionFlattering whether worn loose or bo...      1   \n",
       "1  Sweet corset-inspired long sleeve top featured...      1   \n",
       "2  Cross over top for all shapes. The dolman slee...      1   \n",
       "3  Vibrant all over front, back &amp; hood design...      1   \n",
       "4  We updated our popular Vagabond tank! The Rib ...      1   \n",
       "\n",
       "   prediction(mixed_all)  prediction_1(title+pt+tags)  \\\n",
       "0                      0                            0   \n",
       "1                      0                            0   \n",
       "2                      0                            0   \n",
       "3                      0                            0   \n",
       "4                      0                            0   \n",
       "\n",
       "   prediction_2(body_html)  based_on_title  based_on_tags  \\\n",
       "0                        0               0              0   \n",
       "1                        0               0              0   \n",
       "2                        0               0              0   \n",
       "3                        0               0              0   \n",
       "4                        0               0              0   \n",
       "\n",
       "   based_on_product_type  \n",
       "0                      0  \n",
       "1                      0  \n",
       "2                      0  \n",
       "3                      0  \n",
       "4                      0  "
      ]
     },
     "execution_count": 11,
     "metadata": {},
     "output_type": "execute_result"
    }
   ],
   "source": [
    "tops_df.head()"
   ]
  },
  {
   "cell_type": "code",
   "execution_count": 12,
   "metadata": {},
   "outputs": [
    {
     "name": "stdout",
     "output_type": "stream",
     "text": [
      "1 gemi top  red plaid  bamboo, top, \n",
      "1 flattering notched detail at neckline. flat pleat cb for easy clearance across the back. in addition, a slightly wider back panel controls fabric fall, for a trimly finished front and generous finish at back. touch of a-line, small vents. falls to low hip.blue sky fit guide - true to size; great fit for all shapes, but exceptionally easy to wear for women who are wide in the back and/or full in the bust. (4c5)fabric - 95% bamboo, 5% lycra\n"
     ]
    }
   ],
   "source": [
    "#loop all rows with each row 'title', 'tags' and 'product_type' to create new column called 'title+tag'\n",
    "\n",
    "errorcount = 0\n",
    "for i in range(len(tops_df)):\n",
    "    content_2_raw = ''\n",
    "    content_1_raw = ''\n",
    "    content_raw = ''\n",
    "    titles_raw = ''\n",
    "    tags_raw = ''\n",
    "    ptype_raw = ''\n",
    "    try:\n",
    "        content_1_raw = c.clean_tags_text(tops_df.loc[i, 'title'], tops_df.loc[i, 'product_type'], tops_df.loc[i, 'tags'])\n",
    "        \n",
    "        titles_raw = c.clean_tags_text(tops_df.loc[i, 'title'], None, None)\n",
    "        \n",
    "        tags_raw = c.clean_tags_text(None, None, tops_df.loc[i, 'tags'])\n",
    "        \n",
    "        ptype_raw = c.clean_tags_text(None, tops_df.loc[i, 'product_type'], None)\n",
    "        \n",
    "        content_2_raw = c.clean_product_description(tops_df.loc[i, 'body_html'])\n",
    "        \n",
    "        content_raw = content_1_raw + ', ' + content_2_raw\n",
    "        \n",
    "    except:\n",
    "        print(\"line type error \" + str(i) + ' '  + content_1_raw + '\\n' + titles_raw + '\\n' + tags_raw + '\\n' + ptype_raw + '\\n')\n",
    "    \n",
    "    content = nlp(content_raw)\n",
    "    content_1 = nlp(content_1_raw)\n",
    "    content_2 = nlp(content_2_raw)\n",
    "    titles = nlp(titles_raw)\n",
    "    tags = nlp(tags_raw)\n",
    "    ptype = nlp(ptype_raw)\n",
    "    \n",
    "    if len(tops_matcher(titles)) > 0:\n",
    "        tops_df.loc[i, 'based_on_title'] = 1\n",
    "    \n",
    "    if len(tops_matcher(tags)) > 0:\n",
    "        tops_df.loc[i, 'based_on_tags'] = 1\n",
    "        \n",
    "    if len(tops_matcher(ptype)) > 0:\n",
    "        tops_df.loc[i, 'based_on_product_type'] = 1   \n",
    "    \n",
    "    if len(tops_matcher(content_1)) > 0:\n",
    "        tops_df.loc[i, 'prediction_1(title+pt+tags)'] = 1\n",
    "        \n",
    "    if len(tops_matcher(content_2)) > 0:\n",
    "        tops_df.loc[i, 'prediction_2(body_html)'] = 1\n",
    "    \n",
    "    if len(tops_matcher(content)) > 0:\n",
    "        tops_df.loc[i, 'prediction(mixed_all)'] = 1\n",
    "    else:\n",
    "        errorcount += 1\n",
    "        print(errorcount, content_1_raw)\n",
    "        print(errorcount, content_2_raw)\n",
    "        \n"
   ]
  },
  {
   "cell_type": "markdown",
   "metadata": {},
   "source": [
    "#### 3. After every column using type_matcher, we update the 'prediction' column.\n"
   ]
  },
  {
   "cell_type": "code",
   "execution_count": 13,
   "metadata": {},
   "outputs": [],
   "source": [
    "#tops_df.rename(columns={\"index\": \"index_in_original_sample\"}, inplace=True)\n",
    "tops_df.to_csv('matcher_reault.csv')"
   ]
  },
  {
   "cell_type": "code",
   "execution_count": 14,
   "metadata": {},
   "outputs": [
    {
     "data": {
      "text/html": [
       "<div>\n",
       "<style scoped>\n",
       "    .dataframe tbody tr th:only-of-type {\n",
       "        vertical-align: middle;\n",
       "    }\n",
       "\n",
       "    .dataframe tbody tr th {\n",
       "        vertical-align: top;\n",
       "    }\n",
       "\n",
       "    .dataframe thead th {\n",
       "        text-align: right;\n",
       "    }\n",
       "</style>\n",
       "<table border=\"1\" class=\"dataframe\">\n",
       "  <thead>\n",
       "    <tr style=\"text-align: right;\">\n",
       "      <th></th>\n",
       "      <th>title</th>\n",
       "      <th>product_type</th>\n",
       "      <th>tags</th>\n",
       "      <th>body_html</th>\n",
       "      <th>label</th>\n",
       "      <th>prediction(mixed_all)</th>\n",
       "      <th>prediction_1(title+pt+tags)</th>\n",
       "      <th>prediction_2(body_html)</th>\n",
       "      <th>based_on_title</th>\n",
       "      <th>based_on_tags</th>\n",
       "      <th>based_on_product_type</th>\n",
       "    </tr>\n",
       "  </thead>\n",
       "  <tbody>\n",
       "    <tr>\n",
       "      <th>56</th>\n",
       "      <td>Gemi Top, Red Plaid, Bamboo</td>\n",
       "      <td>top</td>\n",
       "      <td>{}</td>\n",
       "      <td>Flattering notched detail at neckline. Flat pl...</td>\n",
       "      <td>1</td>\n",
       "      <td>0</td>\n",
       "      <td>1</td>\n",
       "      <td>0</td>\n",
       "      <td>0</td>\n",
       "      <td>0</td>\n",
       "      <td>1</td>\n",
       "    </tr>\n",
       "  </tbody>\n",
       "</table>\n",
       "</div>"
      ],
      "text/plain": [
       "                          title product_type tags  \\\n",
       "56  Gemi Top, Red Plaid, Bamboo          top   {}   \n",
       "\n",
       "                                            body_html  label  \\\n",
       "56  Flattering notched detail at neckline. Flat pl...      1   \n",
       "\n",
       "    prediction(mixed_all)  prediction_1(title+pt+tags)  \\\n",
       "56                      0                            1   \n",
       "\n",
       "    prediction_2(body_html)  based_on_title  based_on_tags  \\\n",
       "56                        0               0              0   \n",
       "\n",
       "    based_on_product_type  \n",
       "56                      1  "
      ]
     },
     "execution_count": 14,
     "metadata": {},
     "output_type": "execute_result"
    }
   ],
   "source": [
    "tops_df.loc[tops_df['prediction(mixed_all)'] == 0]"
   ]
  },
  {
   "cell_type": "code",
   "execution_count": 15,
   "metadata": {},
   "outputs": [
    {
     "name": "stdout",
     "output_type": "stream",
     "text": [
      "all_mixed_prediction_correctness :  0.995475113122172\n",
      "based_on_TagsTitleProductType_correctness 0.995475113122172\n",
      "based_on_title_correctness :  0.8099547511312217\n",
      "based_on_tags_correctness :  0.6380090497737556\n",
      "based_on_product_type_correctness :  0.8959276018099548\n",
      "based_on_body_html_correctness :  0.5701357466063348\n"
     ]
    }
   ],
   "source": [
    "\n",
    "#print out the accuracy of each type matcher\n",
    "rows_count = tops_df[tops_df.columns[0]].count()\n",
    "all_mixed_prediction_correctness = (tops_df.loc[tops_df['prediction(mixed_all)'] == 1].shape[0]) / rows_count\n",
    "based_on_title_correctness = tops_df.loc[tops_df['based_on_title'] == 1].shape[0] / rows_count\n",
    "based_on_tags_correctness = tops_df.loc[tops_df['based_on_tags'] == 1].shape[0] / rows_count\n",
    "based_on_product_type_correctness = tops_df.loc[tops_df['based_on_product_type'] == 1].shape[0] / rows_count\n",
    "based_on_TagsTitleTags_correctness = tops_df.loc[tops_df['prediction_1(title+pt+tags)'] == 1].shape[0]/ rows_count\n",
    "based_on_body_html_correctness =tops_df.loc[tops_df['prediction_2(body_html)'] == 1].shape[0] / rows_count\n",
    "\n",
    "print(\"all_mixed_prediction_correctness : \", all_mixed_prediction_correctness)\n",
    "print(\"based_on_TagsTitleProductType_correctness\", based_on_TagsTitleTags_correctness)\n",
    "\n",
    "print(\"based_on_title_correctness : \", based_on_title_correctness)\n",
    "print(\"based_on_tags_correctness : \", based_on_tags_correctness)\n",
    "print(\"based_on_product_type_correctness : \", based_on_product_type_correctness)\n",
    "print(\"based_on_body_html_correctness : \", based_on_body_html_correctness)\n"
   ]
  },
  {
   "cell_type": "markdown",
   "metadata": {},
   "source": [
    "#### 4. Build TRIAN_DATA for 'tops'"
   ]
  },
  {
   "cell_type": "code",
   "execution_count": 33,
   "metadata": {},
   "outputs": [],
   "source": [
    "#first trainning set is containing title+productType together (concatenate three)\n",
    "\n",
    "title_tags_type_df = tops_df[['title',  'product_type', 'tags']]\n",
    "title_tags_type_df.insert(len(title_tags_type_df.columns), 'raw_combined_text', '')\n",
    "for i in range(len(title_tags_type_df)):\n",
    "    try:\n",
    "        raw_combined_text = c.clean_tags_text(title_tags_type_df.loc[i, 'title'], title_tags_type_df.loc[i, 'product_type'], title_tags_type_df.loc[i, 'tags'])\n",
    "        \n",
    "        title_tags_type_df.loc[i, 'raw_combined_text'] = raw_combined_text\n",
    "    except:\n",
    "        print(\"something wrong in line# : \", i)\n",
    "    \n",
    "\n"
   ]
  },
  {
   "cell_type": "code",
   "execution_count": 17,
   "metadata": {},
   "outputs": [
    {
     "data": {
      "text/plain": [
       "0      mia top  ice pinecones  bamboo, top, 3/4 sleev...\n",
       "1      ladybug long sleeve, tops, _tab1_free-people-s...\n",
       "2      pearl top  secret garden  bamboo, top, 20 bamb...\n",
       "3      chroma sleeveless hoodie, premium sleeveless h...\n",
       "4      rib hacci vagabond tank, tops, _tab1_zsupply-s...\n",
       "                             ...                        \n",
       "216    charisse tank  white  bamboo, tank, basic carr...\n",
       "217    peace top  lagoon  bamboo, top, 20 bamboo pink...\n",
       "218    the clash sold out! merch tee, tops, _tab1_day...\n",
       "219    tara blouse  fresh sprig, blouse, 20 3/4 sleev...\n",
       "220    cotopaxi women's teca half-zip windbreaker pos...\n",
       "Name: raw_combined_text, Length: 221, dtype: object"
      ]
     },
     "execution_count": 17,
     "metadata": {},
     "output_type": "execute_result"
    }
   ],
   "source": [
    "title_tags_type_df.loc[:,'raw_combined_text']"
   ]
  },
  {
   "cell_type": "code",
   "execution_count": 18,
   "metadata": {},
   "outputs": [],
   "source": [
    "#check our trian-dataframe title+tags+product_type\n",
    "TRAIN_DATA = [parse_train_data(d) for d in nlp.pipe(title_tags_type_df.loc[:,'raw_combined_text'])]\n",
    "\n"
   ]
  },
  {
   "cell_type": "code",
   "execution_count": 19,
   "metadata": {},
   "outputs": [
    {
     "data": {
      "text/plain": [
       "[('big trippin hoodie, premium hoodie, ',\n",
       "  {'entities': [(12, 18, 'TOPS'), (28, 34, 'TOPS')]}),\n",
       " ('tessa tee  white/black small stripe  bamboo, top, 1019 bamboo basic basic2022 regular stripe sunny top',\n",
       "  {'entities': [(6, 9, 'TOPS'), (99, 102, 'TOPS')]}),\n",
       " ('michaelangelo portal t, premium tee, galaxy nu psychedelic space',\n",
       "  {'entities': [(21, 22, 'TOPS'), (32, 35, 'TOPS')]})]"
      ]
     },
     "execution_count": 19,
     "metadata": {},
     "output_type": "execute_result"
    }
   ],
   "source": [
    "TRAIN_DATA [5:8]"
   ]
  },
  {
   "cell_type": "markdown",
   "metadata": {},
   "source": [
    "TRAINNING LOOP "
   ]
  },
  {
   "cell_type": "code",
   "execution_count": 20,
   "metadata": {},
   "outputs": [],
   "source": [
    "def creat_blank_nlp(train_data):\n",
    "    nlp = spacy.blank(\"en\")\n",
    "    ner = nlp.create_pipe(\"ner\")\n",
    "    nlp.add_pipe(\"ner\", last=True)\n",
    "    ner = nlp.get_pipe(\"ner\")\n",
    "    for _, annotations in train_data:\n",
    "        for ent in annotations.get(\"entities\"):\n",
    "            try:\n",
    "                ner.add_label(ent[2])#'label' tops, ent[0], ent[1] are start_char and end_char\n",
    "            except:\n",
    "                print(ent[2])\n",
    "    return nlp\n",
    "\n"
   ]
  },
  {
   "cell_type": "code",
   "execution_count": 26,
   "metadata": {},
   "outputs": [
    {
     "name": "stdout",
     "output_type": "stream",
     "text": [
      "Losses at iteration 0 - 2022-05-31 11:31:18.665522 {'ner': 371.52938328947914}\n",
      "Losses at iteration 1 - 2022-05-31 11:31:21.219976 {'ner': 82.7123791451673}\n",
      "Losses at iteration 2 - 2022-05-31 11:31:23.726439 {'ner': 63.99003619251098}\n",
      "Losses at iteration 3 - 2022-05-31 11:31:26.272012 {'ner': 44.789298574258325}\n",
      "Losses at iteration 4 - 2022-05-31 11:31:28.761222 {'ner': 27.487731222996736}\n",
      "Losses at iteration 5 - 2022-05-31 11:31:31.225592 {'ner': 31.95491197605409}\n",
      "Losses at iteration 6 - 2022-05-31 11:31:33.738162 {'ner': 16.056736924777248}\n",
      "Losses at iteration 7 - 2022-05-31 11:31:36.272449 {'ner': 16.825693582887567}\n",
      "Losses at iteration 8 - 2022-05-31 11:31:38.883422 {'ner': 12.725863313068448}\n",
      "Losses at iteration 9 - 2022-05-31 11:31:41.300773 {'ner': 19.08417900768569}\n",
      "Losses at iteration 10 - 2022-05-31 11:31:43.762317 {'ner': 27.079436022965652}\n",
      "Losses at iteration 11 - 2022-05-31 11:31:46.255669 {'ner': 26.636459189015433}\n",
      "Losses at iteration 12 - 2022-05-31 11:31:48.731639 {'ner': 24.009493271751467}\n",
      "Losses at iteration 13 - 2022-05-31 11:31:51.162600 {'ner': 22.273975486413523}\n",
      "Losses at iteration 14 - 2022-05-31 11:31:53.647495 {'ner': 22.454202891189098}\n",
      "Losses at iteration 15 - 2022-05-31 11:31:56.203156 {'ner': 6.001688552911904}\n",
      "Losses at iteration 16 - 2022-05-31 11:31:58.872889 {'ner': 12.363598650000226}\n",
      "Losses at iteration 17 - 2022-05-31 11:32:01.400787 {'ner': 3.0331759243408944}\n",
      "Losses at iteration 18 - 2022-05-31 11:32:03.979370 {'ner': 11.991374397881996}\n",
      "Losses at iteration 19 - 2022-05-31 11:32:06.420838 {'ner': 16.662336967158815}\n",
      "Losses at iteration 20 - 2022-05-31 11:32:08.938838 {'ner': 10.70323870631759}\n",
      "Losses at iteration 21 - 2022-05-31 11:32:11.353524 {'ner': 17.08585942963474}\n",
      "Losses at iteration 22 - 2022-05-31 11:32:13.863600 {'ner': 7.531929070477997}\n",
      "Losses at iteration 23 - 2022-05-31 11:32:16.280414 {'ner': 0.019679154789899338}\n",
      "Losses at iteration 24 - 2022-05-31 11:32:18.805520 {'ner': 4.010407170361499}\n",
      "Losses at iteration 25 - 2022-05-31 11:32:21.240190 {'ner': 1.0214081954830767}\n",
      "Losses at iteration 26 - 2022-05-31 11:32:23.682011 {'ner': 1.7315891340966647e-06}\n",
      "Losses at iteration 27 - 2022-05-31 11:32:26.111107 {'ner': 3.2139988369214546e-08}\n",
      "Losses at iteration 28 - 2022-05-31 11:32:28.545497 {'ner': 4.0023087155237785e-08}\n",
      "Losses at iteration 29 - 2022-05-31 11:32:30.956056 {'ner': 5.967411486356698e-08}\n",
      "Losses at iteration 30 - 2022-05-31 11:32:33.508001 {'ner': 4.60873169440425e-07}\n",
      "Losses at iteration 31 - 2022-05-31 11:32:36.154522 {'ner': 6.815807543435078e-08}\n",
      "Losses at iteration 32 - 2022-05-31 11:32:38.882089 {'ner': 9.031421399610177e-09}\n",
      "Losses at iteration 33 - 2022-05-31 11:32:41.314757 {'ner': 4.6787196801820794e-08}\n",
      "Losses at iteration 34 - 2022-05-31 11:32:43.792643 {'ner': 1.919272572376577e-08}\n",
      "Losses at iteration 35 - 2022-05-31 11:32:46.233786 {'ner': 2.3837622346543785e-09}\n",
      "Losses at iteration 36 - 2022-05-31 11:32:48.744363 {'ner': 8.35428522073445e-09}\n",
      "Losses at iteration 37 - 2022-05-31 11:32:51.384408 {'ner': 7.690682047108155e-09}\n",
      "Losses at iteration 38 - 2022-05-31 11:32:54.136327 {'ner': 1.510228211567268e-08}\n",
      "Losses at iteration 39 - 2022-05-31 11:32:56.760284 {'ner': 1.154414019975872e-09}\n",
      "Losses at iteration 40 - 2022-05-31 11:32:59.286147 {'ner': 1.4732945569002016e-07}\n",
      "Losses at iteration 41 - 2022-05-31 11:33:01.747317 {'ner': 1.027817966287894e-09}\n",
      "Losses at iteration 42 - 2022-05-31 11:33:04.258454 {'ner': 1.1150823036052102e-09}\n",
      "Losses at iteration 43 - 2022-05-31 11:33:06.764358 {'ner': 7.974969545652003e-09}\n",
      "Losses at iteration 44 - 2022-05-31 11:33:09.250105 {'ner': 1.305966862715214e-09}\n",
      "Losses at iteration 45 - 2022-05-31 11:33:11.779310 {'ner': 3.5217020621682025e-08}\n",
      "Losses at iteration 46 - 2022-05-31 11:33:14.494054 {'ner': 5.456337460089872e-09}\n",
      "Losses at iteration 47 - 2022-05-31 11:33:16.997587 {'ner': 1.6466794280618822e-09}\n",
      "Losses at iteration 48 - 2022-05-31 11:33:19.626261 {'ner': 3.988257416426521e-09}\n",
      "Losses at iteration 49 - 2022-05-31 11:33:22.382382 {'ner': 1.3609621872987e-09}\n"
     ]
    }
   ],
   "source": [
    "import random\n",
    "import datetime as dt\n",
    "from spacy.training import Example\n",
    "nlp = creat_blank_nlp(TRAIN_DATA)\n",
    "optimizer = nlp.begin_training()\n",
    "for i in range(50):\n",
    "    random.shuffle(TRAIN_DATA)\n",
    "    losses = {}\n",
    "    for text, annotation in TRAIN_DATA:\n",
    "        try:\n",
    "            example = Example.from_dict(nlp.make_doc(text), annotation)\n",
    "            nlp.update([example], sgd=optimizer, losses=losses)\n",
    "        except:\n",
    "            print(\"Error happens on : \", text, annotation)\n",
    "    print(f\"Losses at iteration {i} - {dt.datetime.now()}\", losses)\n",
    "        "
   ]
  },
  {
   "cell_type": "code",
   "execution_count": 27,
   "metadata": {},
   "outputs": [
    {
     "data": {
      "text/html": [
       "<span class=\"tex2jax_ignore\"><div class=\"entities\" style=\"line-height: 2.5; direction: ltr\">I wear a fancy \n",
       "<mark class=\"entity\" style=\"background: #ddd; padding: 0.45em 0.6em; margin: 0 0.25em; line-height: 1; border-radius: 0.35em;\">\n",
       "    T-SHirt\n",
       "    <span style=\"font-size: 0.8em; font-weight: bold; line-height: 1; border-radius: 0.35em; vertical-align: middle; margin-left: 0.5rem\">TOPS</span>\n",
       "</mark>\n",
       " and I got another button-down wonderful \n",
       "<mark class=\"entity\" style=\"background: #ddd; padding: 0.45em 0.6em; margin: 0 0.25em; line-height: 1; border-radius: 0.35em;\">\n",
       "    crop\n",
       "    <span style=\"font-size: 0.8em; font-weight: bold; line-height: 1; border-radius: 0.35em; vertical-align: middle; margin-left: 0.5rem\">TOPS</span>\n",
       "</mark>\n",
       " \n",
       "<mark class=\"entity\" style=\"background: #ddd; padding: 0.45em 0.6em; margin: 0 0.25em; line-height: 1; border-radius: 0.35em;\">\n",
       "    tee\n",
       "    <span style=\"font-size: 0.8em; font-weight: bold; line-height: 1; border-radius: 0.35em; vertical-align: middle; margin-left: 0.5rem\">TOPS</span>\n",
       "</mark>\n",
       " .     Long \n",
       "<mark class=\"entity\" style=\"background: #ddd; padding: 0.45em 0.6em; margin: 0 0.25em; line-height: 1; border-radius: 0.35em;\">\n",
       "    shirt\n",
       "    <span style=\"font-size: 0.8em; font-weight: bold; line-height: 1; border-radius: 0.35em; vertical-align: middle; margin-left: 0.5rem\">TOPS</span>\n",
       "</mark>\n",
       " and \n",
       "<mark class=\"entity\" style=\"background: #ddd; padding: 0.45em 0.6em; margin: 0 0.25em; line-height: 1; border-radius: 0.35em;\">\n",
       "    coat\n",
       "    <span style=\"font-size: 0.8em; font-weight: bold; line-height: 1; border-radius: 0.35em; vertical-align: middle; margin-left: 0.5rem\">TOPS</span>\n",
       "</mark>\n",
       " are necessary for keeping warm in winter.     \n",
       "<mark class=\"entity\" style=\"background: #ddd; padding: 0.45em 0.6em; margin: 0 0.25em; line-height: 1; border-radius: 0.35em;\">\n",
       "    Sweater\n",
       "    <span style=\"font-size: 0.8em; font-weight: bold; line-height: 1; border-radius: 0.35em; vertical-align: middle; margin-left: 0.5rem\">TOPS</span>\n",
       "</mark>\n",
       " and \n",
       "<mark class=\"entity\" style=\"background: #ddd; padding: 0.45em 0.6em; margin: 0 0.25em; line-height: 1; border-radius: 0.35em;\">\n",
       "    blouse\n",
       "    <span style=\"font-size: 0.8em; font-weight: bold; line-height: 1; border-radius: 0.35em; vertical-align: middle; margin-left: 0.5rem\">TOPS</span>\n",
       "</mark>\n",
       " are important for people living in the north.     UA students have their own \n",
       "<mark class=\"entity\" style=\"background: #ddd; padding: 0.45em 0.6em; margin: 0 0.25em; line-height: 1; border-radius: 0.35em;\">\n",
       "    hoodies\n",
       "    <span style=\"font-size: 0.8em; font-weight: bold; line-height: 1; border-radius: 0.35em; vertical-align: middle; margin-left: 0.5rem\">TOPS</span>\n",
       "</mark>\n",
       ". The \n",
       "<mark class=\"entity\" style=\"background: #ddd; padding: 0.45em 0.6em; margin: 0 0.25em; line-height: 1; border-radius: 0.35em;\">\n",
       "    Tank Top\n",
       "    <span style=\"font-size: 0.8em; font-weight: bold; line-height: 1; border-radius: 0.35em; vertical-align: middle; margin-left: 0.5rem\">TOPS</span>\n",
       "</mark>\n",
       " is new stylish top-clothes.     What about trying our new camisole which is fantastic? </div></span>"
      ],
      "text/plain": [
       "<IPython.core.display.HTML object>"
      ]
     },
     "metadata": {},
     "output_type": "display_data"
    }
   ],
   "source": [
    "\n",
    "from spacy import displacy\n",
    "\n",
    "#description is not accurate\n",
    "s = \"I wear a fancy T-SHirt and I got another button-down wonderful crop tee . \\\n",
    "    Long shirt and coat are necessary for keeping warm in winter. \\\n",
    "    Sweater and blouse are important for people living in the north. \\\n",
    "    UA students have their own hoodies. The Tank Top is new stylish top-clothes. \\\n",
    "    What about trying our new camisole which is fantastic? \"    \n",
    "doc2 = nlp(s)\n",
    "displacy.render(doc2, style='ent')\n",
    "\n"
   ]
  },
  {
   "cell_type": "code",
   "execution_count": 28,
   "metadata": {},
   "outputs": [
    {
     "data": {
      "text/html": [
       "<span class=\"tex2jax_ignore\"><div class=\"entities\" style=\"line-height: 2.5; direction: ltr\">There are certain pieces that will always bring a boho style aesthetic to mind, and this boxy \n",
       "<mark class=\"entity\" style=\"background: #ddd; padding: 0.45em 0.6em; margin: 0 0.25em; line-height: 1; border-radius: 0.35em;\">\n",
       "    top\n",
       "    <span style=\"font-size: 0.8em; font-weight: bold; line-height: 1; border-radius: 0.35em; vertical-align: middle; margin-left: 0.5rem\">TOPS</span>\n",
       "</mark>\n",
       " is one of them.     It's crafted from an open floral crochet with a scalloped hem and short sleeves.     We're showcasing the circle crochet trim along the round neckline with a turquoise necklace to really knock it out of the park. </div></span>"
      ],
      "text/plain": [
       "<IPython.core.display.HTML object>"
      ]
     },
     "metadata": {},
     "output_type": "display_data"
    }
   ],
   "source": [
    "s = \"There are certain pieces that will always bring a boho style aesthetic to mind, and this boxy top is one of them. \\\n",
    "    It's crafted from an open floral crochet with a scalloped hem and short sleeves. \\\n",
    "    We're showcasing the circle crochet trim along the round neckline with a turquoise necklace to really knock it out of the park. \"\n",
    "doc3 = nlp(s)\n",
    "displacy.render(doc3, style='ent')"
   ]
  },
  {
   "cell_type": "code",
   "execution_count": 29,
   "metadata": {},
   "outputs": [
    {
     "data": {
      "text/html": [
       "<span class=\"tex2jax_ignore\"><div class=\"entities\" style=\"line-height: 2.5; direction: ltr\">The Tempo \n",
       "<mark class=\"entity\" style=\"background: #ddd; padding: 0.45em 0.6em; margin: 0 0.25em; line-height: 1; border-radius: 0.35em;\">\n",
       "    Hoodie\n",
       "    <span style=\"font-size: 0.8em; font-weight: bold; line-height: 1; border-radius: 0.35em; vertical-align: middle; margin-left: 0.5rem\">TOPS</span>\n",
       "</mark>\n",
       " is the UPF 50+ activewear you've been looking for!     It has thumbholes, a kangaroo pocket, and a hood for when the sun is too hot or you forgot your hat.     Our Fitness \n",
       "<mark class=\"entity\" style=\"background: #ddd; padding: 0.45em 0.6em; margin: 0 0.25em; line-height: 1; border-radius: 0.35em;\">\n",
       "    Hoodie\n",
       "    <span style=\"font-size: 0.8em; font-weight: bold; line-height: 1; border-radius: 0.35em; vertical-align: middle; margin-left: 0.5rem\">TOPS</span>\n",
       "</mark>\n",
       " is made out of our Active Athlon fabric with the added bonus of our Cooltect™ technology.     You can be active in this fitted Fitness \n",
       "<mark class=\"entity\" style=\"background: #ddd; padding: 0.45em 0.6em; margin: 0 0.25em; line-height: 1; border-radius: 0.35em;\">\n",
       "    Hoodie\n",
       "    <span style=\"font-size: 0.8em; font-weight: bold; line-height: 1; border-radius: 0.35em; vertical-align: middle; margin-left: 0.5rem\">TOPS</span>\n",
       "</mark>\n",
       " without getting uncomfortably hot.     So go ahead and enjoy sun-safe biking, walking, running and so much more!Highlights:UPF 50+Raglan long sleeves with thumbholesWelt     kangaroo pocketHoodedActive Athlon™ fabric: Lightweight and breathable with moisture wicking for quick dry performanceCooltect™ technology     accelerates moisture wicking to keep you cooler and more comfortable</div></span>"
      ],
      "text/plain": [
       "<IPython.core.display.HTML object>"
      ]
     },
     "metadata": {},
     "output_type": "display_data"
    }
   ],
   "source": [
    "s4 = \"The Tempo Hoodie is the UPF 50+ activewear you've been looking for! \\\n",
    "    It has thumbholes, a kangaroo pocket, and a hood for when the sun is too hot or you forgot your hat. \\\n",
    "    Our Fitness Hoodie is made out of our Active Athlon fabric with the added bonus of our Cooltect™ technology. \\\n",
    "    You can be active in this fitted Fitness Hoodie without getting uncomfortably hot. \\\n",
    "    So go ahead and enjoy sun-safe biking, walking, running and so much more!Highlights:UPF 50+Raglan long sleeves with thumbholesWelt \\\n",
    "    kangaroo pocketHoodedActive Athlon™ fabric: Lightweight and breathable with moisture wicking for quick dry performanceCooltect™ technology \\\n",
    "    accelerates moisture wicking to keep you cooler and more comfortable\"\n",
    "doc4 = nlp(s4)\n",
    "displacy.render(doc4, style='ent')"
   ]
  },
  {
   "cell_type": "code",
   "execution_count": 36,
   "metadata": {},
   "outputs": [
    {
     "data": {
      "text/html": [
       "<span class=\"tex2jax_ignore\"><div class=\"entities\" style=\"line-height: 2.5; direction: ltr\">Style Deals - When temps start to rise, slip into this supremely cute babydoll dress outfitted with a vibrant floral print! Its warm-weather details include short sleeves, round neckline, and a slightly \n",
       "<mark class=\"entity\" style=\"background: #ddd; padding: 0.45em 0.6em; margin: 0 0.25em; line-height: 1; border-radius: 0.35em;\">\n",
       "    shorter\n",
       "    <span style=\"font-size: 0.8em; font-weight: bold; line-height: 1; border-radius: 0.35em; vertical-align: middle; margin-left: 0.5rem\">TOPS</span>\n",
       "</mark>\n",
       " length. Team this with your sandals, straw hat, and of course, your oversized sunnies. </div></span>"
      ],
      "text/plain": [
       "<IPython.core.display.HTML object>"
      ]
     },
     "metadata": {},
     "output_type": "display_data"
    }
   ],
   "source": [
    "s5 = \"Style Deals - When temps start to rise, slip into this supremely cute babydoll dress outfitted with a vibrant floral print! Its warm-weather details include short sleeves, round neckline, and a slightly shorter length. Team this with your sandals, straw hat, and of course, your oversized sunnies. \"\n",
    "doc5 = nlp(s5)\n",
    "displacy.render(doc5, style=\"ent\")"
   ]
  },
  {
   "cell_type": "code",
   "execution_count": 30,
   "metadata": {},
   "outputs": [
    {
     "data": {
      "text/plain": [
       "[('ner', <spacy.pipeline.ner.EntityRecognizer at 0x1682285f0>)]"
      ]
     },
     "execution_count": 30,
     "metadata": {},
     "output_type": "execute_result"
    }
   ],
   "source": [
    "nlp.pipeline #We start with 'empty' pipeline, "
   ]
  },
  {
   "cell_type": "code",
   "execution_count": 34,
   "metadata": {},
   "outputs": [],
   "source": [
    "nlp.to_disk(\"ML_based_model\")"
   ]
  },
  {
   "cell_type": "markdown",
   "metadata": {},
   "source": [
    "#### 5. Next step I will try to add more pipelines like tokenizer, tagger, parser, ner... \n",
    "label \n",
    "        ---> model ----> rules\n",
    "        \n",
    "data   "
   ]
  },
  {
   "cell_type": "markdown",
   "metadata": {},
   "source": [
    "Entity Ruler"
   ]
  },
  {
   "cell_type": "markdown",
   "metadata": {},
   "source": [
    "\n",
    "\n",
    "\n"
   ]
  }
 ],
 "metadata": {
  "interpreter": {
   "hash": "08f33c96bfe48976e0772c3a4097c2fff4477ea59ec4556e2e8fa1251315c612"
  },
  "kernelspec": {
   "display_name": "Python 3.9.12 ('tensorflow')",
   "language": "python",
   "name": "python3"
  },
  "language_info": {
   "codemirror_mode": {
    "name": "ipython",
    "version": 3
   },
   "file_extension": ".py",
   "mimetype": "text/x-python",
   "name": "python",
   "nbconvert_exporter": "python",
   "pygments_lexer": "ipython3",
   "version": "3.9.12"
  },
  "orig_nbformat": 4
 },
 "nbformat": 4,
 "nbformat_minor": 2
}
