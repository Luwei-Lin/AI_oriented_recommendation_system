{
 "cells": [
  {
   "cell_type": "markdown",
   "metadata": {},
   "source": [
    "#### Essential for text classification and useful for named entity recognition\n",
    "1. *Initilize* the model weights randomlt with `nlp.begin_training`\n",
    "2. *Predict* a few examples with the current weights by calling `nlp.update`\n",
    "3. *Compare* prediction with true labels\n",
    "4. *Calculate* how to change weights to improve predictions\n",
    "5. *Update* weights slightly\n",
    "6. Go back to step 2\n",
    "```\n",
    "Training Data   Text(label) --> \n",
    "                                    Gradient --> Model --save-- Updated Model\n",
    "                (PREDICT)label -->                |\n",
    "                    |_______    predict    _______| \n",
    "```"
   ]
  },
  {
   "cell_type": "markdown",
   "metadata": {},
   "source": [
    "#### Trainning works\n",
    "1. *Training data:* Examples with `annotaions`\n",
    "2. *Text*: The input `text` the model should preict a label for\n",
    "3. *Label*: The `label` model should predict\n",
    "4. *Gradient*: How to change the `weights`"
   ]
  },
  {
   "cell_type": "markdown",
   "metadata": {},
   "source": [
    "##### Training the entity recognizer\n",
    "1. The entity recognier tags words and phrases in context\n",
    "2. Each token can oly be part of one entity\n",
    "3. Examples need to come with context \n",
    "    ```(\"This product is T-shirt\", {\"entities\": [(16, 23, \"TOPS\")]})```\n",
    "4. Texts with no entities are also important\n",
    "\n",
    "    ```(\"T is good\", {\"entities\": []})```\n",
    "5. Teach the model to generalize"
   ]
  },
  {
   "cell_type": "markdown",
   "metadata": {},
   "source": [
    "##### For name-entity recognizer\n",
    "1. Create Match Patterns \n",
    "2. Label data with help of patterns\n",
    "3. Train temporary model\n",
    "4. Label more by correcting model\n",
    "5. Train new and better model \n",
    "6. Run model on database\n"
   ]
  },
  {
   "cell_type": "code",
   "execution_count": null,
   "metadata": {},
   "outputs": [],
   "source": []
  }
 ],
 "metadata": {
  "language_info": {
   "name": "python"
  },
  "orig_nbformat": 4
 },
 "nbformat": 4,
 "nbformat_minor": 2
}
