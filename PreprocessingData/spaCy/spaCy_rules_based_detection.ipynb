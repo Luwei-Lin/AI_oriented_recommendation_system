{
 "cells": [
  {
   "cell_type": "markdown",
   "metadata": {},
   "source": [
    "Matcher can add manually the \"tags\" we need."
   ]
  },
  {
   "cell_type": "markdown",
   "metadata": {},
   "source": [
    "For the product_type, we can add [\"shoes\", \"tops\", \"bottoms\"...] at beginning"
   ]
  },
  {
   "cell_type": "code",
   "execution_count": 9,
   "metadata": {},
   "outputs": [],
   "source": [
    "#pre-process the tags from .csv tags column, concatenate the title and product_type to one completed string\n",
    "import re\n",
    "def clean_tags_text(raw_tags, raw_title, raw_product_type):\n",
    "    tags = raw_tags.lower()\n",
    "    title = raw_title.lower()\n",
    "    product_type = raw_product_type.lower()\n",
    "    \n",
    "    reg_str = '{(.*?)}'\n",
    "    tags = re.sub('\"', \"\", tags)\n",
    "    contents = re.findall(reg_str, tags)\n",
    "    contents.append(title)\n",
    "    contents.append(product_type)\n",
    "    contents = ' '.join(contents)\n",
    "    return contents\n"
   ]
  },
  {
   "cell_type": "code",
   "execution_count": null,
   "metadata": {},
   "outputs": [],
   "source": []
  },
  {
   "cell_type": "code",
   "execution_count": 10,
   "metadata": {},
   "outputs": [],
   "source": [
    "\n",
    "import spacy\n",
    "\n",
    "nlp = spacy.load(\"en_core_web_sm\")\n"
   ]
  },
  {
   "cell_type": "code",
   "execution_count": 11,
   "metadata": {},
   "outputs": [
    {
     "data": {
      "text/plain": [
       "['drinkware',\n",
       " 'home decoration',\n",
       " 'soap',\n",
       " 'candle',\n",
       " 'bath bomb',\n",
       " 'blanket/towel',\n",
       " 'bath robe',\n",
       " 'canteen',\n",
       " 'air freshener',\n",
       " 'area rug',\n",
       " 'shower curtain',\n",
       " 'bath mat',\n",
       " 'duvet cover']"
      ]
     },
     "execution_count": 11,
     "metadata": {},
     "output_type": "execute_result"
    }
   ],
   "source": [
    "def lower_list(l:list):\n",
    "    newL = []\n",
    "    for item in l:\n",
    "        newL.append(item.removesuffix('s').lower())\n",
    "    \n",
    "    return newL\n",
    "l = [\"Drinkware\",\n",
    "          \"Home Decorations\",\n",
    "          \"Soap\",\n",
    "          \"Candle\",\n",
    "          \"Bath Bomb\",\n",
    "          \"Blanket/Towel\",\n",
    "          \"Bath Robe\",\n",
    "          \"Canteens\",\n",
    "          \"Air Freshener\",\n",
    "          \"Area Rug\",\n",
    "          \"Shower Curtain\",\n",
    "          \"Bath Mat\",\n",
    "          \"Duvet Cover\"]\n",
    "\n",
    "l = lower_list(l)\n",
    "l"
   ]
  },
  {
   "cell_type": "code",
   "execution_count": 12,
   "metadata": {},
   "outputs": [],
   "source": [
    "def type_matcher(contents):\n",
    "    contents = contents.lower()\n",
    "    doc = nlp(contents)\n",
    "    #bottom_pattern = [{'LOWER': {'IN': ['legging','bottom','leggings']}}, {'LEMMA': 'legging'}]\n",
    "    product_type = [{'lemma' : {'IN' : ['shoe', 'top', 'bottom', 'clothing', 'beauty', 'accessory', 'homeware', 'other']}, 'POS': {'NOT_IN':['ADJ']}}]\n",
    "    \n",
    "    bottom_pattern_1 = [{'LEMMA': {'IN': [\n",
    "            'legging', \n",
    "            'bottom', \n",
    "            'leg', \n",
    "            \"short\",\n",
    "            \"skirt\",\n",
    "            \"jogger\",\n",
    "            \"jean\",\n",
    "            \"legging\",\n",
    "            \"athletic boxer\",\n",
    "            \"sweatpant\"\n",
    "    ] } } ]\n",
    "    bottom_pattern_2 = [{'LOWER' : 'athletic'},\n",
    "                        {'IS_PUNCT' : True, 'OP' : '?'},\n",
    "                        {'LOWER' : 'boxer'}]\n",
    "    \n",
    "    tops_pattern_1 = [\n",
    "        {'LOWER': 't'},\n",
    "        {'IS_PUNCT' : True, 'OP': '?'},\n",
    "        {'LOWER': 'shirt'},\n",
    "        ]\n",
    "    tops_pattern_2 = [{'LEMMA': {'IN': [\n",
    "        \"jacket\",\n",
    "        \"camisole\",\n",
    "        \"shirt\",\n",
    "        \"coat\",\n",
    "        \"sweater\",\n",
    "        \"blouse\",\n",
    "        \"kimono\",\n",
    "        \"cardigan\",\n",
    "        \"t-shirt\",\n",
    "        \"hoodie\",\n",
    "        \"vest\",\n",
    "        \"poncho\",\n",
    "        \"tank Top\",\n",
    "        \"blazer\",\n",
    "        \"sweatshirt\",\n",
    "        \"2aistcoat\",\n",
    "        \"bralette\",\n",
    "        \"tee\",\n",
    "        \"tank\",\n",
    "        \"crop\",\n",
    "        \"bra\",\n",
    "        \"jersey\"]}}]\n",
    "    \n",
    "    shoes_pattern_1 = [{ 'LEMMA': { 'IN' : [\n",
    "        \"slipper\",\n",
    "        \"flat shoe\",\n",
    "        \"sandal\",\n",
    "        \"heel\",\n",
    "        \"boot\",\n",
    "        \"skate shoe\",\n",
    "        \"wedge\",\n",
    "        \"snowshoe\",\n",
    "        \"clog\",\n",
    "        \"sneaker\",\n",
    "        \"oxford\",\n",
    "        \"loafer\"\n",
    "    ]}}]\n",
    "    shoes_pattern_2 = [{'LOWER': 'flat'},\n",
    "        {'IS_PUNCT' : True, 'OP' : '?'},\n",
    "        {'LOWER': 'shoe'},]\n",
    "    shoes_pattern_3 = [{'LOWER': 'oxford'},\n",
    "        {'IS_PUNCT' : True, 'OP' : '?'},\n",
    "        {'LOWER': 'loafer'}]\n",
    "    \n",
    "    other_clothing_pattern_1 = [{'LEMMA' : {'IN': [\n",
    "        \"swimwear\",\n",
    "        \"dress\",\n",
    "        \"jumpsuit\",\n",
    "        \"underwear\",\n",
    "        \"overall\",\n",
    "        \"activewear\",\n",
    "        \"sleepwear\",\n",
    "        \"romper\"\n",
    "    ]}}]\n",
    "    other_clothing_pattern_2 = [{'LOWER': 'jumpsuit'},\n",
    "                                {'IS_PUNCT': True, 'OP': '?'},\n",
    "                                {'LOWER': 'and'},\n",
    "                                {'IS_PUNCT': True, 'OP': '?'},\n",
    "                                {'LOWER': 'romper'}]\n",
    "    \n",
    "    beauty_pattern_1 = [{\"LOWER\": 'skin'}, {'IS_PUNCT' : True, 'OP' : '?'}, {'LOWER': 'care'}]\n",
    "    beauty_pattern_2 = [{\"LOWER\": 'beauty'}, {'IS_PUNCT' : True, 'OP' : '?'}, {'LEMMA': 'tool'}]\n",
    "    beauty_pattern_3 = [{\"LEMMA\": 'cosmetic'}]\n",
    "    beauty_pattern_4 = [{\"LOWER\": 'hair'}, {'IS_PUNCT' : True, 'OP' : '?'}, {'LOWER': 'care'}]\n",
    "    beauty_pattern_5 = [{\"LOWER\": 'nail'}, {'IS_PUNCT' : True, 'OP' : '?'}, {'LOWER': 'care'}]\n",
    "    \n",
    "    accessories_pattern_1 = [{'LEMMA': { 'IN' : [\n",
    "            \"headwear\",\n",
    "            \"jewelry\",\n",
    "            'bag',\n",
    "            'scarf',\n",
    "            'sock',\n",
    "            'tight',\n",
    "            'belt',\n",
    "            'collar',\n",
    "            'sticker',\n",
    "            'cologne',\n",
    "            'heel cover',\n",
    "            'backpack',\n",
    "            'glove',\n",
    "            'headband',\n",
    "            'mask',\n",
    "            'sunglass',\n",
    "            'shawl',\n",
    "            'wallet',\n",
    "            'tie',\n",
    "            'pocket square',\n",
    "            'watch',\n",
    "            'shoe lace'\n",
    "            ] }, 'POS': {'NOT_IN' :['VERB']}}] #tight, headwear\n",
    "    #accessories_pattern_2 = [{\"lemma\": 'sock'}, {'IS_PUNCT' : True, 'OP' : '?'}, {'LOWER': 'and'}, {'IS_PUNCT' : True, 'OP' : '?'}, {'lemma': 'tight'}]\n",
    "    accessories_pattern_3 = [{'lemma': 'heel'}, {'IS_PUNCT' : True, 'OP' : '?'}, {'lemma': 'cover'}]\n",
    "    accessories_pattern_4 = [{'lemma': 'shoe'}, {'IS_PUNCT' : True, 'OP' : '?'}, {'lemma': 'lace'}]\n",
    "    accessories_pattern_5 = [{'lemma': 'pocket'}, {'IS_PUNCT' : True, 'OP' : '?'}, {'lemma': 'square'}]\n",
    "    \n",
    "    homware_pattern_1 = [{'lemma': {'IN': [ \n",
    "                    'drinkware',\n",
    "                    'soap',\n",
    "                    'candle',\n",
    "                    'blanket',\n",
    "                    'towel',\n",
    "                    'canteen',\n",
    "                    'rug',\n",
    "                    'mat'\n",
    "                    ]}}]\n",
    "    homware_pattern_2 = [{'lemma':'home'}, {'IS_PUNCT' : True, 'OP' : '?'}, {'lemma': 'decoration'}]\n",
    "    homware_pattern_3 = [{'lemma':'bath'}, {'IS_PUNCT' : True, 'OP' : '?'}, {'lemma': 'bomb'}]\n",
    "    homware_pattern_4 = [{'lemma':'bath'}, {'IS_PUNCT' : True, 'OP' : '?'}, {'lemma': 'robe'}]\n",
    "    homware_pattern_5 = [{'lemma':'air'}, {'IS_PUNCT' : True, 'OP' : '?'}, {'lemma': 'freshener'}]\n",
    "    homware_pattern_6 = [{'lemma':'shower'}, {'IS_PUNCT' : True, 'OP' : '?'}, {'lemma': 'curtain'}]\n",
    "    homware_pattern_7 = [{'lemma':'bath'}, {'IS_PUNCT' : True, 'OP' : '?'}, {'lemma': 'mat'}]\n",
    "    homware_pattern_8 = [{'lemma':'duvet'}, {'IS_PUNCT' : True, 'OP' : '?'}, {'lemma': 'cover'}]\n",
    "    \n",
    "    from spacy.matcher import Matcher\n",
    "    matcher = Matcher(nlp.vocab, validate=True)\n",
    "\n",
    "    matcher.add(\"BOTTOMS_TYPE\", [bottom_pattern_1, bottom_pattern_2])\n",
    "    matcher.add(\"TOPS_TYPE\", [tops_pattern_1, tops_pattern_2])\n",
    "    matcher.add(\"SHOES_TYPE\", [shoes_pattern_1, shoes_pattern_2, shoes_pattern_3])\n",
    "    matcher.add(\"OTHER_CLOTHING_TYPE\", [other_clothing_pattern_1, other_clothing_pattern_2])\n",
    "    matcher.add(\"BEAUTY_TYPE\", [beauty_pattern_1, beauty_pattern_2, beauty_pattern_3, beauty_pattern_3, \n",
    "                                beauty_pattern_4, beauty_pattern_5])\n",
    "    matcher.add(\"ACCESSORIES_TYPE\", [accessories_pattern_1,  accessories_pattern_3,\n",
    "                                    accessories_pattern_4, accessories_pattern_5])\n",
    "    matcher.add('HOMEWARE_TYPE', [homware_pattern_1, homware_pattern_2, homware_pattern_3, homware_pattern_4,\n",
    "                                homware_pattern_5, homware_pattern_6, homware_pattern_7, homware_pattern_8])\n",
    "    matcher.add('PRODUCT_TYPE', [product_type])\n",
    "    for match_id, start, end in matcher(doc):\n",
    "        print( doc[start:end].lemma_)\n"
   ]
  },
  {
   "cell_type": "code",
   "execution_count": 13,
   "metadata": {},
   "outputs": [
    {
     "data": {
      "text/plain": [
       "'nu,psychedelic word is world sleeveless tee sleeveless tee'"
      ]
     },
     "execution_count": 13,
     "metadata": {},
     "output_type": "execute_result"
    }
   ],
   "source": [
    "contents_3_1 = ''\n",
    "raw_tags_3 = '{Nu,Psychedelic}'\n",
    "raw_title_3 = \"WORD IS WORLD SLEEVELESS TEE\"\n",
    "raw_product_type_3 = 'sleeveless tee'\n",
    "contents_3_2 = clean_tags_text(raw_tags_3, raw_title_3, raw_product_type_3)\n",
    "#type_matcher(contents_3_2)\n",
    "contents_3_2"
   ]
  },
  {
   "cell_type": "code",
   "execution_count": 14,
   "metadata": {},
   "outputs": [
    {
     "name": "stdout",
     "output_type": "stream",
     "text": [
      "tee\n",
      "tee\n"
     ]
    }
   ],
   "source": [
    "type_matcher(contents_3_2)"
   ]
  },
  {
   "cell_type": "code",
   "execution_count": 15,
   "metadata": {},
   "outputs": [
    {
     "name": "stdout",
     "output_type": "stream",
     "text": [
      "legging\n",
      "top\n",
      "tank\n"
     ]
    }
   ],
   "source": [
    "contents_1_1 = \"Looking for Paradise? Look no further than Paradise SweetLegs, \\\n",
    "    part of our amazing 2019 leggings collection! This print features white abstract shapes placed on top of blue, \\\n",
    "    indigo, coral, fuchsia, and peach ferns on a bright orange-red background.Paradise SweetLegs are the perfect getaway print, \\\n",
    "    and they look absolutely stunning paired with a long white tunic tank, baby pink Birkenstocks, \\\n",
    "    and a top knot featuring a matching Paradise scrunchie.* \\\n",
    "    Final Sale Item  Grab the matching Scrunchie and Own It!\"\n",
    "type_matcher(contents_1_1)"
   ]
  },
  {
   "cell_type": "code",
   "execution_count": 16,
   "metadata": {},
   "outputs": [
    {
     "name": "stdout",
     "output_type": "stream",
     "text": [
      "legging\n"
     ]
    }
   ],
   "source": [
    "raw_tags_1 = '{abstract,coral,leaf,Leggings,\"light blue\",\"navy blue\",pink,sale-10.00,Signature,sweetlegs,\"SweetLegs Plus2\",white}'\n",
    "raw_title_1 = 'Paradise Plus2'\n",
    "raw_product_type_1 = 'sweetlegs plus2'\n",
    "contents_1_2 = clean_tags_text(raw_tags_1, raw_title_1, raw_product_type_1)\n",
    "type_matcher(contents_1_2)"
   ]
  },
  {
   "cell_type": "code",
   "execution_count": 17,
   "metadata": {},
   "outputs": [
    {
     "name": "stdout",
     "output_type": "stream",
     "text": [
      "bag\n",
      "wallet\n",
      "bottom\n",
      "bottom\n"
     ]
    }
   ],
   "source": [
    "#more examples\n",
    "contents_2_1 = 'Artisan-made leather ware.Adrian Klis designs and creates classic, long-wearing bags and wallets. \\\n",
    "    Made in Canada of bison hide, these pieces are visually strong and beautifully constructed. \\\n",
    "    Over time, the leather takes on a rich, deep patina and shine.Material: 100% Buffalo LeatherLength Measurements (inches)\\\n",
    "    Length: 12  Height: 10.5  Width: 3<!--.tb_button {padding:1px;cursor:pointer;border-right: 1px solid #8b8b8b;border-left: 1px solid #FFF;border-bottom: 1px solid #fff;}.\\\n",
    "    tb_button.hover {borer:2px outset #def; background-color: #f8f8f8 !important;}.ws_toolbar {z-index:100000} .ws_toolbar .\\\n",
    "    ws_tb_btn {cursor:pointer;border:1px solid #555;padding:3px}   .tb_highlight{background-color:yellow} .tb_hide {visibility:hidden} .\\\n",
    "    ws_toolbar img {padding:2px;margin:0px}-->'\n",
    "\n",
    "type_matcher(contents_2_1)\n"
   ]
  },
  {
   "cell_type": "code",
   "execution_count": 18,
   "metadata": {},
   "outputs": [
    {
     "name": "stdout",
     "output_type": "stream",
     "text": [
      "accessory\n",
      "accessory\n",
      "bag\n"
     ]
    }
   ],
   "source": [
    "raw_tags_2 = '{accessories,accessories-seasonal,\"Adrian Klis\",regular}'\n",
    "raw_title_2 = 'Adrian Klis 2732 Shoulder Bag, Buffalo Leather'\n",
    "raw_product_type_2 = 'adrian klis'\n",
    "contents_2_2 = clean_tags_text(raw_tags_2, raw_title_2, raw_product_type_2)\n",
    "type_matcher(contents_2_2)"
   ]
  },
  {
   "cell_type": "markdown",
   "metadata": {},
   "source": [
    "1. We now have a largr collection of matcher patterns that serve as a baseline for product_type.\n",
    "\n",
    "2. Issue: labelling proper name. Some description cannot dectect the correct tags. \n",
    "\n",
    "3. Next: replace the matcher, since we now have a baseline we can properly compare the current approach with neural variants."
   ]
  },
  {
   "cell_type": "code",
   "execution_count": null,
   "metadata": {},
   "outputs": [],
   "source": []
  }
 ],
 "metadata": {
  "interpreter": {
   "hash": "08f33c96bfe48976e0772c3a4097c2fff4477ea59ec4556e2e8fa1251315c612"
  },
  "kernelspec": {
   "display_name": "Python 3.9.12 ('tensorflow')",
   "language": "python",
   "name": "python3"
  },
  "language_info": {
   "codemirror_mode": {
    "name": "ipython",
    "version": 3
   },
   "file_extension": ".py",
   "mimetype": "text/x-python",
   "name": "python",
   "nbconvert_exporter": "python",
   "pygments_lexer": "ipython3",
   "version": "3.9.12"
  },
  "orig_nbformat": 4
 },
 "nbformat": 4,
 "nbformat_minor": 2
}
