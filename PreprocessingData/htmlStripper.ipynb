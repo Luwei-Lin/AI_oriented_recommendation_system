{
 "cells": [
  {
   "cell_type": "code",
   "execution_count": 2,
   "metadata": {},
   "outputs": [],
   "source": [
    "import re\n",
    "import json\n",
    "def cleanhtml(raw_html):\n",
    "    cleanr = re.compile('<.*?>')\n",
    "    cleantext = re.sub(cleanr, '', raw_html)\n",
    "    cleantext = re.sub(\"\\n\", \"\", cleantext)\n",
    "    return cleantext\n",
    "#if you get a json file and then load to raw_json and then clean the <html tags>\n",
    "#raw_json = json.load(the raw_json format strings)\n",
    "raw_json =  {\n",
    "    \"body_html\": \"<meta charset=\\\"utf-8\\\"><meta charset=\\\"utf-8\\\">\\n<div class=\\\"pdp-main__benefits-description col-100\\\">\\n<p>For a fashionable look, this long collarless cotton shirt offers easy versatility; wear on its own or layered under a jacket. Single breast pocket.</p>\\n</div>\\n<div class=\\\"_183fe6\\\">\\n<div class=\\\"_f6a381\\\"><br></div>\\n</div>\\n<div class=\\\"_183fe6\\\">\\n<div class=\\\"_97a1aa _7d70f3 _f6a381\\\" data-tstid=\\\"theDetails-part2\\\">\\n<div class=\\\"_27067c _f6a381\\\">\\n<p class=\\\"_373b06\\\">Cotton 95% - Elastane 5%</p>\\n</div>\\n<div class=\\\"_27067c _f6a381\\\">\\n<div data-tstid=\\\"details-wearing\\\">\\n<p class=\\\"_d4797a\\\" data-tstid=\\\"modelFittingInformation\\\">Model is 6\\\", 155lbs  wearing size Med</p>\\n</div>\\n</div>\\n</div>\\n</div>\",\n",
    "    \"created_at\": \"2020-04-24T07:58:23.000Z\",\n",
    "    \"product_type\": \"mens shirts\",\n",
    "    \"published_at\": \"2020-04-24T07:58:23.000Z\",\n",
    "    \"updated_at\": \"2022-02-04T18:41:29.000Z\",\n",
    "    \"colors\": [],\n",
    "    \"gender\": \"men\",\n",
    "    \"compare_at_price\": 10000,\n",
    "    \"original_price\": 5900,\n",
    "    \"sizes\": []\n",
    "}\n",
    "\n",
    "raw_html = raw_json[\"body_html\"]\n",
    "#print(cleanhtml(raw_html))\n"
   ]
  },
  {
   "cell_type": "code",
   "execution_count": 3,
   "metadata": {},
   "outputs": [
    {
     "name": "stdout",
     "output_type": "stream",
     "text": [
      "A Bond-Eye original and bestseller, The Malibu Set is the perfect combination of sexy and supportive.¬†Featuring the classic scoop neckline, low back of the Malibu crop, and the moderate cheeky cut brief of the Scene, this set is a go-to swim wardrobe staple.¬†FEATURES:Scoop Neckline¬†Moderate CoverageSold as Set¬†Body Hugging, One Size FitCrinkle Extra-stretch FabricUnlined¬†Made from 95% Nylon/ 5% ElastaneDesigned and made in Australia.Care NotesWe recommend hand washing in cold water. Dry flat in a shady spot out of direct sunlight. Do not wring out or hang dry.¬†Chlorinated water is not great and can cause colours to fade. Please make sure you always wash your swimsuit well after swimming in chlorinated water. We recommend swimsuit cleaner to keep your swimsuit looking amazing.\n"
     ]
    }
   ],
   "source": [
    "html2 = \"<p data-mce-fragment=\"\"1\"\"><span>A Bond-Eye original and bestseller, The Malibu Set is the perfect combination of sexy and supportive.¬†</span><span>Featuring the classic scoop neckline, low back of the Malibu crop, and the moderate cheeky cut brief of the Scene, this set is a go-to swim wardrobe staple.</span><br></p>\\\n",
    "<p data-mce-fragment=\"\"1\"\"><span data-mce-fragment=\"\"1\"\" style=\"\"font-weight: 400;\"\" data-mce-style=\"\"font-weight: 400;\"\">¬†</span><b data-mce-fragment=\"\"1\"\">FEATURES:</b></p>\\\n",
    "<ul data-mce-fragment=\"\"1\"\">\\\n",
    "<li data-mce-fragment=\"\"1\"\" style=\"\"font-weight: 400;\"\" data-mce-style=\"\"font-weight: 400;\"\"><span data-mce-fragment=\"\"1\"\" style=\"\"font-weight: 400;\"\" data-mce-style=\"\"font-weight: 400;\"\">Scoop Neckline¬†</span></li>\\\n",
    "<li data-mce-fragment=\"\"1\"\" style=\"\"font-weight: 400;\"\" data-mce-style=\"\"font-weight: 400;\"\"><span data-mce-fragment=\"\"1\"\" style=\"\"font-weight: 400;\"\" data-mce-style=\"\"font-weight: 400;\"\">Moderate Coverage</span></li>\\\n",
    "<li data-mce-fragment=\"\"1\"\" style=\"\"font-weight: 400;\"\" data-mce-style=\"\"font-weight: 400;\"\"><span data-mce-fragment=\"\"1\"\" style=\"\"font-weight: 400;\"\" data-mce-style=\"\"font-weight: 400;\"\">Sold as Set¬†</span></li>\\\n",
    "<li data-mce-fragment=\"\"1\"\" style=\"\"font-weight: 400;\"\" data-mce-style=\"\"font-weight: 400;\"\"><span data-mce-fragment=\"\"1\"\" style=\"\"font-weight: 400;\"\" data-mce-style=\"\"font-weight: 400;\"\">Body Hugging, One Size Fit</span></li>\\\n",
    "<li data-mce-fragment=\"\"1\"\" style=\"\"font-weight: 400;\"\" data-mce-style=\"\"font-weight: 400;\"\"><span data-mce-fragment=\"\"1\"\" style=\"\"font-weight: 400;\"\" data-mce-style=\"\"font-weight: 400;\"\">Crinkle Extra-stretch Fabric</span></li>\\\n",
    "<li data-mce-fragment=\"\"1\"\" style=\"\"font-weight: 400;\"\" data-mce-style=\"\"font-weight: 400;\"\">\\\n",
    "<span data-mce-fragment=\"\"1\"\" style=\"\"font-weight: 400;\"\" data-mce-style=\"\"font-weight: 400;\"\">Unlined</span><b data-mce-fragment=\"\"1\"\">¬†</b>\\\n",
    "</li>\\\n",
    "<li data-mce-fragment=\"\"1\"\" style=\"\"font-weight: 400;\"\" data-mce-style=\"\"font-weight: 400;\"\"><span data-mce-fragment=\"\"1\"\" style=\"\"font-weight: 400;\"\" data-mce-style=\"\"font-weight: 400;\"\">Made from 95% Nylon/ 5% Elastane</span></li>\\\n",
    "</ul>\\\n",
    "<p style=\"\"text-align: center;\"\"><span data-mce-fragment=\"\"1\"\" style=\"\"font-weight: 400;\"\" data-mce-style=\"\"font-weight: 400;\"\"><b>Designed and made in Australia.</b></span></p>\\\n",
    "<h5 data-mce-fragment=\"\"1\"\" style=\"\"text-align: left;\"\"><strong>Care Notes</strong></h5>\\\n",
    "<p><strong></strong>We recommend hand washing in cold water. Dry flat in a shady spot out of direct sunlight. Do not wring out or hang dry.¬†</p>\\\n",
    "<p>Chlorinated water is not great and can cause colours to fade. Please make sure you always wash your swimsuit well after swimming in chlorinated water. We recommend swimsuit cleaner to keep your swimsuit looking amazing.</p>\"\n",
    "print(cleanhtml(html2))"
   ]
  },
  {
   "cell_type": "code",
   "execution_count": 5,
   "metadata": {},
   "outputs": [
    {
     "data": {
      "text/html": [
       "<span class=\"tex2jax_ignore\"><div class=\"entities\" style=\"line-height: 2.5; direction: ltr\">A Bond-Eye original and bestseller, The Malibu Set is the perfect combination of sexy and supportive.¬†Featuring the classic scoop neckline, low back of the \n",
       "<mark class=\"entity\" style=\"background: #feca74; padding: 0.45em 0.6em; margin: 0 0.25em; line-height: 1; border-radius: 0.35em;\">\n",
       "    Malibu\n",
       "    <span style=\"font-size: 0.8em; font-weight: bold; line-height: 1; border-radius: 0.35em; vertical-align: middle; margin-left: 0.5rem\">GPE</span>\n",
       "</mark>\n",
       " crop, and the moderate cheeky cut brief of the Scene, this set is a go-to swim wardrobe staple.¬†FEATURES:Scoop Neckline¬†Moderate CoverageSold as Set¬†Body Hugging, \n",
       "<mark class=\"entity\" style=\"background: #e4e7d2; padding: 0.45em 0.6em; margin: 0 0.25em; line-height: 1; border-radius: 0.35em;\">\n",
       "    One\n",
       "    <span style=\"font-size: 0.8em; font-weight: bold; line-height: 1; border-radius: 0.35em; vertical-align: middle; margin-left: 0.5rem\">CARDINAL</span>\n",
       "</mark>\n",
       " Size FitCrinkle Extra-stretch FabricUnlined¬†Made from \n",
       "<mark class=\"entity\" style=\"background: #e4e7d2; padding: 0.45em 0.6em; margin: 0 0.25em; line-height: 1; border-radius: 0.35em;\">\n",
       "    95%\n",
       "    <span style=\"font-size: 0.8em; font-weight: bold; line-height: 1; border-radius: 0.35em; vertical-align: middle; margin-left: 0.5rem\">PERCENT</span>\n",
       "</mark>\n",
       " Nylon/ 5% \n",
       "<mark class=\"entity\" style=\"background: #7aecec; padding: 0.45em 0.6em; margin: 0 0.25em; line-height: 1; border-radius: 0.35em;\">\n",
       "    ElastaneDesigned\n",
       "    <span style=\"font-size: 0.8em; font-weight: bold; line-height: 1; border-radius: 0.35em; vertical-align: middle; margin-left: 0.5rem\">ORG</span>\n",
       "</mark>\n",
       " and made in \n",
       "<mark class=\"entity\" style=\"background: #feca74; padding: 0.45em 0.6em; margin: 0 0.25em; line-height: 1; border-radius: 0.35em;\">\n",
       "    Australia\n",
       "    <span style=\"font-size: 0.8em; font-weight: bold; line-height: 1; border-radius: 0.35em; vertical-align: middle; margin-left: 0.5rem\">GPE</span>\n",
       "</mark>\n",
       ".Care NotesWe recommend hand washing in cold water. Dry flat in a shady spot out of direct sunlight. Do not wring out or hang dry.¬†Chlorinated water is not great and can cause colours to fade. Please make sure you always wash your swimsuit well after swimming in chlorinated water. We recommend swimsuit cleaner to keep your swimsuit looking amazing.</div></span>"
      ],
      "text/plain": [
       "<IPython.core.display.HTML object>"
      ]
     },
     "metadata": {},
     "output_type": "display_data"
    }
   ],
   "source": [
    "import spacy\n",
    "from spacy import displacy\n",
    "nlp = spacy.load(\"en_core_web_lg\")\n",
    "doc = nlp(cleanhtml(html2))\n",
    "displacy.render(doc, style='ent')"
   ]
  }
 ],
 "metadata": {
  "interpreter": {
   "hash": "08f33c96bfe48976e0772c3a4097c2fff4477ea59ec4556e2e8fa1251315c612"
  },
  "kernelspec": {
   "display_name": "Python 3.9.12",
   "language": "python",
   "name": "python3"
  },
  "language_info": {
   "codemirror_mode": {
    "name": "ipython",
    "version": 3
   },
   "file_extension": ".py",
   "mimetype": "text/x-python",
   "name": "python",
   "nbconvert_exporter": "python",
   "pygments_lexer": "ipython3",
   "version": "3.9.12"
  },
  "orig_nbformat": 4
 },
 "nbformat": 4,
 "nbformat_minor": 2
}
