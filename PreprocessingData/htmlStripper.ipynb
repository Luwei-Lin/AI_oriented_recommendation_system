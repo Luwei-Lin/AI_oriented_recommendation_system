{
 "cells": [
  {
   "cell_type": "code",
   "execution_count": 13,
   "metadata": {},
   "outputs": [
    {
     "name": "stdout",
     "output_type": "stream",
     "text": [
      "For a fashionable look, this long collarless cotton shirt offers easy versatility; wear on its own or layered under a jacket. Single breast pocket.Cotton 95% - Elastane 5%Model is 6\", 155lbs  wearing size Med\n"
     ]
    }
   ],
   "source": [
    "import re\n",
    "import json\n",
    "def cleanhtml(raw_html):\n",
    "    cleanr = re.compile('<.*?>')\n",
    "    cleantext = re.sub(cleanr, '', raw_html)\n",
    "    cleantext = re.sub(\"\\n\", \"\", cleantext)\n",
    "    \n",
    "    \n",
    "    return cleantext\n",
    "#if you get a json file and then load to raw_json and then clean the <html tags>\n",
    "#raw_json = json.load(the raw_json format strings)\n",
    "raw_json =  {\n",
    "    \"body_html\": \"<meta charset=\\\"utf-8\\\"><meta charset=\\\"utf-8\\\">\\n<div class=\\\"pdp-main__benefits-description col-100\\\">\\n<p>For a fashionable look, this long collarless cotton shirt offers easy versatility; wear on its own or layered under a jacket. Single breast pocket.</p>\\n</div>\\n<div class=\\\"_183fe6\\\">\\n<div class=\\\"_f6a381\\\"><br></div>\\n</div>\\n<div class=\\\"_183fe6\\\">\\n<div class=\\\"_97a1aa _7d70f3 _f6a381\\\" data-tstid=\\\"theDetails-part2\\\">\\n<div class=\\\"_27067c _f6a381\\\">\\n<p class=\\\"_373b06\\\">Cotton 95% - Elastane 5%</p>\\n</div>\\n<div class=\\\"_27067c _f6a381\\\">\\n<div data-tstid=\\\"details-wearing\\\">\\n<p class=\\\"_d4797a\\\" data-tstid=\\\"modelFittingInformation\\\">Model is 6\\\", 155lbs  wearing size Med</p>\\n</div>\\n</div>\\n</div>\\n</div>\",\n",
    "    \"created_at\": \"2020-04-24T07:58:23.000Z\",\n",
    "    \"product_type\": \"mens shirts\",\n",
    "    \"published_at\": \"2020-04-24T07:58:23.000Z\",\n",
    "    \"updated_at\": \"2022-02-04T18:41:29.000Z\",\n",
    "    \"colors\": [],\n",
    "    \"gender\": \"men\",\n",
    "    \"compare_at_price\": 10000,\n",
    "    \"original_price\": 5900,\n",
    "    \"sizes\": []\n",
    "}\n",
    "\n",
    "raw_html = raw_json[\"body_html\"]\n",
    "print(cleanhtml(raw_html))\n"
   ]
  }
 ],
 "metadata": {
  "interpreter": {
   "hash": "08f33c96bfe48976e0772c3a4097c2fff4477ea59ec4556e2e8fa1251315c612"
  },
  "kernelspec": {
   "display_name": "Python 3.9.12",
   "language": "python",
   "name": "python3"
  },
  "language_info": {
   "codemirror_mode": {
    "name": "ipython",
    "version": 3
   },
   "file_extension": ".py",
   "mimetype": "text/x-python",
   "name": "python",
   "nbconvert_exporter": "python",
   "pygments_lexer": "ipython3",
   "version": "3.9.12"
  },
  "orig_nbformat": 4
 },
 "nbformat": 4,
 "nbformat_minor": 2
}
