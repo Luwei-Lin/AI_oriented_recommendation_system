{
 "cells": [
  {
   "cell_type": "code",
   "execution_count": 36,
   "metadata": {},
   "outputs": [],
   "source": [
    "import json\n",
    "f = open('labels_v2.json')\n",
    "jsonfile = json.load(f)\n",
    "\n",
    "f.close()"
   ]
  },
  {
   "cell_type": "code",
   "execution_count": 38,
   "metadata": {},
   "outputs": [
    {
     "data": {
      "text/plain": [
       "dict_keys(['gender', 'size', 'color', 'pattern', 'bucket', 'product_type', 'sub_product_type'])"
      ]
     },
     "execution_count": 38,
     "metadata": {},
     "output_type": "execute_result"
    }
   ],
   "source": [
    "jsonfile.keys()"
   ]
  },
  {
   "cell_type": "code",
   "execution_count": 39,
   "metadata": {},
   "outputs": [],
   "source": [
    "gender = jsonfile['gender']\n",
    "colour = jsonfile['color']\n",
    "pattern = jsonfile['pattern']\n",
    "bucket = jsonfile['bucket']\n",
    "product_type = jsonfile['product_type']"
   ]
  },
  {
   "cell_type": "code",
   "execution_count": 40,
   "metadata": {},
   "outputs": [
    {
     "name": "stdout",
     "output_type": "stream",
     "text": [
      "['Men', 'Women', 'Boys', 'Girls', 'Neutral']\n"
     ]
    }
   ],
   "source": [
    "print(gender)"
   ]
  },
  {
   "cell_type": "code",
   "execution_count": 60,
   "metadata": {},
   "outputs": [
    {
     "name": "stdout",
     "output_type": "stream",
     "text": [
      "|gender    |number|\n",
      "| ------------ | ------ |\n",
      "|Men       |1|\n",
      "|Women     |2|\n",
      "|Boys      |3|\n",
      "|Girls     |4|\n",
      "|Neutral   |5|\n",
      "|color     |number|\n",
      "| ------------ | ------ |\n",
      "|Black     |1|\n",
      "|Blue      |2|\n",
      "|Brown     |3|\n",
      "|Green     |4|\n",
      "|Grey      |5|\n",
      "|Orange    |6|\n",
      "|Pink      |7|\n",
      "|Purple    |8|\n",
      "|Red       |9|\n",
      "|Tan       |10|\n",
      "|White     |11|\n",
      "|Yellow    |12|\n",
      "|pattern   |number|\n",
      "| ------------ | ------ |\n",
      "|Abstract  |1|\n",
      "|Camouflage|2|\n",
      "|Checks & Plaid|3|\n",
      "|Floral    |4|\n",
      "|Graphic   |5|\n",
      "|Spiro     |6|\n",
      "|Striped   |7|\n",
      "|Tweed     |8|\n",
      "|Denim     |9|\n",
      "|bucket    |number|\n",
      "| ------------ | ------ |\n",
      "|Athletic  |1|\n",
      "|Bohemian  |2|\n",
      "|Chic      |3|\n",
      "|Trendy    |4|\n",
      "|Casual    |5|\n",
      "|Vintage   |6|\n",
      "|MusicFestival|7|\n",
      "|Streetwear|8|\n",
      "|HipHop    |9|\n",
      "|Rock      |10|\n",
      "|Punk      |11|\n",
      "|Elegant   |12|\n",
      "|Formal    |13|\n",
      "|Other     |14|\n",
      "|product_type|number|\n",
      "| ------------ | ------ |\n",
      "|sub_product_type|number|\n",
      "| ------------ | ------ |\n"
     ]
    }
   ],
   "source": [
    "\n",
    "for key in jsonfile.keys():\n",
    "    if key == 'size':\n",
    "        continue\n",
    "    temp = jsonfile[key]\n",
    "    number = 1\n",
    "    print(f\"|{key:10}|number|\".format(key=key))\n",
    "    print(\"| ------------ | ------ |\")\n",
    "    for item in temp:\n",
    "        if type(item) is dict:\n",
    "            break\n",
    "        print (f\"|{item:10}|{number}|\".format(item = item, number = number  ))\n",
    "        number += 1"
   ]
  }
 ],
 "metadata": {
  "interpreter": {
   "hash": "08f33c96bfe48976e0772c3a4097c2fff4477ea59ec4556e2e8fa1251315c612"
  },
  "kernelspec": {
   "display_name": "Python 3.9.12 ('tensorflow')",
   "language": "python",
   "name": "python3"
  },
  "language_info": {
   "codemirror_mode": {
    "name": "ipython",
    "version": 3
   },
   "file_extension": ".py",
   "mimetype": "text/x-python",
   "name": "python",
   "nbconvert_exporter": "python",
   "pygments_lexer": "ipython3",
   "version": "3.9.12"
  },
  "orig_nbformat": 4
 },
 "nbformat": 4,
 "nbformat_minor": 2
}
